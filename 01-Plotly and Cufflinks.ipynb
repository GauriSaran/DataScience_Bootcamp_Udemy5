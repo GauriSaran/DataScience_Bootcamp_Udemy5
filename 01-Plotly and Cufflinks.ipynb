{
 "cells": [
  {
   "cell_type": "markdown",
   "metadata": {},
   "source": [
    "___\n",
    "\n",
    "<a href='http://www.pieriandata.com'> <img src='../Pierian_Data_Logo.png' /></a>\n",
    "___\n",
    "# Plotly and Cufflinks"
   ]
  },
  {
   "cell_type": "markdown",
   "metadata": {},
   "source": [
    "Plotly is a library that allows you to create interactive plots that you can use in dashboards or websites (you can save them as html files or static images).\n",
    "\n",
    "## Installation\n",
    "\n",
    "In order for this all to work, you'll need to install plotly and cufflinks to call plots directly off of a pandas dataframe. These libraries are not currently available through **conda** but are available through **pip**. Install the libraries at your command line/terminal using:\n",
    "\n",
    "    pip install plotly\n",
    "    pip install cufflinks\n",
    "\n",
    "** NOTE: Make sure you only have one installation of Python on your computer when you do this, otherwise the installation may not work. **\n",
    "\n",
    "## Imports and Set-up"
   ]
  },
  {
   "cell_type": "code",
   "execution_count": 1,
   "metadata": {},
   "outputs": [],
   "source": [
    "import pandas as pd\n",
    "import numpy as np\n",
    "%matplotlib inline"
   ]
  },
  {
   "cell_type": "code",
   "execution_count": 6,
   "metadata": {},
   "outputs": [
    {
     "name": "stdout",
     "output_type": "stream",
     "text": [
      "4.4.1\n"
     ]
    }
   ],
   "source": [
    "from plotly import __version__\n",
    "from plotly.offline import download_plotlyjs, init_notebook_mode, plot, iplot\n",
    "\n",
    "print(__version__) # requires version >= 1.9.0"
   ]
  },
  {
   "cell_type": "code",
   "execution_count": 8,
   "metadata": {},
   "outputs": [],
   "source": [
    "import cufflinks as cf"
   ]
  },
  {
   "cell_type": "code",
   "execution_count": 9,
   "metadata": {},
   "outputs": [
    {
     "data": {
      "text/html": [
       "        <script type=\"text/javascript\">\n",
       "        window.PlotlyConfig = {MathJaxConfig: 'local'};\n",
       "        if (window.MathJax) {MathJax.Hub.Config({SVG: {font: \"STIX-Web\"}});}\n",
       "        if (typeof require !== 'undefined') {\n",
       "        require.undef(\"plotly\");\n",
       "        requirejs.config({\n",
       "            paths: {\n",
       "                'plotly': ['https://cdn.plot.ly/plotly-latest.min']\n",
       "            }\n",
       "        });\n",
       "        require(['plotly'], function(Plotly) {\n",
       "            window._Plotly = Plotly;\n",
       "        });\n",
       "        }\n",
       "        </script>\n",
       "        "
      ]
     },
     "metadata": {},
     "output_type": "display_data"
    }
   ],
   "source": [
    "# For Notebooks\n",
    "init_notebook_mode(connected=True)"
   ]
  },
  {
   "cell_type": "code",
   "execution_count": 10,
   "metadata": {},
   "outputs": [
    {
     "data": {
      "text/html": [
       "        <script type=\"text/javascript\">\n",
       "        window.PlotlyConfig = {MathJaxConfig: 'local'};\n",
       "        if (window.MathJax) {MathJax.Hub.Config({SVG: {font: \"STIX-Web\"}});}\n",
       "        if (typeof require !== 'undefined') {\n",
       "        require.undef(\"plotly\");\n",
       "        requirejs.config({\n",
       "            paths: {\n",
       "                'plotly': ['https://cdn.plot.ly/plotly-latest.min']\n",
       "            }\n",
       "        });\n",
       "        require(['plotly'], function(Plotly) {\n",
       "            window._Plotly = Plotly;\n",
       "        });\n",
       "        }\n",
       "        </script>\n",
       "        "
      ]
     },
     "metadata": {},
     "output_type": "display_data"
    }
   ],
   "source": [
    "# For offline use\n",
    "cf.go_offline()"
   ]
  },
  {
   "cell_type": "markdown",
   "metadata": {},
   "source": [
    "### Fake Data"
   ]
  },
  {
   "cell_type": "code",
   "execution_count": 11,
   "metadata": {},
   "outputs": [],
   "source": [
    "df = pd.DataFrame(np.random.randn(100,4),columns='A B C D'.split())"
   ]
  },
  {
   "cell_type": "code",
   "execution_count": 12,
   "metadata": {},
   "outputs": [
    {
     "data": {
      "text/html": [
       "<div>\n",
       "<style scoped>\n",
       "    .dataframe tbody tr th:only-of-type {\n",
       "        vertical-align: middle;\n",
       "    }\n",
       "\n",
       "    .dataframe tbody tr th {\n",
       "        vertical-align: top;\n",
       "    }\n",
       "\n",
       "    .dataframe thead th {\n",
       "        text-align: right;\n",
       "    }\n",
       "</style>\n",
       "<table border=\"1\" class=\"dataframe\">\n",
       "  <thead>\n",
       "    <tr style=\"text-align: right;\">\n",
       "      <th></th>\n",
       "      <th>A</th>\n",
       "      <th>B</th>\n",
       "      <th>C</th>\n",
       "      <th>D</th>\n",
       "    </tr>\n",
       "  </thead>\n",
       "  <tbody>\n",
       "    <tr>\n",
       "      <th>0</th>\n",
       "      <td>0.065510</td>\n",
       "      <td>-1.092565</td>\n",
       "      <td>1.312273</td>\n",
       "      <td>-0.856991</td>\n",
       "    </tr>\n",
       "    <tr>\n",
       "      <th>1</th>\n",
       "      <td>0.778766</td>\n",
       "      <td>-1.106301</td>\n",
       "      <td>-0.179353</td>\n",
       "      <td>0.200434</td>\n",
       "    </tr>\n",
       "    <tr>\n",
       "      <th>2</th>\n",
       "      <td>1.210922</td>\n",
       "      <td>-0.328053</td>\n",
       "      <td>0.361451</td>\n",
       "      <td>-1.741293</td>\n",
       "    </tr>\n",
       "    <tr>\n",
       "      <th>3</th>\n",
       "      <td>-0.164118</td>\n",
       "      <td>-1.801518</td>\n",
       "      <td>-0.521101</td>\n",
       "      <td>-1.187374</td>\n",
       "    </tr>\n",
       "    <tr>\n",
       "      <th>4</th>\n",
       "      <td>-0.069532</td>\n",
       "      <td>-0.173533</td>\n",
       "      <td>-0.881976</td>\n",
       "      <td>0.461172</td>\n",
       "    </tr>\n",
       "  </tbody>\n",
       "</table>\n",
       "</div>"
      ],
      "text/plain": [
       "          A         B         C         D\n",
       "0  0.065510 -1.092565  1.312273 -0.856991\n",
       "1  0.778766 -1.106301 -0.179353  0.200434\n",
       "2  1.210922 -0.328053  0.361451 -1.741293\n",
       "3 -0.164118 -1.801518 -0.521101 -1.187374\n",
       "4 -0.069532 -0.173533 -0.881976  0.461172"
      ]
     },
     "execution_count": 12,
     "metadata": {},
     "output_type": "execute_result"
    }
   ],
   "source": [
    "df.head()"
   ]
  },
  {
   "cell_type": "code",
   "execution_count": 13,
   "metadata": {},
   "outputs": [],
   "source": [
    "df2 = pd.DataFrame({'Category':['A','B','C'],'Values':[32,43,50]})"
   ]
  },
  {
   "cell_type": "code",
   "execution_count": 14,
   "metadata": {},
   "outputs": [
    {
     "data": {
      "text/html": [
       "<div>\n",
       "<style scoped>\n",
       "    .dataframe tbody tr th:only-of-type {\n",
       "        vertical-align: middle;\n",
       "    }\n",
       "\n",
       "    .dataframe tbody tr th {\n",
       "        vertical-align: top;\n",
       "    }\n",
       "\n",
       "    .dataframe thead th {\n",
       "        text-align: right;\n",
       "    }\n",
       "</style>\n",
       "<table border=\"1\" class=\"dataframe\">\n",
       "  <thead>\n",
       "    <tr style=\"text-align: right;\">\n",
       "      <th></th>\n",
       "      <th>Category</th>\n",
       "      <th>Values</th>\n",
       "    </tr>\n",
       "  </thead>\n",
       "  <tbody>\n",
       "    <tr>\n",
       "      <th>0</th>\n",
       "      <td>A</td>\n",
       "      <td>32</td>\n",
       "    </tr>\n",
       "    <tr>\n",
       "      <th>1</th>\n",
       "      <td>B</td>\n",
       "      <td>43</td>\n",
       "    </tr>\n",
       "    <tr>\n",
       "      <th>2</th>\n",
       "      <td>C</td>\n",
       "      <td>50</td>\n",
       "    </tr>\n",
       "  </tbody>\n",
       "</table>\n",
       "</div>"
      ],
      "text/plain": [
       "  Category  Values\n",
       "0        A      32\n",
       "1        B      43\n",
       "2        C      50"
      ]
     },
     "execution_count": 14,
     "metadata": {},
     "output_type": "execute_result"
    }
   ],
   "source": [
    "df2.head()"
   ]
  },
  {
   "cell_type": "markdown",
   "metadata": {},
   "source": [
    "## Using Cufflinks and iplot()\n",
    "\n",
    "* scatter\n",
    "* bar\n",
    "* box\n",
    "* spread\n",
    "* ratio\n",
    "* heatmap\n",
    "* surface\n",
    "* histogram\n",
    "* bubble"
   ]
  },
  {
   "cell_type": "markdown",
   "metadata": {},
   "source": [
    "## Scatter"
   ]
  },
  {
   "cell_type": "code",
   "execution_count": 15,
   "metadata": {},
   "outputs": [
    {
     "data": {
      "application/vnd.plotly.v1+json": {
       "config": {
        "linkText": "Export to plot.ly",
        "plotlyServerURL": "https://plot.ly",
        "showLink": true
       },
       "data": [
        {
         "line": {
          "color": "rgba(255, 153, 51, 1.0)",
          "dash": "solid",
          "shape": "linear",
          "width": 1.3
         },
         "marker": {
          "size": 10,
          "symbol": "circle"
         },
         "mode": "markers",
         "name": "B",
         "text": "",
         "type": "scatter",
         "x": [
          0.06551037256099825,
          0.7787662777673576,
          1.2109220168503216,
          -0.164118398405124,
          -0.06953194857806134,
          1.066202048538722,
          -1.3290047735764563,
          -0.5661954082926168,
          -1.4795446786374782,
          0.5850867537280864,
          -1.6214043663476296,
          0.2281022915104834,
          -0.03266104341812228,
          -0.31529542239941,
          -0.8185165343462465,
          -0.9468500346127864,
          -0.5094364956867495,
          1.753022121579112,
          3.9780300131120603,
          -0.4147544481721648,
          -0.14963872632764225,
          1.3903039535346131,
          0.11798699784306298,
          -1.198799937094399,
          1.4131626285760492,
          0.623506501038244,
          0.8643831632654269,
          0.6752773092042728,
          -0.0711263241446468,
          0.18404130682510414,
          1.5405933704770725,
          -0.5126085695574668,
          -0.3885648449076173,
          -1.5388448445655147,
          -0.5000145318421976,
          1.0835766953611417,
          0.2237897443521966,
          1.1218991400304938,
          1.184719984221023,
          -0.6023434282954342,
          1.090344849883388,
          -0.3436379889241205,
          -0.5690894547955576,
          -1.6012940470392885,
          -3.3510027943928313,
          -0.8458239564084824,
          -1.4228331193628854,
          1.6847961973387284,
          0.8735325541867743,
          0.6969975174415938,
          -0.8003467642792428,
          -0.4400351866092966,
          0.12759747604828178,
          -0.6078004191603125,
          -0.45683564594752585,
          -1.0761795529594465,
          0.767820190317033,
          0.9036510765352602,
          2.3195076034254534,
          -0.7471444461857918,
          0.6229681285213532,
          -0.8448670190512532,
          1.1112053758052522,
          -0.37932375500455245,
          -2.7014109958197228,
          -1.2776112906769244,
          2.595391503109247,
          0.22384493791324778,
          0.9970759541901827,
          -0.7010617297315688,
          -0.47870937464473223,
          0.3347971428350504,
          1.0993453924680892,
          0.3240433573069802,
          -0.7252634214456634,
          0.22527502463488902,
          1.3781138065202578,
          -1.3504042254670332,
          -4.053651302513549,
          0.7216865598008689,
          -0.5003323289743481,
          0.5149434179673201,
          -0.4722870549872342,
          1.8179752612025275,
          0.9338008400773208,
          -0.6151732196400808,
          -1.5959820784883318,
          -0.8606323394451001,
          1.2019904263305907,
          -0.9188842057477389,
          0.633467463091969,
          0.36150603037861967,
          0.5176495875526188,
          -0.8151420430366462,
          1.1187007850174295,
          -2.621576836525829,
          -1.0653546708932358,
          -0.6714537483763512,
          -0.17538467944985758,
          -0.16881902219472808
         ],
         "y": [
          -1.0925650641931546,
          -1.1063010870224814,
          -0.32805306632209535,
          -1.8015176878336885,
          -0.1735327532380383,
          -0.08774588068587334,
          0.18757699718867998,
          0.6728859311887663,
          -0.7063785591459333,
          -1.5601290810082729,
          0.058848714728627294,
          0.40753255207102396,
          -0.24185126842710786,
          -0.1589405707360404,
          -3.6419230654539163,
          -1.278856426455618,
          -0.12506104010367203,
          -0.6999988206992263,
          -0.8975679054874393,
          -0.6776071391269884,
          -0.4627648216478146,
          2.626517695743942,
          -0.91040991382991,
          -2.88721680880961,
          -0.4151155407559168,
          -0.23674583789893922,
          1.298472563980927,
          2.9691566852896694,
          0.2512798077666682,
          -0.060894981563443196,
          -0.4861008577562129,
          -0.5640569278924469,
          2.032606097220788,
          -1.8478501295804048,
          1.080680795367581,
          -0.18081697204116465,
          0.5343053846985427,
          1.8328987073087728,
          0.8825543638387845,
          0.00758723758367448,
          -1.812680010503773,
          -0.3894181938587775,
          -0.9156059830862028,
          2.0765759332108775,
          -0.9845877565924966,
          -0.11513168690523837,
          0.01975359983273998,
          1.5525461151094744,
          2.174439604808439,
          -1.3259988649521035,
          -0.9175421334719854,
          0.7832487273727792,
          0.718982414490362,
          -0.5559288782298727,
          -0.2637041754949957,
          -0.5085266837885446,
          0.5267515240175117,
          -1.5125519857794338,
          0.5912124711191508,
          0.9485835777097431,
          0.5060014073562296,
          -1.383374247408542,
          -0.5827753650039929,
          -0.42029786340586767,
          2.396767848055817,
          -1.321557164877903,
          -0.26939673156797905,
          0.21659628952068838,
          -1.7147787346861005,
          -2.403180951945503,
          -0.2176716191001402,
          -0.30067465967466783,
          0.7020810081753037,
          0.07107137979934369,
          1.679478935083888,
          0.25046020425850907,
          0.494810949520932,
          -0.3815902451811281,
          -0.32054753212638537,
          1.5112283430196483,
          -0.3565509952124511,
          -0.34060527990923545,
          -0.6522886642783906,
          -2.1006446882605343,
          0.34337080965320393,
          -0.6344058007008451,
          -0.5614985283201149,
          1.3246267897107706,
          1.0700683834779376,
          -1.5535964408637803,
          -0.8501136729413292,
          -1.0023413559710757,
          0.5988948939086691,
          1.23651459677043,
          -1.4467738926798768,
          0.8923285883848271,
          1.4467820432217038,
          -0.775252461367255,
          0.7622501319698802,
          0.2657847128074883
         ]
        }
       ],
       "layout": {
        "legend": {
         "bgcolor": "#F5F6F9",
         "font": {
          "color": "#4D5663"
         }
        },
        "paper_bgcolor": "#F5F6F9",
        "plot_bgcolor": "#F5F6F9",
        "template": {
         "data": {
          "bar": [
           {
            "error_x": {
             "color": "#2a3f5f"
            },
            "error_y": {
             "color": "#2a3f5f"
            },
            "marker": {
             "line": {
              "color": "#E5ECF6",
              "width": 0.5
             }
            },
            "type": "bar"
           }
          ],
          "barpolar": [
           {
            "marker": {
             "line": {
              "color": "#E5ECF6",
              "width": 0.5
             }
            },
            "type": "barpolar"
           }
          ],
          "carpet": [
           {
            "aaxis": {
             "endlinecolor": "#2a3f5f",
             "gridcolor": "white",
             "linecolor": "white",
             "minorgridcolor": "white",
             "startlinecolor": "#2a3f5f"
            },
            "baxis": {
             "endlinecolor": "#2a3f5f",
             "gridcolor": "white",
             "linecolor": "white",
             "minorgridcolor": "white",
             "startlinecolor": "#2a3f5f"
            },
            "type": "carpet"
           }
          ],
          "choropleth": [
           {
            "colorbar": {
             "outlinewidth": 0,
             "ticks": ""
            },
            "type": "choropleth"
           }
          ],
          "contour": [
           {
            "colorbar": {
             "outlinewidth": 0,
             "ticks": ""
            },
            "colorscale": [
             [
              0,
              "#0d0887"
             ],
             [
              0.1111111111111111,
              "#46039f"
             ],
             [
              0.2222222222222222,
              "#7201a8"
             ],
             [
              0.3333333333333333,
              "#9c179e"
             ],
             [
              0.4444444444444444,
              "#bd3786"
             ],
             [
              0.5555555555555556,
              "#d8576b"
             ],
             [
              0.6666666666666666,
              "#ed7953"
             ],
             [
              0.7777777777777778,
              "#fb9f3a"
             ],
             [
              0.8888888888888888,
              "#fdca26"
             ],
             [
              1,
              "#f0f921"
             ]
            ],
            "type": "contour"
           }
          ],
          "contourcarpet": [
           {
            "colorbar": {
             "outlinewidth": 0,
             "ticks": ""
            },
            "type": "contourcarpet"
           }
          ],
          "heatmap": [
           {
            "colorbar": {
             "outlinewidth": 0,
             "ticks": ""
            },
            "colorscale": [
             [
              0,
              "#0d0887"
             ],
             [
              0.1111111111111111,
              "#46039f"
             ],
             [
              0.2222222222222222,
              "#7201a8"
             ],
             [
              0.3333333333333333,
              "#9c179e"
             ],
             [
              0.4444444444444444,
              "#bd3786"
             ],
             [
              0.5555555555555556,
              "#d8576b"
             ],
             [
              0.6666666666666666,
              "#ed7953"
             ],
             [
              0.7777777777777778,
              "#fb9f3a"
             ],
             [
              0.8888888888888888,
              "#fdca26"
             ],
             [
              1,
              "#f0f921"
             ]
            ],
            "type": "heatmap"
           }
          ],
          "heatmapgl": [
           {
            "colorbar": {
             "outlinewidth": 0,
             "ticks": ""
            },
            "colorscale": [
             [
              0,
              "#0d0887"
             ],
             [
              0.1111111111111111,
              "#46039f"
             ],
             [
              0.2222222222222222,
              "#7201a8"
             ],
             [
              0.3333333333333333,
              "#9c179e"
             ],
             [
              0.4444444444444444,
              "#bd3786"
             ],
             [
              0.5555555555555556,
              "#d8576b"
             ],
             [
              0.6666666666666666,
              "#ed7953"
             ],
             [
              0.7777777777777778,
              "#fb9f3a"
             ],
             [
              0.8888888888888888,
              "#fdca26"
             ],
             [
              1,
              "#f0f921"
             ]
            ],
            "type": "heatmapgl"
           }
          ],
          "histogram": [
           {
            "marker": {
             "colorbar": {
              "outlinewidth": 0,
              "ticks": ""
             }
            },
            "type": "histogram"
           }
          ],
          "histogram2d": [
           {
            "colorbar": {
             "outlinewidth": 0,
             "ticks": ""
            },
            "colorscale": [
             [
              0,
              "#0d0887"
             ],
             [
              0.1111111111111111,
              "#46039f"
             ],
             [
              0.2222222222222222,
              "#7201a8"
             ],
             [
              0.3333333333333333,
              "#9c179e"
             ],
             [
              0.4444444444444444,
              "#bd3786"
             ],
             [
              0.5555555555555556,
              "#d8576b"
             ],
             [
              0.6666666666666666,
              "#ed7953"
             ],
             [
              0.7777777777777778,
              "#fb9f3a"
             ],
             [
              0.8888888888888888,
              "#fdca26"
             ],
             [
              1,
              "#f0f921"
             ]
            ],
            "type": "histogram2d"
           }
          ],
          "histogram2dcontour": [
           {
            "colorbar": {
             "outlinewidth": 0,
             "ticks": ""
            },
            "colorscale": [
             [
              0,
              "#0d0887"
             ],
             [
              0.1111111111111111,
              "#46039f"
             ],
             [
              0.2222222222222222,
              "#7201a8"
             ],
             [
              0.3333333333333333,
              "#9c179e"
             ],
             [
              0.4444444444444444,
              "#bd3786"
             ],
             [
              0.5555555555555556,
              "#d8576b"
             ],
             [
              0.6666666666666666,
              "#ed7953"
             ],
             [
              0.7777777777777778,
              "#fb9f3a"
             ],
             [
              0.8888888888888888,
              "#fdca26"
             ],
             [
              1,
              "#f0f921"
             ]
            ],
            "type": "histogram2dcontour"
           }
          ],
          "mesh3d": [
           {
            "colorbar": {
             "outlinewidth": 0,
             "ticks": ""
            },
            "type": "mesh3d"
           }
          ],
          "parcoords": [
           {
            "line": {
             "colorbar": {
              "outlinewidth": 0,
              "ticks": ""
             }
            },
            "type": "parcoords"
           }
          ],
          "pie": [
           {
            "automargin": true,
            "type": "pie"
           }
          ],
          "scatter": [
           {
            "marker": {
             "colorbar": {
              "outlinewidth": 0,
              "ticks": ""
             }
            },
            "type": "scatter"
           }
          ],
          "scatter3d": [
           {
            "line": {
             "colorbar": {
              "outlinewidth": 0,
              "ticks": ""
             }
            },
            "marker": {
             "colorbar": {
              "outlinewidth": 0,
              "ticks": ""
             }
            },
            "type": "scatter3d"
           }
          ],
          "scattercarpet": [
           {
            "marker": {
             "colorbar": {
              "outlinewidth": 0,
              "ticks": ""
             }
            },
            "type": "scattercarpet"
           }
          ],
          "scattergeo": [
           {
            "marker": {
             "colorbar": {
              "outlinewidth": 0,
              "ticks": ""
             }
            },
            "type": "scattergeo"
           }
          ],
          "scattergl": [
           {
            "marker": {
             "colorbar": {
              "outlinewidth": 0,
              "ticks": ""
             }
            },
            "type": "scattergl"
           }
          ],
          "scattermapbox": [
           {
            "marker": {
             "colorbar": {
              "outlinewidth": 0,
              "ticks": ""
             }
            },
            "type": "scattermapbox"
           }
          ],
          "scatterpolar": [
           {
            "marker": {
             "colorbar": {
              "outlinewidth": 0,
              "ticks": ""
             }
            },
            "type": "scatterpolar"
           }
          ],
          "scatterpolargl": [
           {
            "marker": {
             "colorbar": {
              "outlinewidth": 0,
              "ticks": ""
             }
            },
            "type": "scatterpolargl"
           }
          ],
          "scatterternary": [
           {
            "marker": {
             "colorbar": {
              "outlinewidth": 0,
              "ticks": ""
             }
            },
            "type": "scatterternary"
           }
          ],
          "surface": [
           {
            "colorbar": {
             "outlinewidth": 0,
             "ticks": ""
            },
            "colorscale": [
             [
              0,
              "#0d0887"
             ],
             [
              0.1111111111111111,
              "#46039f"
             ],
             [
              0.2222222222222222,
              "#7201a8"
             ],
             [
              0.3333333333333333,
              "#9c179e"
             ],
             [
              0.4444444444444444,
              "#bd3786"
             ],
             [
              0.5555555555555556,
              "#d8576b"
             ],
             [
              0.6666666666666666,
              "#ed7953"
             ],
             [
              0.7777777777777778,
              "#fb9f3a"
             ],
             [
              0.8888888888888888,
              "#fdca26"
             ],
             [
              1,
              "#f0f921"
             ]
            ],
            "type": "surface"
           }
          ],
          "table": [
           {
            "cells": {
             "fill": {
              "color": "#EBF0F8"
             },
             "line": {
              "color": "white"
             }
            },
            "header": {
             "fill": {
              "color": "#C8D4E3"
             },
             "line": {
              "color": "white"
             }
            },
            "type": "table"
           }
          ]
         },
         "layout": {
          "annotationdefaults": {
           "arrowcolor": "#2a3f5f",
           "arrowhead": 0,
           "arrowwidth": 1
          },
          "coloraxis": {
           "colorbar": {
            "outlinewidth": 0,
            "ticks": ""
           }
          },
          "colorscale": {
           "diverging": [
            [
             0,
             "#8e0152"
            ],
            [
             0.1,
             "#c51b7d"
            ],
            [
             0.2,
             "#de77ae"
            ],
            [
             0.3,
             "#f1b6da"
            ],
            [
             0.4,
             "#fde0ef"
            ],
            [
             0.5,
             "#f7f7f7"
            ],
            [
             0.6,
             "#e6f5d0"
            ],
            [
             0.7,
             "#b8e186"
            ],
            [
             0.8,
             "#7fbc41"
            ],
            [
             0.9,
             "#4d9221"
            ],
            [
             1,
             "#276419"
            ]
           ],
           "sequential": [
            [
             0,
             "#0d0887"
            ],
            [
             0.1111111111111111,
             "#46039f"
            ],
            [
             0.2222222222222222,
             "#7201a8"
            ],
            [
             0.3333333333333333,
             "#9c179e"
            ],
            [
             0.4444444444444444,
             "#bd3786"
            ],
            [
             0.5555555555555556,
             "#d8576b"
            ],
            [
             0.6666666666666666,
             "#ed7953"
            ],
            [
             0.7777777777777778,
             "#fb9f3a"
            ],
            [
             0.8888888888888888,
             "#fdca26"
            ],
            [
             1,
             "#f0f921"
            ]
           ],
           "sequentialminus": [
            [
             0,
             "#0d0887"
            ],
            [
             0.1111111111111111,
             "#46039f"
            ],
            [
             0.2222222222222222,
             "#7201a8"
            ],
            [
             0.3333333333333333,
             "#9c179e"
            ],
            [
             0.4444444444444444,
             "#bd3786"
            ],
            [
             0.5555555555555556,
             "#d8576b"
            ],
            [
             0.6666666666666666,
             "#ed7953"
            ],
            [
             0.7777777777777778,
             "#fb9f3a"
            ],
            [
             0.8888888888888888,
             "#fdca26"
            ],
            [
             1,
             "#f0f921"
            ]
           ]
          },
          "colorway": [
           "#636efa",
           "#EF553B",
           "#00cc96",
           "#ab63fa",
           "#FFA15A",
           "#19d3f3",
           "#FF6692",
           "#B6E880",
           "#FF97FF",
           "#FECB52"
          ],
          "font": {
           "color": "#2a3f5f"
          },
          "geo": {
           "bgcolor": "white",
           "lakecolor": "white",
           "landcolor": "#E5ECF6",
           "showlakes": true,
           "showland": true,
           "subunitcolor": "white"
          },
          "hoverlabel": {
           "align": "left"
          },
          "hovermode": "closest",
          "mapbox": {
           "style": "light"
          },
          "paper_bgcolor": "white",
          "plot_bgcolor": "#E5ECF6",
          "polar": {
           "angularaxis": {
            "gridcolor": "white",
            "linecolor": "white",
            "ticks": ""
           },
           "bgcolor": "#E5ECF6",
           "radialaxis": {
            "gridcolor": "white",
            "linecolor": "white",
            "ticks": ""
           }
          },
          "scene": {
           "xaxis": {
            "backgroundcolor": "#E5ECF6",
            "gridcolor": "white",
            "gridwidth": 2,
            "linecolor": "white",
            "showbackground": true,
            "ticks": "",
            "zerolinecolor": "white"
           },
           "yaxis": {
            "backgroundcolor": "#E5ECF6",
            "gridcolor": "white",
            "gridwidth": 2,
            "linecolor": "white",
            "showbackground": true,
            "ticks": "",
            "zerolinecolor": "white"
           },
           "zaxis": {
            "backgroundcolor": "#E5ECF6",
            "gridcolor": "white",
            "gridwidth": 2,
            "linecolor": "white",
            "showbackground": true,
            "ticks": "",
            "zerolinecolor": "white"
           }
          },
          "shapedefaults": {
           "line": {
            "color": "#2a3f5f"
           }
          },
          "ternary": {
           "aaxis": {
            "gridcolor": "white",
            "linecolor": "white",
            "ticks": ""
           },
           "baxis": {
            "gridcolor": "white",
            "linecolor": "white",
            "ticks": ""
           },
           "bgcolor": "#E5ECF6",
           "caxis": {
            "gridcolor": "white",
            "linecolor": "white",
            "ticks": ""
           }
          },
          "title": {
           "x": 0.05
          },
          "xaxis": {
           "automargin": true,
           "gridcolor": "white",
           "linecolor": "white",
           "ticks": "",
           "title": {
            "standoff": 15
           },
           "zerolinecolor": "white",
           "zerolinewidth": 2
          },
          "yaxis": {
           "automargin": true,
           "gridcolor": "white",
           "linecolor": "white",
           "ticks": "",
           "title": {
            "standoff": 15
           },
           "zerolinecolor": "white",
           "zerolinewidth": 2
          }
         }
        },
        "title": {
         "font": {
          "color": "#4D5663"
         }
        },
        "xaxis": {
         "gridcolor": "#E1E5ED",
         "showgrid": true,
         "tickfont": {
          "color": "#4D5663"
         },
         "title": {
          "font": {
           "color": "#4D5663"
          },
          "text": ""
         },
         "zerolinecolor": "#E1E5ED"
        },
        "yaxis": {
         "gridcolor": "#E1E5ED",
         "showgrid": true,
         "tickfont": {
          "color": "#4D5663"
         },
         "title": {
          "font": {
           "color": "#4D5663"
          },
          "text": ""
         },
         "zerolinecolor": "#E1E5ED"
        }
       }
      },
      "text/html": [
       "<div>\n",
       "        \n",
       "        \n",
       "            <div id=\"b9a613ec-e674-42b5-a965-8e549d11f884\" class=\"plotly-graph-div\" style=\"height:525px; width:100%;\"></div>\n",
       "            <script type=\"text/javascript\">\n",
       "                require([\"plotly\"], function(Plotly) {\n",
       "                    window.PLOTLYENV=window.PLOTLYENV || {};\n",
       "                    window.PLOTLYENV.BASE_URL='https://plot.ly';\n",
       "                    \n",
       "                if (document.getElementById(\"b9a613ec-e674-42b5-a965-8e549d11f884\")) {\n",
       "                    Plotly.newPlot(\n",
       "                        'b9a613ec-e674-42b5-a965-8e549d11f884',\n",
       "                        [{\"line\": {\"color\": \"rgba(255, 153, 51, 1.0)\", \"dash\": \"solid\", \"shape\": \"linear\", \"width\": 1.3}, \"marker\": {\"size\": 10, \"symbol\": \"circle\"}, \"mode\": \"markers\", \"name\": \"B\", \"text\": \"\", \"type\": \"scatter\", \"x\": [0.06551037256099825, 0.7787662777673576, 1.2109220168503216, -0.164118398405124, -0.06953194857806134, 1.066202048538722, -1.3290047735764563, -0.5661954082926168, -1.4795446786374782, 0.5850867537280864, -1.6214043663476296, 0.2281022915104834, -0.03266104341812228, -0.31529542239941, -0.8185165343462465, -0.9468500346127864, -0.5094364956867495, 1.753022121579112, 3.9780300131120603, -0.4147544481721648, -0.14963872632764225, 1.3903039535346131, 0.11798699784306298, -1.198799937094399, 1.4131626285760492, 0.623506501038244, 0.8643831632654269, 0.6752773092042728, -0.0711263241446468, 0.18404130682510414, 1.5405933704770725, -0.5126085695574668, -0.3885648449076173, -1.5388448445655147, -0.5000145318421976, 1.0835766953611417, 0.2237897443521966, 1.1218991400304938, 1.184719984221023, -0.6023434282954342, 1.090344849883388, -0.3436379889241205, -0.5690894547955576, -1.6012940470392885, -3.3510027943928313, -0.8458239564084824, -1.4228331193628854, 1.6847961973387284, 0.8735325541867743, 0.6969975174415938, -0.8003467642792428, -0.4400351866092966, 0.12759747604828178, -0.6078004191603125, -0.45683564594752585, -1.0761795529594465, 0.767820190317033, 0.9036510765352602, 2.3195076034254534, -0.7471444461857918, 0.6229681285213532, -0.8448670190512532, 1.1112053758052522, -0.37932375500455245, -2.7014109958197228, -1.2776112906769244, 2.595391503109247, 0.22384493791324778, 0.9970759541901827, -0.7010617297315688, -0.47870937464473223, 0.3347971428350504, 1.0993453924680892, 0.3240433573069802, -0.7252634214456634, 0.22527502463488902, 1.3781138065202578, -1.3504042254670332, -4.053651302513549, 0.7216865598008689, -0.5003323289743481, 0.5149434179673201, -0.4722870549872342, 1.8179752612025275, 0.9338008400773208, -0.6151732196400808, -1.5959820784883318, -0.8606323394451001, 1.2019904263305907, -0.9188842057477389, 0.633467463091969, 0.36150603037861967, 0.5176495875526188, -0.8151420430366462, 1.1187007850174295, -2.621576836525829, -1.0653546708932358, -0.6714537483763512, -0.17538467944985758, -0.16881902219472808], \"y\": [-1.0925650641931546, -1.1063010870224814, -0.32805306632209535, -1.8015176878336885, -0.1735327532380383, -0.08774588068587334, 0.18757699718867998, 0.6728859311887663, -0.7063785591459333, -1.5601290810082729, 0.058848714728627294, 0.40753255207102396, -0.24185126842710786, -0.1589405707360404, -3.6419230654539163, -1.278856426455618, -0.12506104010367203, -0.6999988206992263, -0.8975679054874393, -0.6776071391269884, -0.4627648216478146, 2.626517695743942, -0.91040991382991, -2.88721680880961, -0.4151155407559168, -0.23674583789893922, 1.298472563980927, 2.9691566852896694, 0.2512798077666682, -0.060894981563443196, -0.4861008577562129, -0.5640569278924469, 2.032606097220788, -1.8478501295804048, 1.080680795367581, -0.18081697204116465, 0.5343053846985427, 1.8328987073087728, 0.8825543638387845, 0.00758723758367448, -1.812680010503773, -0.3894181938587775, -0.9156059830862028, 2.0765759332108775, -0.9845877565924966, -0.11513168690523837, 0.01975359983273998, 1.5525461151094744, 2.174439604808439, -1.3259988649521035, -0.9175421334719854, 0.7832487273727792, 0.718982414490362, -0.5559288782298727, -0.2637041754949957, -0.5085266837885446, 0.5267515240175117, -1.5125519857794338, 0.5912124711191508, 0.9485835777097431, 0.5060014073562296, -1.383374247408542, -0.5827753650039929, -0.42029786340586767, 2.396767848055817, -1.321557164877903, -0.26939673156797905, 0.21659628952068838, -1.7147787346861005, -2.403180951945503, -0.2176716191001402, -0.30067465967466783, 0.7020810081753037, 0.07107137979934369, 1.679478935083888, 0.25046020425850907, 0.494810949520932, -0.3815902451811281, -0.32054753212638537, 1.5112283430196483, -0.3565509952124511, -0.34060527990923545, -0.6522886642783906, -2.1006446882605343, 0.34337080965320393, -0.6344058007008451, -0.5614985283201149, 1.3246267897107706, 1.0700683834779376, -1.5535964408637803, -0.8501136729413292, -1.0023413559710757, 0.5988948939086691, 1.23651459677043, -1.4467738926798768, 0.8923285883848271, 1.4467820432217038, -0.775252461367255, 0.7622501319698802, 0.2657847128074883]}],\n",
       "                        {\"legend\": {\"bgcolor\": \"#F5F6F9\", \"font\": {\"color\": \"#4D5663\"}}, \"paper_bgcolor\": \"#F5F6F9\", \"plot_bgcolor\": \"#F5F6F9\", \"template\": {\"data\": {\"bar\": [{\"error_x\": {\"color\": \"#2a3f5f\"}, \"error_y\": {\"color\": \"#2a3f5f\"}, \"marker\": {\"line\": {\"color\": \"#E5ECF6\", \"width\": 0.5}}, \"type\": \"bar\"}], \"barpolar\": [{\"marker\": {\"line\": {\"color\": \"#E5ECF6\", \"width\": 0.5}}, \"type\": \"barpolar\"}], \"carpet\": [{\"aaxis\": {\"endlinecolor\": \"#2a3f5f\", \"gridcolor\": \"white\", \"linecolor\": \"white\", \"minorgridcolor\": \"white\", \"startlinecolor\": \"#2a3f5f\"}, \"baxis\": {\"endlinecolor\": \"#2a3f5f\", \"gridcolor\": \"white\", \"linecolor\": \"white\", \"minorgridcolor\": \"white\", \"startlinecolor\": \"#2a3f5f\"}, \"type\": \"carpet\"}], \"choropleth\": [{\"colorbar\": {\"outlinewidth\": 0, \"ticks\": \"\"}, \"type\": \"choropleth\"}], \"contour\": [{\"colorbar\": {\"outlinewidth\": 0, \"ticks\": \"\"}, \"colorscale\": [[0.0, \"#0d0887\"], [0.1111111111111111, \"#46039f\"], [0.2222222222222222, \"#7201a8\"], [0.3333333333333333, \"#9c179e\"], [0.4444444444444444, \"#bd3786\"], [0.5555555555555556, \"#d8576b\"], [0.6666666666666666, \"#ed7953\"], [0.7777777777777778, \"#fb9f3a\"], [0.8888888888888888, \"#fdca26\"], [1.0, \"#f0f921\"]], \"type\": \"contour\"}], \"contourcarpet\": [{\"colorbar\": {\"outlinewidth\": 0, \"ticks\": \"\"}, \"type\": \"contourcarpet\"}], \"heatmap\": [{\"colorbar\": {\"outlinewidth\": 0, \"ticks\": \"\"}, \"colorscale\": [[0.0, \"#0d0887\"], [0.1111111111111111, \"#46039f\"], [0.2222222222222222, \"#7201a8\"], [0.3333333333333333, \"#9c179e\"], [0.4444444444444444, \"#bd3786\"], [0.5555555555555556, \"#d8576b\"], [0.6666666666666666, \"#ed7953\"], [0.7777777777777778, \"#fb9f3a\"], [0.8888888888888888, \"#fdca26\"], [1.0, \"#f0f921\"]], \"type\": \"heatmap\"}], \"heatmapgl\": [{\"colorbar\": {\"outlinewidth\": 0, \"ticks\": \"\"}, \"colorscale\": [[0.0, \"#0d0887\"], [0.1111111111111111, \"#46039f\"], [0.2222222222222222, \"#7201a8\"], [0.3333333333333333, \"#9c179e\"], [0.4444444444444444, \"#bd3786\"], [0.5555555555555556, \"#d8576b\"], [0.6666666666666666, \"#ed7953\"], [0.7777777777777778, \"#fb9f3a\"], [0.8888888888888888, \"#fdca26\"], [1.0, \"#f0f921\"]], \"type\": \"heatmapgl\"}], \"histogram\": [{\"marker\": {\"colorbar\": {\"outlinewidth\": 0, \"ticks\": \"\"}}, \"type\": \"histogram\"}], \"histogram2d\": [{\"colorbar\": {\"outlinewidth\": 0, \"ticks\": \"\"}, \"colorscale\": [[0.0, \"#0d0887\"], [0.1111111111111111, \"#46039f\"], [0.2222222222222222, \"#7201a8\"], [0.3333333333333333, \"#9c179e\"], [0.4444444444444444, \"#bd3786\"], [0.5555555555555556, \"#d8576b\"], [0.6666666666666666, \"#ed7953\"], [0.7777777777777778, \"#fb9f3a\"], [0.8888888888888888, \"#fdca26\"], [1.0, \"#f0f921\"]], \"type\": \"histogram2d\"}], \"histogram2dcontour\": [{\"colorbar\": {\"outlinewidth\": 0, \"ticks\": \"\"}, \"colorscale\": [[0.0, \"#0d0887\"], [0.1111111111111111, \"#46039f\"], [0.2222222222222222, \"#7201a8\"], [0.3333333333333333, \"#9c179e\"], [0.4444444444444444, \"#bd3786\"], [0.5555555555555556, \"#d8576b\"], [0.6666666666666666, \"#ed7953\"], [0.7777777777777778, \"#fb9f3a\"], [0.8888888888888888, \"#fdca26\"], [1.0, \"#f0f921\"]], \"type\": \"histogram2dcontour\"}], \"mesh3d\": [{\"colorbar\": {\"outlinewidth\": 0, \"ticks\": \"\"}, \"type\": \"mesh3d\"}], \"parcoords\": [{\"line\": {\"colorbar\": {\"outlinewidth\": 0, \"ticks\": \"\"}}, \"type\": \"parcoords\"}], \"pie\": [{\"automargin\": true, \"type\": \"pie\"}], \"scatter\": [{\"marker\": {\"colorbar\": {\"outlinewidth\": 0, \"ticks\": \"\"}}, \"type\": \"scatter\"}], \"scatter3d\": [{\"line\": {\"colorbar\": {\"outlinewidth\": 0, \"ticks\": \"\"}}, \"marker\": {\"colorbar\": {\"outlinewidth\": 0, \"ticks\": \"\"}}, \"type\": \"scatter3d\"}], \"scattercarpet\": [{\"marker\": {\"colorbar\": {\"outlinewidth\": 0, \"ticks\": \"\"}}, \"type\": \"scattercarpet\"}], \"scattergeo\": [{\"marker\": {\"colorbar\": {\"outlinewidth\": 0, \"ticks\": \"\"}}, \"type\": \"scattergeo\"}], \"scattergl\": [{\"marker\": {\"colorbar\": {\"outlinewidth\": 0, \"ticks\": \"\"}}, \"type\": \"scattergl\"}], \"scattermapbox\": [{\"marker\": {\"colorbar\": {\"outlinewidth\": 0, \"ticks\": \"\"}}, \"type\": \"scattermapbox\"}], \"scatterpolar\": [{\"marker\": {\"colorbar\": {\"outlinewidth\": 0, \"ticks\": \"\"}}, \"type\": \"scatterpolar\"}], \"scatterpolargl\": [{\"marker\": {\"colorbar\": {\"outlinewidth\": 0, \"ticks\": \"\"}}, \"type\": \"scatterpolargl\"}], \"scatterternary\": [{\"marker\": {\"colorbar\": {\"outlinewidth\": 0, \"ticks\": \"\"}}, \"type\": \"scatterternary\"}], \"surface\": [{\"colorbar\": {\"outlinewidth\": 0, \"ticks\": \"\"}, \"colorscale\": [[0.0, \"#0d0887\"], [0.1111111111111111, \"#46039f\"], [0.2222222222222222, \"#7201a8\"], [0.3333333333333333, \"#9c179e\"], [0.4444444444444444, \"#bd3786\"], [0.5555555555555556, \"#d8576b\"], [0.6666666666666666, \"#ed7953\"], [0.7777777777777778, \"#fb9f3a\"], [0.8888888888888888, \"#fdca26\"], [1.0, \"#f0f921\"]], \"type\": \"surface\"}], \"table\": [{\"cells\": {\"fill\": {\"color\": \"#EBF0F8\"}, \"line\": {\"color\": \"white\"}}, \"header\": {\"fill\": {\"color\": \"#C8D4E3\"}, \"line\": {\"color\": \"white\"}}, \"type\": \"table\"}]}, \"layout\": {\"annotationdefaults\": {\"arrowcolor\": \"#2a3f5f\", \"arrowhead\": 0, \"arrowwidth\": 1}, \"coloraxis\": {\"colorbar\": {\"outlinewidth\": 0, \"ticks\": \"\"}}, \"colorscale\": {\"diverging\": [[0, \"#8e0152\"], [0.1, \"#c51b7d\"], [0.2, \"#de77ae\"], [0.3, \"#f1b6da\"], [0.4, \"#fde0ef\"], [0.5, \"#f7f7f7\"], [0.6, \"#e6f5d0\"], [0.7, \"#b8e186\"], [0.8, \"#7fbc41\"], [0.9, \"#4d9221\"], [1, \"#276419\"]], \"sequential\": [[0.0, \"#0d0887\"], [0.1111111111111111, \"#46039f\"], [0.2222222222222222, \"#7201a8\"], [0.3333333333333333, \"#9c179e\"], [0.4444444444444444, \"#bd3786\"], [0.5555555555555556, \"#d8576b\"], [0.6666666666666666, \"#ed7953\"], [0.7777777777777778, \"#fb9f3a\"], [0.8888888888888888, \"#fdca26\"], [1.0, \"#f0f921\"]], \"sequentialminus\": [[0.0, \"#0d0887\"], [0.1111111111111111, \"#46039f\"], [0.2222222222222222, \"#7201a8\"], [0.3333333333333333, \"#9c179e\"], [0.4444444444444444, \"#bd3786\"], [0.5555555555555556, \"#d8576b\"], [0.6666666666666666, \"#ed7953\"], [0.7777777777777778, \"#fb9f3a\"], [0.8888888888888888, \"#fdca26\"], [1.0, \"#f0f921\"]]}, \"colorway\": [\"#636efa\", \"#EF553B\", \"#00cc96\", \"#ab63fa\", \"#FFA15A\", \"#19d3f3\", \"#FF6692\", \"#B6E880\", \"#FF97FF\", \"#FECB52\"], \"font\": {\"color\": \"#2a3f5f\"}, \"geo\": {\"bgcolor\": \"white\", \"lakecolor\": \"white\", \"landcolor\": \"#E5ECF6\", \"showlakes\": true, \"showland\": true, \"subunitcolor\": \"white\"}, \"hoverlabel\": {\"align\": \"left\"}, \"hovermode\": \"closest\", \"mapbox\": {\"style\": \"light\"}, \"paper_bgcolor\": \"white\", \"plot_bgcolor\": \"#E5ECF6\", \"polar\": {\"angularaxis\": {\"gridcolor\": \"white\", \"linecolor\": \"white\", \"ticks\": \"\"}, \"bgcolor\": \"#E5ECF6\", \"radialaxis\": {\"gridcolor\": \"white\", \"linecolor\": \"white\", \"ticks\": \"\"}}, \"scene\": {\"xaxis\": {\"backgroundcolor\": \"#E5ECF6\", \"gridcolor\": \"white\", \"gridwidth\": 2, \"linecolor\": \"white\", \"showbackground\": true, \"ticks\": \"\", \"zerolinecolor\": \"white\"}, \"yaxis\": {\"backgroundcolor\": \"#E5ECF6\", \"gridcolor\": \"white\", \"gridwidth\": 2, \"linecolor\": \"white\", \"showbackground\": true, \"ticks\": \"\", \"zerolinecolor\": \"white\"}, \"zaxis\": {\"backgroundcolor\": \"#E5ECF6\", \"gridcolor\": \"white\", \"gridwidth\": 2, \"linecolor\": \"white\", \"showbackground\": true, \"ticks\": \"\", \"zerolinecolor\": \"white\"}}, \"shapedefaults\": {\"line\": {\"color\": \"#2a3f5f\"}}, \"ternary\": {\"aaxis\": {\"gridcolor\": \"white\", \"linecolor\": \"white\", \"ticks\": \"\"}, \"baxis\": {\"gridcolor\": \"white\", \"linecolor\": \"white\", \"ticks\": \"\"}, \"bgcolor\": \"#E5ECF6\", \"caxis\": {\"gridcolor\": \"white\", \"linecolor\": \"white\", \"ticks\": \"\"}}, \"title\": {\"x\": 0.05}, \"xaxis\": {\"automargin\": true, \"gridcolor\": \"white\", \"linecolor\": \"white\", \"ticks\": \"\", \"title\": {\"standoff\": 15}, \"zerolinecolor\": \"white\", \"zerolinewidth\": 2}, \"yaxis\": {\"automargin\": true, \"gridcolor\": \"white\", \"linecolor\": \"white\", \"ticks\": \"\", \"title\": {\"standoff\": 15}, \"zerolinecolor\": \"white\", \"zerolinewidth\": 2}}}, \"title\": {\"font\": {\"color\": \"#4D5663\"}}, \"xaxis\": {\"gridcolor\": \"#E1E5ED\", \"showgrid\": true, \"tickfont\": {\"color\": \"#4D5663\"}, \"title\": {\"font\": {\"color\": \"#4D5663\"}, \"text\": \"\"}, \"zerolinecolor\": \"#E1E5ED\"}, \"yaxis\": {\"gridcolor\": \"#E1E5ED\", \"showgrid\": true, \"tickfont\": {\"color\": \"#4D5663\"}, \"title\": {\"font\": {\"color\": \"#4D5663\"}, \"text\": \"\"}, \"zerolinecolor\": \"#E1E5ED\"}},\n",
       "                        {\"showLink\": true, \"linkText\": \"Export to plot.ly\", \"plotlyServerURL\": \"https://plot.ly\", \"responsive\": true}\n",
       "                    ).then(function(){\n",
       "                            \n",
       "var gd = document.getElementById('b9a613ec-e674-42b5-a965-8e549d11f884');\n",
       "var x = new MutationObserver(function (mutations, observer) {{\n",
       "        var display = window.getComputedStyle(gd).display;\n",
       "        if (!display || display === 'none') {{\n",
       "            console.log([gd, 'removed!']);\n",
       "            Plotly.purge(gd);\n",
       "            observer.disconnect();\n",
       "        }}\n",
       "}});\n",
       "\n",
       "// Listen for the removal of the full notebook cells\n",
       "var notebookContainer = gd.closest('#notebook-container');\n",
       "if (notebookContainer) {{\n",
       "    x.observe(notebookContainer, {childList: true});\n",
       "}}\n",
       "\n",
       "// Listen for the clearing of the current output cell\n",
       "var outputEl = gd.closest('.output');\n",
       "if (outputEl) {{\n",
       "    x.observe(outputEl, {childList: true});\n",
       "}}\n",
       "\n",
       "                        })\n",
       "                };\n",
       "                });\n",
       "            </script>\n",
       "        </div>"
      ]
     },
     "metadata": {},
     "output_type": "display_data"
    }
   ],
   "source": [
    "df.iplot(kind='scatter',x='A',y='B',mode='markers',size=10)"
   ]
  },
  {
   "cell_type": "markdown",
   "metadata": {},
   "source": [
    "## Bar Plots"
   ]
  },
  {
   "cell_type": "code",
   "execution_count": 16,
   "metadata": {},
   "outputs": [
    {
     "data": {
      "application/vnd.plotly.v1+json": {
       "config": {
        "linkText": "Export to plot.ly",
        "plotlyServerURL": "https://plot.ly",
        "showLink": true
       },
       "data": [
        {
         "marker": {
          "color": "rgba(255, 153, 51, 0.6)",
          "line": {
           "color": "rgba(255, 153, 51, 1.0)",
           "width": 1
          }
         },
         "name": "Values",
         "orientation": "v",
         "text": "",
         "type": "bar",
         "x": [
          "A",
          "B",
          "C"
         ],
         "y": [
          32,
          43,
          50
         ]
        }
       ],
       "layout": {
        "legend": {
         "bgcolor": "#F5F6F9",
         "font": {
          "color": "#4D5663"
         }
        },
        "paper_bgcolor": "#F5F6F9",
        "plot_bgcolor": "#F5F6F9",
        "template": {
         "data": {
          "bar": [
           {
            "error_x": {
             "color": "#2a3f5f"
            },
            "error_y": {
             "color": "#2a3f5f"
            },
            "marker": {
             "line": {
              "color": "#E5ECF6",
              "width": 0.5
             }
            },
            "type": "bar"
           }
          ],
          "barpolar": [
           {
            "marker": {
             "line": {
              "color": "#E5ECF6",
              "width": 0.5
             }
            },
            "type": "barpolar"
           }
          ],
          "carpet": [
           {
            "aaxis": {
             "endlinecolor": "#2a3f5f",
             "gridcolor": "white",
             "linecolor": "white",
             "minorgridcolor": "white",
             "startlinecolor": "#2a3f5f"
            },
            "baxis": {
             "endlinecolor": "#2a3f5f",
             "gridcolor": "white",
             "linecolor": "white",
             "minorgridcolor": "white",
             "startlinecolor": "#2a3f5f"
            },
            "type": "carpet"
           }
          ],
          "choropleth": [
           {
            "colorbar": {
             "outlinewidth": 0,
             "ticks": ""
            },
            "type": "choropleth"
           }
          ],
          "contour": [
           {
            "colorbar": {
             "outlinewidth": 0,
             "ticks": ""
            },
            "colorscale": [
             [
              0,
              "#0d0887"
             ],
             [
              0.1111111111111111,
              "#46039f"
             ],
             [
              0.2222222222222222,
              "#7201a8"
             ],
             [
              0.3333333333333333,
              "#9c179e"
             ],
             [
              0.4444444444444444,
              "#bd3786"
             ],
             [
              0.5555555555555556,
              "#d8576b"
             ],
             [
              0.6666666666666666,
              "#ed7953"
             ],
             [
              0.7777777777777778,
              "#fb9f3a"
             ],
             [
              0.8888888888888888,
              "#fdca26"
             ],
             [
              1,
              "#f0f921"
             ]
            ],
            "type": "contour"
           }
          ],
          "contourcarpet": [
           {
            "colorbar": {
             "outlinewidth": 0,
             "ticks": ""
            },
            "type": "contourcarpet"
           }
          ],
          "heatmap": [
           {
            "colorbar": {
             "outlinewidth": 0,
             "ticks": ""
            },
            "colorscale": [
             [
              0,
              "#0d0887"
             ],
             [
              0.1111111111111111,
              "#46039f"
             ],
             [
              0.2222222222222222,
              "#7201a8"
             ],
             [
              0.3333333333333333,
              "#9c179e"
             ],
             [
              0.4444444444444444,
              "#bd3786"
             ],
             [
              0.5555555555555556,
              "#d8576b"
             ],
             [
              0.6666666666666666,
              "#ed7953"
             ],
             [
              0.7777777777777778,
              "#fb9f3a"
             ],
             [
              0.8888888888888888,
              "#fdca26"
             ],
             [
              1,
              "#f0f921"
             ]
            ],
            "type": "heatmap"
           }
          ],
          "heatmapgl": [
           {
            "colorbar": {
             "outlinewidth": 0,
             "ticks": ""
            },
            "colorscale": [
             [
              0,
              "#0d0887"
             ],
             [
              0.1111111111111111,
              "#46039f"
             ],
             [
              0.2222222222222222,
              "#7201a8"
             ],
             [
              0.3333333333333333,
              "#9c179e"
             ],
             [
              0.4444444444444444,
              "#bd3786"
             ],
             [
              0.5555555555555556,
              "#d8576b"
             ],
             [
              0.6666666666666666,
              "#ed7953"
             ],
             [
              0.7777777777777778,
              "#fb9f3a"
             ],
             [
              0.8888888888888888,
              "#fdca26"
             ],
             [
              1,
              "#f0f921"
             ]
            ],
            "type": "heatmapgl"
           }
          ],
          "histogram": [
           {
            "marker": {
             "colorbar": {
              "outlinewidth": 0,
              "ticks": ""
             }
            },
            "type": "histogram"
           }
          ],
          "histogram2d": [
           {
            "colorbar": {
             "outlinewidth": 0,
             "ticks": ""
            },
            "colorscale": [
             [
              0,
              "#0d0887"
             ],
             [
              0.1111111111111111,
              "#46039f"
             ],
             [
              0.2222222222222222,
              "#7201a8"
             ],
             [
              0.3333333333333333,
              "#9c179e"
             ],
             [
              0.4444444444444444,
              "#bd3786"
             ],
             [
              0.5555555555555556,
              "#d8576b"
             ],
             [
              0.6666666666666666,
              "#ed7953"
             ],
             [
              0.7777777777777778,
              "#fb9f3a"
             ],
             [
              0.8888888888888888,
              "#fdca26"
             ],
             [
              1,
              "#f0f921"
             ]
            ],
            "type": "histogram2d"
           }
          ],
          "histogram2dcontour": [
           {
            "colorbar": {
             "outlinewidth": 0,
             "ticks": ""
            },
            "colorscale": [
             [
              0,
              "#0d0887"
             ],
             [
              0.1111111111111111,
              "#46039f"
             ],
             [
              0.2222222222222222,
              "#7201a8"
             ],
             [
              0.3333333333333333,
              "#9c179e"
             ],
             [
              0.4444444444444444,
              "#bd3786"
             ],
             [
              0.5555555555555556,
              "#d8576b"
             ],
             [
              0.6666666666666666,
              "#ed7953"
             ],
             [
              0.7777777777777778,
              "#fb9f3a"
             ],
             [
              0.8888888888888888,
              "#fdca26"
             ],
             [
              1,
              "#f0f921"
             ]
            ],
            "type": "histogram2dcontour"
           }
          ],
          "mesh3d": [
           {
            "colorbar": {
             "outlinewidth": 0,
             "ticks": ""
            },
            "type": "mesh3d"
           }
          ],
          "parcoords": [
           {
            "line": {
             "colorbar": {
              "outlinewidth": 0,
              "ticks": ""
             }
            },
            "type": "parcoords"
           }
          ],
          "pie": [
           {
            "automargin": true,
            "type": "pie"
           }
          ],
          "scatter": [
           {
            "marker": {
             "colorbar": {
              "outlinewidth": 0,
              "ticks": ""
             }
            },
            "type": "scatter"
           }
          ],
          "scatter3d": [
           {
            "line": {
             "colorbar": {
              "outlinewidth": 0,
              "ticks": ""
             }
            },
            "marker": {
             "colorbar": {
              "outlinewidth": 0,
              "ticks": ""
             }
            },
            "type": "scatter3d"
           }
          ],
          "scattercarpet": [
           {
            "marker": {
             "colorbar": {
              "outlinewidth": 0,
              "ticks": ""
             }
            },
            "type": "scattercarpet"
           }
          ],
          "scattergeo": [
           {
            "marker": {
             "colorbar": {
              "outlinewidth": 0,
              "ticks": ""
             }
            },
            "type": "scattergeo"
           }
          ],
          "scattergl": [
           {
            "marker": {
             "colorbar": {
              "outlinewidth": 0,
              "ticks": ""
             }
            },
            "type": "scattergl"
           }
          ],
          "scattermapbox": [
           {
            "marker": {
             "colorbar": {
              "outlinewidth": 0,
              "ticks": ""
             }
            },
            "type": "scattermapbox"
           }
          ],
          "scatterpolar": [
           {
            "marker": {
             "colorbar": {
              "outlinewidth": 0,
              "ticks": ""
             }
            },
            "type": "scatterpolar"
           }
          ],
          "scatterpolargl": [
           {
            "marker": {
             "colorbar": {
              "outlinewidth": 0,
              "ticks": ""
             }
            },
            "type": "scatterpolargl"
           }
          ],
          "scatterternary": [
           {
            "marker": {
             "colorbar": {
              "outlinewidth": 0,
              "ticks": ""
             }
            },
            "type": "scatterternary"
           }
          ],
          "surface": [
           {
            "colorbar": {
             "outlinewidth": 0,
             "ticks": ""
            },
            "colorscale": [
             [
              0,
              "#0d0887"
             ],
             [
              0.1111111111111111,
              "#46039f"
             ],
             [
              0.2222222222222222,
              "#7201a8"
             ],
             [
              0.3333333333333333,
              "#9c179e"
             ],
             [
              0.4444444444444444,
              "#bd3786"
             ],
             [
              0.5555555555555556,
              "#d8576b"
             ],
             [
              0.6666666666666666,
              "#ed7953"
             ],
             [
              0.7777777777777778,
              "#fb9f3a"
             ],
             [
              0.8888888888888888,
              "#fdca26"
             ],
             [
              1,
              "#f0f921"
             ]
            ],
            "type": "surface"
           }
          ],
          "table": [
           {
            "cells": {
             "fill": {
              "color": "#EBF0F8"
             },
             "line": {
              "color": "white"
             }
            },
            "header": {
             "fill": {
              "color": "#C8D4E3"
             },
             "line": {
              "color": "white"
             }
            },
            "type": "table"
           }
          ]
         },
         "layout": {
          "annotationdefaults": {
           "arrowcolor": "#2a3f5f",
           "arrowhead": 0,
           "arrowwidth": 1
          },
          "coloraxis": {
           "colorbar": {
            "outlinewidth": 0,
            "ticks": ""
           }
          },
          "colorscale": {
           "diverging": [
            [
             0,
             "#8e0152"
            ],
            [
             0.1,
             "#c51b7d"
            ],
            [
             0.2,
             "#de77ae"
            ],
            [
             0.3,
             "#f1b6da"
            ],
            [
             0.4,
             "#fde0ef"
            ],
            [
             0.5,
             "#f7f7f7"
            ],
            [
             0.6,
             "#e6f5d0"
            ],
            [
             0.7,
             "#b8e186"
            ],
            [
             0.8,
             "#7fbc41"
            ],
            [
             0.9,
             "#4d9221"
            ],
            [
             1,
             "#276419"
            ]
           ],
           "sequential": [
            [
             0,
             "#0d0887"
            ],
            [
             0.1111111111111111,
             "#46039f"
            ],
            [
             0.2222222222222222,
             "#7201a8"
            ],
            [
             0.3333333333333333,
             "#9c179e"
            ],
            [
             0.4444444444444444,
             "#bd3786"
            ],
            [
             0.5555555555555556,
             "#d8576b"
            ],
            [
             0.6666666666666666,
             "#ed7953"
            ],
            [
             0.7777777777777778,
             "#fb9f3a"
            ],
            [
             0.8888888888888888,
             "#fdca26"
            ],
            [
             1,
             "#f0f921"
            ]
           ],
           "sequentialminus": [
            [
             0,
             "#0d0887"
            ],
            [
             0.1111111111111111,
             "#46039f"
            ],
            [
             0.2222222222222222,
             "#7201a8"
            ],
            [
             0.3333333333333333,
             "#9c179e"
            ],
            [
             0.4444444444444444,
             "#bd3786"
            ],
            [
             0.5555555555555556,
             "#d8576b"
            ],
            [
             0.6666666666666666,
             "#ed7953"
            ],
            [
             0.7777777777777778,
             "#fb9f3a"
            ],
            [
             0.8888888888888888,
             "#fdca26"
            ],
            [
             1,
             "#f0f921"
            ]
           ]
          },
          "colorway": [
           "#636efa",
           "#EF553B",
           "#00cc96",
           "#ab63fa",
           "#FFA15A",
           "#19d3f3",
           "#FF6692",
           "#B6E880",
           "#FF97FF",
           "#FECB52"
          ],
          "font": {
           "color": "#2a3f5f"
          },
          "geo": {
           "bgcolor": "white",
           "lakecolor": "white",
           "landcolor": "#E5ECF6",
           "showlakes": true,
           "showland": true,
           "subunitcolor": "white"
          },
          "hoverlabel": {
           "align": "left"
          },
          "hovermode": "closest",
          "mapbox": {
           "style": "light"
          },
          "paper_bgcolor": "white",
          "plot_bgcolor": "#E5ECF6",
          "polar": {
           "angularaxis": {
            "gridcolor": "white",
            "linecolor": "white",
            "ticks": ""
           },
           "bgcolor": "#E5ECF6",
           "radialaxis": {
            "gridcolor": "white",
            "linecolor": "white",
            "ticks": ""
           }
          },
          "scene": {
           "xaxis": {
            "backgroundcolor": "#E5ECF6",
            "gridcolor": "white",
            "gridwidth": 2,
            "linecolor": "white",
            "showbackground": true,
            "ticks": "",
            "zerolinecolor": "white"
           },
           "yaxis": {
            "backgroundcolor": "#E5ECF6",
            "gridcolor": "white",
            "gridwidth": 2,
            "linecolor": "white",
            "showbackground": true,
            "ticks": "",
            "zerolinecolor": "white"
           },
           "zaxis": {
            "backgroundcolor": "#E5ECF6",
            "gridcolor": "white",
            "gridwidth": 2,
            "linecolor": "white",
            "showbackground": true,
            "ticks": "",
            "zerolinecolor": "white"
           }
          },
          "shapedefaults": {
           "line": {
            "color": "#2a3f5f"
           }
          },
          "ternary": {
           "aaxis": {
            "gridcolor": "white",
            "linecolor": "white",
            "ticks": ""
           },
           "baxis": {
            "gridcolor": "white",
            "linecolor": "white",
            "ticks": ""
           },
           "bgcolor": "#E5ECF6",
           "caxis": {
            "gridcolor": "white",
            "linecolor": "white",
            "ticks": ""
           }
          },
          "title": {
           "x": 0.05
          },
          "xaxis": {
           "automargin": true,
           "gridcolor": "white",
           "linecolor": "white",
           "ticks": "",
           "title": {
            "standoff": 15
           },
           "zerolinecolor": "white",
           "zerolinewidth": 2
          },
          "yaxis": {
           "automargin": true,
           "gridcolor": "white",
           "linecolor": "white",
           "ticks": "",
           "title": {
            "standoff": 15
           },
           "zerolinecolor": "white",
           "zerolinewidth": 2
          }
         }
        },
        "title": {
         "font": {
          "color": "#4D5663"
         }
        },
        "xaxis": {
         "gridcolor": "#E1E5ED",
         "showgrid": true,
         "tickfont": {
          "color": "#4D5663"
         },
         "title": {
          "font": {
           "color": "#4D5663"
          },
          "text": ""
         },
         "zerolinecolor": "#E1E5ED"
        },
        "yaxis": {
         "gridcolor": "#E1E5ED",
         "showgrid": true,
         "tickfont": {
          "color": "#4D5663"
         },
         "title": {
          "font": {
           "color": "#4D5663"
          },
          "text": ""
         },
         "zerolinecolor": "#E1E5ED"
        }
       }
      },
      "text/html": [
       "<div>\n",
       "        \n",
       "        \n",
       "            <div id=\"14fb9106-0ae7-47d4-9b43-c62f6af1d1ef\" class=\"plotly-graph-div\" style=\"height:525px; width:100%;\"></div>\n",
       "            <script type=\"text/javascript\">\n",
       "                require([\"plotly\"], function(Plotly) {\n",
       "                    window.PLOTLYENV=window.PLOTLYENV || {};\n",
       "                    window.PLOTLYENV.BASE_URL='https://plot.ly';\n",
       "                    \n",
       "                if (document.getElementById(\"14fb9106-0ae7-47d4-9b43-c62f6af1d1ef\")) {\n",
       "                    Plotly.newPlot(\n",
       "                        '14fb9106-0ae7-47d4-9b43-c62f6af1d1ef',\n",
       "                        [{\"marker\": {\"color\": \"rgba(255, 153, 51, 0.6)\", \"line\": {\"color\": \"rgba(255, 153, 51, 1.0)\", \"width\": 1}}, \"name\": \"Values\", \"orientation\": \"v\", \"text\": \"\", \"type\": \"bar\", \"x\": [\"A\", \"B\", \"C\"], \"y\": [32, 43, 50]}],\n",
       "                        {\"legend\": {\"bgcolor\": \"#F5F6F9\", \"font\": {\"color\": \"#4D5663\"}}, \"paper_bgcolor\": \"#F5F6F9\", \"plot_bgcolor\": \"#F5F6F9\", \"template\": {\"data\": {\"bar\": [{\"error_x\": {\"color\": \"#2a3f5f\"}, \"error_y\": {\"color\": \"#2a3f5f\"}, \"marker\": {\"line\": {\"color\": \"#E5ECF6\", \"width\": 0.5}}, \"type\": \"bar\"}], \"barpolar\": [{\"marker\": {\"line\": {\"color\": \"#E5ECF6\", \"width\": 0.5}}, \"type\": \"barpolar\"}], \"carpet\": [{\"aaxis\": {\"endlinecolor\": \"#2a3f5f\", \"gridcolor\": \"white\", \"linecolor\": \"white\", \"minorgridcolor\": \"white\", \"startlinecolor\": \"#2a3f5f\"}, \"baxis\": {\"endlinecolor\": \"#2a3f5f\", \"gridcolor\": \"white\", \"linecolor\": \"white\", \"minorgridcolor\": \"white\", \"startlinecolor\": \"#2a3f5f\"}, \"type\": \"carpet\"}], \"choropleth\": [{\"colorbar\": {\"outlinewidth\": 0, \"ticks\": \"\"}, \"type\": \"choropleth\"}], \"contour\": [{\"colorbar\": {\"outlinewidth\": 0, \"ticks\": \"\"}, \"colorscale\": [[0.0, \"#0d0887\"], [0.1111111111111111, \"#46039f\"], [0.2222222222222222, \"#7201a8\"], [0.3333333333333333, \"#9c179e\"], [0.4444444444444444, \"#bd3786\"], [0.5555555555555556, \"#d8576b\"], [0.6666666666666666, \"#ed7953\"], [0.7777777777777778, \"#fb9f3a\"], [0.8888888888888888, \"#fdca26\"], [1.0, \"#f0f921\"]], \"type\": \"contour\"}], \"contourcarpet\": [{\"colorbar\": {\"outlinewidth\": 0, \"ticks\": \"\"}, \"type\": \"contourcarpet\"}], \"heatmap\": [{\"colorbar\": {\"outlinewidth\": 0, \"ticks\": \"\"}, \"colorscale\": [[0.0, \"#0d0887\"], [0.1111111111111111, \"#46039f\"], [0.2222222222222222, \"#7201a8\"], [0.3333333333333333, \"#9c179e\"], [0.4444444444444444, \"#bd3786\"], [0.5555555555555556, \"#d8576b\"], [0.6666666666666666, \"#ed7953\"], [0.7777777777777778, \"#fb9f3a\"], [0.8888888888888888, \"#fdca26\"], [1.0, \"#f0f921\"]], \"type\": \"heatmap\"}], \"heatmapgl\": [{\"colorbar\": {\"outlinewidth\": 0, \"ticks\": \"\"}, \"colorscale\": [[0.0, \"#0d0887\"], [0.1111111111111111, \"#46039f\"], [0.2222222222222222, \"#7201a8\"], [0.3333333333333333, \"#9c179e\"], [0.4444444444444444, \"#bd3786\"], [0.5555555555555556, \"#d8576b\"], [0.6666666666666666, \"#ed7953\"], [0.7777777777777778, \"#fb9f3a\"], [0.8888888888888888, \"#fdca26\"], [1.0, \"#f0f921\"]], \"type\": \"heatmapgl\"}], \"histogram\": [{\"marker\": {\"colorbar\": {\"outlinewidth\": 0, \"ticks\": \"\"}}, \"type\": \"histogram\"}], \"histogram2d\": [{\"colorbar\": {\"outlinewidth\": 0, \"ticks\": \"\"}, \"colorscale\": [[0.0, \"#0d0887\"], [0.1111111111111111, \"#46039f\"], [0.2222222222222222, \"#7201a8\"], [0.3333333333333333, \"#9c179e\"], [0.4444444444444444, \"#bd3786\"], [0.5555555555555556, \"#d8576b\"], [0.6666666666666666, \"#ed7953\"], [0.7777777777777778, \"#fb9f3a\"], [0.8888888888888888, \"#fdca26\"], [1.0, \"#f0f921\"]], \"type\": \"histogram2d\"}], \"histogram2dcontour\": [{\"colorbar\": {\"outlinewidth\": 0, \"ticks\": \"\"}, \"colorscale\": [[0.0, \"#0d0887\"], [0.1111111111111111, \"#46039f\"], [0.2222222222222222, \"#7201a8\"], [0.3333333333333333, \"#9c179e\"], [0.4444444444444444, \"#bd3786\"], [0.5555555555555556, \"#d8576b\"], [0.6666666666666666, \"#ed7953\"], [0.7777777777777778, \"#fb9f3a\"], [0.8888888888888888, \"#fdca26\"], [1.0, \"#f0f921\"]], \"type\": \"histogram2dcontour\"}], \"mesh3d\": [{\"colorbar\": {\"outlinewidth\": 0, \"ticks\": \"\"}, \"type\": \"mesh3d\"}], \"parcoords\": [{\"line\": {\"colorbar\": {\"outlinewidth\": 0, \"ticks\": \"\"}}, \"type\": \"parcoords\"}], \"pie\": [{\"automargin\": true, \"type\": \"pie\"}], \"scatter\": [{\"marker\": {\"colorbar\": {\"outlinewidth\": 0, \"ticks\": \"\"}}, \"type\": \"scatter\"}], \"scatter3d\": [{\"line\": {\"colorbar\": {\"outlinewidth\": 0, \"ticks\": \"\"}}, \"marker\": {\"colorbar\": {\"outlinewidth\": 0, \"ticks\": \"\"}}, \"type\": \"scatter3d\"}], \"scattercarpet\": [{\"marker\": {\"colorbar\": {\"outlinewidth\": 0, \"ticks\": \"\"}}, \"type\": \"scattercarpet\"}], \"scattergeo\": [{\"marker\": {\"colorbar\": {\"outlinewidth\": 0, \"ticks\": \"\"}}, \"type\": \"scattergeo\"}], \"scattergl\": [{\"marker\": {\"colorbar\": {\"outlinewidth\": 0, \"ticks\": \"\"}}, \"type\": \"scattergl\"}], \"scattermapbox\": [{\"marker\": {\"colorbar\": {\"outlinewidth\": 0, \"ticks\": \"\"}}, \"type\": \"scattermapbox\"}], \"scatterpolar\": [{\"marker\": {\"colorbar\": {\"outlinewidth\": 0, \"ticks\": \"\"}}, \"type\": \"scatterpolar\"}], \"scatterpolargl\": [{\"marker\": {\"colorbar\": {\"outlinewidth\": 0, \"ticks\": \"\"}}, \"type\": \"scatterpolargl\"}], \"scatterternary\": [{\"marker\": {\"colorbar\": {\"outlinewidth\": 0, \"ticks\": \"\"}}, \"type\": \"scatterternary\"}], \"surface\": [{\"colorbar\": {\"outlinewidth\": 0, \"ticks\": \"\"}, \"colorscale\": [[0.0, \"#0d0887\"], [0.1111111111111111, \"#46039f\"], [0.2222222222222222, \"#7201a8\"], [0.3333333333333333, \"#9c179e\"], [0.4444444444444444, \"#bd3786\"], [0.5555555555555556, \"#d8576b\"], [0.6666666666666666, \"#ed7953\"], [0.7777777777777778, \"#fb9f3a\"], [0.8888888888888888, \"#fdca26\"], [1.0, \"#f0f921\"]], \"type\": \"surface\"}], \"table\": [{\"cells\": {\"fill\": {\"color\": \"#EBF0F8\"}, \"line\": {\"color\": \"white\"}}, \"header\": {\"fill\": {\"color\": \"#C8D4E3\"}, \"line\": {\"color\": \"white\"}}, \"type\": \"table\"}]}, \"layout\": {\"annotationdefaults\": {\"arrowcolor\": \"#2a3f5f\", \"arrowhead\": 0, \"arrowwidth\": 1}, \"coloraxis\": {\"colorbar\": {\"outlinewidth\": 0, \"ticks\": \"\"}}, \"colorscale\": {\"diverging\": [[0, \"#8e0152\"], [0.1, \"#c51b7d\"], [0.2, \"#de77ae\"], [0.3, \"#f1b6da\"], [0.4, \"#fde0ef\"], [0.5, \"#f7f7f7\"], [0.6, \"#e6f5d0\"], [0.7, \"#b8e186\"], [0.8, \"#7fbc41\"], [0.9, \"#4d9221\"], [1, \"#276419\"]], \"sequential\": [[0.0, \"#0d0887\"], [0.1111111111111111, \"#46039f\"], [0.2222222222222222, \"#7201a8\"], [0.3333333333333333, \"#9c179e\"], [0.4444444444444444, \"#bd3786\"], [0.5555555555555556, \"#d8576b\"], [0.6666666666666666, \"#ed7953\"], [0.7777777777777778, \"#fb9f3a\"], [0.8888888888888888, \"#fdca26\"], [1.0, \"#f0f921\"]], \"sequentialminus\": [[0.0, \"#0d0887\"], [0.1111111111111111, \"#46039f\"], [0.2222222222222222, \"#7201a8\"], [0.3333333333333333, \"#9c179e\"], [0.4444444444444444, \"#bd3786\"], [0.5555555555555556, \"#d8576b\"], [0.6666666666666666, \"#ed7953\"], [0.7777777777777778, \"#fb9f3a\"], [0.8888888888888888, \"#fdca26\"], [1.0, \"#f0f921\"]]}, \"colorway\": [\"#636efa\", \"#EF553B\", \"#00cc96\", \"#ab63fa\", \"#FFA15A\", \"#19d3f3\", \"#FF6692\", \"#B6E880\", \"#FF97FF\", \"#FECB52\"], \"font\": {\"color\": \"#2a3f5f\"}, \"geo\": {\"bgcolor\": \"white\", \"lakecolor\": \"white\", \"landcolor\": \"#E5ECF6\", \"showlakes\": true, \"showland\": true, \"subunitcolor\": \"white\"}, \"hoverlabel\": {\"align\": \"left\"}, \"hovermode\": \"closest\", \"mapbox\": {\"style\": \"light\"}, \"paper_bgcolor\": \"white\", \"plot_bgcolor\": \"#E5ECF6\", \"polar\": {\"angularaxis\": {\"gridcolor\": \"white\", \"linecolor\": \"white\", \"ticks\": \"\"}, \"bgcolor\": \"#E5ECF6\", \"radialaxis\": {\"gridcolor\": \"white\", \"linecolor\": \"white\", \"ticks\": \"\"}}, \"scene\": {\"xaxis\": {\"backgroundcolor\": \"#E5ECF6\", \"gridcolor\": \"white\", \"gridwidth\": 2, \"linecolor\": \"white\", \"showbackground\": true, \"ticks\": \"\", \"zerolinecolor\": \"white\"}, \"yaxis\": {\"backgroundcolor\": \"#E5ECF6\", \"gridcolor\": \"white\", \"gridwidth\": 2, \"linecolor\": \"white\", \"showbackground\": true, \"ticks\": \"\", \"zerolinecolor\": \"white\"}, \"zaxis\": {\"backgroundcolor\": \"#E5ECF6\", \"gridcolor\": \"white\", \"gridwidth\": 2, \"linecolor\": \"white\", \"showbackground\": true, \"ticks\": \"\", \"zerolinecolor\": \"white\"}}, \"shapedefaults\": {\"line\": {\"color\": \"#2a3f5f\"}}, \"ternary\": {\"aaxis\": {\"gridcolor\": \"white\", \"linecolor\": \"white\", \"ticks\": \"\"}, \"baxis\": {\"gridcolor\": \"white\", \"linecolor\": \"white\", \"ticks\": \"\"}, \"bgcolor\": \"#E5ECF6\", \"caxis\": {\"gridcolor\": \"white\", \"linecolor\": \"white\", \"ticks\": \"\"}}, \"title\": {\"x\": 0.05}, \"xaxis\": {\"automargin\": true, \"gridcolor\": \"white\", \"linecolor\": \"white\", \"ticks\": \"\", \"title\": {\"standoff\": 15}, \"zerolinecolor\": \"white\", \"zerolinewidth\": 2}, \"yaxis\": {\"automargin\": true, \"gridcolor\": \"white\", \"linecolor\": \"white\", \"ticks\": \"\", \"title\": {\"standoff\": 15}, \"zerolinecolor\": \"white\", \"zerolinewidth\": 2}}}, \"title\": {\"font\": {\"color\": \"#4D5663\"}}, \"xaxis\": {\"gridcolor\": \"#E1E5ED\", \"showgrid\": true, \"tickfont\": {\"color\": \"#4D5663\"}, \"title\": {\"font\": {\"color\": \"#4D5663\"}, \"text\": \"\"}, \"zerolinecolor\": \"#E1E5ED\"}, \"yaxis\": {\"gridcolor\": \"#E1E5ED\", \"showgrid\": true, \"tickfont\": {\"color\": \"#4D5663\"}, \"title\": {\"font\": {\"color\": \"#4D5663\"}, \"text\": \"\"}, \"zerolinecolor\": \"#E1E5ED\"}},\n",
       "                        {\"showLink\": true, \"linkText\": \"Export to plot.ly\", \"plotlyServerURL\": \"https://plot.ly\", \"responsive\": true}\n",
       "                    ).then(function(){\n",
       "                            \n",
       "var gd = document.getElementById('14fb9106-0ae7-47d4-9b43-c62f6af1d1ef');\n",
       "var x = new MutationObserver(function (mutations, observer) {{\n",
       "        var display = window.getComputedStyle(gd).display;\n",
       "        if (!display || display === 'none') {{\n",
       "            console.log([gd, 'removed!']);\n",
       "            Plotly.purge(gd);\n",
       "            observer.disconnect();\n",
       "        }}\n",
       "}});\n",
       "\n",
       "// Listen for the removal of the full notebook cells\n",
       "var notebookContainer = gd.closest('#notebook-container');\n",
       "if (notebookContainer) {{\n",
       "    x.observe(notebookContainer, {childList: true});\n",
       "}}\n",
       "\n",
       "// Listen for the clearing of the current output cell\n",
       "var outputEl = gd.closest('.output');\n",
       "if (outputEl) {{\n",
       "    x.observe(outputEl, {childList: true});\n",
       "}}\n",
       "\n",
       "                        })\n",
       "                };\n",
       "                });\n",
       "            </script>\n",
       "        </div>"
      ]
     },
     "metadata": {},
     "output_type": "display_data"
    }
   ],
   "source": [
    "df2.iplot(kind='bar',x='Category',y='Values')"
   ]
  },
  {
   "cell_type": "code",
   "execution_count": 17,
   "metadata": {},
   "outputs": [
    {
     "data": {
      "application/vnd.plotly.v1+json": {
       "config": {
        "linkText": "Export to plot.ly",
        "plotlyServerURL": "https://plot.ly",
        "showLink": true
       },
       "data": [
        {
         "marker": {
          "color": "rgba(255, 153, 51, 0.6)",
          "line": {
           "color": "rgba(255, 153, 51, 1.0)",
           "width": 1
          }
         },
         "name": "None",
         "orientation": "v",
         "text": "",
         "type": "bar",
         "x": [
          "A",
          "B",
          "C",
          "D"
         ],
         "y": [
          100,
          100,
          100,
          100
         ]
        }
       ],
       "layout": {
        "legend": {
         "bgcolor": "#F5F6F9",
         "font": {
          "color": "#4D5663"
         }
        },
        "paper_bgcolor": "#F5F6F9",
        "plot_bgcolor": "#F5F6F9",
        "template": {
         "data": {
          "bar": [
           {
            "error_x": {
             "color": "#2a3f5f"
            },
            "error_y": {
             "color": "#2a3f5f"
            },
            "marker": {
             "line": {
              "color": "#E5ECF6",
              "width": 0.5
             }
            },
            "type": "bar"
           }
          ],
          "barpolar": [
           {
            "marker": {
             "line": {
              "color": "#E5ECF6",
              "width": 0.5
             }
            },
            "type": "barpolar"
           }
          ],
          "carpet": [
           {
            "aaxis": {
             "endlinecolor": "#2a3f5f",
             "gridcolor": "white",
             "linecolor": "white",
             "minorgridcolor": "white",
             "startlinecolor": "#2a3f5f"
            },
            "baxis": {
             "endlinecolor": "#2a3f5f",
             "gridcolor": "white",
             "linecolor": "white",
             "minorgridcolor": "white",
             "startlinecolor": "#2a3f5f"
            },
            "type": "carpet"
           }
          ],
          "choropleth": [
           {
            "colorbar": {
             "outlinewidth": 0,
             "ticks": ""
            },
            "type": "choropleth"
           }
          ],
          "contour": [
           {
            "colorbar": {
             "outlinewidth": 0,
             "ticks": ""
            },
            "colorscale": [
             [
              0,
              "#0d0887"
             ],
             [
              0.1111111111111111,
              "#46039f"
             ],
             [
              0.2222222222222222,
              "#7201a8"
             ],
             [
              0.3333333333333333,
              "#9c179e"
             ],
             [
              0.4444444444444444,
              "#bd3786"
             ],
             [
              0.5555555555555556,
              "#d8576b"
             ],
             [
              0.6666666666666666,
              "#ed7953"
             ],
             [
              0.7777777777777778,
              "#fb9f3a"
             ],
             [
              0.8888888888888888,
              "#fdca26"
             ],
             [
              1,
              "#f0f921"
             ]
            ],
            "type": "contour"
           }
          ],
          "contourcarpet": [
           {
            "colorbar": {
             "outlinewidth": 0,
             "ticks": ""
            },
            "type": "contourcarpet"
           }
          ],
          "heatmap": [
           {
            "colorbar": {
             "outlinewidth": 0,
             "ticks": ""
            },
            "colorscale": [
             [
              0,
              "#0d0887"
             ],
             [
              0.1111111111111111,
              "#46039f"
             ],
             [
              0.2222222222222222,
              "#7201a8"
             ],
             [
              0.3333333333333333,
              "#9c179e"
             ],
             [
              0.4444444444444444,
              "#bd3786"
             ],
             [
              0.5555555555555556,
              "#d8576b"
             ],
             [
              0.6666666666666666,
              "#ed7953"
             ],
             [
              0.7777777777777778,
              "#fb9f3a"
             ],
             [
              0.8888888888888888,
              "#fdca26"
             ],
             [
              1,
              "#f0f921"
             ]
            ],
            "type": "heatmap"
           }
          ],
          "heatmapgl": [
           {
            "colorbar": {
             "outlinewidth": 0,
             "ticks": ""
            },
            "colorscale": [
             [
              0,
              "#0d0887"
             ],
             [
              0.1111111111111111,
              "#46039f"
             ],
             [
              0.2222222222222222,
              "#7201a8"
             ],
             [
              0.3333333333333333,
              "#9c179e"
             ],
             [
              0.4444444444444444,
              "#bd3786"
             ],
             [
              0.5555555555555556,
              "#d8576b"
             ],
             [
              0.6666666666666666,
              "#ed7953"
             ],
             [
              0.7777777777777778,
              "#fb9f3a"
             ],
             [
              0.8888888888888888,
              "#fdca26"
             ],
             [
              1,
              "#f0f921"
             ]
            ],
            "type": "heatmapgl"
           }
          ],
          "histogram": [
           {
            "marker": {
             "colorbar": {
              "outlinewidth": 0,
              "ticks": ""
             }
            },
            "type": "histogram"
           }
          ],
          "histogram2d": [
           {
            "colorbar": {
             "outlinewidth": 0,
             "ticks": ""
            },
            "colorscale": [
             [
              0,
              "#0d0887"
             ],
             [
              0.1111111111111111,
              "#46039f"
             ],
             [
              0.2222222222222222,
              "#7201a8"
             ],
             [
              0.3333333333333333,
              "#9c179e"
             ],
             [
              0.4444444444444444,
              "#bd3786"
             ],
             [
              0.5555555555555556,
              "#d8576b"
             ],
             [
              0.6666666666666666,
              "#ed7953"
             ],
             [
              0.7777777777777778,
              "#fb9f3a"
             ],
             [
              0.8888888888888888,
              "#fdca26"
             ],
             [
              1,
              "#f0f921"
             ]
            ],
            "type": "histogram2d"
           }
          ],
          "histogram2dcontour": [
           {
            "colorbar": {
             "outlinewidth": 0,
             "ticks": ""
            },
            "colorscale": [
             [
              0,
              "#0d0887"
             ],
             [
              0.1111111111111111,
              "#46039f"
             ],
             [
              0.2222222222222222,
              "#7201a8"
             ],
             [
              0.3333333333333333,
              "#9c179e"
             ],
             [
              0.4444444444444444,
              "#bd3786"
             ],
             [
              0.5555555555555556,
              "#d8576b"
             ],
             [
              0.6666666666666666,
              "#ed7953"
             ],
             [
              0.7777777777777778,
              "#fb9f3a"
             ],
             [
              0.8888888888888888,
              "#fdca26"
             ],
             [
              1,
              "#f0f921"
             ]
            ],
            "type": "histogram2dcontour"
           }
          ],
          "mesh3d": [
           {
            "colorbar": {
             "outlinewidth": 0,
             "ticks": ""
            },
            "type": "mesh3d"
           }
          ],
          "parcoords": [
           {
            "line": {
             "colorbar": {
              "outlinewidth": 0,
              "ticks": ""
             }
            },
            "type": "parcoords"
           }
          ],
          "pie": [
           {
            "automargin": true,
            "type": "pie"
           }
          ],
          "scatter": [
           {
            "marker": {
             "colorbar": {
              "outlinewidth": 0,
              "ticks": ""
             }
            },
            "type": "scatter"
           }
          ],
          "scatter3d": [
           {
            "line": {
             "colorbar": {
              "outlinewidth": 0,
              "ticks": ""
             }
            },
            "marker": {
             "colorbar": {
              "outlinewidth": 0,
              "ticks": ""
             }
            },
            "type": "scatter3d"
           }
          ],
          "scattercarpet": [
           {
            "marker": {
             "colorbar": {
              "outlinewidth": 0,
              "ticks": ""
             }
            },
            "type": "scattercarpet"
           }
          ],
          "scattergeo": [
           {
            "marker": {
             "colorbar": {
              "outlinewidth": 0,
              "ticks": ""
             }
            },
            "type": "scattergeo"
           }
          ],
          "scattergl": [
           {
            "marker": {
             "colorbar": {
              "outlinewidth": 0,
              "ticks": ""
             }
            },
            "type": "scattergl"
           }
          ],
          "scattermapbox": [
           {
            "marker": {
             "colorbar": {
              "outlinewidth": 0,
              "ticks": ""
             }
            },
            "type": "scattermapbox"
           }
          ],
          "scatterpolar": [
           {
            "marker": {
             "colorbar": {
              "outlinewidth": 0,
              "ticks": ""
             }
            },
            "type": "scatterpolar"
           }
          ],
          "scatterpolargl": [
           {
            "marker": {
             "colorbar": {
              "outlinewidth": 0,
              "ticks": ""
             }
            },
            "type": "scatterpolargl"
           }
          ],
          "scatterternary": [
           {
            "marker": {
             "colorbar": {
              "outlinewidth": 0,
              "ticks": ""
             }
            },
            "type": "scatterternary"
           }
          ],
          "surface": [
           {
            "colorbar": {
             "outlinewidth": 0,
             "ticks": ""
            },
            "colorscale": [
             [
              0,
              "#0d0887"
             ],
             [
              0.1111111111111111,
              "#46039f"
             ],
             [
              0.2222222222222222,
              "#7201a8"
             ],
             [
              0.3333333333333333,
              "#9c179e"
             ],
             [
              0.4444444444444444,
              "#bd3786"
             ],
             [
              0.5555555555555556,
              "#d8576b"
             ],
             [
              0.6666666666666666,
              "#ed7953"
             ],
             [
              0.7777777777777778,
              "#fb9f3a"
             ],
             [
              0.8888888888888888,
              "#fdca26"
             ],
             [
              1,
              "#f0f921"
             ]
            ],
            "type": "surface"
           }
          ],
          "table": [
           {
            "cells": {
             "fill": {
              "color": "#EBF0F8"
             },
             "line": {
              "color": "white"
             }
            },
            "header": {
             "fill": {
              "color": "#C8D4E3"
             },
             "line": {
              "color": "white"
             }
            },
            "type": "table"
           }
          ]
         },
         "layout": {
          "annotationdefaults": {
           "arrowcolor": "#2a3f5f",
           "arrowhead": 0,
           "arrowwidth": 1
          },
          "coloraxis": {
           "colorbar": {
            "outlinewidth": 0,
            "ticks": ""
           }
          },
          "colorscale": {
           "diverging": [
            [
             0,
             "#8e0152"
            ],
            [
             0.1,
             "#c51b7d"
            ],
            [
             0.2,
             "#de77ae"
            ],
            [
             0.3,
             "#f1b6da"
            ],
            [
             0.4,
             "#fde0ef"
            ],
            [
             0.5,
             "#f7f7f7"
            ],
            [
             0.6,
             "#e6f5d0"
            ],
            [
             0.7,
             "#b8e186"
            ],
            [
             0.8,
             "#7fbc41"
            ],
            [
             0.9,
             "#4d9221"
            ],
            [
             1,
             "#276419"
            ]
           ],
           "sequential": [
            [
             0,
             "#0d0887"
            ],
            [
             0.1111111111111111,
             "#46039f"
            ],
            [
             0.2222222222222222,
             "#7201a8"
            ],
            [
             0.3333333333333333,
             "#9c179e"
            ],
            [
             0.4444444444444444,
             "#bd3786"
            ],
            [
             0.5555555555555556,
             "#d8576b"
            ],
            [
             0.6666666666666666,
             "#ed7953"
            ],
            [
             0.7777777777777778,
             "#fb9f3a"
            ],
            [
             0.8888888888888888,
             "#fdca26"
            ],
            [
             1,
             "#f0f921"
            ]
           ],
           "sequentialminus": [
            [
             0,
             "#0d0887"
            ],
            [
             0.1111111111111111,
             "#46039f"
            ],
            [
             0.2222222222222222,
             "#7201a8"
            ],
            [
             0.3333333333333333,
             "#9c179e"
            ],
            [
             0.4444444444444444,
             "#bd3786"
            ],
            [
             0.5555555555555556,
             "#d8576b"
            ],
            [
             0.6666666666666666,
             "#ed7953"
            ],
            [
             0.7777777777777778,
             "#fb9f3a"
            ],
            [
             0.8888888888888888,
             "#fdca26"
            ],
            [
             1,
             "#f0f921"
            ]
           ]
          },
          "colorway": [
           "#636efa",
           "#EF553B",
           "#00cc96",
           "#ab63fa",
           "#FFA15A",
           "#19d3f3",
           "#FF6692",
           "#B6E880",
           "#FF97FF",
           "#FECB52"
          ],
          "font": {
           "color": "#2a3f5f"
          },
          "geo": {
           "bgcolor": "white",
           "lakecolor": "white",
           "landcolor": "#E5ECF6",
           "showlakes": true,
           "showland": true,
           "subunitcolor": "white"
          },
          "hoverlabel": {
           "align": "left"
          },
          "hovermode": "closest",
          "mapbox": {
           "style": "light"
          },
          "paper_bgcolor": "white",
          "plot_bgcolor": "#E5ECF6",
          "polar": {
           "angularaxis": {
            "gridcolor": "white",
            "linecolor": "white",
            "ticks": ""
           },
           "bgcolor": "#E5ECF6",
           "radialaxis": {
            "gridcolor": "white",
            "linecolor": "white",
            "ticks": ""
           }
          },
          "scene": {
           "xaxis": {
            "backgroundcolor": "#E5ECF6",
            "gridcolor": "white",
            "gridwidth": 2,
            "linecolor": "white",
            "showbackground": true,
            "ticks": "",
            "zerolinecolor": "white"
           },
           "yaxis": {
            "backgroundcolor": "#E5ECF6",
            "gridcolor": "white",
            "gridwidth": 2,
            "linecolor": "white",
            "showbackground": true,
            "ticks": "",
            "zerolinecolor": "white"
           },
           "zaxis": {
            "backgroundcolor": "#E5ECF6",
            "gridcolor": "white",
            "gridwidth": 2,
            "linecolor": "white",
            "showbackground": true,
            "ticks": "",
            "zerolinecolor": "white"
           }
          },
          "shapedefaults": {
           "line": {
            "color": "#2a3f5f"
           }
          },
          "ternary": {
           "aaxis": {
            "gridcolor": "white",
            "linecolor": "white",
            "ticks": ""
           },
           "baxis": {
            "gridcolor": "white",
            "linecolor": "white",
            "ticks": ""
           },
           "bgcolor": "#E5ECF6",
           "caxis": {
            "gridcolor": "white",
            "linecolor": "white",
            "ticks": ""
           }
          },
          "title": {
           "x": 0.05
          },
          "xaxis": {
           "automargin": true,
           "gridcolor": "white",
           "linecolor": "white",
           "ticks": "",
           "title": {
            "standoff": 15
           },
           "zerolinecolor": "white",
           "zerolinewidth": 2
          },
          "yaxis": {
           "automargin": true,
           "gridcolor": "white",
           "linecolor": "white",
           "ticks": "",
           "title": {
            "standoff": 15
           },
           "zerolinecolor": "white",
           "zerolinewidth": 2
          }
         }
        },
        "title": {
         "font": {
          "color": "#4D5663"
         }
        },
        "xaxis": {
         "gridcolor": "#E1E5ED",
         "showgrid": true,
         "tickfont": {
          "color": "#4D5663"
         },
         "title": {
          "font": {
           "color": "#4D5663"
          },
          "text": ""
         },
         "zerolinecolor": "#E1E5ED"
        },
        "yaxis": {
         "gridcolor": "#E1E5ED",
         "showgrid": true,
         "tickfont": {
          "color": "#4D5663"
         },
         "title": {
          "font": {
           "color": "#4D5663"
          },
          "text": ""
         },
         "zerolinecolor": "#E1E5ED"
        }
       }
      },
      "text/html": [
       "<div>\n",
       "        \n",
       "        \n",
       "            <div id=\"72543fce-2c6d-4fc1-bc58-c5b1b6323557\" class=\"plotly-graph-div\" style=\"height:525px; width:100%;\"></div>\n",
       "            <script type=\"text/javascript\">\n",
       "                require([\"plotly\"], function(Plotly) {\n",
       "                    window.PLOTLYENV=window.PLOTLYENV || {};\n",
       "                    window.PLOTLYENV.BASE_URL='https://plot.ly';\n",
       "                    \n",
       "                if (document.getElementById(\"72543fce-2c6d-4fc1-bc58-c5b1b6323557\")) {\n",
       "                    Plotly.newPlot(\n",
       "                        '72543fce-2c6d-4fc1-bc58-c5b1b6323557',\n",
       "                        [{\"marker\": {\"color\": \"rgba(255, 153, 51, 0.6)\", \"line\": {\"color\": \"rgba(255, 153, 51, 1.0)\", \"width\": 1}}, \"name\": \"None\", \"orientation\": \"v\", \"text\": \"\", \"type\": \"bar\", \"x\": [\"A\", \"B\", \"C\", \"D\"], \"y\": [100, 100, 100, 100]}],\n",
       "                        {\"legend\": {\"bgcolor\": \"#F5F6F9\", \"font\": {\"color\": \"#4D5663\"}}, \"paper_bgcolor\": \"#F5F6F9\", \"plot_bgcolor\": \"#F5F6F9\", \"template\": {\"data\": {\"bar\": [{\"error_x\": {\"color\": \"#2a3f5f\"}, \"error_y\": {\"color\": \"#2a3f5f\"}, \"marker\": {\"line\": {\"color\": \"#E5ECF6\", \"width\": 0.5}}, \"type\": \"bar\"}], \"barpolar\": [{\"marker\": {\"line\": {\"color\": \"#E5ECF6\", \"width\": 0.5}}, \"type\": \"barpolar\"}], \"carpet\": [{\"aaxis\": {\"endlinecolor\": \"#2a3f5f\", \"gridcolor\": \"white\", \"linecolor\": \"white\", \"minorgridcolor\": \"white\", \"startlinecolor\": \"#2a3f5f\"}, \"baxis\": {\"endlinecolor\": \"#2a3f5f\", \"gridcolor\": \"white\", \"linecolor\": \"white\", \"minorgridcolor\": \"white\", \"startlinecolor\": \"#2a3f5f\"}, \"type\": \"carpet\"}], \"choropleth\": [{\"colorbar\": {\"outlinewidth\": 0, \"ticks\": \"\"}, \"type\": \"choropleth\"}], \"contour\": [{\"colorbar\": {\"outlinewidth\": 0, \"ticks\": \"\"}, \"colorscale\": [[0.0, \"#0d0887\"], [0.1111111111111111, \"#46039f\"], [0.2222222222222222, \"#7201a8\"], [0.3333333333333333, \"#9c179e\"], [0.4444444444444444, \"#bd3786\"], [0.5555555555555556, \"#d8576b\"], [0.6666666666666666, \"#ed7953\"], [0.7777777777777778, \"#fb9f3a\"], [0.8888888888888888, \"#fdca26\"], [1.0, \"#f0f921\"]], \"type\": \"contour\"}], \"contourcarpet\": [{\"colorbar\": {\"outlinewidth\": 0, \"ticks\": \"\"}, \"type\": \"contourcarpet\"}], \"heatmap\": [{\"colorbar\": {\"outlinewidth\": 0, \"ticks\": \"\"}, \"colorscale\": [[0.0, \"#0d0887\"], [0.1111111111111111, \"#46039f\"], [0.2222222222222222, \"#7201a8\"], [0.3333333333333333, \"#9c179e\"], [0.4444444444444444, \"#bd3786\"], [0.5555555555555556, \"#d8576b\"], [0.6666666666666666, \"#ed7953\"], [0.7777777777777778, \"#fb9f3a\"], [0.8888888888888888, \"#fdca26\"], [1.0, \"#f0f921\"]], \"type\": \"heatmap\"}], \"heatmapgl\": [{\"colorbar\": {\"outlinewidth\": 0, \"ticks\": \"\"}, \"colorscale\": [[0.0, \"#0d0887\"], [0.1111111111111111, \"#46039f\"], [0.2222222222222222, \"#7201a8\"], [0.3333333333333333, \"#9c179e\"], [0.4444444444444444, \"#bd3786\"], [0.5555555555555556, \"#d8576b\"], [0.6666666666666666, \"#ed7953\"], [0.7777777777777778, \"#fb9f3a\"], [0.8888888888888888, \"#fdca26\"], [1.0, \"#f0f921\"]], \"type\": \"heatmapgl\"}], \"histogram\": [{\"marker\": {\"colorbar\": {\"outlinewidth\": 0, \"ticks\": \"\"}}, \"type\": \"histogram\"}], \"histogram2d\": [{\"colorbar\": {\"outlinewidth\": 0, \"ticks\": \"\"}, \"colorscale\": [[0.0, \"#0d0887\"], [0.1111111111111111, \"#46039f\"], [0.2222222222222222, \"#7201a8\"], [0.3333333333333333, \"#9c179e\"], [0.4444444444444444, \"#bd3786\"], [0.5555555555555556, \"#d8576b\"], [0.6666666666666666, \"#ed7953\"], [0.7777777777777778, \"#fb9f3a\"], [0.8888888888888888, \"#fdca26\"], [1.0, \"#f0f921\"]], \"type\": \"histogram2d\"}], \"histogram2dcontour\": [{\"colorbar\": {\"outlinewidth\": 0, \"ticks\": \"\"}, \"colorscale\": [[0.0, \"#0d0887\"], [0.1111111111111111, \"#46039f\"], [0.2222222222222222, \"#7201a8\"], [0.3333333333333333, \"#9c179e\"], [0.4444444444444444, \"#bd3786\"], [0.5555555555555556, \"#d8576b\"], [0.6666666666666666, \"#ed7953\"], [0.7777777777777778, \"#fb9f3a\"], [0.8888888888888888, \"#fdca26\"], [1.0, \"#f0f921\"]], \"type\": \"histogram2dcontour\"}], \"mesh3d\": [{\"colorbar\": {\"outlinewidth\": 0, \"ticks\": \"\"}, \"type\": \"mesh3d\"}], \"parcoords\": [{\"line\": {\"colorbar\": {\"outlinewidth\": 0, \"ticks\": \"\"}}, \"type\": \"parcoords\"}], \"pie\": [{\"automargin\": true, \"type\": \"pie\"}], \"scatter\": [{\"marker\": {\"colorbar\": {\"outlinewidth\": 0, \"ticks\": \"\"}}, \"type\": \"scatter\"}], \"scatter3d\": [{\"line\": {\"colorbar\": {\"outlinewidth\": 0, \"ticks\": \"\"}}, \"marker\": {\"colorbar\": {\"outlinewidth\": 0, \"ticks\": \"\"}}, \"type\": \"scatter3d\"}], \"scattercarpet\": [{\"marker\": {\"colorbar\": {\"outlinewidth\": 0, \"ticks\": \"\"}}, \"type\": \"scattercarpet\"}], \"scattergeo\": [{\"marker\": {\"colorbar\": {\"outlinewidth\": 0, \"ticks\": \"\"}}, \"type\": \"scattergeo\"}], \"scattergl\": [{\"marker\": {\"colorbar\": {\"outlinewidth\": 0, \"ticks\": \"\"}}, \"type\": \"scattergl\"}], \"scattermapbox\": [{\"marker\": {\"colorbar\": {\"outlinewidth\": 0, \"ticks\": \"\"}}, \"type\": \"scattermapbox\"}], \"scatterpolar\": [{\"marker\": {\"colorbar\": {\"outlinewidth\": 0, \"ticks\": \"\"}}, \"type\": \"scatterpolar\"}], \"scatterpolargl\": [{\"marker\": {\"colorbar\": {\"outlinewidth\": 0, \"ticks\": \"\"}}, \"type\": \"scatterpolargl\"}], \"scatterternary\": [{\"marker\": {\"colorbar\": {\"outlinewidth\": 0, \"ticks\": \"\"}}, \"type\": \"scatterternary\"}], \"surface\": [{\"colorbar\": {\"outlinewidth\": 0, \"ticks\": \"\"}, \"colorscale\": [[0.0, \"#0d0887\"], [0.1111111111111111, \"#46039f\"], [0.2222222222222222, \"#7201a8\"], [0.3333333333333333, \"#9c179e\"], [0.4444444444444444, \"#bd3786\"], [0.5555555555555556, \"#d8576b\"], [0.6666666666666666, \"#ed7953\"], [0.7777777777777778, \"#fb9f3a\"], [0.8888888888888888, \"#fdca26\"], [1.0, \"#f0f921\"]], \"type\": \"surface\"}], \"table\": [{\"cells\": {\"fill\": {\"color\": \"#EBF0F8\"}, \"line\": {\"color\": \"white\"}}, \"header\": {\"fill\": {\"color\": \"#C8D4E3\"}, \"line\": {\"color\": \"white\"}}, \"type\": \"table\"}]}, \"layout\": {\"annotationdefaults\": {\"arrowcolor\": \"#2a3f5f\", \"arrowhead\": 0, \"arrowwidth\": 1}, \"coloraxis\": {\"colorbar\": {\"outlinewidth\": 0, \"ticks\": \"\"}}, \"colorscale\": {\"diverging\": [[0, \"#8e0152\"], [0.1, \"#c51b7d\"], [0.2, \"#de77ae\"], [0.3, \"#f1b6da\"], [0.4, \"#fde0ef\"], [0.5, \"#f7f7f7\"], [0.6, \"#e6f5d0\"], [0.7, \"#b8e186\"], [0.8, \"#7fbc41\"], [0.9, \"#4d9221\"], [1, \"#276419\"]], \"sequential\": [[0.0, \"#0d0887\"], [0.1111111111111111, \"#46039f\"], [0.2222222222222222, \"#7201a8\"], [0.3333333333333333, \"#9c179e\"], [0.4444444444444444, \"#bd3786\"], [0.5555555555555556, \"#d8576b\"], [0.6666666666666666, \"#ed7953\"], [0.7777777777777778, \"#fb9f3a\"], [0.8888888888888888, \"#fdca26\"], [1.0, \"#f0f921\"]], \"sequentialminus\": [[0.0, \"#0d0887\"], [0.1111111111111111, \"#46039f\"], [0.2222222222222222, \"#7201a8\"], [0.3333333333333333, \"#9c179e\"], [0.4444444444444444, \"#bd3786\"], [0.5555555555555556, \"#d8576b\"], [0.6666666666666666, \"#ed7953\"], [0.7777777777777778, \"#fb9f3a\"], [0.8888888888888888, \"#fdca26\"], [1.0, \"#f0f921\"]]}, \"colorway\": [\"#636efa\", \"#EF553B\", \"#00cc96\", \"#ab63fa\", \"#FFA15A\", \"#19d3f3\", \"#FF6692\", \"#B6E880\", \"#FF97FF\", \"#FECB52\"], \"font\": {\"color\": \"#2a3f5f\"}, \"geo\": {\"bgcolor\": \"white\", \"lakecolor\": \"white\", \"landcolor\": \"#E5ECF6\", \"showlakes\": true, \"showland\": true, \"subunitcolor\": \"white\"}, \"hoverlabel\": {\"align\": \"left\"}, \"hovermode\": \"closest\", \"mapbox\": {\"style\": \"light\"}, \"paper_bgcolor\": \"white\", \"plot_bgcolor\": \"#E5ECF6\", \"polar\": {\"angularaxis\": {\"gridcolor\": \"white\", \"linecolor\": \"white\", \"ticks\": \"\"}, \"bgcolor\": \"#E5ECF6\", \"radialaxis\": {\"gridcolor\": \"white\", \"linecolor\": \"white\", \"ticks\": \"\"}}, \"scene\": {\"xaxis\": {\"backgroundcolor\": \"#E5ECF6\", \"gridcolor\": \"white\", \"gridwidth\": 2, \"linecolor\": \"white\", \"showbackground\": true, \"ticks\": \"\", \"zerolinecolor\": \"white\"}, \"yaxis\": {\"backgroundcolor\": \"#E5ECF6\", \"gridcolor\": \"white\", \"gridwidth\": 2, \"linecolor\": \"white\", \"showbackground\": true, \"ticks\": \"\", \"zerolinecolor\": \"white\"}, \"zaxis\": {\"backgroundcolor\": \"#E5ECF6\", \"gridcolor\": \"white\", \"gridwidth\": 2, \"linecolor\": \"white\", \"showbackground\": true, \"ticks\": \"\", \"zerolinecolor\": \"white\"}}, \"shapedefaults\": {\"line\": {\"color\": \"#2a3f5f\"}}, \"ternary\": {\"aaxis\": {\"gridcolor\": \"white\", \"linecolor\": \"white\", \"ticks\": \"\"}, \"baxis\": {\"gridcolor\": \"white\", \"linecolor\": \"white\", \"ticks\": \"\"}, \"bgcolor\": \"#E5ECF6\", \"caxis\": {\"gridcolor\": \"white\", \"linecolor\": \"white\", \"ticks\": \"\"}}, \"title\": {\"x\": 0.05}, \"xaxis\": {\"automargin\": true, \"gridcolor\": \"white\", \"linecolor\": \"white\", \"ticks\": \"\", \"title\": {\"standoff\": 15}, \"zerolinecolor\": \"white\", \"zerolinewidth\": 2}, \"yaxis\": {\"automargin\": true, \"gridcolor\": \"white\", \"linecolor\": \"white\", \"ticks\": \"\", \"title\": {\"standoff\": 15}, \"zerolinecolor\": \"white\", \"zerolinewidth\": 2}}}, \"title\": {\"font\": {\"color\": \"#4D5663\"}}, \"xaxis\": {\"gridcolor\": \"#E1E5ED\", \"showgrid\": true, \"tickfont\": {\"color\": \"#4D5663\"}, \"title\": {\"font\": {\"color\": \"#4D5663\"}, \"text\": \"\"}, \"zerolinecolor\": \"#E1E5ED\"}, \"yaxis\": {\"gridcolor\": \"#E1E5ED\", \"showgrid\": true, \"tickfont\": {\"color\": \"#4D5663\"}, \"title\": {\"font\": {\"color\": \"#4D5663\"}, \"text\": \"\"}, \"zerolinecolor\": \"#E1E5ED\"}},\n",
       "                        {\"showLink\": true, \"linkText\": \"Export to plot.ly\", \"plotlyServerURL\": \"https://plot.ly\", \"responsive\": true}\n",
       "                    ).then(function(){\n",
       "                            \n",
       "var gd = document.getElementById('72543fce-2c6d-4fc1-bc58-c5b1b6323557');\n",
       "var x = new MutationObserver(function (mutations, observer) {{\n",
       "        var display = window.getComputedStyle(gd).display;\n",
       "        if (!display || display === 'none') {{\n",
       "            console.log([gd, 'removed!']);\n",
       "            Plotly.purge(gd);\n",
       "            observer.disconnect();\n",
       "        }}\n",
       "}});\n",
       "\n",
       "// Listen for the removal of the full notebook cells\n",
       "var notebookContainer = gd.closest('#notebook-container');\n",
       "if (notebookContainer) {{\n",
       "    x.observe(notebookContainer, {childList: true});\n",
       "}}\n",
       "\n",
       "// Listen for the clearing of the current output cell\n",
       "var outputEl = gd.closest('.output');\n",
       "if (outputEl) {{\n",
       "    x.observe(outputEl, {childList: true});\n",
       "}}\n",
       "\n",
       "                        })\n",
       "                };\n",
       "                });\n",
       "            </script>\n",
       "        </div>"
      ]
     },
     "metadata": {},
     "output_type": "display_data"
    }
   ],
   "source": [
    "df.count().iplot(kind='bar')"
   ]
  },
  {
   "cell_type": "markdown",
   "metadata": {},
   "source": [
    "## Boxplots"
   ]
  },
  {
   "cell_type": "code",
   "execution_count": 18,
   "metadata": {},
   "outputs": [
    {
     "data": {
      "application/vnd.plotly.v1+json": {
       "config": {
        "linkText": "Export to plot.ly",
        "plotlyServerURL": "https://plot.ly",
        "showLink": true
       },
       "data": [
        {
         "boxpoints": false,
         "line": {
          "width": 1.3
         },
         "marker": {
          "color": "rgba(255, 153, 51, 1.0)"
         },
         "name": "A",
         "orientation": "v",
         "type": "box",
         "y": [
          0.06551037256099825,
          0.7787662777673576,
          1.2109220168503216,
          -0.164118398405124,
          -0.06953194857806134,
          1.066202048538722,
          -1.3290047735764563,
          -0.5661954082926168,
          -1.4795446786374782,
          0.5850867537280864,
          -1.6214043663476296,
          0.2281022915104834,
          -0.03266104341812228,
          -0.31529542239941,
          -0.8185165343462465,
          -0.9468500346127864,
          -0.5094364956867495,
          1.753022121579112,
          3.9780300131120603,
          -0.4147544481721648,
          -0.14963872632764225,
          1.3903039535346131,
          0.11798699784306298,
          -1.198799937094399,
          1.4131626285760492,
          0.623506501038244,
          0.8643831632654269,
          0.6752773092042728,
          -0.0711263241446468,
          0.18404130682510414,
          1.5405933704770725,
          -0.5126085695574668,
          -0.3885648449076173,
          -1.5388448445655147,
          -0.5000145318421976,
          1.0835766953611417,
          0.2237897443521966,
          1.1218991400304938,
          1.184719984221023,
          -0.6023434282954342,
          1.090344849883388,
          -0.3436379889241205,
          -0.5690894547955576,
          -1.6012940470392885,
          -3.3510027943928313,
          -0.8458239564084824,
          -1.4228331193628854,
          1.6847961973387284,
          0.8735325541867743,
          0.6969975174415938,
          -0.8003467642792428,
          -0.4400351866092966,
          0.12759747604828178,
          -0.6078004191603125,
          -0.45683564594752585,
          -1.0761795529594465,
          0.767820190317033,
          0.9036510765352602,
          2.3195076034254534,
          -0.7471444461857918,
          0.6229681285213532,
          -0.8448670190512532,
          1.1112053758052522,
          -0.37932375500455245,
          -2.7014109958197228,
          -1.2776112906769244,
          2.595391503109247,
          0.22384493791324778,
          0.9970759541901827,
          -0.7010617297315688,
          -0.47870937464473223,
          0.3347971428350504,
          1.0993453924680892,
          0.3240433573069802,
          -0.7252634214456634,
          0.22527502463488902,
          1.3781138065202578,
          -1.3504042254670332,
          -4.053651302513549,
          0.7216865598008689,
          -0.5003323289743481,
          0.5149434179673201,
          -0.4722870549872342,
          1.8179752612025275,
          0.9338008400773208,
          -0.6151732196400808,
          -1.5959820784883318,
          -0.8606323394451001,
          1.2019904263305907,
          -0.9188842057477389,
          0.633467463091969,
          0.36150603037861967,
          0.5176495875526188,
          -0.8151420430366462,
          1.1187007850174295,
          -2.621576836525829,
          -1.0653546708932358,
          -0.6714537483763512,
          -0.17538467944985758,
          -0.16881902219472808
         ]
        },
        {
         "boxpoints": false,
         "line": {
          "width": 1.3
         },
         "marker": {
          "color": "rgba(55, 128, 191, 1.0)"
         },
         "name": "B",
         "orientation": "v",
         "type": "box",
         "y": [
          -1.0925650641931546,
          -1.1063010870224814,
          -0.32805306632209535,
          -1.8015176878336885,
          -0.1735327532380383,
          -0.08774588068587334,
          0.18757699718867998,
          0.6728859311887663,
          -0.7063785591459333,
          -1.5601290810082729,
          0.058848714728627294,
          0.40753255207102396,
          -0.24185126842710786,
          -0.1589405707360404,
          -3.6419230654539163,
          -1.278856426455618,
          -0.12506104010367203,
          -0.6999988206992263,
          -0.8975679054874393,
          -0.6776071391269884,
          -0.4627648216478146,
          2.626517695743942,
          -0.91040991382991,
          -2.88721680880961,
          -0.4151155407559168,
          -0.23674583789893922,
          1.298472563980927,
          2.9691566852896694,
          0.2512798077666682,
          -0.060894981563443196,
          -0.4861008577562129,
          -0.5640569278924469,
          2.032606097220788,
          -1.8478501295804048,
          1.080680795367581,
          -0.18081697204116465,
          0.5343053846985427,
          1.8328987073087728,
          0.8825543638387845,
          0.00758723758367448,
          -1.812680010503773,
          -0.3894181938587775,
          -0.9156059830862028,
          2.0765759332108775,
          -0.9845877565924966,
          -0.11513168690523837,
          0.01975359983273998,
          1.5525461151094744,
          2.174439604808439,
          -1.3259988649521035,
          -0.9175421334719854,
          0.7832487273727792,
          0.718982414490362,
          -0.5559288782298727,
          -0.2637041754949957,
          -0.5085266837885446,
          0.5267515240175117,
          -1.5125519857794338,
          0.5912124711191508,
          0.9485835777097431,
          0.5060014073562296,
          -1.383374247408542,
          -0.5827753650039929,
          -0.42029786340586767,
          2.396767848055817,
          -1.321557164877903,
          -0.26939673156797905,
          0.21659628952068838,
          -1.7147787346861005,
          -2.403180951945503,
          -0.2176716191001402,
          -0.30067465967466783,
          0.7020810081753037,
          0.07107137979934369,
          1.679478935083888,
          0.25046020425850907,
          0.494810949520932,
          -0.3815902451811281,
          -0.32054753212638537,
          1.5112283430196483,
          -0.3565509952124511,
          -0.34060527990923545,
          -0.6522886642783906,
          -2.1006446882605343,
          0.34337080965320393,
          -0.6344058007008451,
          -0.5614985283201149,
          1.3246267897107706,
          1.0700683834779376,
          -1.5535964408637803,
          -0.8501136729413292,
          -1.0023413559710757,
          0.5988948939086691,
          1.23651459677043,
          -1.4467738926798768,
          0.8923285883848271,
          1.4467820432217038,
          -0.775252461367255,
          0.7622501319698802,
          0.2657847128074883
         ]
        },
        {
         "boxpoints": false,
         "line": {
          "width": 1.3
         },
         "marker": {
          "color": "rgba(50, 171, 96, 1.0)"
         },
         "name": "C",
         "orientation": "v",
         "type": "box",
         "y": [
          1.3122730315042694,
          -0.17935310503596935,
          0.3614508310022408,
          -0.5211010566005132,
          -0.8819759423318262,
          -0.9169504758415993,
          -0.2519988810723046,
          -1.113232685157474,
          -0.8270000589718352,
          -0.3608443919675396,
          -1.790994145293478,
          1.229497011878506,
          0.5244266047548111,
          0.30950717721757914,
          0.9913249349727666,
          0.4225385930312028,
          -0.43809663960515643,
          -0.1956072394634809,
          -0.8966224923606408,
          -0.6858989240202681,
          -1.2354283168914784,
          -0.38518005789115267,
          0.14125669984744982,
          0.009628427734064584,
          -0.8343609704758841,
          -0.6254362696500314,
          -0.19009857737161248,
          0.8024851239601978,
          0.21849566906323878,
          -0.31996929320816375,
          -1.6628372802901763,
          -1.8210520255850096,
          0.5304296301262494,
          0.421752245075303,
          -0.7812834649471643,
          -0.6755859487986324,
          1.1318065517425326,
          -1.7096919590322925,
          -1.521312451975673,
          1.8275392617169104,
          2.193604590576897,
          1.82924388395378,
          1.695135498883619,
          -0.9372289917902713,
          -0.7517034331328517,
          -0.9405836457996472,
          0.18363540881443705,
          -1.6888791771823555,
          0.3528760574723848,
          -1.8846003666593836,
          0.529161502175242,
          -0.864694295346101,
          0.7572177454734456,
          -1.1500641264623734,
          1.0255018011884054,
          1.1379456189412875,
          -0.2766376966356368,
          -0.33190440864984677,
          0.02938692391757872,
          0.1441841232633436,
          -0.07471296527887963,
          0.0686761948664308,
          -1.9977069652099664,
          -0.42700103340562834,
          -0.8318821594923187,
          -0.5596727597099382,
          0.18346133391049288,
          1.3506828478186077,
          1.0634309532966568,
          1.4769664064849617,
          -0.2209001285055589,
          -0.4851538300535789,
          0.36521711207331015,
          -0.6613614274066665,
          -0.9400974411180243,
          -0.740899364556757,
          -0.31932440099134807,
          -0.9227376804572993,
          0.7875927248187125,
          0.3971733396415079,
          0.15724577048337082,
          0.43583308621840827,
          0.3452179544153144,
          -0.33060123213417814,
          0.7012511634326455,
          0.1359150271139867,
          0.4983761403689988,
          -0.38699779591073197,
          -1.1321822914573374,
          0.381220997039987,
          -0.9833009504151865,
          -0.24217166231535547,
          -0.9712623950130381,
          -1.4829071262232862,
          0.139431489054704,
          1.3536578112352777,
          -0.21621273025259535,
          0.8087520815265892,
          -1.7607551901134975,
          1.3631956292994885
         ]
        },
        {
         "boxpoints": false,
         "line": {
          "width": 1.3
         },
         "marker": {
          "color": "rgba(128, 0, 128, 1.0)"
         },
         "name": "D",
         "orientation": "v",
         "type": "box",
         "y": [
          -0.8569913877419736,
          0.20043397000527866,
          -1.7412927929767723,
          -1.1873738385667572,
          0.46117217569580754,
          1.1679591932700821,
          -1.015095279622547,
          0.8415819887073378,
          1.8328489355568114,
          -1.104945360777617,
          -1.248936723865419,
          0.15666057431555322,
          -0.5904385624918248,
          -0.9741245968558371,
          1.4937687052599453,
          0.5850246918816916,
          0.3381049331672944,
          -0.7483890168855368,
          -0.6762787813690532,
          0.06528333399450395,
          0.9216224411628501,
          0.11602165284467134,
          -0.7214772261918884,
          1.9436830686844957,
          -0.7495054162160697,
          -1.3957935493271236,
          1.1666689847591565,
          0.2988607249559056,
          0.23499382582333145,
          -0.4378172935292165,
          -1.1089672494422926,
          1.0480857443658964,
          -0.30464427262809096,
          1.7666252648127816,
          0.20135243885349585,
          -0.7240290010663003,
          0.6358849419050292,
          1.3372054219807012,
          -0.8479329819031785,
          0.33605362411663764,
          0.3091409003988394,
          -0.0042238283781839804,
          -2.1931150426342527,
          0.5351624320455792,
          0.18301691618515195,
          -2.244228422091324,
          -0.23571721821529978,
          0.59210695506618,
          -0.6343701671428039,
          1.7532165598333844,
          -1.360046170333257,
          -1.9703802968958088,
          0.3320761840458883,
          0.1904961384424451,
          -0.10330778595218273,
          0.49372568454540483,
          0.7957150006751236,
          0.6325305840422442,
          -1.5830067557580374,
          -0.4539225055348257,
          0.8495483797125362,
          -0.04250043951784153,
          0.7516988836459388,
          0.8944697069148903,
          -0.035277287468309895,
          0.7428012424634501,
          -1.152202352081379,
          -0.5684949141988689,
          2.060839920383102,
          -0.8910336062432065,
          -0.6111340224125054,
          1.1493890573734444,
          -0.6977468209185262,
          2.00048191418851,
          0.6790909416761713,
          -1.3289974226191574,
          0.9665612627913074,
          -1.1892316319921394,
          -0.07661048278707877,
          0.6816736136192816,
          1.5478480340620588,
          0.9991048480787013,
          0.5176894312965323,
          -1.8318832829407212,
          0.9449493500331181,
          0.47162380853355784,
          0.2551712160181531,
          1.033963974273001,
          1.008388020937463,
          -1.3550558210131782,
          -1.3553648061099495,
          0.3419840046463667,
          -0.6799359282514028,
          0.472852846116455,
          -0.07007777844980682,
          0.7928144634980903,
          0.582896728216384,
          2.6702690689972575,
          -0.32707324297297424,
          -0.5341181551241768
         ]
        }
       ],
       "layout": {
        "legend": {
         "bgcolor": "#F5F6F9",
         "font": {
          "color": "#4D5663"
         }
        },
        "paper_bgcolor": "#F5F6F9",
        "plot_bgcolor": "#F5F6F9",
        "template": {
         "data": {
          "bar": [
           {
            "error_x": {
             "color": "#2a3f5f"
            },
            "error_y": {
             "color": "#2a3f5f"
            },
            "marker": {
             "line": {
              "color": "#E5ECF6",
              "width": 0.5
             }
            },
            "type": "bar"
           }
          ],
          "barpolar": [
           {
            "marker": {
             "line": {
              "color": "#E5ECF6",
              "width": 0.5
             }
            },
            "type": "barpolar"
           }
          ],
          "carpet": [
           {
            "aaxis": {
             "endlinecolor": "#2a3f5f",
             "gridcolor": "white",
             "linecolor": "white",
             "minorgridcolor": "white",
             "startlinecolor": "#2a3f5f"
            },
            "baxis": {
             "endlinecolor": "#2a3f5f",
             "gridcolor": "white",
             "linecolor": "white",
             "minorgridcolor": "white",
             "startlinecolor": "#2a3f5f"
            },
            "type": "carpet"
           }
          ],
          "choropleth": [
           {
            "colorbar": {
             "outlinewidth": 0,
             "ticks": ""
            },
            "type": "choropleth"
           }
          ],
          "contour": [
           {
            "colorbar": {
             "outlinewidth": 0,
             "ticks": ""
            },
            "colorscale": [
             [
              0,
              "#0d0887"
             ],
             [
              0.1111111111111111,
              "#46039f"
             ],
             [
              0.2222222222222222,
              "#7201a8"
             ],
             [
              0.3333333333333333,
              "#9c179e"
             ],
             [
              0.4444444444444444,
              "#bd3786"
             ],
             [
              0.5555555555555556,
              "#d8576b"
             ],
             [
              0.6666666666666666,
              "#ed7953"
             ],
             [
              0.7777777777777778,
              "#fb9f3a"
             ],
             [
              0.8888888888888888,
              "#fdca26"
             ],
             [
              1,
              "#f0f921"
             ]
            ],
            "type": "contour"
           }
          ],
          "contourcarpet": [
           {
            "colorbar": {
             "outlinewidth": 0,
             "ticks": ""
            },
            "type": "contourcarpet"
           }
          ],
          "heatmap": [
           {
            "colorbar": {
             "outlinewidth": 0,
             "ticks": ""
            },
            "colorscale": [
             [
              0,
              "#0d0887"
             ],
             [
              0.1111111111111111,
              "#46039f"
             ],
             [
              0.2222222222222222,
              "#7201a8"
             ],
             [
              0.3333333333333333,
              "#9c179e"
             ],
             [
              0.4444444444444444,
              "#bd3786"
             ],
             [
              0.5555555555555556,
              "#d8576b"
             ],
             [
              0.6666666666666666,
              "#ed7953"
             ],
             [
              0.7777777777777778,
              "#fb9f3a"
             ],
             [
              0.8888888888888888,
              "#fdca26"
             ],
             [
              1,
              "#f0f921"
             ]
            ],
            "type": "heatmap"
           }
          ],
          "heatmapgl": [
           {
            "colorbar": {
             "outlinewidth": 0,
             "ticks": ""
            },
            "colorscale": [
             [
              0,
              "#0d0887"
             ],
             [
              0.1111111111111111,
              "#46039f"
             ],
             [
              0.2222222222222222,
              "#7201a8"
             ],
             [
              0.3333333333333333,
              "#9c179e"
             ],
             [
              0.4444444444444444,
              "#bd3786"
             ],
             [
              0.5555555555555556,
              "#d8576b"
             ],
             [
              0.6666666666666666,
              "#ed7953"
             ],
             [
              0.7777777777777778,
              "#fb9f3a"
             ],
             [
              0.8888888888888888,
              "#fdca26"
             ],
             [
              1,
              "#f0f921"
             ]
            ],
            "type": "heatmapgl"
           }
          ],
          "histogram": [
           {
            "marker": {
             "colorbar": {
              "outlinewidth": 0,
              "ticks": ""
             }
            },
            "type": "histogram"
           }
          ],
          "histogram2d": [
           {
            "colorbar": {
             "outlinewidth": 0,
             "ticks": ""
            },
            "colorscale": [
             [
              0,
              "#0d0887"
             ],
             [
              0.1111111111111111,
              "#46039f"
             ],
             [
              0.2222222222222222,
              "#7201a8"
             ],
             [
              0.3333333333333333,
              "#9c179e"
             ],
             [
              0.4444444444444444,
              "#bd3786"
             ],
             [
              0.5555555555555556,
              "#d8576b"
             ],
             [
              0.6666666666666666,
              "#ed7953"
             ],
             [
              0.7777777777777778,
              "#fb9f3a"
             ],
             [
              0.8888888888888888,
              "#fdca26"
             ],
             [
              1,
              "#f0f921"
             ]
            ],
            "type": "histogram2d"
           }
          ],
          "histogram2dcontour": [
           {
            "colorbar": {
             "outlinewidth": 0,
             "ticks": ""
            },
            "colorscale": [
             [
              0,
              "#0d0887"
             ],
             [
              0.1111111111111111,
              "#46039f"
             ],
             [
              0.2222222222222222,
              "#7201a8"
             ],
             [
              0.3333333333333333,
              "#9c179e"
             ],
             [
              0.4444444444444444,
              "#bd3786"
             ],
             [
              0.5555555555555556,
              "#d8576b"
             ],
             [
              0.6666666666666666,
              "#ed7953"
             ],
             [
              0.7777777777777778,
              "#fb9f3a"
             ],
             [
              0.8888888888888888,
              "#fdca26"
             ],
             [
              1,
              "#f0f921"
             ]
            ],
            "type": "histogram2dcontour"
           }
          ],
          "mesh3d": [
           {
            "colorbar": {
             "outlinewidth": 0,
             "ticks": ""
            },
            "type": "mesh3d"
           }
          ],
          "parcoords": [
           {
            "line": {
             "colorbar": {
              "outlinewidth": 0,
              "ticks": ""
             }
            },
            "type": "parcoords"
           }
          ],
          "pie": [
           {
            "automargin": true,
            "type": "pie"
           }
          ],
          "scatter": [
           {
            "marker": {
             "colorbar": {
              "outlinewidth": 0,
              "ticks": ""
             }
            },
            "type": "scatter"
           }
          ],
          "scatter3d": [
           {
            "line": {
             "colorbar": {
              "outlinewidth": 0,
              "ticks": ""
             }
            },
            "marker": {
             "colorbar": {
              "outlinewidth": 0,
              "ticks": ""
             }
            },
            "type": "scatter3d"
           }
          ],
          "scattercarpet": [
           {
            "marker": {
             "colorbar": {
              "outlinewidth": 0,
              "ticks": ""
             }
            },
            "type": "scattercarpet"
           }
          ],
          "scattergeo": [
           {
            "marker": {
             "colorbar": {
              "outlinewidth": 0,
              "ticks": ""
             }
            },
            "type": "scattergeo"
           }
          ],
          "scattergl": [
           {
            "marker": {
             "colorbar": {
              "outlinewidth": 0,
              "ticks": ""
             }
            },
            "type": "scattergl"
           }
          ],
          "scattermapbox": [
           {
            "marker": {
             "colorbar": {
              "outlinewidth": 0,
              "ticks": ""
             }
            },
            "type": "scattermapbox"
           }
          ],
          "scatterpolar": [
           {
            "marker": {
             "colorbar": {
              "outlinewidth": 0,
              "ticks": ""
             }
            },
            "type": "scatterpolar"
           }
          ],
          "scatterpolargl": [
           {
            "marker": {
             "colorbar": {
              "outlinewidth": 0,
              "ticks": ""
             }
            },
            "type": "scatterpolargl"
           }
          ],
          "scatterternary": [
           {
            "marker": {
             "colorbar": {
              "outlinewidth": 0,
              "ticks": ""
             }
            },
            "type": "scatterternary"
           }
          ],
          "surface": [
           {
            "colorbar": {
             "outlinewidth": 0,
             "ticks": ""
            },
            "colorscale": [
             [
              0,
              "#0d0887"
             ],
             [
              0.1111111111111111,
              "#46039f"
             ],
             [
              0.2222222222222222,
              "#7201a8"
             ],
             [
              0.3333333333333333,
              "#9c179e"
             ],
             [
              0.4444444444444444,
              "#bd3786"
             ],
             [
              0.5555555555555556,
              "#d8576b"
             ],
             [
              0.6666666666666666,
              "#ed7953"
             ],
             [
              0.7777777777777778,
              "#fb9f3a"
             ],
             [
              0.8888888888888888,
              "#fdca26"
             ],
             [
              1,
              "#f0f921"
             ]
            ],
            "type": "surface"
           }
          ],
          "table": [
           {
            "cells": {
             "fill": {
              "color": "#EBF0F8"
             },
             "line": {
              "color": "white"
             }
            },
            "header": {
             "fill": {
              "color": "#C8D4E3"
             },
             "line": {
              "color": "white"
             }
            },
            "type": "table"
           }
          ]
         },
         "layout": {
          "annotationdefaults": {
           "arrowcolor": "#2a3f5f",
           "arrowhead": 0,
           "arrowwidth": 1
          },
          "coloraxis": {
           "colorbar": {
            "outlinewidth": 0,
            "ticks": ""
           }
          },
          "colorscale": {
           "diverging": [
            [
             0,
             "#8e0152"
            ],
            [
             0.1,
             "#c51b7d"
            ],
            [
             0.2,
             "#de77ae"
            ],
            [
             0.3,
             "#f1b6da"
            ],
            [
             0.4,
             "#fde0ef"
            ],
            [
             0.5,
             "#f7f7f7"
            ],
            [
             0.6,
             "#e6f5d0"
            ],
            [
             0.7,
             "#b8e186"
            ],
            [
             0.8,
             "#7fbc41"
            ],
            [
             0.9,
             "#4d9221"
            ],
            [
             1,
             "#276419"
            ]
           ],
           "sequential": [
            [
             0,
             "#0d0887"
            ],
            [
             0.1111111111111111,
             "#46039f"
            ],
            [
             0.2222222222222222,
             "#7201a8"
            ],
            [
             0.3333333333333333,
             "#9c179e"
            ],
            [
             0.4444444444444444,
             "#bd3786"
            ],
            [
             0.5555555555555556,
             "#d8576b"
            ],
            [
             0.6666666666666666,
             "#ed7953"
            ],
            [
             0.7777777777777778,
             "#fb9f3a"
            ],
            [
             0.8888888888888888,
             "#fdca26"
            ],
            [
             1,
             "#f0f921"
            ]
           ],
           "sequentialminus": [
            [
             0,
             "#0d0887"
            ],
            [
             0.1111111111111111,
             "#46039f"
            ],
            [
             0.2222222222222222,
             "#7201a8"
            ],
            [
             0.3333333333333333,
             "#9c179e"
            ],
            [
             0.4444444444444444,
             "#bd3786"
            ],
            [
             0.5555555555555556,
             "#d8576b"
            ],
            [
             0.6666666666666666,
             "#ed7953"
            ],
            [
             0.7777777777777778,
             "#fb9f3a"
            ],
            [
             0.8888888888888888,
             "#fdca26"
            ],
            [
             1,
             "#f0f921"
            ]
           ]
          },
          "colorway": [
           "#636efa",
           "#EF553B",
           "#00cc96",
           "#ab63fa",
           "#FFA15A",
           "#19d3f3",
           "#FF6692",
           "#B6E880",
           "#FF97FF",
           "#FECB52"
          ],
          "font": {
           "color": "#2a3f5f"
          },
          "geo": {
           "bgcolor": "white",
           "lakecolor": "white",
           "landcolor": "#E5ECF6",
           "showlakes": true,
           "showland": true,
           "subunitcolor": "white"
          },
          "hoverlabel": {
           "align": "left"
          },
          "hovermode": "closest",
          "mapbox": {
           "style": "light"
          },
          "paper_bgcolor": "white",
          "plot_bgcolor": "#E5ECF6",
          "polar": {
           "angularaxis": {
            "gridcolor": "white",
            "linecolor": "white",
            "ticks": ""
           },
           "bgcolor": "#E5ECF6",
           "radialaxis": {
            "gridcolor": "white",
            "linecolor": "white",
            "ticks": ""
           }
          },
          "scene": {
           "xaxis": {
            "backgroundcolor": "#E5ECF6",
            "gridcolor": "white",
            "gridwidth": 2,
            "linecolor": "white",
            "showbackground": true,
            "ticks": "",
            "zerolinecolor": "white"
           },
           "yaxis": {
            "backgroundcolor": "#E5ECF6",
            "gridcolor": "white",
            "gridwidth": 2,
            "linecolor": "white",
            "showbackground": true,
            "ticks": "",
            "zerolinecolor": "white"
           },
           "zaxis": {
            "backgroundcolor": "#E5ECF6",
            "gridcolor": "white",
            "gridwidth": 2,
            "linecolor": "white",
            "showbackground": true,
            "ticks": "",
            "zerolinecolor": "white"
           }
          },
          "shapedefaults": {
           "line": {
            "color": "#2a3f5f"
           }
          },
          "ternary": {
           "aaxis": {
            "gridcolor": "white",
            "linecolor": "white",
            "ticks": ""
           },
           "baxis": {
            "gridcolor": "white",
            "linecolor": "white",
            "ticks": ""
           },
           "bgcolor": "#E5ECF6",
           "caxis": {
            "gridcolor": "white",
            "linecolor": "white",
            "ticks": ""
           }
          },
          "title": {
           "x": 0.05
          },
          "xaxis": {
           "automargin": true,
           "gridcolor": "white",
           "linecolor": "white",
           "ticks": "",
           "title": {
            "standoff": 15
           },
           "zerolinecolor": "white",
           "zerolinewidth": 2
          },
          "yaxis": {
           "automargin": true,
           "gridcolor": "white",
           "linecolor": "white",
           "ticks": "",
           "title": {
            "standoff": 15
           },
           "zerolinecolor": "white",
           "zerolinewidth": 2
          }
         }
        },
        "title": {
         "font": {
          "color": "#4D5663"
         }
        },
        "xaxis": {
         "gridcolor": "#E1E5ED",
         "showgrid": true,
         "tickfont": {
          "color": "#4D5663"
         },
         "title": {
          "font": {
           "color": "#4D5663"
          },
          "text": ""
         },
         "zerolinecolor": "#E1E5ED"
        },
        "yaxis": {
         "gridcolor": "#E1E5ED",
         "showgrid": true,
         "tickfont": {
          "color": "#4D5663"
         },
         "title": {
          "font": {
           "color": "#4D5663"
          },
          "text": ""
         },
         "zerolinecolor": "#E1E5ED"
        }
       }
      },
      "text/html": [
       "<div>\n",
       "        \n",
       "        \n",
       "            <div id=\"13c0af6b-b0c7-4e97-9c08-1dcd12a32ca4\" class=\"plotly-graph-div\" style=\"height:525px; width:100%;\"></div>\n",
       "            <script type=\"text/javascript\">\n",
       "                require([\"plotly\"], function(Plotly) {\n",
       "                    window.PLOTLYENV=window.PLOTLYENV || {};\n",
       "                    window.PLOTLYENV.BASE_URL='https://plot.ly';\n",
       "                    \n",
       "                if (document.getElementById(\"13c0af6b-b0c7-4e97-9c08-1dcd12a32ca4\")) {\n",
       "                    Plotly.newPlot(\n",
       "                        '13c0af6b-b0c7-4e97-9c08-1dcd12a32ca4',\n",
       "                        [{\"boxpoints\": false, \"line\": {\"width\": 1.3}, \"marker\": {\"color\": \"rgba(255, 153, 51, 1.0)\"}, \"name\": \"A\", \"orientation\": \"v\", \"type\": \"box\", \"y\": [0.06551037256099825, 0.7787662777673576, 1.2109220168503216, -0.164118398405124, -0.06953194857806134, 1.066202048538722, -1.3290047735764563, -0.5661954082926168, -1.4795446786374782, 0.5850867537280864, -1.6214043663476296, 0.2281022915104834, -0.03266104341812228, -0.31529542239941, -0.8185165343462465, -0.9468500346127864, -0.5094364956867495, 1.753022121579112, 3.9780300131120603, -0.4147544481721648, -0.14963872632764225, 1.3903039535346131, 0.11798699784306298, -1.198799937094399, 1.4131626285760492, 0.623506501038244, 0.8643831632654269, 0.6752773092042728, -0.0711263241446468, 0.18404130682510414, 1.5405933704770725, -0.5126085695574668, -0.3885648449076173, -1.5388448445655147, -0.5000145318421976, 1.0835766953611417, 0.2237897443521966, 1.1218991400304938, 1.184719984221023, -0.6023434282954342, 1.090344849883388, -0.3436379889241205, -0.5690894547955576, -1.6012940470392885, -3.3510027943928313, -0.8458239564084824, -1.4228331193628854, 1.6847961973387284, 0.8735325541867743, 0.6969975174415938, -0.8003467642792428, -0.4400351866092966, 0.12759747604828178, -0.6078004191603125, -0.45683564594752585, -1.0761795529594465, 0.767820190317033, 0.9036510765352602, 2.3195076034254534, -0.7471444461857918, 0.6229681285213532, -0.8448670190512532, 1.1112053758052522, -0.37932375500455245, -2.7014109958197228, -1.2776112906769244, 2.595391503109247, 0.22384493791324778, 0.9970759541901827, -0.7010617297315688, -0.47870937464473223, 0.3347971428350504, 1.0993453924680892, 0.3240433573069802, -0.7252634214456634, 0.22527502463488902, 1.3781138065202578, -1.3504042254670332, -4.053651302513549, 0.7216865598008689, -0.5003323289743481, 0.5149434179673201, -0.4722870549872342, 1.8179752612025275, 0.9338008400773208, -0.6151732196400808, -1.5959820784883318, -0.8606323394451001, 1.2019904263305907, -0.9188842057477389, 0.633467463091969, 0.36150603037861967, 0.5176495875526188, -0.8151420430366462, 1.1187007850174295, -2.621576836525829, -1.0653546708932358, -0.6714537483763512, -0.17538467944985758, -0.16881902219472808]}, {\"boxpoints\": false, \"line\": {\"width\": 1.3}, \"marker\": {\"color\": \"rgba(55, 128, 191, 1.0)\"}, \"name\": \"B\", \"orientation\": \"v\", \"type\": \"box\", \"y\": [-1.0925650641931546, -1.1063010870224814, -0.32805306632209535, -1.8015176878336885, -0.1735327532380383, -0.08774588068587334, 0.18757699718867998, 0.6728859311887663, -0.7063785591459333, -1.5601290810082729, 0.058848714728627294, 0.40753255207102396, -0.24185126842710786, -0.1589405707360404, -3.6419230654539163, -1.278856426455618, -0.12506104010367203, -0.6999988206992263, -0.8975679054874393, -0.6776071391269884, -0.4627648216478146, 2.626517695743942, -0.91040991382991, -2.88721680880961, -0.4151155407559168, -0.23674583789893922, 1.298472563980927, 2.9691566852896694, 0.2512798077666682, -0.060894981563443196, -0.4861008577562129, -0.5640569278924469, 2.032606097220788, -1.8478501295804048, 1.080680795367581, -0.18081697204116465, 0.5343053846985427, 1.8328987073087728, 0.8825543638387845, 0.00758723758367448, -1.812680010503773, -0.3894181938587775, -0.9156059830862028, 2.0765759332108775, -0.9845877565924966, -0.11513168690523837, 0.01975359983273998, 1.5525461151094744, 2.174439604808439, -1.3259988649521035, -0.9175421334719854, 0.7832487273727792, 0.718982414490362, -0.5559288782298727, -0.2637041754949957, -0.5085266837885446, 0.5267515240175117, -1.5125519857794338, 0.5912124711191508, 0.9485835777097431, 0.5060014073562296, -1.383374247408542, -0.5827753650039929, -0.42029786340586767, 2.396767848055817, -1.321557164877903, -0.26939673156797905, 0.21659628952068838, -1.7147787346861005, -2.403180951945503, -0.2176716191001402, -0.30067465967466783, 0.7020810081753037, 0.07107137979934369, 1.679478935083888, 0.25046020425850907, 0.494810949520932, -0.3815902451811281, -0.32054753212638537, 1.5112283430196483, -0.3565509952124511, -0.34060527990923545, -0.6522886642783906, -2.1006446882605343, 0.34337080965320393, -0.6344058007008451, -0.5614985283201149, 1.3246267897107706, 1.0700683834779376, -1.5535964408637803, -0.8501136729413292, -1.0023413559710757, 0.5988948939086691, 1.23651459677043, -1.4467738926798768, 0.8923285883848271, 1.4467820432217038, -0.775252461367255, 0.7622501319698802, 0.2657847128074883]}, {\"boxpoints\": false, \"line\": {\"width\": 1.3}, \"marker\": {\"color\": \"rgba(50, 171, 96, 1.0)\"}, \"name\": \"C\", \"orientation\": \"v\", \"type\": \"box\", \"y\": [1.3122730315042694, -0.17935310503596935, 0.3614508310022408, -0.5211010566005132, -0.8819759423318262, -0.9169504758415993, -0.2519988810723046, -1.113232685157474, -0.8270000589718352, -0.3608443919675396, -1.790994145293478, 1.229497011878506, 0.5244266047548111, 0.30950717721757914, 0.9913249349727666, 0.4225385930312028, -0.43809663960515643, -0.1956072394634809, -0.8966224923606408, -0.6858989240202681, -1.2354283168914784, -0.38518005789115267, 0.14125669984744982, 0.009628427734064584, -0.8343609704758841, -0.6254362696500314, -0.19009857737161248, 0.8024851239601978, 0.21849566906323878, -0.31996929320816375, -1.6628372802901763, -1.8210520255850096, 0.5304296301262494, 0.421752245075303, -0.7812834649471643, -0.6755859487986324, 1.1318065517425326, -1.7096919590322925, -1.521312451975673, 1.8275392617169104, 2.193604590576897, 1.82924388395378, 1.695135498883619, -0.9372289917902713, -0.7517034331328517, -0.9405836457996472, 0.18363540881443705, -1.6888791771823555, 0.3528760574723848, -1.8846003666593836, 0.529161502175242, -0.864694295346101, 0.7572177454734456, -1.1500641264623734, 1.0255018011884054, 1.1379456189412875, -0.2766376966356368, -0.33190440864984677, 0.02938692391757872, 0.1441841232633436, -0.07471296527887963, 0.0686761948664308, -1.9977069652099664, -0.42700103340562834, -0.8318821594923187, -0.5596727597099382, 0.18346133391049288, 1.3506828478186077, 1.0634309532966568, 1.4769664064849617, -0.2209001285055589, -0.4851538300535789, 0.36521711207331015, -0.6613614274066665, -0.9400974411180243, -0.740899364556757, -0.31932440099134807, -0.9227376804572993, 0.7875927248187125, 0.3971733396415079, 0.15724577048337082, 0.43583308621840827, 0.3452179544153144, -0.33060123213417814, 0.7012511634326455, 0.1359150271139867, 0.4983761403689988, -0.38699779591073197, -1.1321822914573374, 0.381220997039987, -0.9833009504151865, -0.24217166231535547, -0.9712623950130381, -1.4829071262232862, 0.139431489054704, 1.3536578112352777, -0.21621273025259535, 0.8087520815265892, -1.7607551901134975, 1.3631956292994885]}, {\"boxpoints\": false, \"line\": {\"width\": 1.3}, \"marker\": {\"color\": \"rgba(128, 0, 128, 1.0)\"}, \"name\": \"D\", \"orientation\": \"v\", \"type\": \"box\", \"y\": [-0.8569913877419736, 0.20043397000527866, -1.7412927929767723, -1.1873738385667572, 0.46117217569580754, 1.1679591932700821, -1.015095279622547, 0.8415819887073378, 1.8328489355568114, -1.104945360777617, -1.248936723865419, 0.15666057431555322, -0.5904385624918248, -0.9741245968558371, 1.4937687052599453, 0.5850246918816916, 0.3381049331672944, -0.7483890168855368, -0.6762787813690532, 0.06528333399450395, 0.9216224411628501, 0.11602165284467134, -0.7214772261918884, 1.9436830686844957, -0.7495054162160697, -1.3957935493271236, 1.1666689847591565, 0.2988607249559056, 0.23499382582333145, -0.4378172935292165, -1.1089672494422926, 1.0480857443658964, -0.30464427262809096, 1.7666252648127816, 0.20135243885349585, -0.7240290010663003, 0.6358849419050292, 1.3372054219807012, -0.8479329819031785, 0.33605362411663764, 0.3091409003988394, -0.0042238283781839804, -2.1931150426342527, 0.5351624320455792, 0.18301691618515195, -2.244228422091324, -0.23571721821529978, 0.59210695506618, -0.6343701671428039, 1.7532165598333844, -1.360046170333257, -1.9703802968958088, 0.3320761840458883, 0.1904961384424451, -0.10330778595218273, 0.49372568454540483, 0.7957150006751236, 0.6325305840422442, -1.5830067557580374, -0.4539225055348257, 0.8495483797125362, -0.04250043951784153, 0.7516988836459388, 0.8944697069148903, -0.035277287468309895, 0.7428012424634501, -1.152202352081379, -0.5684949141988689, 2.060839920383102, -0.8910336062432065, -0.6111340224125054, 1.1493890573734444, -0.6977468209185262, 2.00048191418851, 0.6790909416761713, -1.3289974226191574, 0.9665612627913074, -1.1892316319921394, -0.07661048278707877, 0.6816736136192816, 1.5478480340620588, 0.9991048480787013, 0.5176894312965323, -1.8318832829407212, 0.9449493500331181, 0.47162380853355784, 0.2551712160181531, 1.033963974273001, 1.008388020937463, -1.3550558210131782, -1.3553648061099495, 0.3419840046463667, -0.6799359282514028, 0.472852846116455, -0.07007777844980682, 0.7928144634980903, 0.582896728216384, 2.6702690689972575, -0.32707324297297424, -0.5341181551241768]}],\n",
       "                        {\"legend\": {\"bgcolor\": \"#F5F6F9\", \"font\": {\"color\": \"#4D5663\"}}, \"paper_bgcolor\": \"#F5F6F9\", \"plot_bgcolor\": \"#F5F6F9\", \"template\": {\"data\": {\"bar\": [{\"error_x\": {\"color\": \"#2a3f5f\"}, \"error_y\": {\"color\": \"#2a3f5f\"}, \"marker\": {\"line\": {\"color\": \"#E5ECF6\", \"width\": 0.5}}, \"type\": \"bar\"}], \"barpolar\": [{\"marker\": {\"line\": {\"color\": \"#E5ECF6\", \"width\": 0.5}}, \"type\": \"barpolar\"}], \"carpet\": [{\"aaxis\": {\"endlinecolor\": \"#2a3f5f\", \"gridcolor\": \"white\", \"linecolor\": \"white\", \"minorgridcolor\": \"white\", \"startlinecolor\": \"#2a3f5f\"}, \"baxis\": {\"endlinecolor\": \"#2a3f5f\", \"gridcolor\": \"white\", \"linecolor\": \"white\", \"minorgridcolor\": \"white\", \"startlinecolor\": \"#2a3f5f\"}, \"type\": \"carpet\"}], \"choropleth\": [{\"colorbar\": {\"outlinewidth\": 0, \"ticks\": \"\"}, \"type\": \"choropleth\"}], \"contour\": [{\"colorbar\": {\"outlinewidth\": 0, \"ticks\": \"\"}, \"colorscale\": [[0.0, \"#0d0887\"], [0.1111111111111111, \"#46039f\"], [0.2222222222222222, \"#7201a8\"], [0.3333333333333333, \"#9c179e\"], [0.4444444444444444, \"#bd3786\"], [0.5555555555555556, \"#d8576b\"], [0.6666666666666666, \"#ed7953\"], [0.7777777777777778, \"#fb9f3a\"], [0.8888888888888888, \"#fdca26\"], [1.0, \"#f0f921\"]], \"type\": \"contour\"}], \"contourcarpet\": [{\"colorbar\": {\"outlinewidth\": 0, \"ticks\": \"\"}, \"type\": \"contourcarpet\"}], \"heatmap\": [{\"colorbar\": {\"outlinewidth\": 0, \"ticks\": \"\"}, \"colorscale\": [[0.0, \"#0d0887\"], [0.1111111111111111, \"#46039f\"], [0.2222222222222222, \"#7201a8\"], [0.3333333333333333, \"#9c179e\"], [0.4444444444444444, \"#bd3786\"], [0.5555555555555556, \"#d8576b\"], [0.6666666666666666, \"#ed7953\"], [0.7777777777777778, \"#fb9f3a\"], [0.8888888888888888, \"#fdca26\"], [1.0, \"#f0f921\"]], \"type\": \"heatmap\"}], \"heatmapgl\": [{\"colorbar\": {\"outlinewidth\": 0, \"ticks\": \"\"}, \"colorscale\": [[0.0, \"#0d0887\"], [0.1111111111111111, \"#46039f\"], [0.2222222222222222, \"#7201a8\"], [0.3333333333333333, \"#9c179e\"], [0.4444444444444444, \"#bd3786\"], [0.5555555555555556, \"#d8576b\"], [0.6666666666666666, \"#ed7953\"], [0.7777777777777778, \"#fb9f3a\"], [0.8888888888888888, \"#fdca26\"], [1.0, \"#f0f921\"]], \"type\": \"heatmapgl\"}], \"histogram\": [{\"marker\": {\"colorbar\": {\"outlinewidth\": 0, \"ticks\": \"\"}}, \"type\": \"histogram\"}], \"histogram2d\": [{\"colorbar\": {\"outlinewidth\": 0, \"ticks\": \"\"}, \"colorscale\": [[0.0, \"#0d0887\"], [0.1111111111111111, \"#46039f\"], [0.2222222222222222, \"#7201a8\"], [0.3333333333333333, \"#9c179e\"], [0.4444444444444444, \"#bd3786\"], [0.5555555555555556, \"#d8576b\"], [0.6666666666666666, \"#ed7953\"], [0.7777777777777778, \"#fb9f3a\"], [0.8888888888888888, \"#fdca26\"], [1.0, \"#f0f921\"]], \"type\": \"histogram2d\"}], \"histogram2dcontour\": [{\"colorbar\": {\"outlinewidth\": 0, \"ticks\": \"\"}, \"colorscale\": [[0.0, \"#0d0887\"], [0.1111111111111111, \"#46039f\"], [0.2222222222222222, \"#7201a8\"], [0.3333333333333333, \"#9c179e\"], [0.4444444444444444, \"#bd3786\"], [0.5555555555555556, \"#d8576b\"], [0.6666666666666666, \"#ed7953\"], [0.7777777777777778, \"#fb9f3a\"], [0.8888888888888888, \"#fdca26\"], [1.0, \"#f0f921\"]], \"type\": \"histogram2dcontour\"}], \"mesh3d\": [{\"colorbar\": {\"outlinewidth\": 0, \"ticks\": \"\"}, \"type\": \"mesh3d\"}], \"parcoords\": [{\"line\": {\"colorbar\": {\"outlinewidth\": 0, \"ticks\": \"\"}}, \"type\": \"parcoords\"}], \"pie\": [{\"automargin\": true, \"type\": \"pie\"}], \"scatter\": [{\"marker\": {\"colorbar\": {\"outlinewidth\": 0, \"ticks\": \"\"}}, \"type\": \"scatter\"}], \"scatter3d\": [{\"line\": {\"colorbar\": {\"outlinewidth\": 0, \"ticks\": \"\"}}, \"marker\": {\"colorbar\": {\"outlinewidth\": 0, \"ticks\": \"\"}}, \"type\": \"scatter3d\"}], \"scattercarpet\": [{\"marker\": {\"colorbar\": {\"outlinewidth\": 0, \"ticks\": \"\"}}, \"type\": \"scattercarpet\"}], \"scattergeo\": [{\"marker\": {\"colorbar\": {\"outlinewidth\": 0, \"ticks\": \"\"}}, \"type\": \"scattergeo\"}], \"scattergl\": [{\"marker\": {\"colorbar\": {\"outlinewidth\": 0, \"ticks\": \"\"}}, \"type\": \"scattergl\"}], \"scattermapbox\": [{\"marker\": {\"colorbar\": {\"outlinewidth\": 0, \"ticks\": \"\"}}, \"type\": \"scattermapbox\"}], \"scatterpolar\": [{\"marker\": {\"colorbar\": {\"outlinewidth\": 0, \"ticks\": \"\"}}, \"type\": \"scatterpolar\"}], \"scatterpolargl\": [{\"marker\": {\"colorbar\": {\"outlinewidth\": 0, \"ticks\": \"\"}}, \"type\": \"scatterpolargl\"}], \"scatterternary\": [{\"marker\": {\"colorbar\": {\"outlinewidth\": 0, \"ticks\": \"\"}}, \"type\": \"scatterternary\"}], \"surface\": [{\"colorbar\": {\"outlinewidth\": 0, \"ticks\": \"\"}, \"colorscale\": [[0.0, \"#0d0887\"], [0.1111111111111111, \"#46039f\"], [0.2222222222222222, \"#7201a8\"], [0.3333333333333333, \"#9c179e\"], [0.4444444444444444, \"#bd3786\"], [0.5555555555555556, \"#d8576b\"], [0.6666666666666666, \"#ed7953\"], [0.7777777777777778, \"#fb9f3a\"], [0.8888888888888888, \"#fdca26\"], [1.0, \"#f0f921\"]], \"type\": \"surface\"}], \"table\": [{\"cells\": {\"fill\": {\"color\": \"#EBF0F8\"}, \"line\": {\"color\": \"white\"}}, \"header\": {\"fill\": {\"color\": \"#C8D4E3\"}, \"line\": {\"color\": \"white\"}}, \"type\": \"table\"}]}, \"layout\": {\"annotationdefaults\": {\"arrowcolor\": \"#2a3f5f\", \"arrowhead\": 0, \"arrowwidth\": 1}, \"coloraxis\": {\"colorbar\": {\"outlinewidth\": 0, \"ticks\": \"\"}}, \"colorscale\": {\"diverging\": [[0, \"#8e0152\"], [0.1, \"#c51b7d\"], [0.2, \"#de77ae\"], [0.3, \"#f1b6da\"], [0.4, \"#fde0ef\"], [0.5, \"#f7f7f7\"], [0.6, \"#e6f5d0\"], [0.7, \"#b8e186\"], [0.8, \"#7fbc41\"], [0.9, \"#4d9221\"], [1, \"#276419\"]], \"sequential\": [[0.0, \"#0d0887\"], [0.1111111111111111, \"#46039f\"], [0.2222222222222222, \"#7201a8\"], [0.3333333333333333, \"#9c179e\"], [0.4444444444444444, \"#bd3786\"], [0.5555555555555556, \"#d8576b\"], [0.6666666666666666, \"#ed7953\"], [0.7777777777777778, \"#fb9f3a\"], [0.8888888888888888, \"#fdca26\"], [1.0, \"#f0f921\"]], \"sequentialminus\": [[0.0, \"#0d0887\"], [0.1111111111111111, \"#46039f\"], [0.2222222222222222, \"#7201a8\"], [0.3333333333333333, \"#9c179e\"], [0.4444444444444444, \"#bd3786\"], [0.5555555555555556, \"#d8576b\"], [0.6666666666666666, \"#ed7953\"], [0.7777777777777778, \"#fb9f3a\"], [0.8888888888888888, \"#fdca26\"], [1.0, \"#f0f921\"]]}, \"colorway\": [\"#636efa\", \"#EF553B\", \"#00cc96\", \"#ab63fa\", \"#FFA15A\", \"#19d3f3\", \"#FF6692\", \"#B6E880\", \"#FF97FF\", \"#FECB52\"], \"font\": {\"color\": \"#2a3f5f\"}, \"geo\": {\"bgcolor\": \"white\", \"lakecolor\": \"white\", \"landcolor\": \"#E5ECF6\", \"showlakes\": true, \"showland\": true, \"subunitcolor\": \"white\"}, \"hoverlabel\": {\"align\": \"left\"}, \"hovermode\": \"closest\", \"mapbox\": {\"style\": \"light\"}, \"paper_bgcolor\": \"white\", \"plot_bgcolor\": \"#E5ECF6\", \"polar\": {\"angularaxis\": {\"gridcolor\": \"white\", \"linecolor\": \"white\", \"ticks\": \"\"}, \"bgcolor\": \"#E5ECF6\", \"radialaxis\": {\"gridcolor\": \"white\", \"linecolor\": \"white\", \"ticks\": \"\"}}, \"scene\": {\"xaxis\": {\"backgroundcolor\": \"#E5ECF6\", \"gridcolor\": \"white\", \"gridwidth\": 2, \"linecolor\": \"white\", \"showbackground\": true, \"ticks\": \"\", \"zerolinecolor\": \"white\"}, \"yaxis\": {\"backgroundcolor\": \"#E5ECF6\", \"gridcolor\": \"white\", \"gridwidth\": 2, \"linecolor\": \"white\", \"showbackground\": true, \"ticks\": \"\", \"zerolinecolor\": \"white\"}, \"zaxis\": {\"backgroundcolor\": \"#E5ECF6\", \"gridcolor\": \"white\", \"gridwidth\": 2, \"linecolor\": \"white\", \"showbackground\": true, \"ticks\": \"\", \"zerolinecolor\": \"white\"}}, \"shapedefaults\": {\"line\": {\"color\": \"#2a3f5f\"}}, \"ternary\": {\"aaxis\": {\"gridcolor\": \"white\", \"linecolor\": \"white\", \"ticks\": \"\"}, \"baxis\": {\"gridcolor\": \"white\", \"linecolor\": \"white\", \"ticks\": \"\"}, \"bgcolor\": \"#E5ECF6\", \"caxis\": {\"gridcolor\": \"white\", \"linecolor\": \"white\", \"ticks\": \"\"}}, \"title\": {\"x\": 0.05}, \"xaxis\": {\"automargin\": true, \"gridcolor\": \"white\", \"linecolor\": \"white\", \"ticks\": \"\", \"title\": {\"standoff\": 15}, \"zerolinecolor\": \"white\", \"zerolinewidth\": 2}, \"yaxis\": {\"automargin\": true, \"gridcolor\": \"white\", \"linecolor\": \"white\", \"ticks\": \"\", \"title\": {\"standoff\": 15}, \"zerolinecolor\": \"white\", \"zerolinewidth\": 2}}}, \"title\": {\"font\": {\"color\": \"#4D5663\"}}, \"xaxis\": {\"gridcolor\": \"#E1E5ED\", \"showgrid\": true, \"tickfont\": {\"color\": \"#4D5663\"}, \"title\": {\"font\": {\"color\": \"#4D5663\"}, \"text\": \"\"}, \"zerolinecolor\": \"#E1E5ED\"}, \"yaxis\": {\"gridcolor\": \"#E1E5ED\", \"showgrid\": true, \"tickfont\": {\"color\": \"#4D5663\"}, \"title\": {\"font\": {\"color\": \"#4D5663\"}, \"text\": \"\"}, \"zerolinecolor\": \"#E1E5ED\"}},\n",
       "                        {\"showLink\": true, \"linkText\": \"Export to plot.ly\", \"plotlyServerURL\": \"https://plot.ly\", \"responsive\": true}\n",
       "                    ).then(function(){\n",
       "                            \n",
       "var gd = document.getElementById('13c0af6b-b0c7-4e97-9c08-1dcd12a32ca4');\n",
       "var x = new MutationObserver(function (mutations, observer) {{\n",
       "        var display = window.getComputedStyle(gd).display;\n",
       "        if (!display || display === 'none') {{\n",
       "            console.log([gd, 'removed!']);\n",
       "            Plotly.purge(gd);\n",
       "            observer.disconnect();\n",
       "        }}\n",
       "}});\n",
       "\n",
       "// Listen for the removal of the full notebook cells\n",
       "var notebookContainer = gd.closest('#notebook-container');\n",
       "if (notebookContainer) {{\n",
       "    x.observe(notebookContainer, {childList: true});\n",
       "}}\n",
       "\n",
       "// Listen for the clearing of the current output cell\n",
       "var outputEl = gd.closest('.output');\n",
       "if (outputEl) {{\n",
       "    x.observe(outputEl, {childList: true});\n",
       "}}\n",
       "\n",
       "                        })\n",
       "                };\n",
       "                });\n",
       "            </script>\n",
       "        </div>"
      ]
     },
     "metadata": {},
     "output_type": "display_data"
    }
   ],
   "source": [
    "df.iplot(kind='box')"
   ]
  },
  {
   "cell_type": "markdown",
   "metadata": {},
   "source": [
    "## 3d Surface"
   ]
  },
  {
   "cell_type": "code",
   "execution_count": 19,
   "metadata": {},
   "outputs": [
    {
     "data": {
      "application/vnd.plotly.v1+json": {
       "config": {
        "linkText": "Export to plot.ly",
        "plotlyServerURL": "https://plot.ly",
        "showLink": true
       },
       "data": [
        {
         "colorscale": [
          [
           0,
           "rgb(165,0,38)"
          ],
          [
           0.1,
           "rgb(215,48,39)"
          ],
          [
           0.2,
           "rgb(244,109,67)"
          ],
          [
           0.3,
           "rgb(253,174,97)"
          ],
          [
           0.4,
           "rgb(254,224,144)"
          ],
          [
           0.5,
           "rgb(255,255,191)"
          ],
          [
           0.6,
           "rgb(224,243,248)"
          ],
          [
           0.7,
           "rgb(171,217,233)"
          ],
          [
           0.8,
           "rgb(116,173,209)"
          ],
          [
           0.9,
           "rgb(69,117,180)"
          ],
          [
           1,
           "rgb(49,54,149)"
          ]
         ],
         "type": "surface",
         "x": [
          0,
          1,
          2,
          3,
          4
         ],
         "y": [
          "x",
          "y",
          "z"
         ],
         "z": [
          [
           1,
           2,
           3,
           4,
           5
          ],
          [
           10,
           20,
           30,
           20,
           10
          ],
          [
           5,
           4,
           3,
           2,
           1
          ]
         ]
        }
       ],
       "layout": {
        "legend": {
         "bgcolor": "#F5F6F9",
         "font": {
          "color": "#4D5663"
         }
        },
        "paper_bgcolor": "#F5F6F9",
        "plot_bgcolor": "#F5F6F9",
        "template": {
         "data": {
          "bar": [
           {
            "error_x": {
             "color": "#2a3f5f"
            },
            "error_y": {
             "color": "#2a3f5f"
            },
            "marker": {
             "line": {
              "color": "#E5ECF6",
              "width": 0.5
             }
            },
            "type": "bar"
           }
          ],
          "barpolar": [
           {
            "marker": {
             "line": {
              "color": "#E5ECF6",
              "width": 0.5
             }
            },
            "type": "barpolar"
           }
          ],
          "carpet": [
           {
            "aaxis": {
             "endlinecolor": "#2a3f5f",
             "gridcolor": "white",
             "linecolor": "white",
             "minorgridcolor": "white",
             "startlinecolor": "#2a3f5f"
            },
            "baxis": {
             "endlinecolor": "#2a3f5f",
             "gridcolor": "white",
             "linecolor": "white",
             "minorgridcolor": "white",
             "startlinecolor": "#2a3f5f"
            },
            "type": "carpet"
           }
          ],
          "choropleth": [
           {
            "colorbar": {
             "outlinewidth": 0,
             "ticks": ""
            },
            "type": "choropleth"
           }
          ],
          "contour": [
           {
            "colorbar": {
             "outlinewidth": 0,
             "ticks": ""
            },
            "colorscale": [
             [
              0,
              "#0d0887"
             ],
             [
              0.1111111111111111,
              "#46039f"
             ],
             [
              0.2222222222222222,
              "#7201a8"
             ],
             [
              0.3333333333333333,
              "#9c179e"
             ],
             [
              0.4444444444444444,
              "#bd3786"
             ],
             [
              0.5555555555555556,
              "#d8576b"
             ],
             [
              0.6666666666666666,
              "#ed7953"
             ],
             [
              0.7777777777777778,
              "#fb9f3a"
             ],
             [
              0.8888888888888888,
              "#fdca26"
             ],
             [
              1,
              "#f0f921"
             ]
            ],
            "type": "contour"
           }
          ],
          "contourcarpet": [
           {
            "colorbar": {
             "outlinewidth": 0,
             "ticks": ""
            },
            "type": "contourcarpet"
           }
          ],
          "heatmap": [
           {
            "colorbar": {
             "outlinewidth": 0,
             "ticks": ""
            },
            "colorscale": [
             [
              0,
              "#0d0887"
             ],
             [
              0.1111111111111111,
              "#46039f"
             ],
             [
              0.2222222222222222,
              "#7201a8"
             ],
             [
              0.3333333333333333,
              "#9c179e"
             ],
             [
              0.4444444444444444,
              "#bd3786"
             ],
             [
              0.5555555555555556,
              "#d8576b"
             ],
             [
              0.6666666666666666,
              "#ed7953"
             ],
             [
              0.7777777777777778,
              "#fb9f3a"
             ],
             [
              0.8888888888888888,
              "#fdca26"
             ],
             [
              1,
              "#f0f921"
             ]
            ],
            "type": "heatmap"
           }
          ],
          "heatmapgl": [
           {
            "colorbar": {
             "outlinewidth": 0,
             "ticks": ""
            },
            "colorscale": [
             [
              0,
              "#0d0887"
             ],
             [
              0.1111111111111111,
              "#46039f"
             ],
             [
              0.2222222222222222,
              "#7201a8"
             ],
             [
              0.3333333333333333,
              "#9c179e"
             ],
             [
              0.4444444444444444,
              "#bd3786"
             ],
             [
              0.5555555555555556,
              "#d8576b"
             ],
             [
              0.6666666666666666,
              "#ed7953"
             ],
             [
              0.7777777777777778,
              "#fb9f3a"
             ],
             [
              0.8888888888888888,
              "#fdca26"
             ],
             [
              1,
              "#f0f921"
             ]
            ],
            "type": "heatmapgl"
           }
          ],
          "histogram": [
           {
            "marker": {
             "colorbar": {
              "outlinewidth": 0,
              "ticks": ""
             }
            },
            "type": "histogram"
           }
          ],
          "histogram2d": [
           {
            "colorbar": {
             "outlinewidth": 0,
             "ticks": ""
            },
            "colorscale": [
             [
              0,
              "#0d0887"
             ],
             [
              0.1111111111111111,
              "#46039f"
             ],
             [
              0.2222222222222222,
              "#7201a8"
             ],
             [
              0.3333333333333333,
              "#9c179e"
             ],
             [
              0.4444444444444444,
              "#bd3786"
             ],
             [
              0.5555555555555556,
              "#d8576b"
             ],
             [
              0.6666666666666666,
              "#ed7953"
             ],
             [
              0.7777777777777778,
              "#fb9f3a"
             ],
             [
              0.8888888888888888,
              "#fdca26"
             ],
             [
              1,
              "#f0f921"
             ]
            ],
            "type": "histogram2d"
           }
          ],
          "histogram2dcontour": [
           {
            "colorbar": {
             "outlinewidth": 0,
             "ticks": ""
            },
            "colorscale": [
             [
              0,
              "#0d0887"
             ],
             [
              0.1111111111111111,
              "#46039f"
             ],
             [
              0.2222222222222222,
              "#7201a8"
             ],
             [
              0.3333333333333333,
              "#9c179e"
             ],
             [
              0.4444444444444444,
              "#bd3786"
             ],
             [
              0.5555555555555556,
              "#d8576b"
             ],
             [
              0.6666666666666666,
              "#ed7953"
             ],
             [
              0.7777777777777778,
              "#fb9f3a"
             ],
             [
              0.8888888888888888,
              "#fdca26"
             ],
             [
              1,
              "#f0f921"
             ]
            ],
            "type": "histogram2dcontour"
           }
          ],
          "mesh3d": [
           {
            "colorbar": {
             "outlinewidth": 0,
             "ticks": ""
            },
            "type": "mesh3d"
           }
          ],
          "parcoords": [
           {
            "line": {
             "colorbar": {
              "outlinewidth": 0,
              "ticks": ""
             }
            },
            "type": "parcoords"
           }
          ],
          "pie": [
           {
            "automargin": true,
            "type": "pie"
           }
          ],
          "scatter": [
           {
            "marker": {
             "colorbar": {
              "outlinewidth": 0,
              "ticks": ""
             }
            },
            "type": "scatter"
           }
          ],
          "scatter3d": [
           {
            "line": {
             "colorbar": {
              "outlinewidth": 0,
              "ticks": ""
             }
            },
            "marker": {
             "colorbar": {
              "outlinewidth": 0,
              "ticks": ""
             }
            },
            "type": "scatter3d"
           }
          ],
          "scattercarpet": [
           {
            "marker": {
             "colorbar": {
              "outlinewidth": 0,
              "ticks": ""
             }
            },
            "type": "scattercarpet"
           }
          ],
          "scattergeo": [
           {
            "marker": {
             "colorbar": {
              "outlinewidth": 0,
              "ticks": ""
             }
            },
            "type": "scattergeo"
           }
          ],
          "scattergl": [
           {
            "marker": {
             "colorbar": {
              "outlinewidth": 0,
              "ticks": ""
             }
            },
            "type": "scattergl"
           }
          ],
          "scattermapbox": [
           {
            "marker": {
             "colorbar": {
              "outlinewidth": 0,
              "ticks": ""
             }
            },
            "type": "scattermapbox"
           }
          ],
          "scatterpolar": [
           {
            "marker": {
             "colorbar": {
              "outlinewidth": 0,
              "ticks": ""
             }
            },
            "type": "scatterpolar"
           }
          ],
          "scatterpolargl": [
           {
            "marker": {
             "colorbar": {
              "outlinewidth": 0,
              "ticks": ""
             }
            },
            "type": "scatterpolargl"
           }
          ],
          "scatterternary": [
           {
            "marker": {
             "colorbar": {
              "outlinewidth": 0,
              "ticks": ""
             }
            },
            "type": "scatterternary"
           }
          ],
          "surface": [
           {
            "colorbar": {
             "outlinewidth": 0,
             "ticks": ""
            },
            "colorscale": [
             [
              0,
              "#0d0887"
             ],
             [
              0.1111111111111111,
              "#46039f"
             ],
             [
              0.2222222222222222,
              "#7201a8"
             ],
             [
              0.3333333333333333,
              "#9c179e"
             ],
             [
              0.4444444444444444,
              "#bd3786"
             ],
             [
              0.5555555555555556,
              "#d8576b"
             ],
             [
              0.6666666666666666,
              "#ed7953"
             ],
             [
              0.7777777777777778,
              "#fb9f3a"
             ],
             [
              0.8888888888888888,
              "#fdca26"
             ],
             [
              1,
              "#f0f921"
             ]
            ],
            "type": "surface"
           }
          ],
          "table": [
           {
            "cells": {
             "fill": {
              "color": "#EBF0F8"
             },
             "line": {
              "color": "white"
             }
            },
            "header": {
             "fill": {
              "color": "#C8D4E3"
             },
             "line": {
              "color": "white"
             }
            },
            "type": "table"
           }
          ]
         },
         "layout": {
          "annotationdefaults": {
           "arrowcolor": "#2a3f5f",
           "arrowhead": 0,
           "arrowwidth": 1
          },
          "coloraxis": {
           "colorbar": {
            "outlinewidth": 0,
            "ticks": ""
           }
          },
          "colorscale": {
           "diverging": [
            [
             0,
             "#8e0152"
            ],
            [
             0.1,
             "#c51b7d"
            ],
            [
             0.2,
             "#de77ae"
            ],
            [
             0.3,
             "#f1b6da"
            ],
            [
             0.4,
             "#fde0ef"
            ],
            [
             0.5,
             "#f7f7f7"
            ],
            [
             0.6,
             "#e6f5d0"
            ],
            [
             0.7,
             "#b8e186"
            ],
            [
             0.8,
             "#7fbc41"
            ],
            [
             0.9,
             "#4d9221"
            ],
            [
             1,
             "#276419"
            ]
           ],
           "sequential": [
            [
             0,
             "#0d0887"
            ],
            [
             0.1111111111111111,
             "#46039f"
            ],
            [
             0.2222222222222222,
             "#7201a8"
            ],
            [
             0.3333333333333333,
             "#9c179e"
            ],
            [
             0.4444444444444444,
             "#bd3786"
            ],
            [
             0.5555555555555556,
             "#d8576b"
            ],
            [
             0.6666666666666666,
             "#ed7953"
            ],
            [
             0.7777777777777778,
             "#fb9f3a"
            ],
            [
             0.8888888888888888,
             "#fdca26"
            ],
            [
             1,
             "#f0f921"
            ]
           ],
           "sequentialminus": [
            [
             0,
             "#0d0887"
            ],
            [
             0.1111111111111111,
             "#46039f"
            ],
            [
             0.2222222222222222,
             "#7201a8"
            ],
            [
             0.3333333333333333,
             "#9c179e"
            ],
            [
             0.4444444444444444,
             "#bd3786"
            ],
            [
             0.5555555555555556,
             "#d8576b"
            ],
            [
             0.6666666666666666,
             "#ed7953"
            ],
            [
             0.7777777777777778,
             "#fb9f3a"
            ],
            [
             0.8888888888888888,
             "#fdca26"
            ],
            [
             1,
             "#f0f921"
            ]
           ]
          },
          "colorway": [
           "#636efa",
           "#EF553B",
           "#00cc96",
           "#ab63fa",
           "#FFA15A",
           "#19d3f3",
           "#FF6692",
           "#B6E880",
           "#FF97FF",
           "#FECB52"
          ],
          "font": {
           "color": "#2a3f5f"
          },
          "geo": {
           "bgcolor": "white",
           "lakecolor": "white",
           "landcolor": "#E5ECF6",
           "showlakes": true,
           "showland": true,
           "subunitcolor": "white"
          },
          "hoverlabel": {
           "align": "left"
          },
          "hovermode": "closest",
          "mapbox": {
           "style": "light"
          },
          "paper_bgcolor": "white",
          "plot_bgcolor": "#E5ECF6",
          "polar": {
           "angularaxis": {
            "gridcolor": "white",
            "linecolor": "white",
            "ticks": ""
           },
           "bgcolor": "#E5ECF6",
           "radialaxis": {
            "gridcolor": "white",
            "linecolor": "white",
            "ticks": ""
           }
          },
          "scene": {
           "xaxis": {
            "backgroundcolor": "#E5ECF6",
            "gridcolor": "white",
            "gridwidth": 2,
            "linecolor": "white",
            "showbackground": true,
            "ticks": "",
            "zerolinecolor": "white"
           },
           "yaxis": {
            "backgroundcolor": "#E5ECF6",
            "gridcolor": "white",
            "gridwidth": 2,
            "linecolor": "white",
            "showbackground": true,
            "ticks": "",
            "zerolinecolor": "white"
           },
           "zaxis": {
            "backgroundcolor": "#E5ECF6",
            "gridcolor": "white",
            "gridwidth": 2,
            "linecolor": "white",
            "showbackground": true,
            "ticks": "",
            "zerolinecolor": "white"
           }
          },
          "shapedefaults": {
           "line": {
            "color": "#2a3f5f"
           }
          },
          "ternary": {
           "aaxis": {
            "gridcolor": "white",
            "linecolor": "white",
            "ticks": ""
           },
           "baxis": {
            "gridcolor": "white",
            "linecolor": "white",
            "ticks": ""
           },
           "bgcolor": "#E5ECF6",
           "caxis": {
            "gridcolor": "white",
            "linecolor": "white",
            "ticks": ""
           }
          },
          "title": {
           "x": 0.05
          },
          "xaxis": {
           "automargin": true,
           "gridcolor": "white",
           "linecolor": "white",
           "ticks": "",
           "title": {
            "standoff": 15
           },
           "zerolinecolor": "white",
           "zerolinewidth": 2
          },
          "yaxis": {
           "automargin": true,
           "gridcolor": "white",
           "linecolor": "white",
           "ticks": "",
           "title": {
            "standoff": 15
           },
           "zerolinecolor": "white",
           "zerolinewidth": 2
          }
         }
        },
        "title": {
         "font": {
          "color": "#4D5663"
         }
        },
        "xaxis": {
         "gridcolor": "#E1E5ED",
         "showgrid": true,
         "tickfont": {
          "color": "#4D5663"
         },
         "title": {
          "font": {
           "color": "#4D5663"
          },
          "text": ""
         },
         "zerolinecolor": "#E1E5ED"
        },
        "yaxis": {
         "gridcolor": "#E1E5ED",
         "showgrid": true,
         "tickfont": {
          "color": "#4D5663"
         },
         "title": {
          "font": {
           "color": "#4D5663"
          },
          "text": ""
         },
         "zerolinecolor": "#E1E5ED"
        }
       }
      },
      "text/html": [
       "<div>\n",
       "        \n",
       "        \n",
       "            <div id=\"dfb588af-080c-4e34-a234-426cd100bfbb\" class=\"plotly-graph-div\" style=\"height:525px; width:100%;\"></div>\n",
       "            <script type=\"text/javascript\">\n",
       "                require([\"plotly\"], function(Plotly) {\n",
       "                    window.PLOTLYENV=window.PLOTLYENV || {};\n",
       "                    window.PLOTLYENV.BASE_URL='https://plot.ly';\n",
       "                    \n",
       "                if (document.getElementById(\"dfb588af-080c-4e34-a234-426cd100bfbb\")) {\n",
       "                    Plotly.newPlot(\n",
       "                        'dfb588af-080c-4e34-a234-426cd100bfbb',\n",
       "                        [{\"colorscale\": [[0.0, \"rgb(165,0,38)\"], [0.1, \"rgb(215,48,39)\"], [0.2, \"rgb(244,109,67)\"], [0.3, \"rgb(253,174,97)\"], [0.4, \"rgb(254,224,144)\"], [0.5, \"rgb(255,255,191)\"], [0.6, \"rgb(224,243,248)\"], [0.7, \"rgb(171,217,233)\"], [0.8, \"rgb(116,173,209)\"], [0.9, \"rgb(69,117,180)\"], [1.0, \"rgb(49,54,149)\"]], \"type\": \"surface\", \"x\": [0, 1, 2, 3, 4], \"y\": [\"x\", \"y\", \"z\"], \"z\": [[1, 2, 3, 4, 5], [10, 20, 30, 20, 10], [5, 4, 3, 2, 1]]}],\n",
       "                        {\"legend\": {\"bgcolor\": \"#F5F6F9\", \"font\": {\"color\": \"#4D5663\"}}, \"paper_bgcolor\": \"#F5F6F9\", \"plot_bgcolor\": \"#F5F6F9\", \"template\": {\"data\": {\"bar\": [{\"error_x\": {\"color\": \"#2a3f5f\"}, \"error_y\": {\"color\": \"#2a3f5f\"}, \"marker\": {\"line\": {\"color\": \"#E5ECF6\", \"width\": 0.5}}, \"type\": \"bar\"}], \"barpolar\": [{\"marker\": {\"line\": {\"color\": \"#E5ECF6\", \"width\": 0.5}}, \"type\": \"barpolar\"}], \"carpet\": [{\"aaxis\": {\"endlinecolor\": \"#2a3f5f\", \"gridcolor\": \"white\", \"linecolor\": \"white\", \"minorgridcolor\": \"white\", \"startlinecolor\": \"#2a3f5f\"}, \"baxis\": {\"endlinecolor\": \"#2a3f5f\", \"gridcolor\": \"white\", \"linecolor\": \"white\", \"minorgridcolor\": \"white\", \"startlinecolor\": \"#2a3f5f\"}, \"type\": \"carpet\"}], \"choropleth\": [{\"colorbar\": {\"outlinewidth\": 0, \"ticks\": \"\"}, \"type\": \"choropleth\"}], \"contour\": [{\"colorbar\": {\"outlinewidth\": 0, \"ticks\": \"\"}, \"colorscale\": [[0.0, \"#0d0887\"], [0.1111111111111111, \"#46039f\"], [0.2222222222222222, \"#7201a8\"], [0.3333333333333333, \"#9c179e\"], [0.4444444444444444, \"#bd3786\"], [0.5555555555555556, \"#d8576b\"], [0.6666666666666666, \"#ed7953\"], [0.7777777777777778, \"#fb9f3a\"], [0.8888888888888888, \"#fdca26\"], [1.0, \"#f0f921\"]], \"type\": \"contour\"}], \"contourcarpet\": [{\"colorbar\": {\"outlinewidth\": 0, \"ticks\": \"\"}, \"type\": \"contourcarpet\"}], \"heatmap\": [{\"colorbar\": {\"outlinewidth\": 0, \"ticks\": \"\"}, \"colorscale\": [[0.0, \"#0d0887\"], [0.1111111111111111, \"#46039f\"], [0.2222222222222222, \"#7201a8\"], [0.3333333333333333, \"#9c179e\"], [0.4444444444444444, \"#bd3786\"], [0.5555555555555556, \"#d8576b\"], [0.6666666666666666, \"#ed7953\"], [0.7777777777777778, \"#fb9f3a\"], [0.8888888888888888, \"#fdca26\"], [1.0, \"#f0f921\"]], \"type\": \"heatmap\"}], \"heatmapgl\": [{\"colorbar\": {\"outlinewidth\": 0, \"ticks\": \"\"}, \"colorscale\": [[0.0, \"#0d0887\"], [0.1111111111111111, \"#46039f\"], [0.2222222222222222, \"#7201a8\"], [0.3333333333333333, \"#9c179e\"], [0.4444444444444444, \"#bd3786\"], [0.5555555555555556, \"#d8576b\"], [0.6666666666666666, \"#ed7953\"], [0.7777777777777778, \"#fb9f3a\"], [0.8888888888888888, \"#fdca26\"], [1.0, \"#f0f921\"]], \"type\": \"heatmapgl\"}], \"histogram\": [{\"marker\": {\"colorbar\": {\"outlinewidth\": 0, \"ticks\": \"\"}}, \"type\": \"histogram\"}], \"histogram2d\": [{\"colorbar\": {\"outlinewidth\": 0, \"ticks\": \"\"}, \"colorscale\": [[0.0, \"#0d0887\"], [0.1111111111111111, \"#46039f\"], [0.2222222222222222, \"#7201a8\"], [0.3333333333333333, \"#9c179e\"], [0.4444444444444444, \"#bd3786\"], [0.5555555555555556, \"#d8576b\"], [0.6666666666666666, \"#ed7953\"], [0.7777777777777778, \"#fb9f3a\"], [0.8888888888888888, \"#fdca26\"], [1.0, \"#f0f921\"]], \"type\": \"histogram2d\"}], \"histogram2dcontour\": [{\"colorbar\": {\"outlinewidth\": 0, \"ticks\": \"\"}, \"colorscale\": [[0.0, \"#0d0887\"], [0.1111111111111111, \"#46039f\"], [0.2222222222222222, \"#7201a8\"], [0.3333333333333333, \"#9c179e\"], [0.4444444444444444, \"#bd3786\"], [0.5555555555555556, \"#d8576b\"], [0.6666666666666666, \"#ed7953\"], [0.7777777777777778, \"#fb9f3a\"], [0.8888888888888888, \"#fdca26\"], [1.0, \"#f0f921\"]], \"type\": \"histogram2dcontour\"}], \"mesh3d\": [{\"colorbar\": {\"outlinewidth\": 0, \"ticks\": \"\"}, \"type\": \"mesh3d\"}], \"parcoords\": [{\"line\": {\"colorbar\": {\"outlinewidth\": 0, \"ticks\": \"\"}}, \"type\": \"parcoords\"}], \"pie\": [{\"automargin\": true, \"type\": \"pie\"}], \"scatter\": [{\"marker\": {\"colorbar\": {\"outlinewidth\": 0, \"ticks\": \"\"}}, \"type\": \"scatter\"}], \"scatter3d\": [{\"line\": {\"colorbar\": {\"outlinewidth\": 0, \"ticks\": \"\"}}, \"marker\": {\"colorbar\": {\"outlinewidth\": 0, \"ticks\": \"\"}}, \"type\": \"scatter3d\"}], \"scattercarpet\": [{\"marker\": {\"colorbar\": {\"outlinewidth\": 0, \"ticks\": \"\"}}, \"type\": \"scattercarpet\"}], \"scattergeo\": [{\"marker\": {\"colorbar\": {\"outlinewidth\": 0, \"ticks\": \"\"}}, \"type\": \"scattergeo\"}], \"scattergl\": [{\"marker\": {\"colorbar\": {\"outlinewidth\": 0, \"ticks\": \"\"}}, \"type\": \"scattergl\"}], \"scattermapbox\": [{\"marker\": {\"colorbar\": {\"outlinewidth\": 0, \"ticks\": \"\"}}, \"type\": \"scattermapbox\"}], \"scatterpolar\": [{\"marker\": {\"colorbar\": {\"outlinewidth\": 0, \"ticks\": \"\"}}, \"type\": \"scatterpolar\"}], \"scatterpolargl\": [{\"marker\": {\"colorbar\": {\"outlinewidth\": 0, \"ticks\": \"\"}}, \"type\": \"scatterpolargl\"}], \"scatterternary\": [{\"marker\": {\"colorbar\": {\"outlinewidth\": 0, \"ticks\": \"\"}}, \"type\": \"scatterternary\"}], \"surface\": [{\"colorbar\": {\"outlinewidth\": 0, \"ticks\": \"\"}, \"colorscale\": [[0.0, \"#0d0887\"], [0.1111111111111111, \"#46039f\"], [0.2222222222222222, \"#7201a8\"], [0.3333333333333333, \"#9c179e\"], [0.4444444444444444, \"#bd3786\"], [0.5555555555555556, \"#d8576b\"], [0.6666666666666666, \"#ed7953\"], [0.7777777777777778, \"#fb9f3a\"], [0.8888888888888888, \"#fdca26\"], [1.0, \"#f0f921\"]], \"type\": \"surface\"}], \"table\": [{\"cells\": {\"fill\": {\"color\": \"#EBF0F8\"}, \"line\": {\"color\": \"white\"}}, \"header\": {\"fill\": {\"color\": \"#C8D4E3\"}, \"line\": {\"color\": \"white\"}}, \"type\": \"table\"}]}, \"layout\": {\"annotationdefaults\": {\"arrowcolor\": \"#2a3f5f\", \"arrowhead\": 0, \"arrowwidth\": 1}, \"coloraxis\": {\"colorbar\": {\"outlinewidth\": 0, \"ticks\": \"\"}}, \"colorscale\": {\"diverging\": [[0, \"#8e0152\"], [0.1, \"#c51b7d\"], [0.2, \"#de77ae\"], [0.3, \"#f1b6da\"], [0.4, \"#fde0ef\"], [0.5, \"#f7f7f7\"], [0.6, \"#e6f5d0\"], [0.7, \"#b8e186\"], [0.8, \"#7fbc41\"], [0.9, \"#4d9221\"], [1, \"#276419\"]], \"sequential\": [[0.0, \"#0d0887\"], [0.1111111111111111, \"#46039f\"], [0.2222222222222222, \"#7201a8\"], [0.3333333333333333, \"#9c179e\"], [0.4444444444444444, \"#bd3786\"], [0.5555555555555556, \"#d8576b\"], [0.6666666666666666, \"#ed7953\"], [0.7777777777777778, \"#fb9f3a\"], [0.8888888888888888, \"#fdca26\"], [1.0, \"#f0f921\"]], \"sequentialminus\": [[0.0, \"#0d0887\"], [0.1111111111111111, \"#46039f\"], [0.2222222222222222, \"#7201a8\"], [0.3333333333333333, \"#9c179e\"], [0.4444444444444444, \"#bd3786\"], [0.5555555555555556, \"#d8576b\"], [0.6666666666666666, \"#ed7953\"], [0.7777777777777778, \"#fb9f3a\"], [0.8888888888888888, \"#fdca26\"], [1.0, \"#f0f921\"]]}, \"colorway\": [\"#636efa\", \"#EF553B\", \"#00cc96\", \"#ab63fa\", \"#FFA15A\", \"#19d3f3\", \"#FF6692\", \"#B6E880\", \"#FF97FF\", \"#FECB52\"], \"font\": {\"color\": \"#2a3f5f\"}, \"geo\": {\"bgcolor\": \"white\", \"lakecolor\": \"white\", \"landcolor\": \"#E5ECF6\", \"showlakes\": true, \"showland\": true, \"subunitcolor\": \"white\"}, \"hoverlabel\": {\"align\": \"left\"}, \"hovermode\": \"closest\", \"mapbox\": {\"style\": \"light\"}, \"paper_bgcolor\": \"white\", \"plot_bgcolor\": \"#E5ECF6\", \"polar\": {\"angularaxis\": {\"gridcolor\": \"white\", \"linecolor\": \"white\", \"ticks\": \"\"}, \"bgcolor\": \"#E5ECF6\", \"radialaxis\": {\"gridcolor\": \"white\", \"linecolor\": \"white\", \"ticks\": \"\"}}, \"scene\": {\"xaxis\": {\"backgroundcolor\": \"#E5ECF6\", \"gridcolor\": \"white\", \"gridwidth\": 2, \"linecolor\": \"white\", \"showbackground\": true, \"ticks\": \"\", \"zerolinecolor\": \"white\"}, \"yaxis\": {\"backgroundcolor\": \"#E5ECF6\", \"gridcolor\": \"white\", \"gridwidth\": 2, \"linecolor\": \"white\", \"showbackground\": true, \"ticks\": \"\", \"zerolinecolor\": \"white\"}, \"zaxis\": {\"backgroundcolor\": \"#E5ECF6\", \"gridcolor\": \"white\", \"gridwidth\": 2, \"linecolor\": \"white\", \"showbackground\": true, \"ticks\": \"\", \"zerolinecolor\": \"white\"}}, \"shapedefaults\": {\"line\": {\"color\": \"#2a3f5f\"}}, \"ternary\": {\"aaxis\": {\"gridcolor\": \"white\", \"linecolor\": \"white\", \"ticks\": \"\"}, \"baxis\": {\"gridcolor\": \"white\", \"linecolor\": \"white\", \"ticks\": \"\"}, \"bgcolor\": \"#E5ECF6\", \"caxis\": {\"gridcolor\": \"white\", \"linecolor\": \"white\", \"ticks\": \"\"}}, \"title\": {\"x\": 0.05}, \"xaxis\": {\"automargin\": true, \"gridcolor\": \"white\", \"linecolor\": \"white\", \"ticks\": \"\", \"title\": {\"standoff\": 15}, \"zerolinecolor\": \"white\", \"zerolinewidth\": 2}, \"yaxis\": {\"automargin\": true, \"gridcolor\": \"white\", \"linecolor\": \"white\", \"ticks\": \"\", \"title\": {\"standoff\": 15}, \"zerolinecolor\": \"white\", \"zerolinewidth\": 2}}}, \"title\": {\"font\": {\"color\": \"#4D5663\"}}, \"xaxis\": {\"gridcolor\": \"#E1E5ED\", \"showgrid\": true, \"tickfont\": {\"color\": \"#4D5663\"}, \"title\": {\"font\": {\"color\": \"#4D5663\"}, \"text\": \"\"}, \"zerolinecolor\": \"#E1E5ED\"}, \"yaxis\": {\"gridcolor\": \"#E1E5ED\", \"showgrid\": true, \"tickfont\": {\"color\": \"#4D5663\"}, \"title\": {\"font\": {\"color\": \"#4D5663\"}, \"text\": \"\"}, \"zerolinecolor\": \"#E1E5ED\"}},\n",
       "                        {\"showLink\": true, \"linkText\": \"Export to plot.ly\", \"plotlyServerURL\": \"https://plot.ly\", \"responsive\": true}\n",
       "                    ).then(function(){\n",
       "                            \n",
       "var gd = document.getElementById('dfb588af-080c-4e34-a234-426cd100bfbb');\n",
       "var x = new MutationObserver(function (mutations, observer) {{\n",
       "        var display = window.getComputedStyle(gd).display;\n",
       "        if (!display || display === 'none') {{\n",
       "            console.log([gd, 'removed!']);\n",
       "            Plotly.purge(gd);\n",
       "            observer.disconnect();\n",
       "        }}\n",
       "}});\n",
       "\n",
       "// Listen for the removal of the full notebook cells\n",
       "var notebookContainer = gd.closest('#notebook-container');\n",
       "if (notebookContainer) {{\n",
       "    x.observe(notebookContainer, {childList: true});\n",
       "}}\n",
       "\n",
       "// Listen for the clearing of the current output cell\n",
       "var outputEl = gd.closest('.output');\n",
       "if (outputEl) {{\n",
       "    x.observe(outputEl, {childList: true});\n",
       "}}\n",
       "\n",
       "                        })\n",
       "                };\n",
       "                });\n",
       "            </script>\n",
       "        </div>"
      ]
     },
     "metadata": {},
     "output_type": "display_data"
    }
   ],
   "source": [
    "df3 = pd.DataFrame({'x':[1,2,3,4,5],'y':[10,20,30,20,10],'z':[5,4,3,2,1]})\n",
    "df3.iplot(kind='surface',colorscale='rdylbu')"
   ]
  },
  {
   "cell_type": "markdown",
   "metadata": {},
   "source": [
    "## Spread"
   ]
  },
  {
   "cell_type": "code",
   "execution_count": 21,
   "metadata": {},
   "outputs": [
    {
     "data": {
      "application/vnd.plotly.v1+json": {
       "config": {
        "linkText": "Export to plot.ly",
        "plotlyServerURL": "https://plot.ly",
        "showLink": true
       },
       "data": [
        {
         "line": {
          "color": "rgba(255, 153, 51, 1.0)",
          "dash": "solid",
          "shape": "linear",
          "width": 1.3
         },
         "mode": "lines",
         "name": "A",
         "text": "",
         "type": "scatter",
         "x": [
          0,
          1,
          2,
          3,
          4,
          5,
          6,
          7,
          8,
          9,
          10,
          11,
          12,
          13,
          14,
          15,
          16,
          17,
          18,
          19,
          20,
          21,
          22,
          23,
          24,
          25,
          26,
          27,
          28,
          29,
          30,
          31,
          32,
          33,
          34,
          35,
          36,
          37,
          38,
          39,
          40,
          41,
          42,
          43,
          44,
          45,
          46,
          47,
          48,
          49,
          50,
          51,
          52,
          53,
          54,
          55,
          56,
          57,
          58,
          59,
          60,
          61,
          62,
          63,
          64,
          65,
          66,
          67,
          68,
          69,
          70,
          71,
          72,
          73,
          74,
          75,
          76,
          77,
          78,
          79,
          80,
          81,
          82,
          83,
          84,
          85,
          86,
          87,
          88,
          89,
          90,
          91,
          92,
          93,
          94,
          95,
          96,
          97,
          98,
          99
         ],
         "y": [
          0.06551037256099825,
          0.7787662777673576,
          1.2109220168503216,
          -0.164118398405124,
          -0.06953194857806134,
          1.066202048538722,
          -1.3290047735764563,
          -0.5661954082926168,
          -1.4795446786374782,
          0.5850867537280864,
          -1.6214043663476296,
          0.2281022915104834,
          -0.03266104341812228,
          -0.31529542239941,
          -0.8185165343462465,
          -0.9468500346127864,
          -0.5094364956867495,
          1.753022121579112,
          3.9780300131120603,
          -0.4147544481721648,
          -0.14963872632764225,
          1.3903039535346131,
          0.11798699784306298,
          -1.198799937094399,
          1.4131626285760492,
          0.623506501038244,
          0.8643831632654269,
          0.6752773092042728,
          -0.0711263241446468,
          0.18404130682510414,
          1.5405933704770725,
          -0.5126085695574668,
          -0.3885648449076173,
          -1.5388448445655147,
          -0.5000145318421976,
          1.0835766953611417,
          0.2237897443521966,
          1.1218991400304938,
          1.184719984221023,
          -0.6023434282954342,
          1.090344849883388,
          -0.3436379889241205,
          -0.5690894547955576,
          -1.6012940470392885,
          -3.3510027943928313,
          -0.8458239564084824,
          -1.4228331193628854,
          1.6847961973387284,
          0.8735325541867743,
          0.6969975174415938,
          -0.8003467642792428,
          -0.4400351866092966,
          0.12759747604828178,
          -0.6078004191603125,
          -0.45683564594752585,
          -1.0761795529594465,
          0.767820190317033,
          0.9036510765352602,
          2.3195076034254534,
          -0.7471444461857918,
          0.6229681285213532,
          -0.8448670190512532,
          1.1112053758052522,
          -0.37932375500455245,
          -2.7014109958197228,
          -1.2776112906769244,
          2.595391503109247,
          0.22384493791324778,
          0.9970759541901827,
          -0.7010617297315688,
          -0.47870937464473223,
          0.3347971428350504,
          1.0993453924680892,
          0.3240433573069802,
          -0.7252634214456634,
          0.22527502463488902,
          1.3781138065202578,
          -1.3504042254670332,
          -4.053651302513549,
          0.7216865598008689,
          -0.5003323289743481,
          0.5149434179673201,
          -0.4722870549872342,
          1.8179752612025275,
          0.9338008400773208,
          -0.6151732196400808,
          -1.5959820784883318,
          -0.8606323394451001,
          1.2019904263305907,
          -0.9188842057477389,
          0.633467463091969,
          0.36150603037861967,
          0.5176495875526188,
          -0.8151420430366462,
          1.1187007850174295,
          -2.621576836525829,
          -1.0653546708932358,
          -0.6714537483763512,
          -0.17538467944985758,
          -0.16881902219472808
         ]
        },
        {
         "line": {
          "color": "rgba(55, 128, 191, 1.0)",
          "dash": "solid",
          "shape": "linear",
          "width": 1.3
         },
         "mode": "lines",
         "name": "B",
         "text": "",
         "type": "scatter",
         "x": [
          0,
          1,
          2,
          3,
          4,
          5,
          6,
          7,
          8,
          9,
          10,
          11,
          12,
          13,
          14,
          15,
          16,
          17,
          18,
          19,
          20,
          21,
          22,
          23,
          24,
          25,
          26,
          27,
          28,
          29,
          30,
          31,
          32,
          33,
          34,
          35,
          36,
          37,
          38,
          39,
          40,
          41,
          42,
          43,
          44,
          45,
          46,
          47,
          48,
          49,
          50,
          51,
          52,
          53,
          54,
          55,
          56,
          57,
          58,
          59,
          60,
          61,
          62,
          63,
          64,
          65,
          66,
          67,
          68,
          69,
          70,
          71,
          72,
          73,
          74,
          75,
          76,
          77,
          78,
          79,
          80,
          81,
          82,
          83,
          84,
          85,
          86,
          87,
          88,
          89,
          90,
          91,
          92,
          93,
          94,
          95,
          96,
          97,
          98,
          99
         ],
         "y": [
          -1.0925650641931546,
          -1.1063010870224814,
          -0.32805306632209535,
          -1.8015176878336885,
          -0.1735327532380383,
          -0.08774588068587334,
          0.18757699718867998,
          0.6728859311887663,
          -0.7063785591459333,
          -1.5601290810082729,
          0.058848714728627294,
          0.40753255207102396,
          -0.24185126842710786,
          -0.1589405707360404,
          -3.6419230654539163,
          -1.278856426455618,
          -0.12506104010367203,
          -0.6999988206992263,
          -0.8975679054874393,
          -0.6776071391269884,
          -0.4627648216478146,
          2.626517695743942,
          -0.91040991382991,
          -2.88721680880961,
          -0.4151155407559168,
          -0.23674583789893922,
          1.298472563980927,
          2.9691566852896694,
          0.2512798077666682,
          -0.060894981563443196,
          -0.4861008577562129,
          -0.5640569278924469,
          2.032606097220788,
          -1.8478501295804048,
          1.080680795367581,
          -0.18081697204116465,
          0.5343053846985427,
          1.8328987073087728,
          0.8825543638387845,
          0.00758723758367448,
          -1.812680010503773,
          -0.3894181938587775,
          -0.9156059830862028,
          2.0765759332108775,
          -0.9845877565924966,
          -0.11513168690523837,
          0.01975359983273998,
          1.5525461151094744,
          2.174439604808439,
          -1.3259988649521035,
          -0.9175421334719854,
          0.7832487273727792,
          0.718982414490362,
          -0.5559288782298727,
          -0.2637041754949957,
          -0.5085266837885446,
          0.5267515240175117,
          -1.5125519857794338,
          0.5912124711191508,
          0.9485835777097431,
          0.5060014073562296,
          -1.383374247408542,
          -0.5827753650039929,
          -0.42029786340586767,
          2.396767848055817,
          -1.321557164877903,
          -0.26939673156797905,
          0.21659628952068838,
          -1.7147787346861005,
          -2.403180951945503,
          -0.2176716191001402,
          -0.30067465967466783,
          0.7020810081753037,
          0.07107137979934369,
          1.679478935083888,
          0.25046020425850907,
          0.494810949520932,
          -0.3815902451811281,
          -0.32054753212638537,
          1.5112283430196483,
          -0.3565509952124511,
          -0.34060527990923545,
          -0.6522886642783906,
          -2.1006446882605343,
          0.34337080965320393,
          -0.6344058007008451,
          -0.5614985283201149,
          1.3246267897107706,
          1.0700683834779376,
          -1.5535964408637803,
          -0.8501136729413292,
          -1.0023413559710757,
          0.5988948939086691,
          1.23651459677043,
          -1.4467738926798768,
          0.8923285883848271,
          1.4467820432217038,
          -0.775252461367255,
          0.7622501319698802,
          0.2657847128074883
         ]
        },
        {
         "connectgaps": false,
         "fill": "tozeroy",
         "line": {
          "color": "green",
          "dash": "solid",
          "shape": "linear",
          "width": 0.5
         },
         "mode": "lines",
         "name": "Spread",
         "showlegend": false,
         "type": "scatter",
         "x": [
          0,
          1,
          2,
          3,
          4,
          5,
          6,
          7,
          8,
          9,
          10,
          11,
          12,
          13,
          14,
          15,
          16,
          17,
          18,
          19,
          20,
          21,
          22,
          23,
          24,
          25,
          26,
          27,
          28,
          29,
          30,
          31,
          32,
          33,
          34,
          35,
          36,
          37,
          38,
          39,
          40,
          41,
          42,
          43,
          44,
          45,
          46,
          47,
          48,
          49,
          50,
          51,
          52,
          53,
          54,
          55,
          56,
          57,
          58,
          59,
          60,
          61,
          62,
          63,
          64,
          65,
          66,
          67,
          68,
          69,
          70,
          71,
          72,
          73,
          74,
          75,
          76,
          77,
          78,
          79,
          80,
          81,
          82,
          83,
          84,
          85,
          86,
          87,
          88,
          89,
          90,
          91,
          92,
          93,
          94,
          95,
          96,
          97,
          98,
          99
         ],
         "xaxis": "x2",
         "y": [
          1.1580754367541528,
          1.885067364789839,
          1.538975083172417,
          1.6373992894285645,
          0.10400080465997695,
          1.1539479292245953,
          "",
          "",
          "",
          2.1452158347363595,
          "",
          "",
          0.20919022500898557,
          "",
          2.8234065311076697,
          0.33200639184283154,
          "",
          2.4530209422783384,
          4.8755979185994995,
          0.26285269095482366,
          0.3131260953201723,
          "",
          1.028396911672973,
          1.688416871715211,
          1.828278169331966,
          0.8602523389371832,
          "",
          "",
          "",
          0.24493628838854734,
          2.0266942282332856,
          0.05144835833498007,
          "",
          0.3090052850148901,
          "",
          1.2643936674023064,
          "",
          "",
          0.3021656203822385,
          "",
          2.903024860387161,
          0.04578020493465701,
          0.34651652829064516,
          "",
          "",
          "",
          "",
          0.13225008222925405,
          "",
          2.022996382393697,
          0.11719536919274265,
          "",
          "",
          "",
          "",
          "",
          0.24106866629952128,
          2.416203062314694,
          1.7282951323063025,
          "",
          0.11696672116512363,
          0.5385072283572888,
          1.693980740809245,
          0.04097410840131521,
          "",
          0.04394587420097862,
          2.864788234677226,
          0.007248648392559398,
          2.7118546888762833,
          1.7021192222139345,
          "",
          0.6354718025097182,
          0.39726438429278543,
          0.2529719775076365,
          "",
          "",
          0.8833028569993258,
          "",
          "",
          "",
          "",
          0.8555486978765556,
          0.18000160929115638,
          3.9186199494630616,
          0.5904300304241168,
          0.01923258106076431,
          "",
          "",
          0.13192204285265308,
          0.6347122351160415,
          1.4835811360332982,
          1.3638473863496954,
          "",
          "",
          2.5654746776973063,
          "",
          "",
          0.10379871299090382,
          "",
          ""
         ],
         "yaxis": "y2"
        },
        {
         "connectgaps": false,
         "fill": "tozeroy",
         "line": {
          "color": "red",
          "dash": "solid",
          "shape": "linear",
          "width": 0.5
         },
         "mode": "lines",
         "name": "Spread",
         "showlegend": false,
         "type": "scatter",
         "x": [
          0,
          1,
          2,
          3,
          4,
          5,
          6,
          7,
          8,
          9,
          10,
          11,
          12,
          13,
          14,
          15,
          16,
          17,
          18,
          19,
          20,
          21,
          22,
          23,
          24,
          25,
          26,
          27,
          28,
          29,
          30,
          31,
          32,
          33,
          34,
          35,
          36,
          37,
          38,
          39,
          40,
          41,
          42,
          43,
          44,
          45,
          46,
          47,
          48,
          49,
          50,
          51,
          52,
          53,
          54,
          55,
          56,
          57,
          58,
          59,
          60,
          61,
          62,
          63,
          64,
          65,
          66,
          67,
          68,
          69,
          70,
          71,
          72,
          73,
          74,
          75,
          76,
          77,
          78,
          79,
          80,
          81,
          82,
          83,
          84,
          85,
          86,
          87,
          88,
          89,
          90,
          91,
          92,
          93,
          94,
          95,
          96,
          97,
          98,
          99
         ],
         "xaxis": "x2",
         "y": [
          "",
          "",
          "",
          "",
          "",
          "",
          -1.5165817707651363,
          -1.239081339481383,
          -0.7731661194915449,
          "",
          -1.6802530810762568,
          -0.17943026056054057,
          "",
          -0.1563548516633696,
          "",
          "",
          -0.3843754555830775,
          "",
          "",
          "",
          "",
          -1.2362137422093287,
          "",
          "",
          "",
          "",
          -0.43408940071550006,
          -2.2938793760853966,
          -0.322406131911315,
          "",
          "",
          "",
          -2.4211709421284056,
          "",
          -1.5806953272097786,
          "",
          -0.31051564034634616,
          -0.710999567278279,
          "",
          -0.6099306658791087,
          "",
          "",
          "",
          -3.6778699802501658,
          -2.366415037800335,
          -0.7306922695032441,
          -1.4425867191956254,
          "",
          -1.3009070506216647,
          "",
          "",
          -1.2232839139820757,
          -0.5913849384420803,
          -0.051871540930439775,
          -0.19313147045253015,
          -0.5676528691709019,
          "",
          "",
          "",
          -1.6957280238955348,
          "",
          "",
          "",
          "",
          -5.09817884387554,
          "",
          "",
          "",
          "",
          "",
          -0.261037755544592,
          "",
          "",
          "",
          -2.4047423565295514,
          -0.025185179623620046,
          "",
          -0.968813980285905,
          -3.7331037703871632,
          -0.7895417832187793,
          -0.143781333761897,
          "",
          "",
          "",
          "",
          "",
          -1.034483550168217,
          -2.1852591291558707,
          "",
          "",
          "",
          "",
          -0.08124530635605032,
          -2.051656639807076,
          "",
          -3.5139054249106563,
          -2.5121367141149396,
          "",
          -0.9376348114197378,
          -0.4346037350022164
         ],
         "yaxis": "y2"
        }
       ],
       "layout": {
        "hovermode": "x",
        "legend": {
         "bgcolor": "#F5F6F9",
         "font": {
          "color": "#4D5663"
         }
        },
        "paper_bgcolor": "#F5F6F9",
        "plot_bgcolor": "#F5F6F9",
        "template": {
         "data": {
          "bar": [
           {
            "error_x": {
             "color": "#2a3f5f"
            },
            "error_y": {
             "color": "#2a3f5f"
            },
            "marker": {
             "line": {
              "color": "#E5ECF6",
              "width": 0.5
             }
            },
            "type": "bar"
           }
          ],
          "barpolar": [
           {
            "marker": {
             "line": {
              "color": "#E5ECF6",
              "width": 0.5
             }
            },
            "type": "barpolar"
           }
          ],
          "carpet": [
           {
            "aaxis": {
             "endlinecolor": "#2a3f5f",
             "gridcolor": "white",
             "linecolor": "white",
             "minorgridcolor": "white",
             "startlinecolor": "#2a3f5f"
            },
            "baxis": {
             "endlinecolor": "#2a3f5f",
             "gridcolor": "white",
             "linecolor": "white",
             "minorgridcolor": "white",
             "startlinecolor": "#2a3f5f"
            },
            "type": "carpet"
           }
          ],
          "choropleth": [
           {
            "colorbar": {
             "outlinewidth": 0,
             "ticks": ""
            },
            "type": "choropleth"
           }
          ],
          "contour": [
           {
            "colorbar": {
             "outlinewidth": 0,
             "ticks": ""
            },
            "colorscale": [
             [
              0,
              "#0d0887"
             ],
             [
              0.1111111111111111,
              "#46039f"
             ],
             [
              0.2222222222222222,
              "#7201a8"
             ],
             [
              0.3333333333333333,
              "#9c179e"
             ],
             [
              0.4444444444444444,
              "#bd3786"
             ],
             [
              0.5555555555555556,
              "#d8576b"
             ],
             [
              0.6666666666666666,
              "#ed7953"
             ],
             [
              0.7777777777777778,
              "#fb9f3a"
             ],
             [
              0.8888888888888888,
              "#fdca26"
             ],
             [
              1,
              "#f0f921"
             ]
            ],
            "type": "contour"
           }
          ],
          "contourcarpet": [
           {
            "colorbar": {
             "outlinewidth": 0,
             "ticks": ""
            },
            "type": "contourcarpet"
           }
          ],
          "heatmap": [
           {
            "colorbar": {
             "outlinewidth": 0,
             "ticks": ""
            },
            "colorscale": [
             [
              0,
              "#0d0887"
             ],
             [
              0.1111111111111111,
              "#46039f"
             ],
             [
              0.2222222222222222,
              "#7201a8"
             ],
             [
              0.3333333333333333,
              "#9c179e"
             ],
             [
              0.4444444444444444,
              "#bd3786"
             ],
             [
              0.5555555555555556,
              "#d8576b"
             ],
             [
              0.6666666666666666,
              "#ed7953"
             ],
             [
              0.7777777777777778,
              "#fb9f3a"
             ],
             [
              0.8888888888888888,
              "#fdca26"
             ],
             [
              1,
              "#f0f921"
             ]
            ],
            "type": "heatmap"
           }
          ],
          "heatmapgl": [
           {
            "colorbar": {
             "outlinewidth": 0,
             "ticks": ""
            },
            "colorscale": [
             [
              0,
              "#0d0887"
             ],
             [
              0.1111111111111111,
              "#46039f"
             ],
             [
              0.2222222222222222,
              "#7201a8"
             ],
             [
              0.3333333333333333,
              "#9c179e"
             ],
             [
              0.4444444444444444,
              "#bd3786"
             ],
             [
              0.5555555555555556,
              "#d8576b"
             ],
             [
              0.6666666666666666,
              "#ed7953"
             ],
             [
              0.7777777777777778,
              "#fb9f3a"
             ],
             [
              0.8888888888888888,
              "#fdca26"
             ],
             [
              1,
              "#f0f921"
             ]
            ],
            "type": "heatmapgl"
           }
          ],
          "histogram": [
           {
            "marker": {
             "colorbar": {
              "outlinewidth": 0,
              "ticks": ""
             }
            },
            "type": "histogram"
           }
          ],
          "histogram2d": [
           {
            "colorbar": {
             "outlinewidth": 0,
             "ticks": ""
            },
            "colorscale": [
             [
              0,
              "#0d0887"
             ],
             [
              0.1111111111111111,
              "#46039f"
             ],
             [
              0.2222222222222222,
              "#7201a8"
             ],
             [
              0.3333333333333333,
              "#9c179e"
             ],
             [
              0.4444444444444444,
              "#bd3786"
             ],
             [
              0.5555555555555556,
              "#d8576b"
             ],
             [
              0.6666666666666666,
              "#ed7953"
             ],
             [
              0.7777777777777778,
              "#fb9f3a"
             ],
             [
              0.8888888888888888,
              "#fdca26"
             ],
             [
              1,
              "#f0f921"
             ]
            ],
            "type": "histogram2d"
           }
          ],
          "histogram2dcontour": [
           {
            "colorbar": {
             "outlinewidth": 0,
             "ticks": ""
            },
            "colorscale": [
             [
              0,
              "#0d0887"
             ],
             [
              0.1111111111111111,
              "#46039f"
             ],
             [
              0.2222222222222222,
              "#7201a8"
             ],
             [
              0.3333333333333333,
              "#9c179e"
             ],
             [
              0.4444444444444444,
              "#bd3786"
             ],
             [
              0.5555555555555556,
              "#d8576b"
             ],
             [
              0.6666666666666666,
              "#ed7953"
             ],
             [
              0.7777777777777778,
              "#fb9f3a"
             ],
             [
              0.8888888888888888,
              "#fdca26"
             ],
             [
              1,
              "#f0f921"
             ]
            ],
            "type": "histogram2dcontour"
           }
          ],
          "mesh3d": [
           {
            "colorbar": {
             "outlinewidth": 0,
             "ticks": ""
            },
            "type": "mesh3d"
           }
          ],
          "parcoords": [
           {
            "line": {
             "colorbar": {
              "outlinewidth": 0,
              "ticks": ""
             }
            },
            "type": "parcoords"
           }
          ],
          "pie": [
           {
            "automargin": true,
            "type": "pie"
           }
          ],
          "scatter": [
           {
            "marker": {
             "colorbar": {
              "outlinewidth": 0,
              "ticks": ""
             }
            },
            "type": "scatter"
           }
          ],
          "scatter3d": [
           {
            "line": {
             "colorbar": {
              "outlinewidth": 0,
              "ticks": ""
             }
            },
            "marker": {
             "colorbar": {
              "outlinewidth": 0,
              "ticks": ""
             }
            },
            "type": "scatter3d"
           }
          ],
          "scattercarpet": [
           {
            "marker": {
             "colorbar": {
              "outlinewidth": 0,
              "ticks": ""
             }
            },
            "type": "scattercarpet"
           }
          ],
          "scattergeo": [
           {
            "marker": {
             "colorbar": {
              "outlinewidth": 0,
              "ticks": ""
             }
            },
            "type": "scattergeo"
           }
          ],
          "scattergl": [
           {
            "marker": {
             "colorbar": {
              "outlinewidth": 0,
              "ticks": ""
             }
            },
            "type": "scattergl"
           }
          ],
          "scattermapbox": [
           {
            "marker": {
             "colorbar": {
              "outlinewidth": 0,
              "ticks": ""
             }
            },
            "type": "scattermapbox"
           }
          ],
          "scatterpolar": [
           {
            "marker": {
             "colorbar": {
              "outlinewidth": 0,
              "ticks": ""
             }
            },
            "type": "scatterpolar"
           }
          ],
          "scatterpolargl": [
           {
            "marker": {
             "colorbar": {
              "outlinewidth": 0,
              "ticks": ""
             }
            },
            "type": "scatterpolargl"
           }
          ],
          "scatterternary": [
           {
            "marker": {
             "colorbar": {
              "outlinewidth": 0,
              "ticks": ""
             }
            },
            "type": "scatterternary"
           }
          ],
          "surface": [
           {
            "colorbar": {
             "outlinewidth": 0,
             "ticks": ""
            },
            "colorscale": [
             [
              0,
              "#0d0887"
             ],
             [
              0.1111111111111111,
              "#46039f"
             ],
             [
              0.2222222222222222,
              "#7201a8"
             ],
             [
              0.3333333333333333,
              "#9c179e"
             ],
             [
              0.4444444444444444,
              "#bd3786"
             ],
             [
              0.5555555555555556,
              "#d8576b"
             ],
             [
              0.6666666666666666,
              "#ed7953"
             ],
             [
              0.7777777777777778,
              "#fb9f3a"
             ],
             [
              0.8888888888888888,
              "#fdca26"
             ],
             [
              1,
              "#f0f921"
             ]
            ],
            "type": "surface"
           }
          ],
          "table": [
           {
            "cells": {
             "fill": {
              "color": "#EBF0F8"
             },
             "line": {
              "color": "white"
             }
            },
            "header": {
             "fill": {
              "color": "#C8D4E3"
             },
             "line": {
              "color": "white"
             }
            },
            "type": "table"
           }
          ]
         },
         "layout": {
          "annotationdefaults": {
           "arrowcolor": "#2a3f5f",
           "arrowhead": 0,
           "arrowwidth": 1
          },
          "coloraxis": {
           "colorbar": {
            "outlinewidth": 0,
            "ticks": ""
           }
          },
          "colorscale": {
           "diverging": [
            [
             0,
             "#8e0152"
            ],
            [
             0.1,
             "#c51b7d"
            ],
            [
             0.2,
             "#de77ae"
            ],
            [
             0.3,
             "#f1b6da"
            ],
            [
             0.4,
             "#fde0ef"
            ],
            [
             0.5,
             "#f7f7f7"
            ],
            [
             0.6,
             "#e6f5d0"
            ],
            [
             0.7,
             "#b8e186"
            ],
            [
             0.8,
             "#7fbc41"
            ],
            [
             0.9,
             "#4d9221"
            ],
            [
             1,
             "#276419"
            ]
           ],
           "sequential": [
            [
             0,
             "#0d0887"
            ],
            [
             0.1111111111111111,
             "#46039f"
            ],
            [
             0.2222222222222222,
             "#7201a8"
            ],
            [
             0.3333333333333333,
             "#9c179e"
            ],
            [
             0.4444444444444444,
             "#bd3786"
            ],
            [
             0.5555555555555556,
             "#d8576b"
            ],
            [
             0.6666666666666666,
             "#ed7953"
            ],
            [
             0.7777777777777778,
             "#fb9f3a"
            ],
            [
             0.8888888888888888,
             "#fdca26"
            ],
            [
             1,
             "#f0f921"
            ]
           ],
           "sequentialminus": [
            [
             0,
             "#0d0887"
            ],
            [
             0.1111111111111111,
             "#46039f"
            ],
            [
             0.2222222222222222,
             "#7201a8"
            ],
            [
             0.3333333333333333,
             "#9c179e"
            ],
            [
             0.4444444444444444,
             "#bd3786"
            ],
            [
             0.5555555555555556,
             "#d8576b"
            ],
            [
             0.6666666666666666,
             "#ed7953"
            ],
            [
             0.7777777777777778,
             "#fb9f3a"
            ],
            [
             0.8888888888888888,
             "#fdca26"
            ],
            [
             1,
             "#f0f921"
            ]
           ]
          },
          "colorway": [
           "#636efa",
           "#EF553B",
           "#00cc96",
           "#ab63fa",
           "#FFA15A",
           "#19d3f3",
           "#FF6692",
           "#B6E880",
           "#FF97FF",
           "#FECB52"
          ],
          "font": {
           "color": "#2a3f5f"
          },
          "geo": {
           "bgcolor": "white",
           "lakecolor": "white",
           "landcolor": "#E5ECF6",
           "showlakes": true,
           "showland": true,
           "subunitcolor": "white"
          },
          "hoverlabel": {
           "align": "left"
          },
          "hovermode": "closest",
          "mapbox": {
           "style": "light"
          },
          "paper_bgcolor": "white",
          "plot_bgcolor": "#E5ECF6",
          "polar": {
           "angularaxis": {
            "gridcolor": "white",
            "linecolor": "white",
            "ticks": ""
           },
           "bgcolor": "#E5ECF6",
           "radialaxis": {
            "gridcolor": "white",
            "linecolor": "white",
            "ticks": ""
           }
          },
          "scene": {
           "xaxis": {
            "backgroundcolor": "#E5ECF6",
            "gridcolor": "white",
            "gridwidth": 2,
            "linecolor": "white",
            "showbackground": true,
            "ticks": "",
            "zerolinecolor": "white"
           },
           "yaxis": {
            "backgroundcolor": "#E5ECF6",
            "gridcolor": "white",
            "gridwidth": 2,
            "linecolor": "white",
            "showbackground": true,
            "ticks": "",
            "zerolinecolor": "white"
           },
           "zaxis": {
            "backgroundcolor": "#E5ECF6",
            "gridcolor": "white",
            "gridwidth": 2,
            "linecolor": "white",
            "showbackground": true,
            "ticks": "",
            "zerolinecolor": "white"
           }
          },
          "shapedefaults": {
           "line": {
            "color": "#2a3f5f"
           }
          },
          "ternary": {
           "aaxis": {
            "gridcolor": "white",
            "linecolor": "white",
            "ticks": ""
           },
           "baxis": {
            "gridcolor": "white",
            "linecolor": "white",
            "ticks": ""
           },
           "bgcolor": "#E5ECF6",
           "caxis": {
            "gridcolor": "white",
            "linecolor": "white",
            "ticks": ""
           }
          },
          "title": {
           "x": 0.05
          },
          "xaxis": {
           "automargin": true,
           "gridcolor": "white",
           "linecolor": "white",
           "ticks": "",
           "title": {
            "standoff": 15
           },
           "zerolinecolor": "white",
           "zerolinewidth": 2
          },
          "yaxis": {
           "automargin": true,
           "gridcolor": "white",
           "linecolor": "white",
           "ticks": "",
           "title": {
            "standoff": 15
           },
           "zerolinecolor": "white",
           "zerolinewidth": 2
          }
         }
        },
        "title": {
         "font": {
          "color": "#4D5663"
         }
        },
        "xaxis": {
         "gridcolor": "#E1E5ED",
         "showgrid": true,
         "tickfont": {
          "color": "#4D5663"
         },
         "title": {
          "font": {
           "color": "#4D5663"
          },
          "text": ""
         },
         "zerolinecolor": "#E1E5ED"
        },
        "xaxis2": {
         "anchor": "y2",
         "gridcolor": "#E1E5ED",
         "showgrid": true,
         "showticklabels": false,
         "tickfont": {
          "color": "#4D5663"
         },
         "title": {
          "font": {
           "color": "#4D5663"
          },
          "text": ""
         },
         "zerolinecolor": "#E1E5ED"
        },
        "yaxis": {
         "domain": [
          0.3,
          1
         ],
         "gridcolor": "#E1E5ED",
         "showgrid": true,
         "tickfont": {
          "color": "#4D5663"
         },
         "title": {
          "font": {
           "color": "#4D5663"
          },
          "text": ""
         },
         "zerolinecolor": "#E1E5ED"
        },
        "yaxis2": {
         "domain": [
          0,
          0.25
         ],
         "gridcolor": "#E1E5ED",
         "showgrid": true,
         "tickfont": {
          "color": "#4D5663"
         },
         "title": {
          "font": {
           "color": "#4D5663"
          },
          "text": "Spread"
         },
         "zerolinecolor": "#E1E5ED"
        }
       }
      },
      "text/html": [
       "<div>\n",
       "        \n",
       "        \n",
       "            <div id=\"4335afae-ed2d-4da8-b4a7-44566e0ace6e\" class=\"plotly-graph-div\" style=\"height:525px; width:100%;\"></div>\n",
       "            <script type=\"text/javascript\">\n",
       "                require([\"plotly\"], function(Plotly) {\n",
       "                    window.PLOTLYENV=window.PLOTLYENV || {};\n",
       "                    window.PLOTLYENV.BASE_URL='https://plot.ly';\n",
       "                    \n",
       "                if (document.getElementById(\"4335afae-ed2d-4da8-b4a7-44566e0ace6e\")) {\n",
       "                    Plotly.newPlot(\n",
       "                        '4335afae-ed2d-4da8-b4a7-44566e0ace6e',\n",
       "                        [{\"line\": {\"color\": \"rgba(255, 153, 51, 1.0)\", \"dash\": \"solid\", \"shape\": \"linear\", \"width\": 1.3}, \"mode\": \"lines\", \"name\": \"A\", \"text\": \"\", \"type\": \"scatter\", \"x\": [0, 1, 2, 3, 4, 5, 6, 7, 8, 9, 10, 11, 12, 13, 14, 15, 16, 17, 18, 19, 20, 21, 22, 23, 24, 25, 26, 27, 28, 29, 30, 31, 32, 33, 34, 35, 36, 37, 38, 39, 40, 41, 42, 43, 44, 45, 46, 47, 48, 49, 50, 51, 52, 53, 54, 55, 56, 57, 58, 59, 60, 61, 62, 63, 64, 65, 66, 67, 68, 69, 70, 71, 72, 73, 74, 75, 76, 77, 78, 79, 80, 81, 82, 83, 84, 85, 86, 87, 88, 89, 90, 91, 92, 93, 94, 95, 96, 97, 98, 99], \"y\": [0.06551037256099825, 0.7787662777673576, 1.2109220168503216, -0.164118398405124, -0.06953194857806134, 1.066202048538722, -1.3290047735764563, -0.5661954082926168, -1.4795446786374782, 0.5850867537280864, -1.6214043663476296, 0.2281022915104834, -0.03266104341812228, -0.31529542239941, -0.8185165343462465, -0.9468500346127864, -0.5094364956867495, 1.753022121579112, 3.9780300131120603, -0.4147544481721648, -0.14963872632764225, 1.3903039535346131, 0.11798699784306298, -1.198799937094399, 1.4131626285760492, 0.623506501038244, 0.8643831632654269, 0.6752773092042728, -0.0711263241446468, 0.18404130682510414, 1.5405933704770725, -0.5126085695574668, -0.3885648449076173, -1.5388448445655147, -0.5000145318421976, 1.0835766953611417, 0.2237897443521966, 1.1218991400304938, 1.184719984221023, -0.6023434282954342, 1.090344849883388, -0.3436379889241205, -0.5690894547955576, -1.6012940470392885, -3.3510027943928313, -0.8458239564084824, -1.4228331193628854, 1.6847961973387284, 0.8735325541867743, 0.6969975174415938, -0.8003467642792428, -0.4400351866092966, 0.12759747604828178, -0.6078004191603125, -0.45683564594752585, -1.0761795529594465, 0.767820190317033, 0.9036510765352602, 2.3195076034254534, -0.7471444461857918, 0.6229681285213532, -0.8448670190512532, 1.1112053758052522, -0.37932375500455245, -2.7014109958197228, -1.2776112906769244, 2.595391503109247, 0.22384493791324778, 0.9970759541901827, -0.7010617297315688, -0.47870937464473223, 0.3347971428350504, 1.0993453924680892, 0.3240433573069802, -0.7252634214456634, 0.22527502463488902, 1.3781138065202578, -1.3504042254670332, -4.053651302513549, 0.7216865598008689, -0.5003323289743481, 0.5149434179673201, -0.4722870549872342, 1.8179752612025275, 0.9338008400773208, -0.6151732196400808, -1.5959820784883318, -0.8606323394451001, 1.2019904263305907, -0.9188842057477389, 0.633467463091969, 0.36150603037861967, 0.5176495875526188, -0.8151420430366462, 1.1187007850174295, -2.621576836525829, -1.0653546708932358, -0.6714537483763512, -0.17538467944985758, -0.16881902219472808]}, {\"line\": {\"color\": \"rgba(55, 128, 191, 1.0)\", \"dash\": \"solid\", \"shape\": \"linear\", \"width\": 1.3}, \"mode\": \"lines\", \"name\": \"B\", \"text\": \"\", \"type\": \"scatter\", \"x\": [0, 1, 2, 3, 4, 5, 6, 7, 8, 9, 10, 11, 12, 13, 14, 15, 16, 17, 18, 19, 20, 21, 22, 23, 24, 25, 26, 27, 28, 29, 30, 31, 32, 33, 34, 35, 36, 37, 38, 39, 40, 41, 42, 43, 44, 45, 46, 47, 48, 49, 50, 51, 52, 53, 54, 55, 56, 57, 58, 59, 60, 61, 62, 63, 64, 65, 66, 67, 68, 69, 70, 71, 72, 73, 74, 75, 76, 77, 78, 79, 80, 81, 82, 83, 84, 85, 86, 87, 88, 89, 90, 91, 92, 93, 94, 95, 96, 97, 98, 99], \"y\": [-1.0925650641931546, -1.1063010870224814, -0.32805306632209535, -1.8015176878336885, -0.1735327532380383, -0.08774588068587334, 0.18757699718867998, 0.6728859311887663, -0.7063785591459333, -1.5601290810082729, 0.058848714728627294, 0.40753255207102396, -0.24185126842710786, -0.1589405707360404, -3.6419230654539163, -1.278856426455618, -0.12506104010367203, -0.6999988206992263, -0.8975679054874393, -0.6776071391269884, -0.4627648216478146, 2.626517695743942, -0.91040991382991, -2.88721680880961, -0.4151155407559168, -0.23674583789893922, 1.298472563980927, 2.9691566852896694, 0.2512798077666682, -0.060894981563443196, -0.4861008577562129, -0.5640569278924469, 2.032606097220788, -1.8478501295804048, 1.080680795367581, -0.18081697204116465, 0.5343053846985427, 1.8328987073087728, 0.8825543638387845, 0.00758723758367448, -1.812680010503773, -0.3894181938587775, -0.9156059830862028, 2.0765759332108775, -0.9845877565924966, -0.11513168690523837, 0.01975359983273998, 1.5525461151094744, 2.174439604808439, -1.3259988649521035, -0.9175421334719854, 0.7832487273727792, 0.718982414490362, -0.5559288782298727, -0.2637041754949957, -0.5085266837885446, 0.5267515240175117, -1.5125519857794338, 0.5912124711191508, 0.9485835777097431, 0.5060014073562296, -1.383374247408542, -0.5827753650039929, -0.42029786340586767, 2.396767848055817, -1.321557164877903, -0.26939673156797905, 0.21659628952068838, -1.7147787346861005, -2.403180951945503, -0.2176716191001402, -0.30067465967466783, 0.7020810081753037, 0.07107137979934369, 1.679478935083888, 0.25046020425850907, 0.494810949520932, -0.3815902451811281, -0.32054753212638537, 1.5112283430196483, -0.3565509952124511, -0.34060527990923545, -0.6522886642783906, -2.1006446882605343, 0.34337080965320393, -0.6344058007008451, -0.5614985283201149, 1.3246267897107706, 1.0700683834779376, -1.5535964408637803, -0.8501136729413292, -1.0023413559710757, 0.5988948939086691, 1.23651459677043, -1.4467738926798768, 0.8923285883848271, 1.4467820432217038, -0.775252461367255, 0.7622501319698802, 0.2657847128074883]}, {\"connectgaps\": false, \"fill\": \"tozeroy\", \"line\": {\"color\": \"green\", \"dash\": \"solid\", \"shape\": \"linear\", \"width\": 0.5}, \"mode\": \"lines\", \"name\": \"Spread\", \"showlegend\": false, \"type\": \"scatter\", \"x\": [0, 1, 2, 3, 4, 5, 6, 7, 8, 9, 10, 11, 12, 13, 14, 15, 16, 17, 18, 19, 20, 21, 22, 23, 24, 25, 26, 27, 28, 29, 30, 31, 32, 33, 34, 35, 36, 37, 38, 39, 40, 41, 42, 43, 44, 45, 46, 47, 48, 49, 50, 51, 52, 53, 54, 55, 56, 57, 58, 59, 60, 61, 62, 63, 64, 65, 66, 67, 68, 69, 70, 71, 72, 73, 74, 75, 76, 77, 78, 79, 80, 81, 82, 83, 84, 85, 86, 87, 88, 89, 90, 91, 92, 93, 94, 95, 96, 97, 98, 99], \"xaxis\": \"x2\", \"y\": [1.1580754367541528, 1.885067364789839, 1.538975083172417, 1.6373992894285645, 0.10400080465997695, 1.1539479292245953, \"\", \"\", \"\", 2.1452158347363595, \"\", \"\", 0.20919022500898557, \"\", 2.8234065311076697, 0.33200639184283154, \"\", 2.4530209422783384, 4.8755979185994995, 0.26285269095482366, 0.3131260953201723, \"\", 1.028396911672973, 1.688416871715211, 1.828278169331966, 0.8602523389371832, \"\", \"\", \"\", 0.24493628838854734, 2.0266942282332856, 0.05144835833498007, \"\", 0.3090052850148901, \"\", 1.2643936674023064, \"\", \"\", 0.3021656203822385, \"\", 2.903024860387161, 0.04578020493465701, 0.34651652829064516, \"\", \"\", \"\", \"\", 0.13225008222925405, \"\", 2.022996382393697, 0.11719536919274265, \"\", \"\", \"\", \"\", \"\", 0.24106866629952128, 2.416203062314694, 1.7282951323063025, \"\", 0.11696672116512363, 0.5385072283572888, 1.693980740809245, 0.04097410840131521, \"\", 0.04394587420097862, 2.864788234677226, 0.007248648392559398, 2.7118546888762833, 1.7021192222139345, \"\", 0.6354718025097182, 0.39726438429278543, 0.2529719775076365, \"\", \"\", 0.8833028569993258, \"\", \"\", \"\", \"\", 0.8555486978765556, 0.18000160929115638, 3.9186199494630616, 0.5904300304241168, 0.01923258106076431, \"\", \"\", 0.13192204285265308, 0.6347122351160415, 1.4835811360332982, 1.3638473863496954, \"\", \"\", 2.5654746776973063, \"\", \"\", 0.10379871299090382, \"\", \"\"], \"yaxis\": \"y2\"}, {\"connectgaps\": false, \"fill\": \"tozeroy\", \"line\": {\"color\": \"red\", \"dash\": \"solid\", \"shape\": \"linear\", \"width\": 0.5}, \"mode\": \"lines\", \"name\": \"Spread\", \"showlegend\": false, \"type\": \"scatter\", \"x\": [0, 1, 2, 3, 4, 5, 6, 7, 8, 9, 10, 11, 12, 13, 14, 15, 16, 17, 18, 19, 20, 21, 22, 23, 24, 25, 26, 27, 28, 29, 30, 31, 32, 33, 34, 35, 36, 37, 38, 39, 40, 41, 42, 43, 44, 45, 46, 47, 48, 49, 50, 51, 52, 53, 54, 55, 56, 57, 58, 59, 60, 61, 62, 63, 64, 65, 66, 67, 68, 69, 70, 71, 72, 73, 74, 75, 76, 77, 78, 79, 80, 81, 82, 83, 84, 85, 86, 87, 88, 89, 90, 91, 92, 93, 94, 95, 96, 97, 98, 99], \"xaxis\": \"x2\", \"y\": [\"\", \"\", \"\", \"\", \"\", \"\", -1.5165817707651363, -1.239081339481383, -0.7731661194915449, \"\", -1.6802530810762568, -0.17943026056054057, \"\", -0.1563548516633696, \"\", \"\", -0.3843754555830775, \"\", \"\", \"\", \"\", -1.2362137422093287, \"\", \"\", \"\", \"\", -0.43408940071550006, -2.2938793760853966, -0.322406131911315, \"\", \"\", \"\", -2.4211709421284056, \"\", -1.5806953272097786, \"\", -0.31051564034634616, -0.710999567278279, \"\", -0.6099306658791087, \"\", \"\", \"\", -3.6778699802501658, -2.366415037800335, -0.7306922695032441, -1.4425867191956254, \"\", -1.3009070506216647, \"\", \"\", -1.2232839139820757, -0.5913849384420803, -0.051871540930439775, -0.19313147045253015, -0.5676528691709019, \"\", \"\", \"\", -1.6957280238955348, \"\", \"\", \"\", \"\", -5.09817884387554, \"\", \"\", \"\", \"\", \"\", -0.261037755544592, \"\", \"\", \"\", -2.4047423565295514, -0.025185179623620046, \"\", -0.968813980285905, -3.7331037703871632, -0.7895417832187793, -0.143781333761897, \"\", \"\", \"\", \"\", \"\", -1.034483550168217, -2.1852591291558707, \"\", \"\", \"\", \"\", -0.08124530635605032, -2.051656639807076, \"\", -3.5139054249106563, -2.5121367141149396, \"\", -0.9376348114197378, -0.4346037350022164], \"yaxis\": \"y2\"}],\n",
       "                        {\"hovermode\": \"x\", \"legend\": {\"bgcolor\": \"#F5F6F9\", \"font\": {\"color\": \"#4D5663\"}}, \"paper_bgcolor\": \"#F5F6F9\", \"plot_bgcolor\": \"#F5F6F9\", \"template\": {\"data\": {\"bar\": [{\"error_x\": {\"color\": \"#2a3f5f\"}, \"error_y\": {\"color\": \"#2a3f5f\"}, \"marker\": {\"line\": {\"color\": \"#E5ECF6\", \"width\": 0.5}}, \"type\": \"bar\"}], \"barpolar\": [{\"marker\": {\"line\": {\"color\": \"#E5ECF6\", \"width\": 0.5}}, \"type\": \"barpolar\"}], \"carpet\": [{\"aaxis\": {\"endlinecolor\": \"#2a3f5f\", \"gridcolor\": \"white\", \"linecolor\": \"white\", \"minorgridcolor\": \"white\", \"startlinecolor\": \"#2a3f5f\"}, \"baxis\": {\"endlinecolor\": \"#2a3f5f\", \"gridcolor\": \"white\", \"linecolor\": \"white\", \"minorgridcolor\": \"white\", \"startlinecolor\": \"#2a3f5f\"}, \"type\": \"carpet\"}], \"choropleth\": [{\"colorbar\": {\"outlinewidth\": 0, \"ticks\": \"\"}, \"type\": \"choropleth\"}], \"contour\": [{\"colorbar\": {\"outlinewidth\": 0, \"ticks\": \"\"}, \"colorscale\": [[0.0, \"#0d0887\"], [0.1111111111111111, \"#46039f\"], [0.2222222222222222, \"#7201a8\"], [0.3333333333333333, \"#9c179e\"], [0.4444444444444444, \"#bd3786\"], [0.5555555555555556, \"#d8576b\"], [0.6666666666666666, \"#ed7953\"], [0.7777777777777778, \"#fb9f3a\"], [0.8888888888888888, \"#fdca26\"], [1.0, \"#f0f921\"]], \"type\": \"contour\"}], \"contourcarpet\": [{\"colorbar\": {\"outlinewidth\": 0, \"ticks\": \"\"}, \"type\": \"contourcarpet\"}], \"heatmap\": [{\"colorbar\": {\"outlinewidth\": 0, \"ticks\": \"\"}, \"colorscale\": [[0.0, \"#0d0887\"], [0.1111111111111111, \"#46039f\"], [0.2222222222222222, \"#7201a8\"], [0.3333333333333333, \"#9c179e\"], [0.4444444444444444, \"#bd3786\"], [0.5555555555555556, \"#d8576b\"], [0.6666666666666666, \"#ed7953\"], [0.7777777777777778, \"#fb9f3a\"], [0.8888888888888888, \"#fdca26\"], [1.0, \"#f0f921\"]], \"type\": \"heatmap\"}], \"heatmapgl\": [{\"colorbar\": {\"outlinewidth\": 0, \"ticks\": \"\"}, \"colorscale\": [[0.0, \"#0d0887\"], [0.1111111111111111, \"#46039f\"], [0.2222222222222222, \"#7201a8\"], [0.3333333333333333, \"#9c179e\"], [0.4444444444444444, \"#bd3786\"], [0.5555555555555556, \"#d8576b\"], [0.6666666666666666, \"#ed7953\"], [0.7777777777777778, \"#fb9f3a\"], [0.8888888888888888, \"#fdca26\"], [1.0, \"#f0f921\"]], \"type\": \"heatmapgl\"}], \"histogram\": [{\"marker\": {\"colorbar\": {\"outlinewidth\": 0, \"ticks\": \"\"}}, \"type\": \"histogram\"}], \"histogram2d\": [{\"colorbar\": {\"outlinewidth\": 0, \"ticks\": \"\"}, \"colorscale\": [[0.0, \"#0d0887\"], [0.1111111111111111, \"#46039f\"], [0.2222222222222222, \"#7201a8\"], [0.3333333333333333, \"#9c179e\"], [0.4444444444444444, \"#bd3786\"], [0.5555555555555556, \"#d8576b\"], [0.6666666666666666, \"#ed7953\"], [0.7777777777777778, \"#fb9f3a\"], [0.8888888888888888, \"#fdca26\"], [1.0, \"#f0f921\"]], \"type\": \"histogram2d\"}], \"histogram2dcontour\": [{\"colorbar\": {\"outlinewidth\": 0, \"ticks\": \"\"}, \"colorscale\": [[0.0, \"#0d0887\"], [0.1111111111111111, \"#46039f\"], [0.2222222222222222, \"#7201a8\"], [0.3333333333333333, \"#9c179e\"], [0.4444444444444444, \"#bd3786\"], [0.5555555555555556, \"#d8576b\"], [0.6666666666666666, \"#ed7953\"], [0.7777777777777778, \"#fb9f3a\"], [0.8888888888888888, \"#fdca26\"], [1.0, \"#f0f921\"]], \"type\": \"histogram2dcontour\"}], \"mesh3d\": [{\"colorbar\": {\"outlinewidth\": 0, \"ticks\": \"\"}, \"type\": \"mesh3d\"}], \"parcoords\": [{\"line\": {\"colorbar\": {\"outlinewidth\": 0, \"ticks\": \"\"}}, \"type\": \"parcoords\"}], \"pie\": [{\"automargin\": true, \"type\": \"pie\"}], \"scatter\": [{\"marker\": {\"colorbar\": {\"outlinewidth\": 0, \"ticks\": \"\"}}, \"type\": \"scatter\"}], \"scatter3d\": [{\"line\": {\"colorbar\": {\"outlinewidth\": 0, \"ticks\": \"\"}}, \"marker\": {\"colorbar\": {\"outlinewidth\": 0, \"ticks\": \"\"}}, \"type\": \"scatter3d\"}], \"scattercarpet\": [{\"marker\": {\"colorbar\": {\"outlinewidth\": 0, \"ticks\": \"\"}}, \"type\": \"scattercarpet\"}], \"scattergeo\": [{\"marker\": {\"colorbar\": {\"outlinewidth\": 0, \"ticks\": \"\"}}, \"type\": \"scattergeo\"}], \"scattergl\": [{\"marker\": {\"colorbar\": {\"outlinewidth\": 0, \"ticks\": \"\"}}, \"type\": \"scattergl\"}], \"scattermapbox\": [{\"marker\": {\"colorbar\": {\"outlinewidth\": 0, \"ticks\": \"\"}}, \"type\": \"scattermapbox\"}], \"scatterpolar\": [{\"marker\": {\"colorbar\": {\"outlinewidth\": 0, \"ticks\": \"\"}}, \"type\": \"scatterpolar\"}], \"scatterpolargl\": [{\"marker\": {\"colorbar\": {\"outlinewidth\": 0, \"ticks\": \"\"}}, \"type\": \"scatterpolargl\"}], \"scatterternary\": [{\"marker\": {\"colorbar\": {\"outlinewidth\": 0, \"ticks\": \"\"}}, \"type\": \"scatterternary\"}], \"surface\": [{\"colorbar\": {\"outlinewidth\": 0, \"ticks\": \"\"}, \"colorscale\": [[0.0, \"#0d0887\"], [0.1111111111111111, \"#46039f\"], [0.2222222222222222, \"#7201a8\"], [0.3333333333333333, \"#9c179e\"], [0.4444444444444444, \"#bd3786\"], [0.5555555555555556, \"#d8576b\"], [0.6666666666666666, \"#ed7953\"], [0.7777777777777778, \"#fb9f3a\"], [0.8888888888888888, \"#fdca26\"], [1.0, \"#f0f921\"]], \"type\": \"surface\"}], \"table\": [{\"cells\": {\"fill\": {\"color\": \"#EBF0F8\"}, \"line\": {\"color\": \"white\"}}, \"header\": {\"fill\": {\"color\": \"#C8D4E3\"}, \"line\": {\"color\": \"white\"}}, \"type\": \"table\"}]}, \"layout\": {\"annotationdefaults\": {\"arrowcolor\": \"#2a3f5f\", \"arrowhead\": 0, \"arrowwidth\": 1}, \"coloraxis\": {\"colorbar\": {\"outlinewidth\": 0, \"ticks\": \"\"}}, \"colorscale\": {\"diverging\": [[0, \"#8e0152\"], [0.1, \"#c51b7d\"], [0.2, \"#de77ae\"], [0.3, \"#f1b6da\"], [0.4, \"#fde0ef\"], [0.5, \"#f7f7f7\"], [0.6, \"#e6f5d0\"], [0.7, \"#b8e186\"], [0.8, \"#7fbc41\"], [0.9, \"#4d9221\"], [1, \"#276419\"]], \"sequential\": [[0.0, \"#0d0887\"], [0.1111111111111111, \"#46039f\"], [0.2222222222222222, \"#7201a8\"], [0.3333333333333333, \"#9c179e\"], [0.4444444444444444, \"#bd3786\"], [0.5555555555555556, \"#d8576b\"], [0.6666666666666666, \"#ed7953\"], [0.7777777777777778, \"#fb9f3a\"], [0.8888888888888888, \"#fdca26\"], [1.0, \"#f0f921\"]], \"sequentialminus\": [[0.0, \"#0d0887\"], [0.1111111111111111, \"#46039f\"], [0.2222222222222222, \"#7201a8\"], [0.3333333333333333, \"#9c179e\"], [0.4444444444444444, \"#bd3786\"], [0.5555555555555556, \"#d8576b\"], [0.6666666666666666, \"#ed7953\"], [0.7777777777777778, \"#fb9f3a\"], [0.8888888888888888, \"#fdca26\"], [1.0, \"#f0f921\"]]}, \"colorway\": [\"#636efa\", \"#EF553B\", \"#00cc96\", \"#ab63fa\", \"#FFA15A\", \"#19d3f3\", \"#FF6692\", \"#B6E880\", \"#FF97FF\", \"#FECB52\"], \"font\": {\"color\": \"#2a3f5f\"}, \"geo\": {\"bgcolor\": \"white\", \"lakecolor\": \"white\", \"landcolor\": \"#E5ECF6\", \"showlakes\": true, \"showland\": true, \"subunitcolor\": \"white\"}, \"hoverlabel\": {\"align\": \"left\"}, \"hovermode\": \"closest\", \"mapbox\": {\"style\": \"light\"}, \"paper_bgcolor\": \"white\", \"plot_bgcolor\": \"#E5ECF6\", \"polar\": {\"angularaxis\": {\"gridcolor\": \"white\", \"linecolor\": \"white\", \"ticks\": \"\"}, \"bgcolor\": \"#E5ECF6\", \"radialaxis\": {\"gridcolor\": \"white\", \"linecolor\": \"white\", \"ticks\": \"\"}}, \"scene\": {\"xaxis\": {\"backgroundcolor\": \"#E5ECF6\", \"gridcolor\": \"white\", \"gridwidth\": 2, \"linecolor\": \"white\", \"showbackground\": true, \"ticks\": \"\", \"zerolinecolor\": \"white\"}, \"yaxis\": {\"backgroundcolor\": \"#E5ECF6\", \"gridcolor\": \"white\", \"gridwidth\": 2, \"linecolor\": \"white\", \"showbackground\": true, \"ticks\": \"\", \"zerolinecolor\": \"white\"}, \"zaxis\": {\"backgroundcolor\": \"#E5ECF6\", \"gridcolor\": \"white\", \"gridwidth\": 2, \"linecolor\": \"white\", \"showbackground\": true, \"ticks\": \"\", \"zerolinecolor\": \"white\"}}, \"shapedefaults\": {\"line\": {\"color\": \"#2a3f5f\"}}, \"ternary\": {\"aaxis\": {\"gridcolor\": \"white\", \"linecolor\": \"white\", \"ticks\": \"\"}, \"baxis\": {\"gridcolor\": \"white\", \"linecolor\": \"white\", \"ticks\": \"\"}, \"bgcolor\": \"#E5ECF6\", \"caxis\": {\"gridcolor\": \"white\", \"linecolor\": \"white\", \"ticks\": \"\"}}, \"title\": {\"x\": 0.05}, \"xaxis\": {\"automargin\": true, \"gridcolor\": \"white\", \"linecolor\": \"white\", \"ticks\": \"\", \"title\": {\"standoff\": 15}, \"zerolinecolor\": \"white\", \"zerolinewidth\": 2}, \"yaxis\": {\"automargin\": true, \"gridcolor\": \"white\", \"linecolor\": \"white\", \"ticks\": \"\", \"title\": {\"standoff\": 15}, \"zerolinecolor\": \"white\", \"zerolinewidth\": 2}}}, \"title\": {\"font\": {\"color\": \"#4D5663\"}}, \"xaxis\": {\"gridcolor\": \"#E1E5ED\", \"showgrid\": true, \"tickfont\": {\"color\": \"#4D5663\"}, \"title\": {\"font\": {\"color\": \"#4D5663\"}, \"text\": \"\"}, \"zerolinecolor\": \"#E1E5ED\"}, \"xaxis2\": {\"anchor\": \"y2\", \"gridcolor\": \"#E1E5ED\", \"showgrid\": true, \"showticklabels\": false, \"tickfont\": {\"color\": \"#4D5663\"}, \"title\": {\"font\": {\"color\": \"#4D5663\"}, \"text\": \"\"}, \"zerolinecolor\": \"#E1E5ED\"}, \"yaxis\": {\"domain\": [0.3, 1], \"gridcolor\": \"#E1E5ED\", \"showgrid\": true, \"tickfont\": {\"color\": \"#4D5663\"}, \"title\": {\"font\": {\"color\": \"#4D5663\"}, \"text\": \"\"}, \"zerolinecolor\": \"#E1E5ED\"}, \"yaxis2\": {\"domain\": [0, 0.25], \"gridcolor\": \"#E1E5ED\", \"showgrid\": true, \"tickfont\": {\"color\": \"#4D5663\"}, \"title\": {\"font\": {\"color\": \"#4D5663\"}, \"text\": \"Spread\"}, \"zerolinecolor\": \"#E1E5ED\"}},\n",
       "                        {\"showLink\": true, \"linkText\": \"Export to plot.ly\", \"plotlyServerURL\": \"https://plot.ly\", \"responsive\": true}\n",
       "                    ).then(function(){\n",
       "                            \n",
       "var gd = document.getElementById('4335afae-ed2d-4da8-b4a7-44566e0ace6e');\n",
       "var x = new MutationObserver(function (mutations, observer) {{\n",
       "        var display = window.getComputedStyle(gd).display;\n",
       "        if (!display || display === 'none') {{\n",
       "            console.log([gd, 'removed!']);\n",
       "            Plotly.purge(gd);\n",
       "            observer.disconnect();\n",
       "        }}\n",
       "}});\n",
       "\n",
       "// Listen for the removal of the full notebook cells\n",
       "var notebookContainer = gd.closest('#notebook-container');\n",
       "if (notebookContainer) {{\n",
       "    x.observe(notebookContainer, {childList: true});\n",
       "}}\n",
       "\n",
       "// Listen for the clearing of the current output cell\n",
       "var outputEl = gd.closest('.output');\n",
       "if (outputEl) {{\n",
       "    x.observe(outputEl, {childList: true});\n",
       "}}\n",
       "\n",
       "                        })\n",
       "                };\n",
       "                });\n",
       "            </script>\n",
       "        </div>"
      ]
     },
     "metadata": {},
     "output_type": "display_data"
    }
   ],
   "source": [
    "df[['A','B']].iplot(kind='spread')"
   ]
  },
  {
   "cell_type": "markdown",
   "metadata": {},
   "source": [
    "## histogram"
   ]
  },
  {
   "cell_type": "code",
   "execution_count": 22,
   "metadata": {},
   "outputs": [
    {
     "data": {
      "application/vnd.plotly.v1+json": {
       "config": {
        "linkText": "Export to plot.ly",
        "plotlyServerURL": "https://plot.ly",
        "showLink": true
       },
       "data": [
        {
         "histfunc": "count",
         "histnorm": "",
         "marker": {
          "color": "rgba(255, 153, 51, 1.0)",
          "line": {
           "color": "#4D5663",
           "width": 1.3
          }
         },
         "name": "A",
         "nbinsx": 25,
         "opacity": 0.8,
         "orientation": "v",
         "type": "histogram",
         "x": [
          0.06551037256099825,
          0.7787662777673576,
          1.2109220168503216,
          -0.164118398405124,
          -0.06953194857806134,
          1.066202048538722,
          -1.3290047735764563,
          -0.5661954082926168,
          -1.4795446786374782,
          0.5850867537280864,
          -1.6214043663476296,
          0.2281022915104834,
          -0.03266104341812228,
          -0.31529542239941,
          -0.8185165343462465,
          -0.9468500346127864,
          -0.5094364956867495,
          1.753022121579112,
          3.9780300131120603,
          -0.4147544481721648,
          -0.14963872632764225,
          1.3903039535346131,
          0.11798699784306298,
          -1.198799937094399,
          1.4131626285760492,
          0.623506501038244,
          0.8643831632654269,
          0.6752773092042728,
          -0.0711263241446468,
          0.18404130682510414,
          1.5405933704770725,
          -0.5126085695574668,
          -0.3885648449076173,
          -1.5388448445655147,
          -0.5000145318421976,
          1.0835766953611417,
          0.2237897443521966,
          1.1218991400304938,
          1.184719984221023,
          -0.6023434282954342,
          1.090344849883388,
          -0.3436379889241205,
          -0.5690894547955576,
          -1.6012940470392885,
          -3.3510027943928313,
          -0.8458239564084824,
          -1.4228331193628854,
          1.6847961973387284,
          0.8735325541867743,
          0.6969975174415938,
          -0.8003467642792428,
          -0.4400351866092966,
          0.12759747604828178,
          -0.6078004191603125,
          -0.45683564594752585,
          -1.0761795529594465,
          0.767820190317033,
          0.9036510765352602,
          2.3195076034254534,
          -0.7471444461857918,
          0.6229681285213532,
          -0.8448670190512532,
          1.1112053758052522,
          -0.37932375500455245,
          -2.7014109958197228,
          -1.2776112906769244,
          2.595391503109247,
          0.22384493791324778,
          0.9970759541901827,
          -0.7010617297315688,
          -0.47870937464473223,
          0.3347971428350504,
          1.0993453924680892,
          0.3240433573069802,
          -0.7252634214456634,
          0.22527502463488902,
          1.3781138065202578,
          -1.3504042254670332,
          -4.053651302513549,
          0.7216865598008689,
          -0.5003323289743481,
          0.5149434179673201,
          -0.4722870549872342,
          1.8179752612025275,
          0.9338008400773208,
          -0.6151732196400808,
          -1.5959820784883318,
          -0.8606323394451001,
          1.2019904263305907,
          -0.9188842057477389,
          0.633467463091969,
          0.36150603037861967,
          0.5176495875526188,
          -0.8151420430366462,
          1.1187007850174295,
          -2.621576836525829,
          -1.0653546708932358,
          -0.6714537483763512,
          -0.17538467944985758,
          -0.16881902219472808
         ]
        }
       ],
       "layout": {
        "barmode": "overlay",
        "legend": {
         "bgcolor": "#F5F6F9",
         "font": {
          "color": "#4D5663"
         }
        },
        "paper_bgcolor": "#F5F6F9",
        "plot_bgcolor": "#F5F6F9",
        "template": {
         "data": {
          "bar": [
           {
            "error_x": {
             "color": "#2a3f5f"
            },
            "error_y": {
             "color": "#2a3f5f"
            },
            "marker": {
             "line": {
              "color": "#E5ECF6",
              "width": 0.5
             }
            },
            "type": "bar"
           }
          ],
          "barpolar": [
           {
            "marker": {
             "line": {
              "color": "#E5ECF6",
              "width": 0.5
             }
            },
            "type": "barpolar"
           }
          ],
          "carpet": [
           {
            "aaxis": {
             "endlinecolor": "#2a3f5f",
             "gridcolor": "white",
             "linecolor": "white",
             "minorgridcolor": "white",
             "startlinecolor": "#2a3f5f"
            },
            "baxis": {
             "endlinecolor": "#2a3f5f",
             "gridcolor": "white",
             "linecolor": "white",
             "minorgridcolor": "white",
             "startlinecolor": "#2a3f5f"
            },
            "type": "carpet"
           }
          ],
          "choropleth": [
           {
            "colorbar": {
             "outlinewidth": 0,
             "ticks": ""
            },
            "type": "choropleth"
           }
          ],
          "contour": [
           {
            "colorbar": {
             "outlinewidth": 0,
             "ticks": ""
            },
            "colorscale": [
             [
              0,
              "#0d0887"
             ],
             [
              0.1111111111111111,
              "#46039f"
             ],
             [
              0.2222222222222222,
              "#7201a8"
             ],
             [
              0.3333333333333333,
              "#9c179e"
             ],
             [
              0.4444444444444444,
              "#bd3786"
             ],
             [
              0.5555555555555556,
              "#d8576b"
             ],
             [
              0.6666666666666666,
              "#ed7953"
             ],
             [
              0.7777777777777778,
              "#fb9f3a"
             ],
             [
              0.8888888888888888,
              "#fdca26"
             ],
             [
              1,
              "#f0f921"
             ]
            ],
            "type": "contour"
           }
          ],
          "contourcarpet": [
           {
            "colorbar": {
             "outlinewidth": 0,
             "ticks": ""
            },
            "type": "contourcarpet"
           }
          ],
          "heatmap": [
           {
            "colorbar": {
             "outlinewidth": 0,
             "ticks": ""
            },
            "colorscale": [
             [
              0,
              "#0d0887"
             ],
             [
              0.1111111111111111,
              "#46039f"
             ],
             [
              0.2222222222222222,
              "#7201a8"
             ],
             [
              0.3333333333333333,
              "#9c179e"
             ],
             [
              0.4444444444444444,
              "#bd3786"
             ],
             [
              0.5555555555555556,
              "#d8576b"
             ],
             [
              0.6666666666666666,
              "#ed7953"
             ],
             [
              0.7777777777777778,
              "#fb9f3a"
             ],
             [
              0.8888888888888888,
              "#fdca26"
             ],
             [
              1,
              "#f0f921"
             ]
            ],
            "type": "heatmap"
           }
          ],
          "heatmapgl": [
           {
            "colorbar": {
             "outlinewidth": 0,
             "ticks": ""
            },
            "colorscale": [
             [
              0,
              "#0d0887"
             ],
             [
              0.1111111111111111,
              "#46039f"
             ],
             [
              0.2222222222222222,
              "#7201a8"
             ],
             [
              0.3333333333333333,
              "#9c179e"
             ],
             [
              0.4444444444444444,
              "#bd3786"
             ],
             [
              0.5555555555555556,
              "#d8576b"
             ],
             [
              0.6666666666666666,
              "#ed7953"
             ],
             [
              0.7777777777777778,
              "#fb9f3a"
             ],
             [
              0.8888888888888888,
              "#fdca26"
             ],
             [
              1,
              "#f0f921"
             ]
            ],
            "type": "heatmapgl"
           }
          ],
          "histogram": [
           {
            "marker": {
             "colorbar": {
              "outlinewidth": 0,
              "ticks": ""
             }
            },
            "type": "histogram"
           }
          ],
          "histogram2d": [
           {
            "colorbar": {
             "outlinewidth": 0,
             "ticks": ""
            },
            "colorscale": [
             [
              0,
              "#0d0887"
             ],
             [
              0.1111111111111111,
              "#46039f"
             ],
             [
              0.2222222222222222,
              "#7201a8"
             ],
             [
              0.3333333333333333,
              "#9c179e"
             ],
             [
              0.4444444444444444,
              "#bd3786"
             ],
             [
              0.5555555555555556,
              "#d8576b"
             ],
             [
              0.6666666666666666,
              "#ed7953"
             ],
             [
              0.7777777777777778,
              "#fb9f3a"
             ],
             [
              0.8888888888888888,
              "#fdca26"
             ],
             [
              1,
              "#f0f921"
             ]
            ],
            "type": "histogram2d"
           }
          ],
          "histogram2dcontour": [
           {
            "colorbar": {
             "outlinewidth": 0,
             "ticks": ""
            },
            "colorscale": [
             [
              0,
              "#0d0887"
             ],
             [
              0.1111111111111111,
              "#46039f"
             ],
             [
              0.2222222222222222,
              "#7201a8"
             ],
             [
              0.3333333333333333,
              "#9c179e"
             ],
             [
              0.4444444444444444,
              "#bd3786"
             ],
             [
              0.5555555555555556,
              "#d8576b"
             ],
             [
              0.6666666666666666,
              "#ed7953"
             ],
             [
              0.7777777777777778,
              "#fb9f3a"
             ],
             [
              0.8888888888888888,
              "#fdca26"
             ],
             [
              1,
              "#f0f921"
             ]
            ],
            "type": "histogram2dcontour"
           }
          ],
          "mesh3d": [
           {
            "colorbar": {
             "outlinewidth": 0,
             "ticks": ""
            },
            "type": "mesh3d"
           }
          ],
          "parcoords": [
           {
            "line": {
             "colorbar": {
              "outlinewidth": 0,
              "ticks": ""
             }
            },
            "type": "parcoords"
           }
          ],
          "pie": [
           {
            "automargin": true,
            "type": "pie"
           }
          ],
          "scatter": [
           {
            "marker": {
             "colorbar": {
              "outlinewidth": 0,
              "ticks": ""
             }
            },
            "type": "scatter"
           }
          ],
          "scatter3d": [
           {
            "line": {
             "colorbar": {
              "outlinewidth": 0,
              "ticks": ""
             }
            },
            "marker": {
             "colorbar": {
              "outlinewidth": 0,
              "ticks": ""
             }
            },
            "type": "scatter3d"
           }
          ],
          "scattercarpet": [
           {
            "marker": {
             "colorbar": {
              "outlinewidth": 0,
              "ticks": ""
             }
            },
            "type": "scattercarpet"
           }
          ],
          "scattergeo": [
           {
            "marker": {
             "colorbar": {
              "outlinewidth": 0,
              "ticks": ""
             }
            },
            "type": "scattergeo"
           }
          ],
          "scattergl": [
           {
            "marker": {
             "colorbar": {
              "outlinewidth": 0,
              "ticks": ""
             }
            },
            "type": "scattergl"
           }
          ],
          "scattermapbox": [
           {
            "marker": {
             "colorbar": {
              "outlinewidth": 0,
              "ticks": ""
             }
            },
            "type": "scattermapbox"
           }
          ],
          "scatterpolar": [
           {
            "marker": {
             "colorbar": {
              "outlinewidth": 0,
              "ticks": ""
             }
            },
            "type": "scatterpolar"
           }
          ],
          "scatterpolargl": [
           {
            "marker": {
             "colorbar": {
              "outlinewidth": 0,
              "ticks": ""
             }
            },
            "type": "scatterpolargl"
           }
          ],
          "scatterternary": [
           {
            "marker": {
             "colorbar": {
              "outlinewidth": 0,
              "ticks": ""
             }
            },
            "type": "scatterternary"
           }
          ],
          "surface": [
           {
            "colorbar": {
             "outlinewidth": 0,
             "ticks": ""
            },
            "colorscale": [
             [
              0,
              "#0d0887"
             ],
             [
              0.1111111111111111,
              "#46039f"
             ],
             [
              0.2222222222222222,
              "#7201a8"
             ],
             [
              0.3333333333333333,
              "#9c179e"
             ],
             [
              0.4444444444444444,
              "#bd3786"
             ],
             [
              0.5555555555555556,
              "#d8576b"
             ],
             [
              0.6666666666666666,
              "#ed7953"
             ],
             [
              0.7777777777777778,
              "#fb9f3a"
             ],
             [
              0.8888888888888888,
              "#fdca26"
             ],
             [
              1,
              "#f0f921"
             ]
            ],
            "type": "surface"
           }
          ],
          "table": [
           {
            "cells": {
             "fill": {
              "color": "#EBF0F8"
             },
             "line": {
              "color": "white"
             }
            },
            "header": {
             "fill": {
              "color": "#C8D4E3"
             },
             "line": {
              "color": "white"
             }
            },
            "type": "table"
           }
          ]
         },
         "layout": {
          "annotationdefaults": {
           "arrowcolor": "#2a3f5f",
           "arrowhead": 0,
           "arrowwidth": 1
          },
          "coloraxis": {
           "colorbar": {
            "outlinewidth": 0,
            "ticks": ""
           }
          },
          "colorscale": {
           "diverging": [
            [
             0,
             "#8e0152"
            ],
            [
             0.1,
             "#c51b7d"
            ],
            [
             0.2,
             "#de77ae"
            ],
            [
             0.3,
             "#f1b6da"
            ],
            [
             0.4,
             "#fde0ef"
            ],
            [
             0.5,
             "#f7f7f7"
            ],
            [
             0.6,
             "#e6f5d0"
            ],
            [
             0.7,
             "#b8e186"
            ],
            [
             0.8,
             "#7fbc41"
            ],
            [
             0.9,
             "#4d9221"
            ],
            [
             1,
             "#276419"
            ]
           ],
           "sequential": [
            [
             0,
             "#0d0887"
            ],
            [
             0.1111111111111111,
             "#46039f"
            ],
            [
             0.2222222222222222,
             "#7201a8"
            ],
            [
             0.3333333333333333,
             "#9c179e"
            ],
            [
             0.4444444444444444,
             "#bd3786"
            ],
            [
             0.5555555555555556,
             "#d8576b"
            ],
            [
             0.6666666666666666,
             "#ed7953"
            ],
            [
             0.7777777777777778,
             "#fb9f3a"
            ],
            [
             0.8888888888888888,
             "#fdca26"
            ],
            [
             1,
             "#f0f921"
            ]
           ],
           "sequentialminus": [
            [
             0,
             "#0d0887"
            ],
            [
             0.1111111111111111,
             "#46039f"
            ],
            [
             0.2222222222222222,
             "#7201a8"
            ],
            [
             0.3333333333333333,
             "#9c179e"
            ],
            [
             0.4444444444444444,
             "#bd3786"
            ],
            [
             0.5555555555555556,
             "#d8576b"
            ],
            [
             0.6666666666666666,
             "#ed7953"
            ],
            [
             0.7777777777777778,
             "#fb9f3a"
            ],
            [
             0.8888888888888888,
             "#fdca26"
            ],
            [
             1,
             "#f0f921"
            ]
           ]
          },
          "colorway": [
           "#636efa",
           "#EF553B",
           "#00cc96",
           "#ab63fa",
           "#FFA15A",
           "#19d3f3",
           "#FF6692",
           "#B6E880",
           "#FF97FF",
           "#FECB52"
          ],
          "font": {
           "color": "#2a3f5f"
          },
          "geo": {
           "bgcolor": "white",
           "lakecolor": "white",
           "landcolor": "#E5ECF6",
           "showlakes": true,
           "showland": true,
           "subunitcolor": "white"
          },
          "hoverlabel": {
           "align": "left"
          },
          "hovermode": "closest",
          "mapbox": {
           "style": "light"
          },
          "paper_bgcolor": "white",
          "plot_bgcolor": "#E5ECF6",
          "polar": {
           "angularaxis": {
            "gridcolor": "white",
            "linecolor": "white",
            "ticks": ""
           },
           "bgcolor": "#E5ECF6",
           "radialaxis": {
            "gridcolor": "white",
            "linecolor": "white",
            "ticks": ""
           }
          },
          "scene": {
           "xaxis": {
            "backgroundcolor": "#E5ECF6",
            "gridcolor": "white",
            "gridwidth": 2,
            "linecolor": "white",
            "showbackground": true,
            "ticks": "",
            "zerolinecolor": "white"
           },
           "yaxis": {
            "backgroundcolor": "#E5ECF6",
            "gridcolor": "white",
            "gridwidth": 2,
            "linecolor": "white",
            "showbackground": true,
            "ticks": "",
            "zerolinecolor": "white"
           },
           "zaxis": {
            "backgroundcolor": "#E5ECF6",
            "gridcolor": "white",
            "gridwidth": 2,
            "linecolor": "white",
            "showbackground": true,
            "ticks": "",
            "zerolinecolor": "white"
           }
          },
          "shapedefaults": {
           "line": {
            "color": "#2a3f5f"
           }
          },
          "ternary": {
           "aaxis": {
            "gridcolor": "white",
            "linecolor": "white",
            "ticks": ""
           },
           "baxis": {
            "gridcolor": "white",
            "linecolor": "white",
            "ticks": ""
           },
           "bgcolor": "#E5ECF6",
           "caxis": {
            "gridcolor": "white",
            "linecolor": "white",
            "ticks": ""
           }
          },
          "title": {
           "x": 0.05
          },
          "xaxis": {
           "automargin": true,
           "gridcolor": "white",
           "linecolor": "white",
           "ticks": "",
           "title": {
            "standoff": 15
           },
           "zerolinecolor": "white",
           "zerolinewidth": 2
          },
          "yaxis": {
           "automargin": true,
           "gridcolor": "white",
           "linecolor": "white",
           "ticks": "",
           "title": {
            "standoff": 15
           },
           "zerolinecolor": "white",
           "zerolinewidth": 2
          }
         }
        },
        "title": {
         "font": {
          "color": "#4D5663"
         }
        },
        "xaxis": {
         "gridcolor": "#E1E5ED",
         "showgrid": true,
         "tickfont": {
          "color": "#4D5663"
         },
         "title": {
          "font": {
           "color": "#4D5663"
          },
          "text": ""
         },
         "zerolinecolor": "#E1E5ED"
        },
        "yaxis": {
         "gridcolor": "#E1E5ED",
         "showgrid": true,
         "tickfont": {
          "color": "#4D5663"
         },
         "title": {
          "font": {
           "color": "#4D5663"
          },
          "text": ""
         },
         "zerolinecolor": "#E1E5ED"
        }
       }
      },
      "text/html": [
       "<div>\n",
       "        \n",
       "        \n",
       "            <div id=\"e94b47ea-531c-43ac-a2aa-0a3a9b581467\" class=\"plotly-graph-div\" style=\"height:525px; width:100%;\"></div>\n",
       "            <script type=\"text/javascript\">\n",
       "                require([\"plotly\"], function(Plotly) {\n",
       "                    window.PLOTLYENV=window.PLOTLYENV || {};\n",
       "                    window.PLOTLYENV.BASE_URL='https://plot.ly';\n",
       "                    \n",
       "                if (document.getElementById(\"e94b47ea-531c-43ac-a2aa-0a3a9b581467\")) {\n",
       "                    Plotly.newPlot(\n",
       "                        'e94b47ea-531c-43ac-a2aa-0a3a9b581467',\n",
       "                        [{\"histfunc\": \"count\", \"histnorm\": \"\", \"marker\": {\"color\": \"rgba(255, 153, 51, 1.0)\", \"line\": {\"color\": \"#4D5663\", \"width\": 1.3}}, \"name\": \"A\", \"nbinsx\": 25, \"opacity\": 0.8, \"orientation\": \"v\", \"type\": \"histogram\", \"x\": [0.06551037256099825, 0.7787662777673576, 1.2109220168503216, -0.164118398405124, -0.06953194857806134, 1.066202048538722, -1.3290047735764563, -0.5661954082926168, -1.4795446786374782, 0.5850867537280864, -1.6214043663476296, 0.2281022915104834, -0.03266104341812228, -0.31529542239941, -0.8185165343462465, -0.9468500346127864, -0.5094364956867495, 1.753022121579112, 3.9780300131120603, -0.4147544481721648, -0.14963872632764225, 1.3903039535346131, 0.11798699784306298, -1.198799937094399, 1.4131626285760492, 0.623506501038244, 0.8643831632654269, 0.6752773092042728, -0.0711263241446468, 0.18404130682510414, 1.5405933704770725, -0.5126085695574668, -0.3885648449076173, -1.5388448445655147, -0.5000145318421976, 1.0835766953611417, 0.2237897443521966, 1.1218991400304938, 1.184719984221023, -0.6023434282954342, 1.090344849883388, -0.3436379889241205, -0.5690894547955576, -1.6012940470392885, -3.3510027943928313, -0.8458239564084824, -1.4228331193628854, 1.6847961973387284, 0.8735325541867743, 0.6969975174415938, -0.8003467642792428, -0.4400351866092966, 0.12759747604828178, -0.6078004191603125, -0.45683564594752585, -1.0761795529594465, 0.767820190317033, 0.9036510765352602, 2.3195076034254534, -0.7471444461857918, 0.6229681285213532, -0.8448670190512532, 1.1112053758052522, -0.37932375500455245, -2.7014109958197228, -1.2776112906769244, 2.595391503109247, 0.22384493791324778, 0.9970759541901827, -0.7010617297315688, -0.47870937464473223, 0.3347971428350504, 1.0993453924680892, 0.3240433573069802, -0.7252634214456634, 0.22527502463488902, 1.3781138065202578, -1.3504042254670332, -4.053651302513549, 0.7216865598008689, -0.5003323289743481, 0.5149434179673201, -0.4722870549872342, 1.8179752612025275, 0.9338008400773208, -0.6151732196400808, -1.5959820784883318, -0.8606323394451001, 1.2019904263305907, -0.9188842057477389, 0.633467463091969, 0.36150603037861967, 0.5176495875526188, -0.8151420430366462, 1.1187007850174295, -2.621576836525829, -1.0653546708932358, -0.6714537483763512, -0.17538467944985758, -0.16881902219472808]}],\n",
       "                        {\"barmode\": \"overlay\", \"legend\": {\"bgcolor\": \"#F5F6F9\", \"font\": {\"color\": \"#4D5663\"}}, \"paper_bgcolor\": \"#F5F6F9\", \"plot_bgcolor\": \"#F5F6F9\", \"template\": {\"data\": {\"bar\": [{\"error_x\": {\"color\": \"#2a3f5f\"}, \"error_y\": {\"color\": \"#2a3f5f\"}, \"marker\": {\"line\": {\"color\": \"#E5ECF6\", \"width\": 0.5}}, \"type\": \"bar\"}], \"barpolar\": [{\"marker\": {\"line\": {\"color\": \"#E5ECF6\", \"width\": 0.5}}, \"type\": \"barpolar\"}], \"carpet\": [{\"aaxis\": {\"endlinecolor\": \"#2a3f5f\", \"gridcolor\": \"white\", \"linecolor\": \"white\", \"minorgridcolor\": \"white\", \"startlinecolor\": \"#2a3f5f\"}, \"baxis\": {\"endlinecolor\": \"#2a3f5f\", \"gridcolor\": \"white\", \"linecolor\": \"white\", \"minorgridcolor\": \"white\", \"startlinecolor\": \"#2a3f5f\"}, \"type\": \"carpet\"}], \"choropleth\": [{\"colorbar\": {\"outlinewidth\": 0, \"ticks\": \"\"}, \"type\": \"choropleth\"}], \"contour\": [{\"colorbar\": {\"outlinewidth\": 0, \"ticks\": \"\"}, \"colorscale\": [[0.0, \"#0d0887\"], [0.1111111111111111, \"#46039f\"], [0.2222222222222222, \"#7201a8\"], [0.3333333333333333, \"#9c179e\"], [0.4444444444444444, \"#bd3786\"], [0.5555555555555556, \"#d8576b\"], [0.6666666666666666, \"#ed7953\"], [0.7777777777777778, \"#fb9f3a\"], [0.8888888888888888, \"#fdca26\"], [1.0, \"#f0f921\"]], \"type\": \"contour\"}], \"contourcarpet\": [{\"colorbar\": {\"outlinewidth\": 0, \"ticks\": \"\"}, \"type\": \"contourcarpet\"}], \"heatmap\": [{\"colorbar\": {\"outlinewidth\": 0, \"ticks\": \"\"}, \"colorscale\": [[0.0, \"#0d0887\"], [0.1111111111111111, \"#46039f\"], [0.2222222222222222, \"#7201a8\"], [0.3333333333333333, \"#9c179e\"], [0.4444444444444444, \"#bd3786\"], [0.5555555555555556, \"#d8576b\"], [0.6666666666666666, \"#ed7953\"], [0.7777777777777778, \"#fb9f3a\"], [0.8888888888888888, \"#fdca26\"], [1.0, \"#f0f921\"]], \"type\": \"heatmap\"}], \"heatmapgl\": [{\"colorbar\": {\"outlinewidth\": 0, \"ticks\": \"\"}, \"colorscale\": [[0.0, \"#0d0887\"], [0.1111111111111111, \"#46039f\"], [0.2222222222222222, \"#7201a8\"], [0.3333333333333333, \"#9c179e\"], [0.4444444444444444, \"#bd3786\"], [0.5555555555555556, \"#d8576b\"], [0.6666666666666666, \"#ed7953\"], [0.7777777777777778, \"#fb9f3a\"], [0.8888888888888888, \"#fdca26\"], [1.0, \"#f0f921\"]], \"type\": \"heatmapgl\"}], \"histogram\": [{\"marker\": {\"colorbar\": {\"outlinewidth\": 0, \"ticks\": \"\"}}, \"type\": \"histogram\"}], \"histogram2d\": [{\"colorbar\": {\"outlinewidth\": 0, \"ticks\": \"\"}, \"colorscale\": [[0.0, \"#0d0887\"], [0.1111111111111111, \"#46039f\"], [0.2222222222222222, \"#7201a8\"], [0.3333333333333333, \"#9c179e\"], [0.4444444444444444, \"#bd3786\"], [0.5555555555555556, \"#d8576b\"], [0.6666666666666666, \"#ed7953\"], [0.7777777777777778, \"#fb9f3a\"], [0.8888888888888888, \"#fdca26\"], [1.0, \"#f0f921\"]], \"type\": \"histogram2d\"}], \"histogram2dcontour\": [{\"colorbar\": {\"outlinewidth\": 0, \"ticks\": \"\"}, \"colorscale\": [[0.0, \"#0d0887\"], [0.1111111111111111, \"#46039f\"], [0.2222222222222222, \"#7201a8\"], [0.3333333333333333, \"#9c179e\"], [0.4444444444444444, \"#bd3786\"], [0.5555555555555556, \"#d8576b\"], [0.6666666666666666, \"#ed7953\"], [0.7777777777777778, \"#fb9f3a\"], [0.8888888888888888, \"#fdca26\"], [1.0, \"#f0f921\"]], \"type\": \"histogram2dcontour\"}], \"mesh3d\": [{\"colorbar\": {\"outlinewidth\": 0, \"ticks\": \"\"}, \"type\": \"mesh3d\"}], \"parcoords\": [{\"line\": {\"colorbar\": {\"outlinewidth\": 0, \"ticks\": \"\"}}, \"type\": \"parcoords\"}], \"pie\": [{\"automargin\": true, \"type\": \"pie\"}], \"scatter\": [{\"marker\": {\"colorbar\": {\"outlinewidth\": 0, \"ticks\": \"\"}}, \"type\": \"scatter\"}], \"scatter3d\": [{\"line\": {\"colorbar\": {\"outlinewidth\": 0, \"ticks\": \"\"}}, \"marker\": {\"colorbar\": {\"outlinewidth\": 0, \"ticks\": \"\"}}, \"type\": \"scatter3d\"}], \"scattercarpet\": [{\"marker\": {\"colorbar\": {\"outlinewidth\": 0, \"ticks\": \"\"}}, \"type\": \"scattercarpet\"}], \"scattergeo\": [{\"marker\": {\"colorbar\": {\"outlinewidth\": 0, \"ticks\": \"\"}}, \"type\": \"scattergeo\"}], \"scattergl\": [{\"marker\": {\"colorbar\": {\"outlinewidth\": 0, \"ticks\": \"\"}}, \"type\": \"scattergl\"}], \"scattermapbox\": [{\"marker\": {\"colorbar\": {\"outlinewidth\": 0, \"ticks\": \"\"}}, \"type\": \"scattermapbox\"}], \"scatterpolar\": [{\"marker\": {\"colorbar\": {\"outlinewidth\": 0, \"ticks\": \"\"}}, \"type\": \"scatterpolar\"}], \"scatterpolargl\": [{\"marker\": {\"colorbar\": {\"outlinewidth\": 0, \"ticks\": \"\"}}, \"type\": \"scatterpolargl\"}], \"scatterternary\": [{\"marker\": {\"colorbar\": {\"outlinewidth\": 0, \"ticks\": \"\"}}, \"type\": \"scatterternary\"}], \"surface\": [{\"colorbar\": {\"outlinewidth\": 0, \"ticks\": \"\"}, \"colorscale\": [[0.0, \"#0d0887\"], [0.1111111111111111, \"#46039f\"], [0.2222222222222222, \"#7201a8\"], [0.3333333333333333, \"#9c179e\"], [0.4444444444444444, \"#bd3786\"], [0.5555555555555556, \"#d8576b\"], [0.6666666666666666, \"#ed7953\"], [0.7777777777777778, \"#fb9f3a\"], [0.8888888888888888, \"#fdca26\"], [1.0, \"#f0f921\"]], \"type\": \"surface\"}], \"table\": [{\"cells\": {\"fill\": {\"color\": \"#EBF0F8\"}, \"line\": {\"color\": \"white\"}}, \"header\": {\"fill\": {\"color\": \"#C8D4E3\"}, \"line\": {\"color\": \"white\"}}, \"type\": \"table\"}]}, \"layout\": {\"annotationdefaults\": {\"arrowcolor\": \"#2a3f5f\", \"arrowhead\": 0, \"arrowwidth\": 1}, \"coloraxis\": {\"colorbar\": {\"outlinewidth\": 0, \"ticks\": \"\"}}, \"colorscale\": {\"diverging\": [[0, \"#8e0152\"], [0.1, \"#c51b7d\"], [0.2, \"#de77ae\"], [0.3, \"#f1b6da\"], [0.4, \"#fde0ef\"], [0.5, \"#f7f7f7\"], [0.6, \"#e6f5d0\"], [0.7, \"#b8e186\"], [0.8, \"#7fbc41\"], [0.9, \"#4d9221\"], [1, \"#276419\"]], \"sequential\": [[0.0, \"#0d0887\"], [0.1111111111111111, \"#46039f\"], [0.2222222222222222, \"#7201a8\"], [0.3333333333333333, \"#9c179e\"], [0.4444444444444444, \"#bd3786\"], [0.5555555555555556, \"#d8576b\"], [0.6666666666666666, \"#ed7953\"], [0.7777777777777778, \"#fb9f3a\"], [0.8888888888888888, \"#fdca26\"], [1.0, \"#f0f921\"]], \"sequentialminus\": [[0.0, \"#0d0887\"], [0.1111111111111111, \"#46039f\"], [0.2222222222222222, \"#7201a8\"], [0.3333333333333333, \"#9c179e\"], [0.4444444444444444, \"#bd3786\"], [0.5555555555555556, \"#d8576b\"], [0.6666666666666666, \"#ed7953\"], [0.7777777777777778, \"#fb9f3a\"], [0.8888888888888888, \"#fdca26\"], [1.0, \"#f0f921\"]]}, \"colorway\": [\"#636efa\", \"#EF553B\", \"#00cc96\", \"#ab63fa\", \"#FFA15A\", \"#19d3f3\", \"#FF6692\", \"#B6E880\", \"#FF97FF\", \"#FECB52\"], \"font\": {\"color\": \"#2a3f5f\"}, \"geo\": {\"bgcolor\": \"white\", \"lakecolor\": \"white\", \"landcolor\": \"#E5ECF6\", \"showlakes\": true, \"showland\": true, \"subunitcolor\": \"white\"}, \"hoverlabel\": {\"align\": \"left\"}, \"hovermode\": \"closest\", \"mapbox\": {\"style\": \"light\"}, \"paper_bgcolor\": \"white\", \"plot_bgcolor\": \"#E5ECF6\", \"polar\": {\"angularaxis\": {\"gridcolor\": \"white\", \"linecolor\": \"white\", \"ticks\": \"\"}, \"bgcolor\": \"#E5ECF6\", \"radialaxis\": {\"gridcolor\": \"white\", \"linecolor\": \"white\", \"ticks\": \"\"}}, \"scene\": {\"xaxis\": {\"backgroundcolor\": \"#E5ECF6\", \"gridcolor\": \"white\", \"gridwidth\": 2, \"linecolor\": \"white\", \"showbackground\": true, \"ticks\": \"\", \"zerolinecolor\": \"white\"}, \"yaxis\": {\"backgroundcolor\": \"#E5ECF6\", \"gridcolor\": \"white\", \"gridwidth\": 2, \"linecolor\": \"white\", \"showbackground\": true, \"ticks\": \"\", \"zerolinecolor\": \"white\"}, \"zaxis\": {\"backgroundcolor\": \"#E5ECF6\", \"gridcolor\": \"white\", \"gridwidth\": 2, \"linecolor\": \"white\", \"showbackground\": true, \"ticks\": \"\", \"zerolinecolor\": \"white\"}}, \"shapedefaults\": {\"line\": {\"color\": \"#2a3f5f\"}}, \"ternary\": {\"aaxis\": {\"gridcolor\": \"white\", \"linecolor\": \"white\", \"ticks\": \"\"}, \"baxis\": {\"gridcolor\": \"white\", \"linecolor\": \"white\", \"ticks\": \"\"}, \"bgcolor\": \"#E5ECF6\", \"caxis\": {\"gridcolor\": \"white\", \"linecolor\": \"white\", \"ticks\": \"\"}}, \"title\": {\"x\": 0.05}, \"xaxis\": {\"automargin\": true, \"gridcolor\": \"white\", \"linecolor\": \"white\", \"ticks\": \"\", \"title\": {\"standoff\": 15}, \"zerolinecolor\": \"white\", \"zerolinewidth\": 2}, \"yaxis\": {\"automargin\": true, \"gridcolor\": \"white\", \"linecolor\": \"white\", \"ticks\": \"\", \"title\": {\"standoff\": 15}, \"zerolinecolor\": \"white\", \"zerolinewidth\": 2}}}, \"title\": {\"font\": {\"color\": \"#4D5663\"}}, \"xaxis\": {\"gridcolor\": \"#E1E5ED\", \"showgrid\": true, \"tickfont\": {\"color\": \"#4D5663\"}, \"title\": {\"font\": {\"color\": \"#4D5663\"}, \"text\": \"\"}, \"zerolinecolor\": \"#E1E5ED\"}, \"yaxis\": {\"gridcolor\": \"#E1E5ED\", \"showgrid\": true, \"tickfont\": {\"color\": \"#4D5663\"}, \"title\": {\"font\": {\"color\": \"#4D5663\"}, \"text\": \"\"}, \"zerolinecolor\": \"#E1E5ED\"}},\n",
       "                        {\"showLink\": true, \"linkText\": \"Export to plot.ly\", \"plotlyServerURL\": \"https://plot.ly\", \"responsive\": true}\n",
       "                    ).then(function(){\n",
       "                            \n",
       "var gd = document.getElementById('e94b47ea-531c-43ac-a2aa-0a3a9b581467');\n",
       "var x = new MutationObserver(function (mutations, observer) {{\n",
       "        var display = window.getComputedStyle(gd).display;\n",
       "        if (!display || display === 'none') {{\n",
       "            console.log([gd, 'removed!']);\n",
       "            Plotly.purge(gd);\n",
       "            observer.disconnect();\n",
       "        }}\n",
       "}});\n",
       "\n",
       "// Listen for the removal of the full notebook cells\n",
       "var notebookContainer = gd.closest('#notebook-container');\n",
       "if (notebookContainer) {{\n",
       "    x.observe(notebookContainer, {childList: true});\n",
       "}}\n",
       "\n",
       "// Listen for the clearing of the current output cell\n",
       "var outputEl = gd.closest('.output');\n",
       "if (outputEl) {{\n",
       "    x.observe(outputEl, {childList: true});\n",
       "}}\n",
       "\n",
       "                        })\n",
       "                };\n",
       "                });\n",
       "            </script>\n",
       "        </div>"
      ]
     },
     "metadata": {},
     "output_type": "display_data"
    }
   ],
   "source": [
    "df['A'].iplot(kind='hist',bins=25)"
   ]
  },
  {
   "cell_type": "code",
   "execution_count": 23,
   "metadata": {},
   "outputs": [
    {
     "data": {
      "application/vnd.plotly.v1+json": {
       "config": {
        "linkText": "Export to plot.ly",
        "plotlyServerURL": "https://plot.ly",
        "showLink": true
       },
       "data": [
        {
         "marker": {
          "color": [
           "rgb(255, 153, 51)",
           "rgb(55, 128, 191)",
           "rgb(50, 171, 96)",
           "rgb(128, 0, 128)",
           "rgb(219, 64, 82)",
           "rgb(0, 128, 128)",
           "rgb(255, 255, 51)",
           "rgb(128, 128, 0)",
           "rgb(251, 128, 114)",
           "rgb(128, 177, 211)"
          ],
          "line": {
           "width": 1.3
          },
          "size": [
           90,
           55,
           68,
           47,
           38,
           37,
           53,
           33,
           39,
           51,
           16,
           88,
           72,
           67,
           83,
           69,
           49,
           54,
           38,
           43,
           30,
           50,
           63,
           59,
           39,
           44,
           55,
           78,
           64,
           52,
           19,
           16,
           72,
           69,
           41,
           43,
           86,
           18,
           23,
           103,
           112,
           103,
           100,
           37,
           41,
           37,
           64,
           19,
           68,
           14,
           72,
           39,
           77,
           32,
           84,
           86,
           53,
           51,
           60,
           63,
           57,
           61,
           12,
           49,
           39,
           46,
           64,
           91,
           85,
           94,
           54,
           48,
           68,
           43,
           37,
           41,
           52,
           37,
           78,
           69,
           63,
           70,
           67,
           51,
           76,
           62,
           71,
           50,
           32,
           68,
           36,
           53,
           36,
           24,
           62,
           91,
           54,
           78,
           17,
           92
          ],
          "symbol": "circle"
         },
         "mode": "markers",
         "text": "",
         "type": "scatter",
         "x": [
          0.06551037256099825,
          0.7787662777673576,
          1.2109220168503216,
          -0.164118398405124,
          -0.06953194857806134,
          1.066202048538722,
          -1.3290047735764563,
          -0.5661954082926168,
          -1.4795446786374782,
          0.5850867537280864,
          -1.6214043663476296,
          0.2281022915104834,
          -0.03266104341812228,
          -0.31529542239941,
          -0.8185165343462465,
          -0.9468500346127864,
          -0.5094364956867495,
          1.753022121579112,
          3.9780300131120603,
          -0.4147544481721648,
          -0.14963872632764225,
          1.3903039535346131,
          0.11798699784306298,
          -1.198799937094399,
          1.4131626285760492,
          0.623506501038244,
          0.8643831632654269,
          0.6752773092042728,
          -0.0711263241446468,
          0.18404130682510414,
          1.5405933704770725,
          -0.5126085695574668,
          -0.3885648449076173,
          -1.5388448445655147,
          -0.5000145318421976,
          1.0835766953611417,
          0.2237897443521966,
          1.1218991400304938,
          1.184719984221023,
          -0.6023434282954342,
          1.090344849883388,
          -0.3436379889241205,
          -0.5690894547955576,
          -1.6012940470392885,
          -3.3510027943928313,
          -0.8458239564084824,
          -1.4228331193628854,
          1.6847961973387284,
          0.8735325541867743,
          0.6969975174415938,
          -0.8003467642792428,
          -0.4400351866092966,
          0.12759747604828178,
          -0.6078004191603125,
          -0.45683564594752585,
          -1.0761795529594465,
          0.767820190317033,
          0.9036510765352602,
          2.3195076034254534,
          -0.7471444461857918,
          0.6229681285213532,
          -0.8448670190512532,
          1.1112053758052522,
          -0.37932375500455245,
          -2.7014109958197228,
          -1.2776112906769244,
          2.595391503109247,
          0.22384493791324778,
          0.9970759541901827,
          -0.7010617297315688,
          -0.47870937464473223,
          0.3347971428350504,
          1.0993453924680892,
          0.3240433573069802,
          -0.7252634214456634,
          0.22527502463488902,
          1.3781138065202578,
          -1.3504042254670332,
          -4.053651302513549,
          0.7216865598008689,
          -0.5003323289743481,
          0.5149434179673201,
          -0.4722870549872342,
          1.8179752612025275,
          0.9338008400773208,
          -0.6151732196400808,
          -1.5959820784883318,
          -0.8606323394451001,
          1.2019904263305907,
          -0.9188842057477389,
          0.633467463091969,
          0.36150603037861967,
          0.5176495875526188,
          -0.8151420430366462,
          1.1187007850174295,
          -2.621576836525829,
          -1.0653546708932358,
          -0.6714537483763512,
          -0.17538467944985758,
          -0.16881902219472808
         ],
         "y": [
          -1.0925650641931546,
          -1.1063010870224814,
          -0.32805306632209535,
          -1.8015176878336885,
          -0.1735327532380383,
          -0.08774588068587334,
          0.18757699718867998,
          0.6728859311887663,
          -0.7063785591459333,
          -1.5601290810082729,
          0.058848714728627294,
          0.40753255207102396,
          -0.24185126842710786,
          -0.1589405707360404,
          -3.6419230654539163,
          -1.278856426455618,
          -0.12506104010367203,
          -0.6999988206992263,
          -0.8975679054874393,
          -0.6776071391269884,
          -0.4627648216478146,
          2.626517695743942,
          -0.91040991382991,
          -2.88721680880961,
          -0.4151155407559168,
          -0.23674583789893922,
          1.298472563980927,
          2.9691566852896694,
          0.2512798077666682,
          -0.060894981563443196,
          -0.4861008577562129,
          -0.5640569278924469,
          2.032606097220788,
          -1.8478501295804048,
          1.080680795367581,
          -0.18081697204116465,
          0.5343053846985427,
          1.8328987073087728,
          0.8825543638387845,
          0.00758723758367448,
          -1.812680010503773,
          -0.3894181938587775,
          -0.9156059830862028,
          2.0765759332108775,
          -0.9845877565924966,
          -0.11513168690523837,
          0.01975359983273998,
          1.5525461151094744,
          2.174439604808439,
          -1.3259988649521035,
          -0.9175421334719854,
          0.7832487273727792,
          0.718982414490362,
          -0.5559288782298727,
          -0.2637041754949957,
          -0.5085266837885446,
          0.5267515240175117,
          -1.5125519857794338,
          0.5912124711191508,
          0.9485835777097431,
          0.5060014073562296,
          -1.383374247408542,
          -0.5827753650039929,
          -0.42029786340586767,
          2.396767848055817,
          -1.321557164877903,
          -0.26939673156797905,
          0.21659628952068838,
          -1.7147787346861005,
          -2.403180951945503,
          -0.2176716191001402,
          -0.30067465967466783,
          0.7020810081753037,
          0.07107137979934369,
          1.679478935083888,
          0.25046020425850907,
          0.494810949520932,
          -0.3815902451811281,
          -0.32054753212638537,
          1.5112283430196483,
          -0.3565509952124511,
          -0.34060527990923545,
          -0.6522886642783906,
          -2.1006446882605343,
          0.34337080965320393,
          -0.6344058007008451,
          -0.5614985283201149,
          1.3246267897107706,
          1.0700683834779376,
          -1.5535964408637803,
          -0.8501136729413292,
          -1.0023413559710757,
          0.5988948939086691,
          1.23651459677043,
          -1.4467738926798768,
          0.8923285883848271,
          1.4467820432217038,
          -0.775252461367255,
          0.7622501319698802,
          0.2657847128074883
         ]
        }
       ],
       "layout": {
        "legend": {
         "bgcolor": "#F5F6F9",
         "font": {
          "color": "#4D5663"
         }
        },
        "paper_bgcolor": "#F5F6F9",
        "plot_bgcolor": "#F5F6F9",
        "template": {
         "data": {
          "bar": [
           {
            "error_x": {
             "color": "#2a3f5f"
            },
            "error_y": {
             "color": "#2a3f5f"
            },
            "marker": {
             "line": {
              "color": "#E5ECF6",
              "width": 0.5
             }
            },
            "type": "bar"
           }
          ],
          "barpolar": [
           {
            "marker": {
             "line": {
              "color": "#E5ECF6",
              "width": 0.5
             }
            },
            "type": "barpolar"
           }
          ],
          "carpet": [
           {
            "aaxis": {
             "endlinecolor": "#2a3f5f",
             "gridcolor": "white",
             "linecolor": "white",
             "minorgridcolor": "white",
             "startlinecolor": "#2a3f5f"
            },
            "baxis": {
             "endlinecolor": "#2a3f5f",
             "gridcolor": "white",
             "linecolor": "white",
             "minorgridcolor": "white",
             "startlinecolor": "#2a3f5f"
            },
            "type": "carpet"
           }
          ],
          "choropleth": [
           {
            "colorbar": {
             "outlinewidth": 0,
             "ticks": ""
            },
            "type": "choropleth"
           }
          ],
          "contour": [
           {
            "colorbar": {
             "outlinewidth": 0,
             "ticks": ""
            },
            "colorscale": [
             [
              0,
              "#0d0887"
             ],
             [
              0.1111111111111111,
              "#46039f"
             ],
             [
              0.2222222222222222,
              "#7201a8"
             ],
             [
              0.3333333333333333,
              "#9c179e"
             ],
             [
              0.4444444444444444,
              "#bd3786"
             ],
             [
              0.5555555555555556,
              "#d8576b"
             ],
             [
              0.6666666666666666,
              "#ed7953"
             ],
             [
              0.7777777777777778,
              "#fb9f3a"
             ],
             [
              0.8888888888888888,
              "#fdca26"
             ],
             [
              1,
              "#f0f921"
             ]
            ],
            "type": "contour"
           }
          ],
          "contourcarpet": [
           {
            "colorbar": {
             "outlinewidth": 0,
             "ticks": ""
            },
            "type": "contourcarpet"
           }
          ],
          "heatmap": [
           {
            "colorbar": {
             "outlinewidth": 0,
             "ticks": ""
            },
            "colorscale": [
             [
              0,
              "#0d0887"
             ],
             [
              0.1111111111111111,
              "#46039f"
             ],
             [
              0.2222222222222222,
              "#7201a8"
             ],
             [
              0.3333333333333333,
              "#9c179e"
             ],
             [
              0.4444444444444444,
              "#bd3786"
             ],
             [
              0.5555555555555556,
              "#d8576b"
             ],
             [
              0.6666666666666666,
              "#ed7953"
             ],
             [
              0.7777777777777778,
              "#fb9f3a"
             ],
             [
              0.8888888888888888,
              "#fdca26"
             ],
             [
              1,
              "#f0f921"
             ]
            ],
            "type": "heatmap"
           }
          ],
          "heatmapgl": [
           {
            "colorbar": {
             "outlinewidth": 0,
             "ticks": ""
            },
            "colorscale": [
             [
              0,
              "#0d0887"
             ],
             [
              0.1111111111111111,
              "#46039f"
             ],
             [
              0.2222222222222222,
              "#7201a8"
             ],
             [
              0.3333333333333333,
              "#9c179e"
             ],
             [
              0.4444444444444444,
              "#bd3786"
             ],
             [
              0.5555555555555556,
              "#d8576b"
             ],
             [
              0.6666666666666666,
              "#ed7953"
             ],
             [
              0.7777777777777778,
              "#fb9f3a"
             ],
             [
              0.8888888888888888,
              "#fdca26"
             ],
             [
              1,
              "#f0f921"
             ]
            ],
            "type": "heatmapgl"
           }
          ],
          "histogram": [
           {
            "marker": {
             "colorbar": {
              "outlinewidth": 0,
              "ticks": ""
             }
            },
            "type": "histogram"
           }
          ],
          "histogram2d": [
           {
            "colorbar": {
             "outlinewidth": 0,
             "ticks": ""
            },
            "colorscale": [
             [
              0,
              "#0d0887"
             ],
             [
              0.1111111111111111,
              "#46039f"
             ],
             [
              0.2222222222222222,
              "#7201a8"
             ],
             [
              0.3333333333333333,
              "#9c179e"
             ],
             [
              0.4444444444444444,
              "#bd3786"
             ],
             [
              0.5555555555555556,
              "#d8576b"
             ],
             [
              0.6666666666666666,
              "#ed7953"
             ],
             [
              0.7777777777777778,
              "#fb9f3a"
             ],
             [
              0.8888888888888888,
              "#fdca26"
             ],
             [
              1,
              "#f0f921"
             ]
            ],
            "type": "histogram2d"
           }
          ],
          "histogram2dcontour": [
           {
            "colorbar": {
             "outlinewidth": 0,
             "ticks": ""
            },
            "colorscale": [
             [
              0,
              "#0d0887"
             ],
             [
              0.1111111111111111,
              "#46039f"
             ],
             [
              0.2222222222222222,
              "#7201a8"
             ],
             [
              0.3333333333333333,
              "#9c179e"
             ],
             [
              0.4444444444444444,
              "#bd3786"
             ],
             [
              0.5555555555555556,
              "#d8576b"
             ],
             [
              0.6666666666666666,
              "#ed7953"
             ],
             [
              0.7777777777777778,
              "#fb9f3a"
             ],
             [
              0.8888888888888888,
              "#fdca26"
             ],
             [
              1,
              "#f0f921"
             ]
            ],
            "type": "histogram2dcontour"
           }
          ],
          "mesh3d": [
           {
            "colorbar": {
             "outlinewidth": 0,
             "ticks": ""
            },
            "type": "mesh3d"
           }
          ],
          "parcoords": [
           {
            "line": {
             "colorbar": {
              "outlinewidth": 0,
              "ticks": ""
             }
            },
            "type": "parcoords"
           }
          ],
          "pie": [
           {
            "automargin": true,
            "type": "pie"
           }
          ],
          "scatter": [
           {
            "marker": {
             "colorbar": {
              "outlinewidth": 0,
              "ticks": ""
             }
            },
            "type": "scatter"
           }
          ],
          "scatter3d": [
           {
            "line": {
             "colorbar": {
              "outlinewidth": 0,
              "ticks": ""
             }
            },
            "marker": {
             "colorbar": {
              "outlinewidth": 0,
              "ticks": ""
             }
            },
            "type": "scatter3d"
           }
          ],
          "scattercarpet": [
           {
            "marker": {
             "colorbar": {
              "outlinewidth": 0,
              "ticks": ""
             }
            },
            "type": "scattercarpet"
           }
          ],
          "scattergeo": [
           {
            "marker": {
             "colorbar": {
              "outlinewidth": 0,
              "ticks": ""
             }
            },
            "type": "scattergeo"
           }
          ],
          "scattergl": [
           {
            "marker": {
             "colorbar": {
              "outlinewidth": 0,
              "ticks": ""
             }
            },
            "type": "scattergl"
           }
          ],
          "scattermapbox": [
           {
            "marker": {
             "colorbar": {
              "outlinewidth": 0,
              "ticks": ""
             }
            },
            "type": "scattermapbox"
           }
          ],
          "scatterpolar": [
           {
            "marker": {
             "colorbar": {
              "outlinewidth": 0,
              "ticks": ""
             }
            },
            "type": "scatterpolar"
           }
          ],
          "scatterpolargl": [
           {
            "marker": {
             "colorbar": {
              "outlinewidth": 0,
              "ticks": ""
             }
            },
            "type": "scatterpolargl"
           }
          ],
          "scatterternary": [
           {
            "marker": {
             "colorbar": {
              "outlinewidth": 0,
              "ticks": ""
             }
            },
            "type": "scatterternary"
           }
          ],
          "surface": [
           {
            "colorbar": {
             "outlinewidth": 0,
             "ticks": ""
            },
            "colorscale": [
             [
              0,
              "#0d0887"
             ],
             [
              0.1111111111111111,
              "#46039f"
             ],
             [
              0.2222222222222222,
              "#7201a8"
             ],
             [
              0.3333333333333333,
              "#9c179e"
             ],
             [
              0.4444444444444444,
              "#bd3786"
             ],
             [
              0.5555555555555556,
              "#d8576b"
             ],
             [
              0.6666666666666666,
              "#ed7953"
             ],
             [
              0.7777777777777778,
              "#fb9f3a"
             ],
             [
              0.8888888888888888,
              "#fdca26"
             ],
             [
              1,
              "#f0f921"
             ]
            ],
            "type": "surface"
           }
          ],
          "table": [
           {
            "cells": {
             "fill": {
              "color": "#EBF0F8"
             },
             "line": {
              "color": "white"
             }
            },
            "header": {
             "fill": {
              "color": "#C8D4E3"
             },
             "line": {
              "color": "white"
             }
            },
            "type": "table"
           }
          ]
         },
         "layout": {
          "annotationdefaults": {
           "arrowcolor": "#2a3f5f",
           "arrowhead": 0,
           "arrowwidth": 1
          },
          "coloraxis": {
           "colorbar": {
            "outlinewidth": 0,
            "ticks": ""
           }
          },
          "colorscale": {
           "diverging": [
            [
             0,
             "#8e0152"
            ],
            [
             0.1,
             "#c51b7d"
            ],
            [
             0.2,
             "#de77ae"
            ],
            [
             0.3,
             "#f1b6da"
            ],
            [
             0.4,
             "#fde0ef"
            ],
            [
             0.5,
             "#f7f7f7"
            ],
            [
             0.6,
             "#e6f5d0"
            ],
            [
             0.7,
             "#b8e186"
            ],
            [
             0.8,
             "#7fbc41"
            ],
            [
             0.9,
             "#4d9221"
            ],
            [
             1,
             "#276419"
            ]
           ],
           "sequential": [
            [
             0,
             "#0d0887"
            ],
            [
             0.1111111111111111,
             "#46039f"
            ],
            [
             0.2222222222222222,
             "#7201a8"
            ],
            [
             0.3333333333333333,
             "#9c179e"
            ],
            [
             0.4444444444444444,
             "#bd3786"
            ],
            [
             0.5555555555555556,
             "#d8576b"
            ],
            [
             0.6666666666666666,
             "#ed7953"
            ],
            [
             0.7777777777777778,
             "#fb9f3a"
            ],
            [
             0.8888888888888888,
             "#fdca26"
            ],
            [
             1,
             "#f0f921"
            ]
           ],
           "sequentialminus": [
            [
             0,
             "#0d0887"
            ],
            [
             0.1111111111111111,
             "#46039f"
            ],
            [
             0.2222222222222222,
             "#7201a8"
            ],
            [
             0.3333333333333333,
             "#9c179e"
            ],
            [
             0.4444444444444444,
             "#bd3786"
            ],
            [
             0.5555555555555556,
             "#d8576b"
            ],
            [
             0.6666666666666666,
             "#ed7953"
            ],
            [
             0.7777777777777778,
             "#fb9f3a"
            ],
            [
             0.8888888888888888,
             "#fdca26"
            ],
            [
             1,
             "#f0f921"
            ]
           ]
          },
          "colorway": [
           "#636efa",
           "#EF553B",
           "#00cc96",
           "#ab63fa",
           "#FFA15A",
           "#19d3f3",
           "#FF6692",
           "#B6E880",
           "#FF97FF",
           "#FECB52"
          ],
          "font": {
           "color": "#2a3f5f"
          },
          "geo": {
           "bgcolor": "white",
           "lakecolor": "white",
           "landcolor": "#E5ECF6",
           "showlakes": true,
           "showland": true,
           "subunitcolor": "white"
          },
          "hoverlabel": {
           "align": "left"
          },
          "hovermode": "closest",
          "mapbox": {
           "style": "light"
          },
          "paper_bgcolor": "white",
          "plot_bgcolor": "#E5ECF6",
          "polar": {
           "angularaxis": {
            "gridcolor": "white",
            "linecolor": "white",
            "ticks": ""
           },
           "bgcolor": "#E5ECF6",
           "radialaxis": {
            "gridcolor": "white",
            "linecolor": "white",
            "ticks": ""
           }
          },
          "scene": {
           "xaxis": {
            "backgroundcolor": "#E5ECF6",
            "gridcolor": "white",
            "gridwidth": 2,
            "linecolor": "white",
            "showbackground": true,
            "ticks": "",
            "zerolinecolor": "white"
           },
           "yaxis": {
            "backgroundcolor": "#E5ECF6",
            "gridcolor": "white",
            "gridwidth": 2,
            "linecolor": "white",
            "showbackground": true,
            "ticks": "",
            "zerolinecolor": "white"
           },
           "zaxis": {
            "backgroundcolor": "#E5ECF6",
            "gridcolor": "white",
            "gridwidth": 2,
            "linecolor": "white",
            "showbackground": true,
            "ticks": "",
            "zerolinecolor": "white"
           }
          },
          "shapedefaults": {
           "line": {
            "color": "#2a3f5f"
           }
          },
          "ternary": {
           "aaxis": {
            "gridcolor": "white",
            "linecolor": "white",
            "ticks": ""
           },
           "baxis": {
            "gridcolor": "white",
            "linecolor": "white",
            "ticks": ""
           },
           "bgcolor": "#E5ECF6",
           "caxis": {
            "gridcolor": "white",
            "linecolor": "white",
            "ticks": ""
           }
          },
          "title": {
           "x": 0.05
          },
          "xaxis": {
           "automargin": true,
           "gridcolor": "white",
           "linecolor": "white",
           "ticks": "",
           "title": {
            "standoff": 15
           },
           "zerolinecolor": "white",
           "zerolinewidth": 2
          },
          "yaxis": {
           "automargin": true,
           "gridcolor": "white",
           "linecolor": "white",
           "ticks": "",
           "title": {
            "standoff": 15
           },
           "zerolinecolor": "white",
           "zerolinewidth": 2
          }
         }
        },
        "title": {
         "font": {
          "color": "#4D5663"
         }
        },
        "xaxis": {
         "gridcolor": "#E1E5ED",
         "showgrid": true,
         "tickfont": {
          "color": "#4D5663"
         },
         "title": {
          "font": {
           "color": "#4D5663"
          },
          "text": ""
         },
         "zerolinecolor": "#E1E5ED"
        },
        "yaxis": {
         "gridcolor": "#E1E5ED",
         "showgrid": true,
         "tickfont": {
          "color": "#4D5663"
         },
         "title": {
          "font": {
           "color": "#4D5663"
          },
          "text": ""
         },
         "zerolinecolor": "#E1E5ED"
        }
       }
      },
      "text/html": [
       "<div>\n",
       "        \n",
       "        \n",
       "            <div id=\"777970da-7b11-410f-839b-93e4e83dd742\" class=\"plotly-graph-div\" style=\"height:525px; width:100%;\"></div>\n",
       "            <script type=\"text/javascript\">\n",
       "                require([\"plotly\"], function(Plotly) {\n",
       "                    window.PLOTLYENV=window.PLOTLYENV || {};\n",
       "                    window.PLOTLYENV.BASE_URL='https://plot.ly';\n",
       "                    \n",
       "                if (document.getElementById(\"777970da-7b11-410f-839b-93e4e83dd742\")) {\n",
       "                    Plotly.newPlot(\n",
       "                        '777970da-7b11-410f-839b-93e4e83dd742',\n",
       "                        [{\"marker\": {\"color\": [\"rgb(255, 153, 51)\", \"rgb(55, 128, 191)\", \"rgb(50, 171, 96)\", \"rgb(128, 0, 128)\", \"rgb(219, 64, 82)\", \"rgb(0, 128, 128)\", \"rgb(255, 255, 51)\", \"rgb(128, 128, 0)\", \"rgb(251, 128, 114)\", \"rgb(128, 177, 211)\"], \"line\": {\"width\": 1.3}, \"size\": [90, 55, 68, 47, 38, 37, 53, 33, 39, 51, 16, 88, 72, 67, 83, 69, 49, 54, 38, 43, 30, 50, 63, 59, 39, 44, 55, 78, 64, 52, 19, 16, 72, 69, 41, 43, 86, 18, 23, 103, 112, 103, 100, 37, 41, 37, 64, 19, 68, 14, 72, 39, 77, 32, 84, 86, 53, 51, 60, 63, 57, 61, 12, 49, 39, 46, 64, 91, 85, 94, 54, 48, 68, 43, 37, 41, 52, 37, 78, 69, 63, 70, 67, 51, 76, 62, 71, 50, 32, 68, 36, 53, 36, 24, 62, 91, 54, 78, 17, 92], \"symbol\": \"circle\"}, \"mode\": \"markers\", \"text\": \"\", \"type\": \"scatter\", \"x\": [0.06551037256099825, 0.7787662777673576, 1.2109220168503216, -0.164118398405124, -0.06953194857806134, 1.066202048538722, -1.3290047735764563, -0.5661954082926168, -1.4795446786374782, 0.5850867537280864, -1.6214043663476296, 0.2281022915104834, -0.03266104341812228, -0.31529542239941, -0.8185165343462465, -0.9468500346127864, -0.5094364956867495, 1.753022121579112, 3.9780300131120603, -0.4147544481721648, -0.14963872632764225, 1.3903039535346131, 0.11798699784306298, -1.198799937094399, 1.4131626285760492, 0.623506501038244, 0.8643831632654269, 0.6752773092042728, -0.0711263241446468, 0.18404130682510414, 1.5405933704770725, -0.5126085695574668, -0.3885648449076173, -1.5388448445655147, -0.5000145318421976, 1.0835766953611417, 0.2237897443521966, 1.1218991400304938, 1.184719984221023, -0.6023434282954342, 1.090344849883388, -0.3436379889241205, -0.5690894547955576, -1.6012940470392885, -3.3510027943928313, -0.8458239564084824, -1.4228331193628854, 1.6847961973387284, 0.8735325541867743, 0.6969975174415938, -0.8003467642792428, -0.4400351866092966, 0.12759747604828178, -0.6078004191603125, -0.45683564594752585, -1.0761795529594465, 0.767820190317033, 0.9036510765352602, 2.3195076034254534, -0.7471444461857918, 0.6229681285213532, -0.8448670190512532, 1.1112053758052522, -0.37932375500455245, -2.7014109958197228, -1.2776112906769244, 2.595391503109247, 0.22384493791324778, 0.9970759541901827, -0.7010617297315688, -0.47870937464473223, 0.3347971428350504, 1.0993453924680892, 0.3240433573069802, -0.7252634214456634, 0.22527502463488902, 1.3781138065202578, -1.3504042254670332, -4.053651302513549, 0.7216865598008689, -0.5003323289743481, 0.5149434179673201, -0.4722870549872342, 1.8179752612025275, 0.9338008400773208, -0.6151732196400808, -1.5959820784883318, -0.8606323394451001, 1.2019904263305907, -0.9188842057477389, 0.633467463091969, 0.36150603037861967, 0.5176495875526188, -0.8151420430366462, 1.1187007850174295, -2.621576836525829, -1.0653546708932358, -0.6714537483763512, -0.17538467944985758, -0.16881902219472808], \"y\": [-1.0925650641931546, -1.1063010870224814, -0.32805306632209535, -1.8015176878336885, -0.1735327532380383, -0.08774588068587334, 0.18757699718867998, 0.6728859311887663, -0.7063785591459333, -1.5601290810082729, 0.058848714728627294, 0.40753255207102396, -0.24185126842710786, -0.1589405707360404, -3.6419230654539163, -1.278856426455618, -0.12506104010367203, -0.6999988206992263, -0.8975679054874393, -0.6776071391269884, -0.4627648216478146, 2.626517695743942, -0.91040991382991, -2.88721680880961, -0.4151155407559168, -0.23674583789893922, 1.298472563980927, 2.9691566852896694, 0.2512798077666682, -0.060894981563443196, -0.4861008577562129, -0.5640569278924469, 2.032606097220788, -1.8478501295804048, 1.080680795367581, -0.18081697204116465, 0.5343053846985427, 1.8328987073087728, 0.8825543638387845, 0.00758723758367448, -1.812680010503773, -0.3894181938587775, -0.9156059830862028, 2.0765759332108775, -0.9845877565924966, -0.11513168690523837, 0.01975359983273998, 1.5525461151094744, 2.174439604808439, -1.3259988649521035, -0.9175421334719854, 0.7832487273727792, 0.718982414490362, -0.5559288782298727, -0.2637041754949957, -0.5085266837885446, 0.5267515240175117, -1.5125519857794338, 0.5912124711191508, 0.9485835777097431, 0.5060014073562296, -1.383374247408542, -0.5827753650039929, -0.42029786340586767, 2.396767848055817, -1.321557164877903, -0.26939673156797905, 0.21659628952068838, -1.7147787346861005, -2.403180951945503, -0.2176716191001402, -0.30067465967466783, 0.7020810081753037, 0.07107137979934369, 1.679478935083888, 0.25046020425850907, 0.494810949520932, -0.3815902451811281, -0.32054753212638537, 1.5112283430196483, -0.3565509952124511, -0.34060527990923545, -0.6522886642783906, -2.1006446882605343, 0.34337080965320393, -0.6344058007008451, -0.5614985283201149, 1.3246267897107706, 1.0700683834779376, -1.5535964408637803, -0.8501136729413292, -1.0023413559710757, 0.5988948939086691, 1.23651459677043, -1.4467738926798768, 0.8923285883848271, 1.4467820432217038, -0.775252461367255, 0.7622501319698802, 0.2657847128074883]}],\n",
       "                        {\"legend\": {\"bgcolor\": \"#F5F6F9\", \"font\": {\"color\": \"#4D5663\"}}, \"paper_bgcolor\": \"#F5F6F9\", \"plot_bgcolor\": \"#F5F6F9\", \"template\": {\"data\": {\"bar\": [{\"error_x\": {\"color\": \"#2a3f5f\"}, \"error_y\": {\"color\": \"#2a3f5f\"}, \"marker\": {\"line\": {\"color\": \"#E5ECF6\", \"width\": 0.5}}, \"type\": \"bar\"}], \"barpolar\": [{\"marker\": {\"line\": {\"color\": \"#E5ECF6\", \"width\": 0.5}}, \"type\": \"barpolar\"}], \"carpet\": [{\"aaxis\": {\"endlinecolor\": \"#2a3f5f\", \"gridcolor\": \"white\", \"linecolor\": \"white\", \"minorgridcolor\": \"white\", \"startlinecolor\": \"#2a3f5f\"}, \"baxis\": {\"endlinecolor\": \"#2a3f5f\", \"gridcolor\": \"white\", \"linecolor\": \"white\", \"minorgridcolor\": \"white\", \"startlinecolor\": \"#2a3f5f\"}, \"type\": \"carpet\"}], \"choropleth\": [{\"colorbar\": {\"outlinewidth\": 0, \"ticks\": \"\"}, \"type\": \"choropleth\"}], \"contour\": [{\"colorbar\": {\"outlinewidth\": 0, \"ticks\": \"\"}, \"colorscale\": [[0.0, \"#0d0887\"], [0.1111111111111111, \"#46039f\"], [0.2222222222222222, \"#7201a8\"], [0.3333333333333333, \"#9c179e\"], [0.4444444444444444, \"#bd3786\"], [0.5555555555555556, \"#d8576b\"], [0.6666666666666666, \"#ed7953\"], [0.7777777777777778, \"#fb9f3a\"], [0.8888888888888888, \"#fdca26\"], [1.0, \"#f0f921\"]], \"type\": \"contour\"}], \"contourcarpet\": [{\"colorbar\": {\"outlinewidth\": 0, \"ticks\": \"\"}, \"type\": \"contourcarpet\"}], \"heatmap\": [{\"colorbar\": {\"outlinewidth\": 0, \"ticks\": \"\"}, \"colorscale\": [[0.0, \"#0d0887\"], [0.1111111111111111, \"#46039f\"], [0.2222222222222222, \"#7201a8\"], [0.3333333333333333, \"#9c179e\"], [0.4444444444444444, \"#bd3786\"], [0.5555555555555556, \"#d8576b\"], [0.6666666666666666, \"#ed7953\"], [0.7777777777777778, \"#fb9f3a\"], [0.8888888888888888, \"#fdca26\"], [1.0, \"#f0f921\"]], \"type\": \"heatmap\"}], \"heatmapgl\": [{\"colorbar\": {\"outlinewidth\": 0, \"ticks\": \"\"}, \"colorscale\": [[0.0, \"#0d0887\"], [0.1111111111111111, \"#46039f\"], [0.2222222222222222, \"#7201a8\"], [0.3333333333333333, \"#9c179e\"], [0.4444444444444444, \"#bd3786\"], [0.5555555555555556, \"#d8576b\"], [0.6666666666666666, \"#ed7953\"], [0.7777777777777778, \"#fb9f3a\"], [0.8888888888888888, \"#fdca26\"], [1.0, \"#f0f921\"]], \"type\": \"heatmapgl\"}], \"histogram\": [{\"marker\": {\"colorbar\": {\"outlinewidth\": 0, \"ticks\": \"\"}}, \"type\": \"histogram\"}], \"histogram2d\": [{\"colorbar\": {\"outlinewidth\": 0, \"ticks\": \"\"}, \"colorscale\": [[0.0, \"#0d0887\"], [0.1111111111111111, \"#46039f\"], [0.2222222222222222, \"#7201a8\"], [0.3333333333333333, \"#9c179e\"], [0.4444444444444444, \"#bd3786\"], [0.5555555555555556, \"#d8576b\"], [0.6666666666666666, \"#ed7953\"], [0.7777777777777778, \"#fb9f3a\"], [0.8888888888888888, \"#fdca26\"], [1.0, \"#f0f921\"]], \"type\": \"histogram2d\"}], \"histogram2dcontour\": [{\"colorbar\": {\"outlinewidth\": 0, \"ticks\": \"\"}, \"colorscale\": [[0.0, \"#0d0887\"], [0.1111111111111111, \"#46039f\"], [0.2222222222222222, \"#7201a8\"], [0.3333333333333333, \"#9c179e\"], [0.4444444444444444, \"#bd3786\"], [0.5555555555555556, \"#d8576b\"], [0.6666666666666666, \"#ed7953\"], [0.7777777777777778, \"#fb9f3a\"], [0.8888888888888888, \"#fdca26\"], [1.0, \"#f0f921\"]], \"type\": \"histogram2dcontour\"}], \"mesh3d\": [{\"colorbar\": {\"outlinewidth\": 0, \"ticks\": \"\"}, \"type\": \"mesh3d\"}], \"parcoords\": [{\"line\": {\"colorbar\": {\"outlinewidth\": 0, \"ticks\": \"\"}}, \"type\": \"parcoords\"}], \"pie\": [{\"automargin\": true, \"type\": \"pie\"}], \"scatter\": [{\"marker\": {\"colorbar\": {\"outlinewidth\": 0, \"ticks\": \"\"}}, \"type\": \"scatter\"}], \"scatter3d\": [{\"line\": {\"colorbar\": {\"outlinewidth\": 0, \"ticks\": \"\"}}, \"marker\": {\"colorbar\": {\"outlinewidth\": 0, \"ticks\": \"\"}}, \"type\": \"scatter3d\"}], \"scattercarpet\": [{\"marker\": {\"colorbar\": {\"outlinewidth\": 0, \"ticks\": \"\"}}, \"type\": \"scattercarpet\"}], \"scattergeo\": [{\"marker\": {\"colorbar\": {\"outlinewidth\": 0, \"ticks\": \"\"}}, \"type\": \"scattergeo\"}], \"scattergl\": [{\"marker\": {\"colorbar\": {\"outlinewidth\": 0, \"ticks\": \"\"}}, \"type\": \"scattergl\"}], \"scattermapbox\": [{\"marker\": {\"colorbar\": {\"outlinewidth\": 0, \"ticks\": \"\"}}, \"type\": \"scattermapbox\"}], \"scatterpolar\": [{\"marker\": {\"colorbar\": {\"outlinewidth\": 0, \"ticks\": \"\"}}, \"type\": \"scatterpolar\"}], \"scatterpolargl\": [{\"marker\": {\"colorbar\": {\"outlinewidth\": 0, \"ticks\": \"\"}}, \"type\": \"scatterpolargl\"}], \"scatterternary\": [{\"marker\": {\"colorbar\": {\"outlinewidth\": 0, \"ticks\": \"\"}}, \"type\": \"scatterternary\"}], \"surface\": [{\"colorbar\": {\"outlinewidth\": 0, \"ticks\": \"\"}, \"colorscale\": [[0.0, \"#0d0887\"], [0.1111111111111111, \"#46039f\"], [0.2222222222222222, \"#7201a8\"], [0.3333333333333333, \"#9c179e\"], [0.4444444444444444, \"#bd3786\"], [0.5555555555555556, \"#d8576b\"], [0.6666666666666666, \"#ed7953\"], [0.7777777777777778, \"#fb9f3a\"], [0.8888888888888888, \"#fdca26\"], [1.0, \"#f0f921\"]], \"type\": \"surface\"}], \"table\": [{\"cells\": {\"fill\": {\"color\": \"#EBF0F8\"}, \"line\": {\"color\": \"white\"}}, \"header\": {\"fill\": {\"color\": \"#C8D4E3\"}, \"line\": {\"color\": \"white\"}}, \"type\": \"table\"}]}, \"layout\": {\"annotationdefaults\": {\"arrowcolor\": \"#2a3f5f\", \"arrowhead\": 0, \"arrowwidth\": 1}, \"coloraxis\": {\"colorbar\": {\"outlinewidth\": 0, \"ticks\": \"\"}}, \"colorscale\": {\"diverging\": [[0, \"#8e0152\"], [0.1, \"#c51b7d\"], [0.2, \"#de77ae\"], [0.3, \"#f1b6da\"], [0.4, \"#fde0ef\"], [0.5, \"#f7f7f7\"], [0.6, \"#e6f5d0\"], [0.7, \"#b8e186\"], [0.8, \"#7fbc41\"], [0.9, \"#4d9221\"], [1, \"#276419\"]], \"sequential\": [[0.0, \"#0d0887\"], [0.1111111111111111, \"#46039f\"], [0.2222222222222222, \"#7201a8\"], [0.3333333333333333, \"#9c179e\"], [0.4444444444444444, \"#bd3786\"], [0.5555555555555556, \"#d8576b\"], [0.6666666666666666, \"#ed7953\"], [0.7777777777777778, \"#fb9f3a\"], [0.8888888888888888, \"#fdca26\"], [1.0, \"#f0f921\"]], \"sequentialminus\": [[0.0, \"#0d0887\"], [0.1111111111111111, \"#46039f\"], [0.2222222222222222, \"#7201a8\"], [0.3333333333333333, \"#9c179e\"], [0.4444444444444444, \"#bd3786\"], [0.5555555555555556, \"#d8576b\"], [0.6666666666666666, \"#ed7953\"], [0.7777777777777778, \"#fb9f3a\"], [0.8888888888888888, \"#fdca26\"], [1.0, \"#f0f921\"]]}, \"colorway\": [\"#636efa\", \"#EF553B\", \"#00cc96\", \"#ab63fa\", \"#FFA15A\", \"#19d3f3\", \"#FF6692\", \"#B6E880\", \"#FF97FF\", \"#FECB52\"], \"font\": {\"color\": \"#2a3f5f\"}, \"geo\": {\"bgcolor\": \"white\", \"lakecolor\": \"white\", \"landcolor\": \"#E5ECF6\", \"showlakes\": true, \"showland\": true, \"subunitcolor\": \"white\"}, \"hoverlabel\": {\"align\": \"left\"}, \"hovermode\": \"closest\", \"mapbox\": {\"style\": \"light\"}, \"paper_bgcolor\": \"white\", \"plot_bgcolor\": \"#E5ECF6\", \"polar\": {\"angularaxis\": {\"gridcolor\": \"white\", \"linecolor\": \"white\", \"ticks\": \"\"}, \"bgcolor\": \"#E5ECF6\", \"radialaxis\": {\"gridcolor\": \"white\", \"linecolor\": \"white\", \"ticks\": \"\"}}, \"scene\": {\"xaxis\": {\"backgroundcolor\": \"#E5ECF6\", \"gridcolor\": \"white\", \"gridwidth\": 2, \"linecolor\": \"white\", \"showbackground\": true, \"ticks\": \"\", \"zerolinecolor\": \"white\"}, \"yaxis\": {\"backgroundcolor\": \"#E5ECF6\", \"gridcolor\": \"white\", \"gridwidth\": 2, \"linecolor\": \"white\", \"showbackground\": true, \"ticks\": \"\", \"zerolinecolor\": \"white\"}, \"zaxis\": {\"backgroundcolor\": \"#E5ECF6\", \"gridcolor\": \"white\", \"gridwidth\": 2, \"linecolor\": \"white\", \"showbackground\": true, \"ticks\": \"\", \"zerolinecolor\": \"white\"}}, \"shapedefaults\": {\"line\": {\"color\": \"#2a3f5f\"}}, \"ternary\": {\"aaxis\": {\"gridcolor\": \"white\", \"linecolor\": \"white\", \"ticks\": \"\"}, \"baxis\": {\"gridcolor\": \"white\", \"linecolor\": \"white\", \"ticks\": \"\"}, \"bgcolor\": \"#E5ECF6\", \"caxis\": {\"gridcolor\": \"white\", \"linecolor\": \"white\", \"ticks\": \"\"}}, \"title\": {\"x\": 0.05}, \"xaxis\": {\"automargin\": true, \"gridcolor\": \"white\", \"linecolor\": \"white\", \"ticks\": \"\", \"title\": {\"standoff\": 15}, \"zerolinecolor\": \"white\", \"zerolinewidth\": 2}, \"yaxis\": {\"automargin\": true, \"gridcolor\": \"white\", \"linecolor\": \"white\", \"ticks\": \"\", \"title\": {\"standoff\": 15}, \"zerolinecolor\": \"white\", \"zerolinewidth\": 2}}}, \"title\": {\"font\": {\"color\": \"#4D5663\"}}, \"xaxis\": {\"gridcolor\": \"#E1E5ED\", \"showgrid\": true, \"tickfont\": {\"color\": \"#4D5663\"}, \"title\": {\"font\": {\"color\": \"#4D5663\"}, \"text\": \"\"}, \"zerolinecolor\": \"#E1E5ED\"}, \"yaxis\": {\"gridcolor\": \"#E1E5ED\", \"showgrid\": true, \"tickfont\": {\"color\": \"#4D5663\"}, \"title\": {\"font\": {\"color\": \"#4D5663\"}, \"text\": \"\"}, \"zerolinecolor\": \"#E1E5ED\"}},\n",
       "                        {\"showLink\": true, \"linkText\": \"Export to plot.ly\", \"plotlyServerURL\": \"https://plot.ly\", \"responsive\": true}\n",
       "                    ).then(function(){\n",
       "                            \n",
       "var gd = document.getElementById('777970da-7b11-410f-839b-93e4e83dd742');\n",
       "var x = new MutationObserver(function (mutations, observer) {{\n",
       "        var display = window.getComputedStyle(gd).display;\n",
       "        if (!display || display === 'none') {{\n",
       "            console.log([gd, 'removed!']);\n",
       "            Plotly.purge(gd);\n",
       "            observer.disconnect();\n",
       "        }}\n",
       "}});\n",
       "\n",
       "// Listen for the removal of the full notebook cells\n",
       "var notebookContainer = gd.closest('#notebook-container');\n",
       "if (notebookContainer) {{\n",
       "    x.observe(notebookContainer, {childList: true});\n",
       "}}\n",
       "\n",
       "// Listen for the clearing of the current output cell\n",
       "var outputEl = gd.closest('.output');\n",
       "if (outputEl) {{\n",
       "    x.observe(outputEl, {childList: true});\n",
       "}}\n",
       "\n",
       "                        })\n",
       "                };\n",
       "                });\n",
       "            </script>\n",
       "        </div>"
      ]
     },
     "metadata": {},
     "output_type": "display_data"
    }
   ],
   "source": [
    "df.iplot(kind='bubble',x='A',y='B',size='C')"
   ]
  },
  {
   "cell_type": "markdown",
   "metadata": {},
   "source": [
    "## scatter_matrix()\n",
    "\n",
    "Similar to sns.pairplot()"
   ]
  },
  {
   "cell_type": "code",
   "execution_count": 28,
   "metadata": {},
   "outputs": [
    {
     "data": {
      "application/vnd.plotly.v1+json": {
       "config": {
        "linkText": "Export to plot.ly",
        "plotlyServerURL": "https://plot.ly",
        "showLink": true
       },
       "data": [
        {
         "histfunc": "count",
         "histnorm": "",
         "marker": {
          "color": "rgba(255, 153, 51, 1.0)",
          "line": {
           "color": "#4D5663",
           "width": 1.3
          }
         },
         "name": "A",
         "nbinsx": 10,
         "opacity": 0.8,
         "orientation": "v",
         "type": "histogram",
         "x": [
          0.06551037256099825,
          0.7787662777673576,
          1.2109220168503216,
          -0.164118398405124,
          -0.06953194857806134,
          1.066202048538722,
          -1.3290047735764563,
          -0.5661954082926168,
          -1.4795446786374782,
          0.5850867537280864,
          -1.6214043663476296,
          0.2281022915104834,
          -0.03266104341812228,
          -0.31529542239941,
          -0.8185165343462465,
          -0.9468500346127864,
          -0.5094364956867495,
          1.753022121579112,
          3.9780300131120603,
          -0.4147544481721648,
          -0.14963872632764225,
          1.3903039535346131,
          0.11798699784306298,
          -1.198799937094399,
          1.4131626285760492,
          0.623506501038244,
          0.8643831632654269,
          0.6752773092042728,
          -0.0711263241446468,
          0.18404130682510414,
          1.5405933704770725,
          -0.5126085695574668,
          -0.3885648449076173,
          -1.5388448445655147,
          -0.5000145318421976,
          1.0835766953611417,
          0.2237897443521966,
          1.1218991400304938,
          1.184719984221023,
          -0.6023434282954342,
          1.090344849883388,
          -0.3436379889241205,
          -0.5690894547955576,
          -1.6012940470392885,
          -3.3510027943928313,
          -0.8458239564084824,
          -1.4228331193628854,
          1.6847961973387284,
          0.8735325541867743,
          0.6969975174415938,
          -0.8003467642792428,
          -0.4400351866092966,
          0.12759747604828178,
          -0.6078004191603125,
          -0.45683564594752585,
          -1.0761795529594465,
          0.767820190317033,
          0.9036510765352602,
          2.3195076034254534,
          -0.7471444461857918,
          0.6229681285213532,
          -0.8448670190512532,
          1.1112053758052522,
          -0.37932375500455245,
          -2.7014109958197228,
          -1.2776112906769244,
          2.595391503109247,
          0.22384493791324778,
          0.9970759541901827,
          -0.7010617297315688,
          -0.47870937464473223,
          0.3347971428350504,
          1.0993453924680892,
          0.3240433573069802,
          -0.7252634214456634,
          0.22527502463488902,
          1.3781138065202578,
          -1.3504042254670332,
          -4.053651302513549,
          0.7216865598008689,
          -0.5003323289743481,
          0.5149434179673201,
          -0.4722870549872342,
          1.8179752612025275,
          0.9338008400773208,
          -0.6151732196400808,
          -1.5959820784883318,
          -0.8606323394451001,
          1.2019904263305907,
          -0.9188842057477389,
          0.633467463091969,
          0.36150603037861967,
          0.5176495875526188,
          -0.8151420430366462,
          1.1187007850174295,
          -2.621576836525829,
          -1.0653546708932358,
          -0.6714537483763512,
          -0.17538467944985758,
          -0.16881902219472808
         ],
         "xaxis": "x",
         "yaxis": "y"
        },
        {
         "line": {
          "color": "rgba(128, 128, 128, 1.0)",
          "dash": "solid",
          "shape": "linear",
          "width": 1.3
         },
         "marker": {
          "size": 2,
          "symbol": "circle"
         },
         "mode": "markers",
         "name": "A",
         "text": "",
         "type": "scatter",
         "x": [
          -1.0925650641931546,
          -1.1063010870224814,
          -0.32805306632209535,
          -1.8015176878336885,
          -0.1735327532380383,
          -0.08774588068587334,
          0.18757699718867998,
          0.6728859311887663,
          -0.7063785591459333,
          -1.5601290810082729,
          0.058848714728627294,
          0.40753255207102396,
          -0.24185126842710786,
          -0.1589405707360404,
          -3.6419230654539163,
          -1.278856426455618,
          -0.12506104010367203,
          -0.6999988206992263,
          -0.8975679054874393,
          -0.6776071391269884,
          -0.4627648216478146,
          2.626517695743942,
          -0.91040991382991,
          -2.88721680880961,
          -0.4151155407559168,
          -0.23674583789893922,
          1.298472563980927,
          2.9691566852896694,
          0.2512798077666682,
          -0.060894981563443196,
          -0.4861008577562129,
          -0.5640569278924469,
          2.032606097220788,
          -1.8478501295804048,
          1.080680795367581,
          -0.18081697204116465,
          0.5343053846985427,
          1.8328987073087728,
          0.8825543638387845,
          0.00758723758367448,
          -1.812680010503773,
          -0.3894181938587775,
          -0.9156059830862028,
          2.0765759332108775,
          -0.9845877565924966,
          -0.11513168690523837,
          0.01975359983273998,
          1.5525461151094744,
          2.174439604808439,
          -1.3259988649521035,
          -0.9175421334719854,
          0.7832487273727792,
          0.718982414490362,
          -0.5559288782298727,
          -0.2637041754949957,
          -0.5085266837885446,
          0.5267515240175117,
          -1.5125519857794338,
          0.5912124711191508,
          0.9485835777097431,
          0.5060014073562296,
          -1.383374247408542,
          -0.5827753650039929,
          -0.42029786340586767,
          2.396767848055817,
          -1.321557164877903,
          -0.26939673156797905,
          0.21659628952068838,
          -1.7147787346861005,
          -2.403180951945503,
          -0.2176716191001402,
          -0.30067465967466783,
          0.7020810081753037,
          0.07107137979934369,
          1.679478935083888,
          0.25046020425850907,
          0.494810949520932,
          -0.3815902451811281,
          -0.32054753212638537,
          1.5112283430196483,
          -0.3565509952124511,
          -0.34060527990923545,
          -0.6522886642783906,
          -2.1006446882605343,
          0.34337080965320393,
          -0.6344058007008451,
          -0.5614985283201149,
          1.3246267897107706,
          1.0700683834779376,
          -1.5535964408637803,
          -0.8501136729413292,
          -1.0023413559710757,
          0.5988948939086691,
          1.23651459677043,
          -1.4467738926798768,
          0.8923285883848271,
          1.4467820432217038,
          -0.775252461367255,
          0.7622501319698802,
          0.2657847128074883
         ],
         "xaxis": "x2",
         "y": [
          0.06551037256099825,
          0.7787662777673576,
          1.2109220168503216,
          -0.164118398405124,
          -0.06953194857806134,
          1.066202048538722,
          -1.3290047735764563,
          -0.5661954082926168,
          -1.4795446786374782,
          0.5850867537280864,
          -1.6214043663476296,
          0.2281022915104834,
          -0.03266104341812228,
          -0.31529542239941,
          -0.8185165343462465,
          -0.9468500346127864,
          -0.5094364956867495,
          1.753022121579112,
          3.9780300131120603,
          -0.4147544481721648,
          -0.14963872632764225,
          1.3903039535346131,
          0.11798699784306298,
          -1.198799937094399,
          1.4131626285760492,
          0.623506501038244,
          0.8643831632654269,
          0.6752773092042728,
          -0.0711263241446468,
          0.18404130682510414,
          1.5405933704770725,
          -0.5126085695574668,
          -0.3885648449076173,
          -1.5388448445655147,
          -0.5000145318421976,
          1.0835766953611417,
          0.2237897443521966,
          1.1218991400304938,
          1.184719984221023,
          -0.6023434282954342,
          1.090344849883388,
          -0.3436379889241205,
          -0.5690894547955576,
          -1.6012940470392885,
          -3.3510027943928313,
          -0.8458239564084824,
          -1.4228331193628854,
          1.6847961973387284,
          0.8735325541867743,
          0.6969975174415938,
          -0.8003467642792428,
          -0.4400351866092966,
          0.12759747604828178,
          -0.6078004191603125,
          -0.45683564594752585,
          -1.0761795529594465,
          0.767820190317033,
          0.9036510765352602,
          2.3195076034254534,
          -0.7471444461857918,
          0.6229681285213532,
          -0.8448670190512532,
          1.1112053758052522,
          -0.37932375500455245,
          -2.7014109958197228,
          -1.2776112906769244,
          2.595391503109247,
          0.22384493791324778,
          0.9970759541901827,
          -0.7010617297315688,
          -0.47870937464473223,
          0.3347971428350504,
          1.0993453924680892,
          0.3240433573069802,
          -0.7252634214456634,
          0.22527502463488902,
          1.3781138065202578,
          -1.3504042254670332,
          -4.053651302513549,
          0.7216865598008689,
          -0.5003323289743481,
          0.5149434179673201,
          -0.4722870549872342,
          1.8179752612025275,
          0.9338008400773208,
          -0.6151732196400808,
          -1.5959820784883318,
          -0.8606323394451001,
          1.2019904263305907,
          -0.9188842057477389,
          0.633467463091969,
          0.36150603037861967,
          0.5176495875526188,
          -0.8151420430366462,
          1.1187007850174295,
          -2.621576836525829,
          -1.0653546708932358,
          -0.6714537483763512,
          -0.17538467944985758,
          -0.16881902219472808
         ],
         "yaxis": "y2"
        },
        {
         "line": {
          "color": "rgba(128, 128, 128, 1.0)",
          "dash": "solid",
          "shape": "linear",
          "width": 1.3
         },
         "marker": {
          "size": 2,
          "symbol": "circle"
         },
         "mode": "markers",
         "name": "A",
         "text": "",
         "type": "scatter",
         "x": [
          1.3122730315042694,
          -0.17935310503596935,
          0.3614508310022408,
          -0.5211010566005132,
          -0.8819759423318262,
          -0.9169504758415993,
          -0.2519988810723046,
          -1.113232685157474,
          -0.8270000589718352,
          -0.3608443919675396,
          -1.790994145293478,
          1.229497011878506,
          0.5244266047548111,
          0.30950717721757914,
          0.9913249349727666,
          0.4225385930312028,
          -0.43809663960515643,
          -0.1956072394634809,
          -0.8966224923606408,
          -0.6858989240202681,
          -1.2354283168914784,
          -0.38518005789115267,
          0.14125669984744982,
          0.009628427734064584,
          -0.8343609704758841,
          -0.6254362696500314,
          -0.19009857737161248,
          0.8024851239601978,
          0.21849566906323878,
          -0.31996929320816375,
          -1.6628372802901763,
          -1.8210520255850096,
          0.5304296301262494,
          0.421752245075303,
          -0.7812834649471643,
          -0.6755859487986324,
          1.1318065517425326,
          -1.7096919590322925,
          -1.521312451975673,
          1.8275392617169104,
          2.193604590576897,
          1.82924388395378,
          1.695135498883619,
          -0.9372289917902713,
          -0.7517034331328517,
          -0.9405836457996472,
          0.18363540881443705,
          -1.6888791771823555,
          0.3528760574723848,
          -1.8846003666593836,
          0.529161502175242,
          -0.864694295346101,
          0.7572177454734456,
          -1.1500641264623734,
          1.0255018011884054,
          1.1379456189412875,
          -0.2766376966356368,
          -0.33190440864984677,
          0.02938692391757872,
          0.1441841232633436,
          -0.07471296527887963,
          0.0686761948664308,
          -1.9977069652099664,
          -0.42700103340562834,
          -0.8318821594923187,
          -0.5596727597099382,
          0.18346133391049288,
          1.3506828478186077,
          1.0634309532966568,
          1.4769664064849617,
          -0.2209001285055589,
          -0.4851538300535789,
          0.36521711207331015,
          -0.6613614274066665,
          -0.9400974411180243,
          -0.740899364556757,
          -0.31932440099134807,
          -0.9227376804572993,
          0.7875927248187125,
          0.3971733396415079,
          0.15724577048337082,
          0.43583308621840827,
          0.3452179544153144,
          -0.33060123213417814,
          0.7012511634326455,
          0.1359150271139867,
          0.4983761403689988,
          -0.38699779591073197,
          -1.1321822914573374,
          0.381220997039987,
          -0.9833009504151865,
          -0.24217166231535547,
          -0.9712623950130381,
          -1.4829071262232862,
          0.139431489054704,
          1.3536578112352777,
          -0.21621273025259535,
          0.8087520815265892,
          -1.7607551901134975,
          1.3631956292994885
         ],
         "xaxis": "x3",
         "y": [
          0.06551037256099825,
          0.7787662777673576,
          1.2109220168503216,
          -0.164118398405124,
          -0.06953194857806134,
          1.066202048538722,
          -1.3290047735764563,
          -0.5661954082926168,
          -1.4795446786374782,
          0.5850867537280864,
          -1.6214043663476296,
          0.2281022915104834,
          -0.03266104341812228,
          -0.31529542239941,
          -0.8185165343462465,
          -0.9468500346127864,
          -0.5094364956867495,
          1.753022121579112,
          3.9780300131120603,
          -0.4147544481721648,
          -0.14963872632764225,
          1.3903039535346131,
          0.11798699784306298,
          -1.198799937094399,
          1.4131626285760492,
          0.623506501038244,
          0.8643831632654269,
          0.6752773092042728,
          -0.0711263241446468,
          0.18404130682510414,
          1.5405933704770725,
          -0.5126085695574668,
          -0.3885648449076173,
          -1.5388448445655147,
          -0.5000145318421976,
          1.0835766953611417,
          0.2237897443521966,
          1.1218991400304938,
          1.184719984221023,
          -0.6023434282954342,
          1.090344849883388,
          -0.3436379889241205,
          -0.5690894547955576,
          -1.6012940470392885,
          -3.3510027943928313,
          -0.8458239564084824,
          -1.4228331193628854,
          1.6847961973387284,
          0.8735325541867743,
          0.6969975174415938,
          -0.8003467642792428,
          -0.4400351866092966,
          0.12759747604828178,
          -0.6078004191603125,
          -0.45683564594752585,
          -1.0761795529594465,
          0.767820190317033,
          0.9036510765352602,
          2.3195076034254534,
          -0.7471444461857918,
          0.6229681285213532,
          -0.8448670190512532,
          1.1112053758052522,
          -0.37932375500455245,
          -2.7014109958197228,
          -1.2776112906769244,
          2.595391503109247,
          0.22384493791324778,
          0.9970759541901827,
          -0.7010617297315688,
          -0.47870937464473223,
          0.3347971428350504,
          1.0993453924680892,
          0.3240433573069802,
          -0.7252634214456634,
          0.22527502463488902,
          1.3781138065202578,
          -1.3504042254670332,
          -4.053651302513549,
          0.7216865598008689,
          -0.5003323289743481,
          0.5149434179673201,
          -0.4722870549872342,
          1.8179752612025275,
          0.9338008400773208,
          -0.6151732196400808,
          -1.5959820784883318,
          -0.8606323394451001,
          1.2019904263305907,
          -0.9188842057477389,
          0.633467463091969,
          0.36150603037861967,
          0.5176495875526188,
          -0.8151420430366462,
          1.1187007850174295,
          -2.621576836525829,
          -1.0653546708932358,
          -0.6714537483763512,
          -0.17538467944985758,
          -0.16881902219472808
         ],
         "yaxis": "y3"
        },
        {
         "line": {
          "color": "rgba(128, 128, 128, 1.0)",
          "dash": "solid",
          "shape": "linear",
          "width": 1.3
         },
         "marker": {
          "size": 2,
          "symbol": "circle"
         },
         "mode": "markers",
         "name": "A",
         "text": "",
         "type": "scatter",
         "x": [
          -0.8569913877419736,
          0.20043397000527866,
          -1.7412927929767723,
          -1.1873738385667572,
          0.46117217569580754,
          1.1679591932700821,
          -1.015095279622547,
          0.8415819887073378,
          1.8328489355568114,
          -1.104945360777617,
          -1.248936723865419,
          0.15666057431555322,
          -0.5904385624918248,
          -0.9741245968558371,
          1.4937687052599453,
          0.5850246918816916,
          0.3381049331672944,
          -0.7483890168855368,
          -0.6762787813690532,
          0.06528333399450395,
          0.9216224411628501,
          0.11602165284467134,
          -0.7214772261918884,
          1.9436830686844957,
          -0.7495054162160697,
          -1.3957935493271236,
          1.1666689847591565,
          0.2988607249559056,
          0.23499382582333145,
          -0.4378172935292165,
          -1.1089672494422926,
          1.0480857443658964,
          -0.30464427262809096,
          1.7666252648127816,
          0.20135243885349585,
          -0.7240290010663003,
          0.6358849419050292,
          1.3372054219807012,
          -0.8479329819031785,
          0.33605362411663764,
          0.3091409003988394,
          -0.0042238283781839804,
          -2.1931150426342527,
          0.5351624320455792,
          0.18301691618515195,
          -2.244228422091324,
          -0.23571721821529978,
          0.59210695506618,
          -0.6343701671428039,
          1.7532165598333844,
          -1.360046170333257,
          -1.9703802968958088,
          0.3320761840458883,
          0.1904961384424451,
          -0.10330778595218273,
          0.49372568454540483,
          0.7957150006751236,
          0.6325305840422442,
          -1.5830067557580374,
          -0.4539225055348257,
          0.8495483797125362,
          -0.04250043951784153,
          0.7516988836459388,
          0.8944697069148903,
          -0.035277287468309895,
          0.7428012424634501,
          -1.152202352081379,
          -0.5684949141988689,
          2.060839920383102,
          -0.8910336062432065,
          -0.6111340224125054,
          1.1493890573734444,
          -0.6977468209185262,
          2.00048191418851,
          0.6790909416761713,
          -1.3289974226191574,
          0.9665612627913074,
          -1.1892316319921394,
          -0.07661048278707877,
          0.6816736136192816,
          1.5478480340620588,
          0.9991048480787013,
          0.5176894312965323,
          -1.8318832829407212,
          0.9449493500331181,
          0.47162380853355784,
          0.2551712160181531,
          1.033963974273001,
          1.008388020937463,
          -1.3550558210131782,
          -1.3553648061099495,
          0.3419840046463667,
          -0.6799359282514028,
          0.472852846116455,
          -0.07007777844980682,
          0.7928144634980903,
          0.582896728216384,
          2.6702690689972575,
          -0.32707324297297424,
          -0.5341181551241768
         ],
         "xaxis": "x4",
         "y": [
          0.06551037256099825,
          0.7787662777673576,
          1.2109220168503216,
          -0.164118398405124,
          -0.06953194857806134,
          1.066202048538722,
          -1.3290047735764563,
          -0.5661954082926168,
          -1.4795446786374782,
          0.5850867537280864,
          -1.6214043663476296,
          0.2281022915104834,
          -0.03266104341812228,
          -0.31529542239941,
          -0.8185165343462465,
          -0.9468500346127864,
          -0.5094364956867495,
          1.753022121579112,
          3.9780300131120603,
          -0.4147544481721648,
          -0.14963872632764225,
          1.3903039535346131,
          0.11798699784306298,
          -1.198799937094399,
          1.4131626285760492,
          0.623506501038244,
          0.8643831632654269,
          0.6752773092042728,
          -0.0711263241446468,
          0.18404130682510414,
          1.5405933704770725,
          -0.5126085695574668,
          -0.3885648449076173,
          -1.5388448445655147,
          -0.5000145318421976,
          1.0835766953611417,
          0.2237897443521966,
          1.1218991400304938,
          1.184719984221023,
          -0.6023434282954342,
          1.090344849883388,
          -0.3436379889241205,
          -0.5690894547955576,
          -1.6012940470392885,
          -3.3510027943928313,
          -0.8458239564084824,
          -1.4228331193628854,
          1.6847961973387284,
          0.8735325541867743,
          0.6969975174415938,
          -0.8003467642792428,
          -0.4400351866092966,
          0.12759747604828178,
          -0.6078004191603125,
          -0.45683564594752585,
          -1.0761795529594465,
          0.767820190317033,
          0.9036510765352602,
          2.3195076034254534,
          -0.7471444461857918,
          0.6229681285213532,
          -0.8448670190512532,
          1.1112053758052522,
          -0.37932375500455245,
          -2.7014109958197228,
          -1.2776112906769244,
          2.595391503109247,
          0.22384493791324778,
          0.9970759541901827,
          -0.7010617297315688,
          -0.47870937464473223,
          0.3347971428350504,
          1.0993453924680892,
          0.3240433573069802,
          -0.7252634214456634,
          0.22527502463488902,
          1.3781138065202578,
          -1.3504042254670332,
          -4.053651302513549,
          0.7216865598008689,
          -0.5003323289743481,
          0.5149434179673201,
          -0.4722870549872342,
          1.8179752612025275,
          0.9338008400773208,
          -0.6151732196400808,
          -1.5959820784883318,
          -0.8606323394451001,
          1.2019904263305907,
          -0.9188842057477389,
          0.633467463091969,
          0.36150603037861967,
          0.5176495875526188,
          -0.8151420430366462,
          1.1187007850174295,
          -2.621576836525829,
          -1.0653546708932358,
          -0.6714537483763512,
          -0.17538467944985758,
          -0.16881902219472808
         ],
         "yaxis": "y4"
        },
        {
         "line": {
          "color": "rgba(128, 128, 128, 1.0)",
          "dash": "solid",
          "shape": "linear",
          "width": 1.3
         },
         "marker": {
          "size": 2,
          "symbol": "circle"
         },
         "mode": "markers",
         "name": "B",
         "text": "",
         "type": "scatter",
         "x": [
          0.06551037256099825,
          0.7787662777673576,
          1.2109220168503216,
          -0.164118398405124,
          -0.06953194857806134,
          1.066202048538722,
          -1.3290047735764563,
          -0.5661954082926168,
          -1.4795446786374782,
          0.5850867537280864,
          -1.6214043663476296,
          0.2281022915104834,
          -0.03266104341812228,
          -0.31529542239941,
          -0.8185165343462465,
          -0.9468500346127864,
          -0.5094364956867495,
          1.753022121579112,
          3.9780300131120603,
          -0.4147544481721648,
          -0.14963872632764225,
          1.3903039535346131,
          0.11798699784306298,
          -1.198799937094399,
          1.4131626285760492,
          0.623506501038244,
          0.8643831632654269,
          0.6752773092042728,
          -0.0711263241446468,
          0.18404130682510414,
          1.5405933704770725,
          -0.5126085695574668,
          -0.3885648449076173,
          -1.5388448445655147,
          -0.5000145318421976,
          1.0835766953611417,
          0.2237897443521966,
          1.1218991400304938,
          1.184719984221023,
          -0.6023434282954342,
          1.090344849883388,
          -0.3436379889241205,
          -0.5690894547955576,
          -1.6012940470392885,
          -3.3510027943928313,
          -0.8458239564084824,
          -1.4228331193628854,
          1.6847961973387284,
          0.8735325541867743,
          0.6969975174415938,
          -0.8003467642792428,
          -0.4400351866092966,
          0.12759747604828178,
          -0.6078004191603125,
          -0.45683564594752585,
          -1.0761795529594465,
          0.767820190317033,
          0.9036510765352602,
          2.3195076034254534,
          -0.7471444461857918,
          0.6229681285213532,
          -0.8448670190512532,
          1.1112053758052522,
          -0.37932375500455245,
          -2.7014109958197228,
          -1.2776112906769244,
          2.595391503109247,
          0.22384493791324778,
          0.9970759541901827,
          -0.7010617297315688,
          -0.47870937464473223,
          0.3347971428350504,
          1.0993453924680892,
          0.3240433573069802,
          -0.7252634214456634,
          0.22527502463488902,
          1.3781138065202578,
          -1.3504042254670332,
          -4.053651302513549,
          0.7216865598008689,
          -0.5003323289743481,
          0.5149434179673201,
          -0.4722870549872342,
          1.8179752612025275,
          0.9338008400773208,
          -0.6151732196400808,
          -1.5959820784883318,
          -0.8606323394451001,
          1.2019904263305907,
          -0.9188842057477389,
          0.633467463091969,
          0.36150603037861967,
          0.5176495875526188,
          -0.8151420430366462,
          1.1187007850174295,
          -2.621576836525829,
          -1.0653546708932358,
          -0.6714537483763512,
          -0.17538467944985758,
          -0.16881902219472808
         ],
         "xaxis": "x5",
         "y": [
          -1.0925650641931546,
          -1.1063010870224814,
          -0.32805306632209535,
          -1.8015176878336885,
          -0.1735327532380383,
          -0.08774588068587334,
          0.18757699718867998,
          0.6728859311887663,
          -0.7063785591459333,
          -1.5601290810082729,
          0.058848714728627294,
          0.40753255207102396,
          -0.24185126842710786,
          -0.1589405707360404,
          -3.6419230654539163,
          -1.278856426455618,
          -0.12506104010367203,
          -0.6999988206992263,
          -0.8975679054874393,
          -0.6776071391269884,
          -0.4627648216478146,
          2.626517695743942,
          -0.91040991382991,
          -2.88721680880961,
          -0.4151155407559168,
          -0.23674583789893922,
          1.298472563980927,
          2.9691566852896694,
          0.2512798077666682,
          -0.060894981563443196,
          -0.4861008577562129,
          -0.5640569278924469,
          2.032606097220788,
          -1.8478501295804048,
          1.080680795367581,
          -0.18081697204116465,
          0.5343053846985427,
          1.8328987073087728,
          0.8825543638387845,
          0.00758723758367448,
          -1.812680010503773,
          -0.3894181938587775,
          -0.9156059830862028,
          2.0765759332108775,
          -0.9845877565924966,
          -0.11513168690523837,
          0.01975359983273998,
          1.5525461151094744,
          2.174439604808439,
          -1.3259988649521035,
          -0.9175421334719854,
          0.7832487273727792,
          0.718982414490362,
          -0.5559288782298727,
          -0.2637041754949957,
          -0.5085266837885446,
          0.5267515240175117,
          -1.5125519857794338,
          0.5912124711191508,
          0.9485835777097431,
          0.5060014073562296,
          -1.383374247408542,
          -0.5827753650039929,
          -0.42029786340586767,
          2.396767848055817,
          -1.321557164877903,
          -0.26939673156797905,
          0.21659628952068838,
          -1.7147787346861005,
          -2.403180951945503,
          -0.2176716191001402,
          -0.30067465967466783,
          0.7020810081753037,
          0.07107137979934369,
          1.679478935083888,
          0.25046020425850907,
          0.494810949520932,
          -0.3815902451811281,
          -0.32054753212638537,
          1.5112283430196483,
          -0.3565509952124511,
          -0.34060527990923545,
          -0.6522886642783906,
          -2.1006446882605343,
          0.34337080965320393,
          -0.6344058007008451,
          -0.5614985283201149,
          1.3246267897107706,
          1.0700683834779376,
          -1.5535964408637803,
          -0.8501136729413292,
          -1.0023413559710757,
          0.5988948939086691,
          1.23651459677043,
          -1.4467738926798768,
          0.8923285883848271,
          1.4467820432217038,
          -0.775252461367255,
          0.7622501319698802,
          0.2657847128074883
         ],
         "yaxis": "y5"
        },
        {
         "histfunc": "count",
         "histnorm": "",
         "marker": {
          "color": "rgba(55, 128, 191, 1.0)",
          "line": {
           "color": "#4D5663",
           "width": 1.3
          }
         },
         "name": "B",
         "nbinsx": 10,
         "opacity": 0.8,
         "orientation": "v",
         "type": "histogram",
         "x": [
          -1.0925650641931546,
          -1.1063010870224814,
          -0.32805306632209535,
          -1.8015176878336885,
          -0.1735327532380383,
          -0.08774588068587334,
          0.18757699718867998,
          0.6728859311887663,
          -0.7063785591459333,
          -1.5601290810082729,
          0.058848714728627294,
          0.40753255207102396,
          -0.24185126842710786,
          -0.1589405707360404,
          -3.6419230654539163,
          -1.278856426455618,
          -0.12506104010367203,
          -0.6999988206992263,
          -0.8975679054874393,
          -0.6776071391269884,
          -0.4627648216478146,
          2.626517695743942,
          -0.91040991382991,
          -2.88721680880961,
          -0.4151155407559168,
          -0.23674583789893922,
          1.298472563980927,
          2.9691566852896694,
          0.2512798077666682,
          -0.060894981563443196,
          -0.4861008577562129,
          -0.5640569278924469,
          2.032606097220788,
          -1.8478501295804048,
          1.080680795367581,
          -0.18081697204116465,
          0.5343053846985427,
          1.8328987073087728,
          0.8825543638387845,
          0.00758723758367448,
          -1.812680010503773,
          -0.3894181938587775,
          -0.9156059830862028,
          2.0765759332108775,
          -0.9845877565924966,
          -0.11513168690523837,
          0.01975359983273998,
          1.5525461151094744,
          2.174439604808439,
          -1.3259988649521035,
          -0.9175421334719854,
          0.7832487273727792,
          0.718982414490362,
          -0.5559288782298727,
          -0.2637041754949957,
          -0.5085266837885446,
          0.5267515240175117,
          -1.5125519857794338,
          0.5912124711191508,
          0.9485835777097431,
          0.5060014073562296,
          -1.383374247408542,
          -0.5827753650039929,
          -0.42029786340586767,
          2.396767848055817,
          -1.321557164877903,
          -0.26939673156797905,
          0.21659628952068838,
          -1.7147787346861005,
          -2.403180951945503,
          -0.2176716191001402,
          -0.30067465967466783,
          0.7020810081753037,
          0.07107137979934369,
          1.679478935083888,
          0.25046020425850907,
          0.494810949520932,
          -0.3815902451811281,
          -0.32054753212638537,
          1.5112283430196483,
          -0.3565509952124511,
          -0.34060527990923545,
          -0.6522886642783906,
          -2.1006446882605343,
          0.34337080965320393,
          -0.6344058007008451,
          -0.5614985283201149,
          1.3246267897107706,
          1.0700683834779376,
          -1.5535964408637803,
          -0.8501136729413292,
          -1.0023413559710757,
          0.5988948939086691,
          1.23651459677043,
          -1.4467738926798768,
          0.8923285883848271,
          1.4467820432217038,
          -0.775252461367255,
          0.7622501319698802,
          0.2657847128074883
         ],
         "xaxis": "x6",
         "yaxis": "y6"
        },
        {
         "line": {
          "color": "rgba(128, 128, 128, 1.0)",
          "dash": "solid",
          "shape": "linear",
          "width": 1.3
         },
         "marker": {
          "size": 2,
          "symbol": "circle"
         },
         "mode": "markers",
         "name": "B",
         "text": "",
         "type": "scatter",
         "x": [
          1.3122730315042694,
          -0.17935310503596935,
          0.3614508310022408,
          -0.5211010566005132,
          -0.8819759423318262,
          -0.9169504758415993,
          -0.2519988810723046,
          -1.113232685157474,
          -0.8270000589718352,
          -0.3608443919675396,
          -1.790994145293478,
          1.229497011878506,
          0.5244266047548111,
          0.30950717721757914,
          0.9913249349727666,
          0.4225385930312028,
          -0.43809663960515643,
          -0.1956072394634809,
          -0.8966224923606408,
          -0.6858989240202681,
          -1.2354283168914784,
          -0.38518005789115267,
          0.14125669984744982,
          0.009628427734064584,
          -0.8343609704758841,
          -0.6254362696500314,
          -0.19009857737161248,
          0.8024851239601978,
          0.21849566906323878,
          -0.31996929320816375,
          -1.6628372802901763,
          -1.8210520255850096,
          0.5304296301262494,
          0.421752245075303,
          -0.7812834649471643,
          -0.6755859487986324,
          1.1318065517425326,
          -1.7096919590322925,
          -1.521312451975673,
          1.8275392617169104,
          2.193604590576897,
          1.82924388395378,
          1.695135498883619,
          -0.9372289917902713,
          -0.7517034331328517,
          -0.9405836457996472,
          0.18363540881443705,
          -1.6888791771823555,
          0.3528760574723848,
          -1.8846003666593836,
          0.529161502175242,
          -0.864694295346101,
          0.7572177454734456,
          -1.1500641264623734,
          1.0255018011884054,
          1.1379456189412875,
          -0.2766376966356368,
          -0.33190440864984677,
          0.02938692391757872,
          0.1441841232633436,
          -0.07471296527887963,
          0.0686761948664308,
          -1.9977069652099664,
          -0.42700103340562834,
          -0.8318821594923187,
          -0.5596727597099382,
          0.18346133391049288,
          1.3506828478186077,
          1.0634309532966568,
          1.4769664064849617,
          -0.2209001285055589,
          -0.4851538300535789,
          0.36521711207331015,
          -0.6613614274066665,
          -0.9400974411180243,
          -0.740899364556757,
          -0.31932440099134807,
          -0.9227376804572993,
          0.7875927248187125,
          0.3971733396415079,
          0.15724577048337082,
          0.43583308621840827,
          0.3452179544153144,
          -0.33060123213417814,
          0.7012511634326455,
          0.1359150271139867,
          0.4983761403689988,
          -0.38699779591073197,
          -1.1321822914573374,
          0.381220997039987,
          -0.9833009504151865,
          -0.24217166231535547,
          -0.9712623950130381,
          -1.4829071262232862,
          0.139431489054704,
          1.3536578112352777,
          -0.21621273025259535,
          0.8087520815265892,
          -1.7607551901134975,
          1.3631956292994885
         ],
         "xaxis": "x7",
         "y": [
          -1.0925650641931546,
          -1.1063010870224814,
          -0.32805306632209535,
          -1.8015176878336885,
          -0.1735327532380383,
          -0.08774588068587334,
          0.18757699718867998,
          0.6728859311887663,
          -0.7063785591459333,
          -1.5601290810082729,
          0.058848714728627294,
          0.40753255207102396,
          -0.24185126842710786,
          -0.1589405707360404,
          -3.6419230654539163,
          -1.278856426455618,
          -0.12506104010367203,
          -0.6999988206992263,
          -0.8975679054874393,
          -0.6776071391269884,
          -0.4627648216478146,
          2.626517695743942,
          -0.91040991382991,
          -2.88721680880961,
          -0.4151155407559168,
          -0.23674583789893922,
          1.298472563980927,
          2.9691566852896694,
          0.2512798077666682,
          -0.060894981563443196,
          -0.4861008577562129,
          -0.5640569278924469,
          2.032606097220788,
          -1.8478501295804048,
          1.080680795367581,
          -0.18081697204116465,
          0.5343053846985427,
          1.8328987073087728,
          0.8825543638387845,
          0.00758723758367448,
          -1.812680010503773,
          -0.3894181938587775,
          -0.9156059830862028,
          2.0765759332108775,
          -0.9845877565924966,
          -0.11513168690523837,
          0.01975359983273998,
          1.5525461151094744,
          2.174439604808439,
          -1.3259988649521035,
          -0.9175421334719854,
          0.7832487273727792,
          0.718982414490362,
          -0.5559288782298727,
          -0.2637041754949957,
          -0.5085266837885446,
          0.5267515240175117,
          -1.5125519857794338,
          0.5912124711191508,
          0.9485835777097431,
          0.5060014073562296,
          -1.383374247408542,
          -0.5827753650039929,
          -0.42029786340586767,
          2.396767848055817,
          -1.321557164877903,
          -0.26939673156797905,
          0.21659628952068838,
          -1.7147787346861005,
          -2.403180951945503,
          -0.2176716191001402,
          -0.30067465967466783,
          0.7020810081753037,
          0.07107137979934369,
          1.679478935083888,
          0.25046020425850907,
          0.494810949520932,
          -0.3815902451811281,
          -0.32054753212638537,
          1.5112283430196483,
          -0.3565509952124511,
          -0.34060527990923545,
          -0.6522886642783906,
          -2.1006446882605343,
          0.34337080965320393,
          -0.6344058007008451,
          -0.5614985283201149,
          1.3246267897107706,
          1.0700683834779376,
          -1.5535964408637803,
          -0.8501136729413292,
          -1.0023413559710757,
          0.5988948939086691,
          1.23651459677043,
          -1.4467738926798768,
          0.8923285883848271,
          1.4467820432217038,
          -0.775252461367255,
          0.7622501319698802,
          0.2657847128074883
         ],
         "yaxis": "y7"
        },
        {
         "line": {
          "color": "rgba(128, 128, 128, 1.0)",
          "dash": "solid",
          "shape": "linear",
          "width": 1.3
         },
         "marker": {
          "size": 2,
          "symbol": "circle"
         },
         "mode": "markers",
         "name": "B",
         "text": "",
         "type": "scatter",
         "x": [
          -0.8569913877419736,
          0.20043397000527866,
          -1.7412927929767723,
          -1.1873738385667572,
          0.46117217569580754,
          1.1679591932700821,
          -1.015095279622547,
          0.8415819887073378,
          1.8328489355568114,
          -1.104945360777617,
          -1.248936723865419,
          0.15666057431555322,
          -0.5904385624918248,
          -0.9741245968558371,
          1.4937687052599453,
          0.5850246918816916,
          0.3381049331672944,
          -0.7483890168855368,
          -0.6762787813690532,
          0.06528333399450395,
          0.9216224411628501,
          0.11602165284467134,
          -0.7214772261918884,
          1.9436830686844957,
          -0.7495054162160697,
          -1.3957935493271236,
          1.1666689847591565,
          0.2988607249559056,
          0.23499382582333145,
          -0.4378172935292165,
          -1.1089672494422926,
          1.0480857443658964,
          -0.30464427262809096,
          1.7666252648127816,
          0.20135243885349585,
          -0.7240290010663003,
          0.6358849419050292,
          1.3372054219807012,
          -0.8479329819031785,
          0.33605362411663764,
          0.3091409003988394,
          -0.0042238283781839804,
          -2.1931150426342527,
          0.5351624320455792,
          0.18301691618515195,
          -2.244228422091324,
          -0.23571721821529978,
          0.59210695506618,
          -0.6343701671428039,
          1.7532165598333844,
          -1.360046170333257,
          -1.9703802968958088,
          0.3320761840458883,
          0.1904961384424451,
          -0.10330778595218273,
          0.49372568454540483,
          0.7957150006751236,
          0.6325305840422442,
          -1.5830067557580374,
          -0.4539225055348257,
          0.8495483797125362,
          -0.04250043951784153,
          0.7516988836459388,
          0.8944697069148903,
          -0.035277287468309895,
          0.7428012424634501,
          -1.152202352081379,
          -0.5684949141988689,
          2.060839920383102,
          -0.8910336062432065,
          -0.6111340224125054,
          1.1493890573734444,
          -0.6977468209185262,
          2.00048191418851,
          0.6790909416761713,
          -1.3289974226191574,
          0.9665612627913074,
          -1.1892316319921394,
          -0.07661048278707877,
          0.6816736136192816,
          1.5478480340620588,
          0.9991048480787013,
          0.5176894312965323,
          -1.8318832829407212,
          0.9449493500331181,
          0.47162380853355784,
          0.2551712160181531,
          1.033963974273001,
          1.008388020937463,
          -1.3550558210131782,
          -1.3553648061099495,
          0.3419840046463667,
          -0.6799359282514028,
          0.472852846116455,
          -0.07007777844980682,
          0.7928144634980903,
          0.582896728216384,
          2.6702690689972575,
          -0.32707324297297424,
          -0.5341181551241768
         ],
         "xaxis": "x8",
         "y": [
          -1.0925650641931546,
          -1.1063010870224814,
          -0.32805306632209535,
          -1.8015176878336885,
          -0.1735327532380383,
          -0.08774588068587334,
          0.18757699718867998,
          0.6728859311887663,
          -0.7063785591459333,
          -1.5601290810082729,
          0.058848714728627294,
          0.40753255207102396,
          -0.24185126842710786,
          -0.1589405707360404,
          -3.6419230654539163,
          -1.278856426455618,
          -0.12506104010367203,
          -0.6999988206992263,
          -0.8975679054874393,
          -0.6776071391269884,
          -0.4627648216478146,
          2.626517695743942,
          -0.91040991382991,
          -2.88721680880961,
          -0.4151155407559168,
          -0.23674583789893922,
          1.298472563980927,
          2.9691566852896694,
          0.2512798077666682,
          -0.060894981563443196,
          -0.4861008577562129,
          -0.5640569278924469,
          2.032606097220788,
          -1.8478501295804048,
          1.080680795367581,
          -0.18081697204116465,
          0.5343053846985427,
          1.8328987073087728,
          0.8825543638387845,
          0.00758723758367448,
          -1.812680010503773,
          -0.3894181938587775,
          -0.9156059830862028,
          2.0765759332108775,
          -0.9845877565924966,
          -0.11513168690523837,
          0.01975359983273998,
          1.5525461151094744,
          2.174439604808439,
          -1.3259988649521035,
          -0.9175421334719854,
          0.7832487273727792,
          0.718982414490362,
          -0.5559288782298727,
          -0.2637041754949957,
          -0.5085266837885446,
          0.5267515240175117,
          -1.5125519857794338,
          0.5912124711191508,
          0.9485835777097431,
          0.5060014073562296,
          -1.383374247408542,
          -0.5827753650039929,
          -0.42029786340586767,
          2.396767848055817,
          -1.321557164877903,
          -0.26939673156797905,
          0.21659628952068838,
          -1.7147787346861005,
          -2.403180951945503,
          -0.2176716191001402,
          -0.30067465967466783,
          0.7020810081753037,
          0.07107137979934369,
          1.679478935083888,
          0.25046020425850907,
          0.494810949520932,
          -0.3815902451811281,
          -0.32054753212638537,
          1.5112283430196483,
          -0.3565509952124511,
          -0.34060527990923545,
          -0.6522886642783906,
          -2.1006446882605343,
          0.34337080965320393,
          -0.6344058007008451,
          -0.5614985283201149,
          1.3246267897107706,
          1.0700683834779376,
          -1.5535964408637803,
          -0.8501136729413292,
          -1.0023413559710757,
          0.5988948939086691,
          1.23651459677043,
          -1.4467738926798768,
          0.8923285883848271,
          1.4467820432217038,
          -0.775252461367255,
          0.7622501319698802,
          0.2657847128074883
         ],
         "yaxis": "y8"
        },
        {
         "line": {
          "color": "rgba(128, 128, 128, 1.0)",
          "dash": "solid",
          "shape": "linear",
          "width": 1.3
         },
         "marker": {
          "size": 2,
          "symbol": "circle"
         },
         "mode": "markers",
         "name": "C",
         "text": "",
         "type": "scatter",
         "x": [
          0.06551037256099825,
          0.7787662777673576,
          1.2109220168503216,
          -0.164118398405124,
          -0.06953194857806134,
          1.066202048538722,
          -1.3290047735764563,
          -0.5661954082926168,
          -1.4795446786374782,
          0.5850867537280864,
          -1.6214043663476296,
          0.2281022915104834,
          -0.03266104341812228,
          -0.31529542239941,
          -0.8185165343462465,
          -0.9468500346127864,
          -0.5094364956867495,
          1.753022121579112,
          3.9780300131120603,
          -0.4147544481721648,
          -0.14963872632764225,
          1.3903039535346131,
          0.11798699784306298,
          -1.198799937094399,
          1.4131626285760492,
          0.623506501038244,
          0.8643831632654269,
          0.6752773092042728,
          -0.0711263241446468,
          0.18404130682510414,
          1.5405933704770725,
          -0.5126085695574668,
          -0.3885648449076173,
          -1.5388448445655147,
          -0.5000145318421976,
          1.0835766953611417,
          0.2237897443521966,
          1.1218991400304938,
          1.184719984221023,
          -0.6023434282954342,
          1.090344849883388,
          -0.3436379889241205,
          -0.5690894547955576,
          -1.6012940470392885,
          -3.3510027943928313,
          -0.8458239564084824,
          -1.4228331193628854,
          1.6847961973387284,
          0.8735325541867743,
          0.6969975174415938,
          -0.8003467642792428,
          -0.4400351866092966,
          0.12759747604828178,
          -0.6078004191603125,
          -0.45683564594752585,
          -1.0761795529594465,
          0.767820190317033,
          0.9036510765352602,
          2.3195076034254534,
          -0.7471444461857918,
          0.6229681285213532,
          -0.8448670190512532,
          1.1112053758052522,
          -0.37932375500455245,
          -2.7014109958197228,
          -1.2776112906769244,
          2.595391503109247,
          0.22384493791324778,
          0.9970759541901827,
          -0.7010617297315688,
          -0.47870937464473223,
          0.3347971428350504,
          1.0993453924680892,
          0.3240433573069802,
          -0.7252634214456634,
          0.22527502463488902,
          1.3781138065202578,
          -1.3504042254670332,
          -4.053651302513549,
          0.7216865598008689,
          -0.5003323289743481,
          0.5149434179673201,
          -0.4722870549872342,
          1.8179752612025275,
          0.9338008400773208,
          -0.6151732196400808,
          -1.5959820784883318,
          -0.8606323394451001,
          1.2019904263305907,
          -0.9188842057477389,
          0.633467463091969,
          0.36150603037861967,
          0.5176495875526188,
          -0.8151420430366462,
          1.1187007850174295,
          -2.621576836525829,
          -1.0653546708932358,
          -0.6714537483763512,
          -0.17538467944985758,
          -0.16881902219472808
         ],
         "xaxis": "x9",
         "y": [
          1.3122730315042694,
          -0.17935310503596935,
          0.3614508310022408,
          -0.5211010566005132,
          -0.8819759423318262,
          -0.9169504758415993,
          -0.2519988810723046,
          -1.113232685157474,
          -0.8270000589718352,
          -0.3608443919675396,
          -1.790994145293478,
          1.229497011878506,
          0.5244266047548111,
          0.30950717721757914,
          0.9913249349727666,
          0.4225385930312028,
          -0.43809663960515643,
          -0.1956072394634809,
          -0.8966224923606408,
          -0.6858989240202681,
          -1.2354283168914784,
          -0.38518005789115267,
          0.14125669984744982,
          0.009628427734064584,
          -0.8343609704758841,
          -0.6254362696500314,
          -0.19009857737161248,
          0.8024851239601978,
          0.21849566906323878,
          -0.31996929320816375,
          -1.6628372802901763,
          -1.8210520255850096,
          0.5304296301262494,
          0.421752245075303,
          -0.7812834649471643,
          -0.6755859487986324,
          1.1318065517425326,
          -1.7096919590322925,
          -1.521312451975673,
          1.8275392617169104,
          2.193604590576897,
          1.82924388395378,
          1.695135498883619,
          -0.9372289917902713,
          -0.7517034331328517,
          -0.9405836457996472,
          0.18363540881443705,
          -1.6888791771823555,
          0.3528760574723848,
          -1.8846003666593836,
          0.529161502175242,
          -0.864694295346101,
          0.7572177454734456,
          -1.1500641264623734,
          1.0255018011884054,
          1.1379456189412875,
          -0.2766376966356368,
          -0.33190440864984677,
          0.02938692391757872,
          0.1441841232633436,
          -0.07471296527887963,
          0.0686761948664308,
          -1.9977069652099664,
          -0.42700103340562834,
          -0.8318821594923187,
          -0.5596727597099382,
          0.18346133391049288,
          1.3506828478186077,
          1.0634309532966568,
          1.4769664064849617,
          -0.2209001285055589,
          -0.4851538300535789,
          0.36521711207331015,
          -0.6613614274066665,
          -0.9400974411180243,
          -0.740899364556757,
          -0.31932440099134807,
          -0.9227376804572993,
          0.7875927248187125,
          0.3971733396415079,
          0.15724577048337082,
          0.43583308621840827,
          0.3452179544153144,
          -0.33060123213417814,
          0.7012511634326455,
          0.1359150271139867,
          0.4983761403689988,
          -0.38699779591073197,
          -1.1321822914573374,
          0.381220997039987,
          -0.9833009504151865,
          -0.24217166231535547,
          -0.9712623950130381,
          -1.4829071262232862,
          0.139431489054704,
          1.3536578112352777,
          -0.21621273025259535,
          0.8087520815265892,
          -1.7607551901134975,
          1.3631956292994885
         ],
         "yaxis": "y9"
        },
        {
         "line": {
          "color": "rgba(128, 128, 128, 1.0)",
          "dash": "solid",
          "shape": "linear",
          "width": 1.3
         },
         "marker": {
          "size": 2,
          "symbol": "circle"
         },
         "mode": "markers",
         "name": "C",
         "text": "",
         "type": "scatter",
         "x": [
          -1.0925650641931546,
          -1.1063010870224814,
          -0.32805306632209535,
          -1.8015176878336885,
          -0.1735327532380383,
          -0.08774588068587334,
          0.18757699718867998,
          0.6728859311887663,
          -0.7063785591459333,
          -1.5601290810082729,
          0.058848714728627294,
          0.40753255207102396,
          -0.24185126842710786,
          -0.1589405707360404,
          -3.6419230654539163,
          -1.278856426455618,
          -0.12506104010367203,
          -0.6999988206992263,
          -0.8975679054874393,
          -0.6776071391269884,
          -0.4627648216478146,
          2.626517695743942,
          -0.91040991382991,
          -2.88721680880961,
          -0.4151155407559168,
          -0.23674583789893922,
          1.298472563980927,
          2.9691566852896694,
          0.2512798077666682,
          -0.060894981563443196,
          -0.4861008577562129,
          -0.5640569278924469,
          2.032606097220788,
          -1.8478501295804048,
          1.080680795367581,
          -0.18081697204116465,
          0.5343053846985427,
          1.8328987073087728,
          0.8825543638387845,
          0.00758723758367448,
          -1.812680010503773,
          -0.3894181938587775,
          -0.9156059830862028,
          2.0765759332108775,
          -0.9845877565924966,
          -0.11513168690523837,
          0.01975359983273998,
          1.5525461151094744,
          2.174439604808439,
          -1.3259988649521035,
          -0.9175421334719854,
          0.7832487273727792,
          0.718982414490362,
          -0.5559288782298727,
          -0.2637041754949957,
          -0.5085266837885446,
          0.5267515240175117,
          -1.5125519857794338,
          0.5912124711191508,
          0.9485835777097431,
          0.5060014073562296,
          -1.383374247408542,
          -0.5827753650039929,
          -0.42029786340586767,
          2.396767848055817,
          -1.321557164877903,
          -0.26939673156797905,
          0.21659628952068838,
          -1.7147787346861005,
          -2.403180951945503,
          -0.2176716191001402,
          -0.30067465967466783,
          0.7020810081753037,
          0.07107137979934369,
          1.679478935083888,
          0.25046020425850907,
          0.494810949520932,
          -0.3815902451811281,
          -0.32054753212638537,
          1.5112283430196483,
          -0.3565509952124511,
          -0.34060527990923545,
          -0.6522886642783906,
          -2.1006446882605343,
          0.34337080965320393,
          -0.6344058007008451,
          -0.5614985283201149,
          1.3246267897107706,
          1.0700683834779376,
          -1.5535964408637803,
          -0.8501136729413292,
          -1.0023413559710757,
          0.5988948939086691,
          1.23651459677043,
          -1.4467738926798768,
          0.8923285883848271,
          1.4467820432217038,
          -0.775252461367255,
          0.7622501319698802,
          0.2657847128074883
         ],
         "xaxis": "x10",
         "y": [
          1.3122730315042694,
          -0.17935310503596935,
          0.3614508310022408,
          -0.5211010566005132,
          -0.8819759423318262,
          -0.9169504758415993,
          -0.2519988810723046,
          -1.113232685157474,
          -0.8270000589718352,
          -0.3608443919675396,
          -1.790994145293478,
          1.229497011878506,
          0.5244266047548111,
          0.30950717721757914,
          0.9913249349727666,
          0.4225385930312028,
          -0.43809663960515643,
          -0.1956072394634809,
          -0.8966224923606408,
          -0.6858989240202681,
          -1.2354283168914784,
          -0.38518005789115267,
          0.14125669984744982,
          0.009628427734064584,
          -0.8343609704758841,
          -0.6254362696500314,
          -0.19009857737161248,
          0.8024851239601978,
          0.21849566906323878,
          -0.31996929320816375,
          -1.6628372802901763,
          -1.8210520255850096,
          0.5304296301262494,
          0.421752245075303,
          -0.7812834649471643,
          -0.6755859487986324,
          1.1318065517425326,
          -1.7096919590322925,
          -1.521312451975673,
          1.8275392617169104,
          2.193604590576897,
          1.82924388395378,
          1.695135498883619,
          -0.9372289917902713,
          -0.7517034331328517,
          -0.9405836457996472,
          0.18363540881443705,
          -1.6888791771823555,
          0.3528760574723848,
          -1.8846003666593836,
          0.529161502175242,
          -0.864694295346101,
          0.7572177454734456,
          -1.1500641264623734,
          1.0255018011884054,
          1.1379456189412875,
          -0.2766376966356368,
          -0.33190440864984677,
          0.02938692391757872,
          0.1441841232633436,
          -0.07471296527887963,
          0.0686761948664308,
          -1.9977069652099664,
          -0.42700103340562834,
          -0.8318821594923187,
          -0.5596727597099382,
          0.18346133391049288,
          1.3506828478186077,
          1.0634309532966568,
          1.4769664064849617,
          -0.2209001285055589,
          -0.4851538300535789,
          0.36521711207331015,
          -0.6613614274066665,
          -0.9400974411180243,
          -0.740899364556757,
          -0.31932440099134807,
          -0.9227376804572993,
          0.7875927248187125,
          0.3971733396415079,
          0.15724577048337082,
          0.43583308621840827,
          0.3452179544153144,
          -0.33060123213417814,
          0.7012511634326455,
          0.1359150271139867,
          0.4983761403689988,
          -0.38699779591073197,
          -1.1321822914573374,
          0.381220997039987,
          -0.9833009504151865,
          -0.24217166231535547,
          -0.9712623950130381,
          -1.4829071262232862,
          0.139431489054704,
          1.3536578112352777,
          -0.21621273025259535,
          0.8087520815265892,
          -1.7607551901134975,
          1.3631956292994885
         ],
         "yaxis": "y10"
        },
        {
         "histfunc": "count",
         "histnorm": "",
         "marker": {
          "color": "rgba(50, 171, 96, 1.0)",
          "line": {
           "color": "#4D5663",
           "width": 1.3
          }
         },
         "name": "C",
         "nbinsx": 10,
         "opacity": 0.8,
         "orientation": "v",
         "type": "histogram",
         "x": [
          1.3122730315042694,
          -0.17935310503596935,
          0.3614508310022408,
          -0.5211010566005132,
          -0.8819759423318262,
          -0.9169504758415993,
          -0.2519988810723046,
          -1.113232685157474,
          -0.8270000589718352,
          -0.3608443919675396,
          -1.790994145293478,
          1.229497011878506,
          0.5244266047548111,
          0.30950717721757914,
          0.9913249349727666,
          0.4225385930312028,
          -0.43809663960515643,
          -0.1956072394634809,
          -0.8966224923606408,
          -0.6858989240202681,
          -1.2354283168914784,
          -0.38518005789115267,
          0.14125669984744982,
          0.009628427734064584,
          -0.8343609704758841,
          -0.6254362696500314,
          -0.19009857737161248,
          0.8024851239601978,
          0.21849566906323878,
          -0.31996929320816375,
          -1.6628372802901763,
          -1.8210520255850096,
          0.5304296301262494,
          0.421752245075303,
          -0.7812834649471643,
          -0.6755859487986324,
          1.1318065517425326,
          -1.7096919590322925,
          -1.521312451975673,
          1.8275392617169104,
          2.193604590576897,
          1.82924388395378,
          1.695135498883619,
          -0.9372289917902713,
          -0.7517034331328517,
          -0.9405836457996472,
          0.18363540881443705,
          -1.6888791771823555,
          0.3528760574723848,
          -1.8846003666593836,
          0.529161502175242,
          -0.864694295346101,
          0.7572177454734456,
          -1.1500641264623734,
          1.0255018011884054,
          1.1379456189412875,
          -0.2766376966356368,
          -0.33190440864984677,
          0.02938692391757872,
          0.1441841232633436,
          -0.07471296527887963,
          0.0686761948664308,
          -1.9977069652099664,
          -0.42700103340562834,
          -0.8318821594923187,
          -0.5596727597099382,
          0.18346133391049288,
          1.3506828478186077,
          1.0634309532966568,
          1.4769664064849617,
          -0.2209001285055589,
          -0.4851538300535789,
          0.36521711207331015,
          -0.6613614274066665,
          -0.9400974411180243,
          -0.740899364556757,
          -0.31932440099134807,
          -0.9227376804572993,
          0.7875927248187125,
          0.3971733396415079,
          0.15724577048337082,
          0.43583308621840827,
          0.3452179544153144,
          -0.33060123213417814,
          0.7012511634326455,
          0.1359150271139867,
          0.4983761403689988,
          -0.38699779591073197,
          -1.1321822914573374,
          0.381220997039987,
          -0.9833009504151865,
          -0.24217166231535547,
          -0.9712623950130381,
          -1.4829071262232862,
          0.139431489054704,
          1.3536578112352777,
          -0.21621273025259535,
          0.8087520815265892,
          -1.7607551901134975,
          1.3631956292994885
         ],
         "xaxis": "x11",
         "yaxis": "y11"
        },
        {
         "line": {
          "color": "rgba(128, 128, 128, 1.0)",
          "dash": "solid",
          "shape": "linear",
          "width": 1.3
         },
         "marker": {
          "size": 2,
          "symbol": "circle"
         },
         "mode": "markers",
         "name": "C",
         "text": "",
         "type": "scatter",
         "x": [
          -0.8569913877419736,
          0.20043397000527866,
          -1.7412927929767723,
          -1.1873738385667572,
          0.46117217569580754,
          1.1679591932700821,
          -1.015095279622547,
          0.8415819887073378,
          1.8328489355568114,
          -1.104945360777617,
          -1.248936723865419,
          0.15666057431555322,
          -0.5904385624918248,
          -0.9741245968558371,
          1.4937687052599453,
          0.5850246918816916,
          0.3381049331672944,
          -0.7483890168855368,
          -0.6762787813690532,
          0.06528333399450395,
          0.9216224411628501,
          0.11602165284467134,
          -0.7214772261918884,
          1.9436830686844957,
          -0.7495054162160697,
          -1.3957935493271236,
          1.1666689847591565,
          0.2988607249559056,
          0.23499382582333145,
          -0.4378172935292165,
          -1.1089672494422926,
          1.0480857443658964,
          -0.30464427262809096,
          1.7666252648127816,
          0.20135243885349585,
          -0.7240290010663003,
          0.6358849419050292,
          1.3372054219807012,
          -0.8479329819031785,
          0.33605362411663764,
          0.3091409003988394,
          -0.0042238283781839804,
          -2.1931150426342527,
          0.5351624320455792,
          0.18301691618515195,
          -2.244228422091324,
          -0.23571721821529978,
          0.59210695506618,
          -0.6343701671428039,
          1.7532165598333844,
          -1.360046170333257,
          -1.9703802968958088,
          0.3320761840458883,
          0.1904961384424451,
          -0.10330778595218273,
          0.49372568454540483,
          0.7957150006751236,
          0.6325305840422442,
          -1.5830067557580374,
          -0.4539225055348257,
          0.8495483797125362,
          -0.04250043951784153,
          0.7516988836459388,
          0.8944697069148903,
          -0.035277287468309895,
          0.7428012424634501,
          -1.152202352081379,
          -0.5684949141988689,
          2.060839920383102,
          -0.8910336062432065,
          -0.6111340224125054,
          1.1493890573734444,
          -0.6977468209185262,
          2.00048191418851,
          0.6790909416761713,
          -1.3289974226191574,
          0.9665612627913074,
          -1.1892316319921394,
          -0.07661048278707877,
          0.6816736136192816,
          1.5478480340620588,
          0.9991048480787013,
          0.5176894312965323,
          -1.8318832829407212,
          0.9449493500331181,
          0.47162380853355784,
          0.2551712160181531,
          1.033963974273001,
          1.008388020937463,
          -1.3550558210131782,
          -1.3553648061099495,
          0.3419840046463667,
          -0.6799359282514028,
          0.472852846116455,
          -0.07007777844980682,
          0.7928144634980903,
          0.582896728216384,
          2.6702690689972575,
          -0.32707324297297424,
          -0.5341181551241768
         ],
         "xaxis": "x12",
         "y": [
          1.3122730315042694,
          -0.17935310503596935,
          0.3614508310022408,
          -0.5211010566005132,
          -0.8819759423318262,
          -0.9169504758415993,
          -0.2519988810723046,
          -1.113232685157474,
          -0.8270000589718352,
          -0.3608443919675396,
          -1.790994145293478,
          1.229497011878506,
          0.5244266047548111,
          0.30950717721757914,
          0.9913249349727666,
          0.4225385930312028,
          -0.43809663960515643,
          -0.1956072394634809,
          -0.8966224923606408,
          -0.6858989240202681,
          -1.2354283168914784,
          -0.38518005789115267,
          0.14125669984744982,
          0.009628427734064584,
          -0.8343609704758841,
          -0.6254362696500314,
          -0.19009857737161248,
          0.8024851239601978,
          0.21849566906323878,
          -0.31996929320816375,
          -1.6628372802901763,
          -1.8210520255850096,
          0.5304296301262494,
          0.421752245075303,
          -0.7812834649471643,
          -0.6755859487986324,
          1.1318065517425326,
          -1.7096919590322925,
          -1.521312451975673,
          1.8275392617169104,
          2.193604590576897,
          1.82924388395378,
          1.695135498883619,
          -0.9372289917902713,
          -0.7517034331328517,
          -0.9405836457996472,
          0.18363540881443705,
          -1.6888791771823555,
          0.3528760574723848,
          -1.8846003666593836,
          0.529161502175242,
          -0.864694295346101,
          0.7572177454734456,
          -1.1500641264623734,
          1.0255018011884054,
          1.1379456189412875,
          -0.2766376966356368,
          -0.33190440864984677,
          0.02938692391757872,
          0.1441841232633436,
          -0.07471296527887963,
          0.0686761948664308,
          -1.9977069652099664,
          -0.42700103340562834,
          -0.8318821594923187,
          -0.5596727597099382,
          0.18346133391049288,
          1.3506828478186077,
          1.0634309532966568,
          1.4769664064849617,
          -0.2209001285055589,
          -0.4851538300535789,
          0.36521711207331015,
          -0.6613614274066665,
          -0.9400974411180243,
          -0.740899364556757,
          -0.31932440099134807,
          -0.9227376804572993,
          0.7875927248187125,
          0.3971733396415079,
          0.15724577048337082,
          0.43583308621840827,
          0.3452179544153144,
          -0.33060123213417814,
          0.7012511634326455,
          0.1359150271139867,
          0.4983761403689988,
          -0.38699779591073197,
          -1.1321822914573374,
          0.381220997039987,
          -0.9833009504151865,
          -0.24217166231535547,
          -0.9712623950130381,
          -1.4829071262232862,
          0.139431489054704,
          1.3536578112352777,
          -0.21621273025259535,
          0.8087520815265892,
          -1.7607551901134975,
          1.3631956292994885
         ],
         "yaxis": "y12"
        },
        {
         "line": {
          "color": "rgba(128, 128, 128, 1.0)",
          "dash": "solid",
          "shape": "linear",
          "width": 1.3
         },
         "marker": {
          "size": 2,
          "symbol": "circle"
         },
         "mode": "markers",
         "name": "D",
         "text": "",
         "type": "scatter",
         "x": [
          0.06551037256099825,
          0.7787662777673576,
          1.2109220168503216,
          -0.164118398405124,
          -0.06953194857806134,
          1.066202048538722,
          -1.3290047735764563,
          -0.5661954082926168,
          -1.4795446786374782,
          0.5850867537280864,
          -1.6214043663476296,
          0.2281022915104834,
          -0.03266104341812228,
          -0.31529542239941,
          -0.8185165343462465,
          -0.9468500346127864,
          -0.5094364956867495,
          1.753022121579112,
          3.9780300131120603,
          -0.4147544481721648,
          -0.14963872632764225,
          1.3903039535346131,
          0.11798699784306298,
          -1.198799937094399,
          1.4131626285760492,
          0.623506501038244,
          0.8643831632654269,
          0.6752773092042728,
          -0.0711263241446468,
          0.18404130682510414,
          1.5405933704770725,
          -0.5126085695574668,
          -0.3885648449076173,
          -1.5388448445655147,
          -0.5000145318421976,
          1.0835766953611417,
          0.2237897443521966,
          1.1218991400304938,
          1.184719984221023,
          -0.6023434282954342,
          1.090344849883388,
          -0.3436379889241205,
          -0.5690894547955576,
          -1.6012940470392885,
          -3.3510027943928313,
          -0.8458239564084824,
          -1.4228331193628854,
          1.6847961973387284,
          0.8735325541867743,
          0.6969975174415938,
          -0.8003467642792428,
          -0.4400351866092966,
          0.12759747604828178,
          -0.6078004191603125,
          -0.45683564594752585,
          -1.0761795529594465,
          0.767820190317033,
          0.9036510765352602,
          2.3195076034254534,
          -0.7471444461857918,
          0.6229681285213532,
          -0.8448670190512532,
          1.1112053758052522,
          -0.37932375500455245,
          -2.7014109958197228,
          -1.2776112906769244,
          2.595391503109247,
          0.22384493791324778,
          0.9970759541901827,
          -0.7010617297315688,
          -0.47870937464473223,
          0.3347971428350504,
          1.0993453924680892,
          0.3240433573069802,
          -0.7252634214456634,
          0.22527502463488902,
          1.3781138065202578,
          -1.3504042254670332,
          -4.053651302513549,
          0.7216865598008689,
          -0.5003323289743481,
          0.5149434179673201,
          -0.4722870549872342,
          1.8179752612025275,
          0.9338008400773208,
          -0.6151732196400808,
          -1.5959820784883318,
          -0.8606323394451001,
          1.2019904263305907,
          -0.9188842057477389,
          0.633467463091969,
          0.36150603037861967,
          0.5176495875526188,
          -0.8151420430366462,
          1.1187007850174295,
          -2.621576836525829,
          -1.0653546708932358,
          -0.6714537483763512,
          -0.17538467944985758,
          -0.16881902219472808
         ],
         "xaxis": "x13",
         "y": [
          -0.8569913877419736,
          0.20043397000527866,
          -1.7412927929767723,
          -1.1873738385667572,
          0.46117217569580754,
          1.1679591932700821,
          -1.015095279622547,
          0.8415819887073378,
          1.8328489355568114,
          -1.104945360777617,
          -1.248936723865419,
          0.15666057431555322,
          -0.5904385624918248,
          -0.9741245968558371,
          1.4937687052599453,
          0.5850246918816916,
          0.3381049331672944,
          -0.7483890168855368,
          -0.6762787813690532,
          0.06528333399450395,
          0.9216224411628501,
          0.11602165284467134,
          -0.7214772261918884,
          1.9436830686844957,
          -0.7495054162160697,
          -1.3957935493271236,
          1.1666689847591565,
          0.2988607249559056,
          0.23499382582333145,
          -0.4378172935292165,
          -1.1089672494422926,
          1.0480857443658964,
          -0.30464427262809096,
          1.7666252648127816,
          0.20135243885349585,
          -0.7240290010663003,
          0.6358849419050292,
          1.3372054219807012,
          -0.8479329819031785,
          0.33605362411663764,
          0.3091409003988394,
          -0.0042238283781839804,
          -2.1931150426342527,
          0.5351624320455792,
          0.18301691618515195,
          -2.244228422091324,
          -0.23571721821529978,
          0.59210695506618,
          -0.6343701671428039,
          1.7532165598333844,
          -1.360046170333257,
          -1.9703802968958088,
          0.3320761840458883,
          0.1904961384424451,
          -0.10330778595218273,
          0.49372568454540483,
          0.7957150006751236,
          0.6325305840422442,
          -1.5830067557580374,
          -0.4539225055348257,
          0.8495483797125362,
          -0.04250043951784153,
          0.7516988836459388,
          0.8944697069148903,
          -0.035277287468309895,
          0.7428012424634501,
          -1.152202352081379,
          -0.5684949141988689,
          2.060839920383102,
          -0.8910336062432065,
          -0.6111340224125054,
          1.1493890573734444,
          -0.6977468209185262,
          2.00048191418851,
          0.6790909416761713,
          -1.3289974226191574,
          0.9665612627913074,
          -1.1892316319921394,
          -0.07661048278707877,
          0.6816736136192816,
          1.5478480340620588,
          0.9991048480787013,
          0.5176894312965323,
          -1.8318832829407212,
          0.9449493500331181,
          0.47162380853355784,
          0.2551712160181531,
          1.033963974273001,
          1.008388020937463,
          -1.3550558210131782,
          -1.3553648061099495,
          0.3419840046463667,
          -0.6799359282514028,
          0.472852846116455,
          -0.07007777844980682,
          0.7928144634980903,
          0.582896728216384,
          2.6702690689972575,
          -0.32707324297297424,
          -0.5341181551241768
         ],
         "yaxis": "y13"
        },
        {
         "line": {
          "color": "rgba(128, 128, 128, 1.0)",
          "dash": "solid",
          "shape": "linear",
          "width": 1.3
         },
         "marker": {
          "size": 2,
          "symbol": "circle"
         },
         "mode": "markers",
         "name": "D",
         "text": "",
         "type": "scatter",
         "x": [
          -1.0925650641931546,
          -1.1063010870224814,
          -0.32805306632209535,
          -1.8015176878336885,
          -0.1735327532380383,
          -0.08774588068587334,
          0.18757699718867998,
          0.6728859311887663,
          -0.7063785591459333,
          -1.5601290810082729,
          0.058848714728627294,
          0.40753255207102396,
          -0.24185126842710786,
          -0.1589405707360404,
          -3.6419230654539163,
          -1.278856426455618,
          -0.12506104010367203,
          -0.6999988206992263,
          -0.8975679054874393,
          -0.6776071391269884,
          -0.4627648216478146,
          2.626517695743942,
          -0.91040991382991,
          -2.88721680880961,
          -0.4151155407559168,
          -0.23674583789893922,
          1.298472563980927,
          2.9691566852896694,
          0.2512798077666682,
          -0.060894981563443196,
          -0.4861008577562129,
          -0.5640569278924469,
          2.032606097220788,
          -1.8478501295804048,
          1.080680795367581,
          -0.18081697204116465,
          0.5343053846985427,
          1.8328987073087728,
          0.8825543638387845,
          0.00758723758367448,
          -1.812680010503773,
          -0.3894181938587775,
          -0.9156059830862028,
          2.0765759332108775,
          -0.9845877565924966,
          -0.11513168690523837,
          0.01975359983273998,
          1.5525461151094744,
          2.174439604808439,
          -1.3259988649521035,
          -0.9175421334719854,
          0.7832487273727792,
          0.718982414490362,
          -0.5559288782298727,
          -0.2637041754949957,
          -0.5085266837885446,
          0.5267515240175117,
          -1.5125519857794338,
          0.5912124711191508,
          0.9485835777097431,
          0.5060014073562296,
          -1.383374247408542,
          -0.5827753650039929,
          -0.42029786340586767,
          2.396767848055817,
          -1.321557164877903,
          -0.26939673156797905,
          0.21659628952068838,
          -1.7147787346861005,
          -2.403180951945503,
          -0.2176716191001402,
          -0.30067465967466783,
          0.7020810081753037,
          0.07107137979934369,
          1.679478935083888,
          0.25046020425850907,
          0.494810949520932,
          -0.3815902451811281,
          -0.32054753212638537,
          1.5112283430196483,
          -0.3565509952124511,
          -0.34060527990923545,
          -0.6522886642783906,
          -2.1006446882605343,
          0.34337080965320393,
          -0.6344058007008451,
          -0.5614985283201149,
          1.3246267897107706,
          1.0700683834779376,
          -1.5535964408637803,
          -0.8501136729413292,
          -1.0023413559710757,
          0.5988948939086691,
          1.23651459677043,
          -1.4467738926798768,
          0.8923285883848271,
          1.4467820432217038,
          -0.775252461367255,
          0.7622501319698802,
          0.2657847128074883
         ],
         "xaxis": "x14",
         "y": [
          -0.8569913877419736,
          0.20043397000527866,
          -1.7412927929767723,
          -1.1873738385667572,
          0.46117217569580754,
          1.1679591932700821,
          -1.015095279622547,
          0.8415819887073378,
          1.8328489355568114,
          -1.104945360777617,
          -1.248936723865419,
          0.15666057431555322,
          -0.5904385624918248,
          -0.9741245968558371,
          1.4937687052599453,
          0.5850246918816916,
          0.3381049331672944,
          -0.7483890168855368,
          -0.6762787813690532,
          0.06528333399450395,
          0.9216224411628501,
          0.11602165284467134,
          -0.7214772261918884,
          1.9436830686844957,
          -0.7495054162160697,
          -1.3957935493271236,
          1.1666689847591565,
          0.2988607249559056,
          0.23499382582333145,
          -0.4378172935292165,
          -1.1089672494422926,
          1.0480857443658964,
          -0.30464427262809096,
          1.7666252648127816,
          0.20135243885349585,
          -0.7240290010663003,
          0.6358849419050292,
          1.3372054219807012,
          -0.8479329819031785,
          0.33605362411663764,
          0.3091409003988394,
          -0.0042238283781839804,
          -2.1931150426342527,
          0.5351624320455792,
          0.18301691618515195,
          -2.244228422091324,
          -0.23571721821529978,
          0.59210695506618,
          -0.6343701671428039,
          1.7532165598333844,
          -1.360046170333257,
          -1.9703802968958088,
          0.3320761840458883,
          0.1904961384424451,
          -0.10330778595218273,
          0.49372568454540483,
          0.7957150006751236,
          0.6325305840422442,
          -1.5830067557580374,
          -0.4539225055348257,
          0.8495483797125362,
          -0.04250043951784153,
          0.7516988836459388,
          0.8944697069148903,
          -0.035277287468309895,
          0.7428012424634501,
          -1.152202352081379,
          -0.5684949141988689,
          2.060839920383102,
          -0.8910336062432065,
          -0.6111340224125054,
          1.1493890573734444,
          -0.6977468209185262,
          2.00048191418851,
          0.6790909416761713,
          -1.3289974226191574,
          0.9665612627913074,
          -1.1892316319921394,
          -0.07661048278707877,
          0.6816736136192816,
          1.5478480340620588,
          0.9991048480787013,
          0.5176894312965323,
          -1.8318832829407212,
          0.9449493500331181,
          0.47162380853355784,
          0.2551712160181531,
          1.033963974273001,
          1.008388020937463,
          -1.3550558210131782,
          -1.3553648061099495,
          0.3419840046463667,
          -0.6799359282514028,
          0.472852846116455,
          -0.07007777844980682,
          0.7928144634980903,
          0.582896728216384,
          2.6702690689972575,
          -0.32707324297297424,
          -0.5341181551241768
         ],
         "yaxis": "y14"
        },
        {
         "line": {
          "color": "rgba(128, 128, 128, 1.0)",
          "dash": "solid",
          "shape": "linear",
          "width": 1.3
         },
         "marker": {
          "size": 2,
          "symbol": "circle"
         },
         "mode": "markers",
         "name": "D",
         "text": "",
         "type": "scatter",
         "x": [
          1.3122730315042694,
          -0.17935310503596935,
          0.3614508310022408,
          -0.5211010566005132,
          -0.8819759423318262,
          -0.9169504758415993,
          -0.2519988810723046,
          -1.113232685157474,
          -0.8270000589718352,
          -0.3608443919675396,
          -1.790994145293478,
          1.229497011878506,
          0.5244266047548111,
          0.30950717721757914,
          0.9913249349727666,
          0.4225385930312028,
          -0.43809663960515643,
          -0.1956072394634809,
          -0.8966224923606408,
          -0.6858989240202681,
          -1.2354283168914784,
          -0.38518005789115267,
          0.14125669984744982,
          0.009628427734064584,
          -0.8343609704758841,
          -0.6254362696500314,
          -0.19009857737161248,
          0.8024851239601978,
          0.21849566906323878,
          -0.31996929320816375,
          -1.6628372802901763,
          -1.8210520255850096,
          0.5304296301262494,
          0.421752245075303,
          -0.7812834649471643,
          -0.6755859487986324,
          1.1318065517425326,
          -1.7096919590322925,
          -1.521312451975673,
          1.8275392617169104,
          2.193604590576897,
          1.82924388395378,
          1.695135498883619,
          -0.9372289917902713,
          -0.7517034331328517,
          -0.9405836457996472,
          0.18363540881443705,
          -1.6888791771823555,
          0.3528760574723848,
          -1.8846003666593836,
          0.529161502175242,
          -0.864694295346101,
          0.7572177454734456,
          -1.1500641264623734,
          1.0255018011884054,
          1.1379456189412875,
          -0.2766376966356368,
          -0.33190440864984677,
          0.02938692391757872,
          0.1441841232633436,
          -0.07471296527887963,
          0.0686761948664308,
          -1.9977069652099664,
          -0.42700103340562834,
          -0.8318821594923187,
          -0.5596727597099382,
          0.18346133391049288,
          1.3506828478186077,
          1.0634309532966568,
          1.4769664064849617,
          -0.2209001285055589,
          -0.4851538300535789,
          0.36521711207331015,
          -0.6613614274066665,
          -0.9400974411180243,
          -0.740899364556757,
          -0.31932440099134807,
          -0.9227376804572993,
          0.7875927248187125,
          0.3971733396415079,
          0.15724577048337082,
          0.43583308621840827,
          0.3452179544153144,
          -0.33060123213417814,
          0.7012511634326455,
          0.1359150271139867,
          0.4983761403689988,
          -0.38699779591073197,
          -1.1321822914573374,
          0.381220997039987,
          -0.9833009504151865,
          -0.24217166231535547,
          -0.9712623950130381,
          -1.4829071262232862,
          0.139431489054704,
          1.3536578112352777,
          -0.21621273025259535,
          0.8087520815265892,
          -1.7607551901134975,
          1.3631956292994885
         ],
         "xaxis": "x15",
         "y": [
          -0.8569913877419736,
          0.20043397000527866,
          -1.7412927929767723,
          -1.1873738385667572,
          0.46117217569580754,
          1.1679591932700821,
          -1.015095279622547,
          0.8415819887073378,
          1.8328489355568114,
          -1.104945360777617,
          -1.248936723865419,
          0.15666057431555322,
          -0.5904385624918248,
          -0.9741245968558371,
          1.4937687052599453,
          0.5850246918816916,
          0.3381049331672944,
          -0.7483890168855368,
          -0.6762787813690532,
          0.06528333399450395,
          0.9216224411628501,
          0.11602165284467134,
          -0.7214772261918884,
          1.9436830686844957,
          -0.7495054162160697,
          -1.3957935493271236,
          1.1666689847591565,
          0.2988607249559056,
          0.23499382582333145,
          -0.4378172935292165,
          -1.1089672494422926,
          1.0480857443658964,
          -0.30464427262809096,
          1.7666252648127816,
          0.20135243885349585,
          -0.7240290010663003,
          0.6358849419050292,
          1.3372054219807012,
          -0.8479329819031785,
          0.33605362411663764,
          0.3091409003988394,
          -0.0042238283781839804,
          -2.1931150426342527,
          0.5351624320455792,
          0.18301691618515195,
          -2.244228422091324,
          -0.23571721821529978,
          0.59210695506618,
          -0.6343701671428039,
          1.7532165598333844,
          -1.360046170333257,
          -1.9703802968958088,
          0.3320761840458883,
          0.1904961384424451,
          -0.10330778595218273,
          0.49372568454540483,
          0.7957150006751236,
          0.6325305840422442,
          -1.5830067557580374,
          -0.4539225055348257,
          0.8495483797125362,
          -0.04250043951784153,
          0.7516988836459388,
          0.8944697069148903,
          -0.035277287468309895,
          0.7428012424634501,
          -1.152202352081379,
          -0.5684949141988689,
          2.060839920383102,
          -0.8910336062432065,
          -0.6111340224125054,
          1.1493890573734444,
          -0.6977468209185262,
          2.00048191418851,
          0.6790909416761713,
          -1.3289974226191574,
          0.9665612627913074,
          -1.1892316319921394,
          -0.07661048278707877,
          0.6816736136192816,
          1.5478480340620588,
          0.9991048480787013,
          0.5176894312965323,
          -1.8318832829407212,
          0.9449493500331181,
          0.47162380853355784,
          0.2551712160181531,
          1.033963974273001,
          1.008388020937463,
          -1.3550558210131782,
          -1.3553648061099495,
          0.3419840046463667,
          -0.6799359282514028,
          0.472852846116455,
          -0.07007777844980682,
          0.7928144634980903,
          0.582896728216384,
          2.6702690689972575,
          -0.32707324297297424,
          -0.5341181551241768
         ],
         "yaxis": "y15"
        },
        {
         "histfunc": "count",
         "histnorm": "",
         "marker": {
          "color": "rgba(128, 0, 128, 1.0)",
          "line": {
           "color": "#4D5663",
           "width": 1.3
          }
         },
         "name": "D",
         "nbinsx": 10,
         "opacity": 0.8,
         "orientation": "v",
         "type": "histogram",
         "x": [
          -0.8569913877419736,
          0.20043397000527866,
          -1.7412927929767723,
          -1.1873738385667572,
          0.46117217569580754,
          1.1679591932700821,
          -1.015095279622547,
          0.8415819887073378,
          1.8328489355568114,
          -1.104945360777617,
          -1.248936723865419,
          0.15666057431555322,
          -0.5904385624918248,
          -0.9741245968558371,
          1.4937687052599453,
          0.5850246918816916,
          0.3381049331672944,
          -0.7483890168855368,
          -0.6762787813690532,
          0.06528333399450395,
          0.9216224411628501,
          0.11602165284467134,
          -0.7214772261918884,
          1.9436830686844957,
          -0.7495054162160697,
          -1.3957935493271236,
          1.1666689847591565,
          0.2988607249559056,
          0.23499382582333145,
          -0.4378172935292165,
          -1.1089672494422926,
          1.0480857443658964,
          -0.30464427262809096,
          1.7666252648127816,
          0.20135243885349585,
          -0.7240290010663003,
          0.6358849419050292,
          1.3372054219807012,
          -0.8479329819031785,
          0.33605362411663764,
          0.3091409003988394,
          -0.0042238283781839804,
          -2.1931150426342527,
          0.5351624320455792,
          0.18301691618515195,
          -2.244228422091324,
          -0.23571721821529978,
          0.59210695506618,
          -0.6343701671428039,
          1.7532165598333844,
          -1.360046170333257,
          -1.9703802968958088,
          0.3320761840458883,
          0.1904961384424451,
          -0.10330778595218273,
          0.49372568454540483,
          0.7957150006751236,
          0.6325305840422442,
          -1.5830067557580374,
          -0.4539225055348257,
          0.8495483797125362,
          -0.04250043951784153,
          0.7516988836459388,
          0.8944697069148903,
          -0.035277287468309895,
          0.7428012424634501,
          -1.152202352081379,
          -0.5684949141988689,
          2.060839920383102,
          -0.8910336062432065,
          -0.6111340224125054,
          1.1493890573734444,
          -0.6977468209185262,
          2.00048191418851,
          0.6790909416761713,
          -1.3289974226191574,
          0.9665612627913074,
          -1.1892316319921394,
          -0.07661048278707877,
          0.6816736136192816,
          1.5478480340620588,
          0.9991048480787013,
          0.5176894312965323,
          -1.8318832829407212,
          0.9449493500331181,
          0.47162380853355784,
          0.2551712160181531,
          1.033963974273001,
          1.008388020937463,
          -1.3550558210131782,
          -1.3553648061099495,
          0.3419840046463667,
          -0.6799359282514028,
          0.472852846116455,
          -0.07007777844980682,
          0.7928144634980903,
          0.582896728216384,
          2.6702690689972575,
          -0.32707324297297424,
          -0.5341181551241768
         ],
         "xaxis": "x16",
         "yaxis": "y16"
        }
       ],
       "layout": {
        "bargap": 0.02,
        "legend": {
         "bgcolor": "#F5F6F9",
         "font": {
          "color": "#4D5663"
         }
        },
        "paper_bgcolor": "#F5F6F9",
        "plot_bgcolor": "#F5F6F9",
        "showlegend": false,
        "template": {
         "data": {
          "bar": [
           {
            "error_x": {
             "color": "#2a3f5f"
            },
            "error_y": {
             "color": "#2a3f5f"
            },
            "marker": {
             "line": {
              "color": "#E5ECF6",
              "width": 0.5
             }
            },
            "type": "bar"
           }
          ],
          "barpolar": [
           {
            "marker": {
             "line": {
              "color": "#E5ECF6",
              "width": 0.5
             }
            },
            "type": "barpolar"
           }
          ],
          "carpet": [
           {
            "aaxis": {
             "endlinecolor": "#2a3f5f",
             "gridcolor": "white",
             "linecolor": "white",
             "minorgridcolor": "white",
             "startlinecolor": "#2a3f5f"
            },
            "baxis": {
             "endlinecolor": "#2a3f5f",
             "gridcolor": "white",
             "linecolor": "white",
             "minorgridcolor": "white",
             "startlinecolor": "#2a3f5f"
            },
            "type": "carpet"
           }
          ],
          "choropleth": [
           {
            "colorbar": {
             "outlinewidth": 0,
             "ticks": ""
            },
            "type": "choropleth"
           }
          ],
          "contour": [
           {
            "colorbar": {
             "outlinewidth": 0,
             "ticks": ""
            },
            "colorscale": [
             [
              0,
              "#0d0887"
             ],
             [
              0.1111111111111111,
              "#46039f"
             ],
             [
              0.2222222222222222,
              "#7201a8"
             ],
             [
              0.3333333333333333,
              "#9c179e"
             ],
             [
              0.4444444444444444,
              "#bd3786"
             ],
             [
              0.5555555555555556,
              "#d8576b"
             ],
             [
              0.6666666666666666,
              "#ed7953"
             ],
             [
              0.7777777777777778,
              "#fb9f3a"
             ],
             [
              0.8888888888888888,
              "#fdca26"
             ],
             [
              1,
              "#f0f921"
             ]
            ],
            "type": "contour"
           }
          ],
          "contourcarpet": [
           {
            "colorbar": {
             "outlinewidth": 0,
             "ticks": ""
            },
            "type": "contourcarpet"
           }
          ],
          "heatmap": [
           {
            "colorbar": {
             "outlinewidth": 0,
             "ticks": ""
            },
            "colorscale": [
             [
              0,
              "#0d0887"
             ],
             [
              0.1111111111111111,
              "#46039f"
             ],
             [
              0.2222222222222222,
              "#7201a8"
             ],
             [
              0.3333333333333333,
              "#9c179e"
             ],
             [
              0.4444444444444444,
              "#bd3786"
             ],
             [
              0.5555555555555556,
              "#d8576b"
             ],
             [
              0.6666666666666666,
              "#ed7953"
             ],
             [
              0.7777777777777778,
              "#fb9f3a"
             ],
             [
              0.8888888888888888,
              "#fdca26"
             ],
             [
              1,
              "#f0f921"
             ]
            ],
            "type": "heatmap"
           }
          ],
          "heatmapgl": [
           {
            "colorbar": {
             "outlinewidth": 0,
             "ticks": ""
            },
            "colorscale": [
             [
              0,
              "#0d0887"
             ],
             [
              0.1111111111111111,
              "#46039f"
             ],
             [
              0.2222222222222222,
              "#7201a8"
             ],
             [
              0.3333333333333333,
              "#9c179e"
             ],
             [
              0.4444444444444444,
              "#bd3786"
             ],
             [
              0.5555555555555556,
              "#d8576b"
             ],
             [
              0.6666666666666666,
              "#ed7953"
             ],
             [
              0.7777777777777778,
              "#fb9f3a"
             ],
             [
              0.8888888888888888,
              "#fdca26"
             ],
             [
              1,
              "#f0f921"
             ]
            ],
            "type": "heatmapgl"
           }
          ],
          "histogram": [
           {
            "marker": {
             "colorbar": {
              "outlinewidth": 0,
              "ticks": ""
             }
            },
            "type": "histogram"
           }
          ],
          "histogram2d": [
           {
            "colorbar": {
             "outlinewidth": 0,
             "ticks": ""
            },
            "colorscale": [
             [
              0,
              "#0d0887"
             ],
             [
              0.1111111111111111,
              "#46039f"
             ],
             [
              0.2222222222222222,
              "#7201a8"
             ],
             [
              0.3333333333333333,
              "#9c179e"
             ],
             [
              0.4444444444444444,
              "#bd3786"
             ],
             [
              0.5555555555555556,
              "#d8576b"
             ],
             [
              0.6666666666666666,
              "#ed7953"
             ],
             [
              0.7777777777777778,
              "#fb9f3a"
             ],
             [
              0.8888888888888888,
              "#fdca26"
             ],
             [
              1,
              "#f0f921"
             ]
            ],
            "type": "histogram2d"
           }
          ],
          "histogram2dcontour": [
           {
            "colorbar": {
             "outlinewidth": 0,
             "ticks": ""
            },
            "colorscale": [
             [
              0,
              "#0d0887"
             ],
             [
              0.1111111111111111,
              "#46039f"
             ],
             [
              0.2222222222222222,
              "#7201a8"
             ],
             [
              0.3333333333333333,
              "#9c179e"
             ],
             [
              0.4444444444444444,
              "#bd3786"
             ],
             [
              0.5555555555555556,
              "#d8576b"
             ],
             [
              0.6666666666666666,
              "#ed7953"
             ],
             [
              0.7777777777777778,
              "#fb9f3a"
             ],
             [
              0.8888888888888888,
              "#fdca26"
             ],
             [
              1,
              "#f0f921"
             ]
            ],
            "type": "histogram2dcontour"
           }
          ],
          "mesh3d": [
           {
            "colorbar": {
             "outlinewidth": 0,
             "ticks": ""
            },
            "type": "mesh3d"
           }
          ],
          "parcoords": [
           {
            "line": {
             "colorbar": {
              "outlinewidth": 0,
              "ticks": ""
             }
            },
            "type": "parcoords"
           }
          ],
          "pie": [
           {
            "automargin": true,
            "type": "pie"
           }
          ],
          "scatter": [
           {
            "marker": {
             "colorbar": {
              "outlinewidth": 0,
              "ticks": ""
             }
            },
            "type": "scatter"
           }
          ],
          "scatter3d": [
           {
            "line": {
             "colorbar": {
              "outlinewidth": 0,
              "ticks": ""
             }
            },
            "marker": {
             "colorbar": {
              "outlinewidth": 0,
              "ticks": ""
             }
            },
            "type": "scatter3d"
           }
          ],
          "scattercarpet": [
           {
            "marker": {
             "colorbar": {
              "outlinewidth": 0,
              "ticks": ""
             }
            },
            "type": "scattercarpet"
           }
          ],
          "scattergeo": [
           {
            "marker": {
             "colorbar": {
              "outlinewidth": 0,
              "ticks": ""
             }
            },
            "type": "scattergeo"
           }
          ],
          "scattergl": [
           {
            "marker": {
             "colorbar": {
              "outlinewidth": 0,
              "ticks": ""
             }
            },
            "type": "scattergl"
           }
          ],
          "scattermapbox": [
           {
            "marker": {
             "colorbar": {
              "outlinewidth": 0,
              "ticks": ""
             }
            },
            "type": "scattermapbox"
           }
          ],
          "scatterpolar": [
           {
            "marker": {
             "colorbar": {
              "outlinewidth": 0,
              "ticks": ""
             }
            },
            "type": "scatterpolar"
           }
          ],
          "scatterpolargl": [
           {
            "marker": {
             "colorbar": {
              "outlinewidth": 0,
              "ticks": ""
             }
            },
            "type": "scatterpolargl"
           }
          ],
          "scatterternary": [
           {
            "marker": {
             "colorbar": {
              "outlinewidth": 0,
              "ticks": ""
             }
            },
            "type": "scatterternary"
           }
          ],
          "surface": [
           {
            "colorbar": {
             "outlinewidth": 0,
             "ticks": ""
            },
            "colorscale": [
             [
              0,
              "#0d0887"
             ],
             [
              0.1111111111111111,
              "#46039f"
             ],
             [
              0.2222222222222222,
              "#7201a8"
             ],
             [
              0.3333333333333333,
              "#9c179e"
             ],
             [
              0.4444444444444444,
              "#bd3786"
             ],
             [
              0.5555555555555556,
              "#d8576b"
             ],
             [
              0.6666666666666666,
              "#ed7953"
             ],
             [
              0.7777777777777778,
              "#fb9f3a"
             ],
             [
              0.8888888888888888,
              "#fdca26"
             ],
             [
              1,
              "#f0f921"
             ]
            ],
            "type": "surface"
           }
          ],
          "table": [
           {
            "cells": {
             "fill": {
              "color": "#EBF0F8"
             },
             "line": {
              "color": "white"
             }
            },
            "header": {
             "fill": {
              "color": "#C8D4E3"
             },
             "line": {
              "color": "white"
             }
            },
            "type": "table"
           }
          ]
         },
         "layout": {
          "annotationdefaults": {
           "arrowcolor": "#2a3f5f",
           "arrowhead": 0,
           "arrowwidth": 1
          },
          "coloraxis": {
           "colorbar": {
            "outlinewidth": 0,
            "ticks": ""
           }
          },
          "colorscale": {
           "diverging": [
            [
             0,
             "#8e0152"
            ],
            [
             0.1,
             "#c51b7d"
            ],
            [
             0.2,
             "#de77ae"
            ],
            [
             0.3,
             "#f1b6da"
            ],
            [
             0.4,
             "#fde0ef"
            ],
            [
             0.5,
             "#f7f7f7"
            ],
            [
             0.6,
             "#e6f5d0"
            ],
            [
             0.7,
             "#b8e186"
            ],
            [
             0.8,
             "#7fbc41"
            ],
            [
             0.9,
             "#4d9221"
            ],
            [
             1,
             "#276419"
            ]
           ],
           "sequential": [
            [
             0,
             "#0d0887"
            ],
            [
             0.1111111111111111,
             "#46039f"
            ],
            [
             0.2222222222222222,
             "#7201a8"
            ],
            [
             0.3333333333333333,
             "#9c179e"
            ],
            [
             0.4444444444444444,
             "#bd3786"
            ],
            [
             0.5555555555555556,
             "#d8576b"
            ],
            [
             0.6666666666666666,
             "#ed7953"
            ],
            [
             0.7777777777777778,
             "#fb9f3a"
            ],
            [
             0.8888888888888888,
             "#fdca26"
            ],
            [
             1,
             "#f0f921"
            ]
           ],
           "sequentialminus": [
            [
             0,
             "#0d0887"
            ],
            [
             0.1111111111111111,
             "#46039f"
            ],
            [
             0.2222222222222222,
             "#7201a8"
            ],
            [
             0.3333333333333333,
             "#9c179e"
            ],
            [
             0.4444444444444444,
             "#bd3786"
            ],
            [
             0.5555555555555556,
             "#d8576b"
            ],
            [
             0.6666666666666666,
             "#ed7953"
            ],
            [
             0.7777777777777778,
             "#fb9f3a"
            ],
            [
             0.8888888888888888,
             "#fdca26"
            ],
            [
             1,
             "#f0f921"
            ]
           ]
          },
          "colorway": [
           "#636efa",
           "#EF553B",
           "#00cc96",
           "#ab63fa",
           "#FFA15A",
           "#19d3f3",
           "#FF6692",
           "#B6E880",
           "#FF97FF",
           "#FECB52"
          ],
          "font": {
           "color": "#2a3f5f"
          },
          "geo": {
           "bgcolor": "white",
           "lakecolor": "white",
           "landcolor": "#E5ECF6",
           "showlakes": true,
           "showland": true,
           "subunitcolor": "white"
          },
          "hoverlabel": {
           "align": "left"
          },
          "hovermode": "closest",
          "mapbox": {
           "style": "light"
          },
          "paper_bgcolor": "white",
          "plot_bgcolor": "#E5ECF6",
          "polar": {
           "angularaxis": {
            "gridcolor": "white",
            "linecolor": "white",
            "ticks": ""
           },
           "bgcolor": "#E5ECF6",
           "radialaxis": {
            "gridcolor": "white",
            "linecolor": "white",
            "ticks": ""
           }
          },
          "scene": {
           "xaxis": {
            "backgroundcolor": "#E5ECF6",
            "gridcolor": "white",
            "gridwidth": 2,
            "linecolor": "white",
            "showbackground": true,
            "ticks": "",
            "zerolinecolor": "white"
           },
           "yaxis": {
            "backgroundcolor": "#E5ECF6",
            "gridcolor": "white",
            "gridwidth": 2,
            "linecolor": "white",
            "showbackground": true,
            "ticks": "",
            "zerolinecolor": "white"
           },
           "zaxis": {
            "backgroundcolor": "#E5ECF6",
            "gridcolor": "white",
            "gridwidth": 2,
            "linecolor": "white",
            "showbackground": true,
            "ticks": "",
            "zerolinecolor": "white"
           }
          },
          "shapedefaults": {
           "line": {
            "color": "#2a3f5f"
           }
          },
          "ternary": {
           "aaxis": {
            "gridcolor": "white",
            "linecolor": "white",
            "ticks": ""
           },
           "baxis": {
            "gridcolor": "white",
            "linecolor": "white",
            "ticks": ""
           },
           "bgcolor": "#E5ECF6",
           "caxis": {
            "gridcolor": "white",
            "linecolor": "white",
            "ticks": ""
           }
          },
          "title": {
           "x": 0.05
          },
          "xaxis": {
           "automargin": true,
           "gridcolor": "white",
           "linecolor": "white",
           "ticks": "",
           "title": {
            "standoff": 15
           },
           "zerolinecolor": "white",
           "zerolinewidth": 2
          },
          "yaxis": {
           "automargin": true,
           "gridcolor": "white",
           "linecolor": "white",
           "ticks": "",
           "title": {
            "standoff": 15
           },
           "zerolinecolor": "white",
           "zerolinewidth": 2
          }
         }
        },
        "title": {
         "font": {
          "color": "#4D5663"
         }
        },
        "xaxis": {
         "anchor": "y",
         "domain": [
          0,
          0.2125
         ],
         "gridcolor": "#E1E5ED",
         "showgrid": false,
         "tickfont": {
          "color": "#4D5663"
         },
         "title": {
          "font": {
           "color": "#4D5663"
          },
          "text": ""
         },
         "zerolinecolor": "#E1E5ED"
        },
        "xaxis10": {
         "anchor": "y10",
         "domain": [
          0.2625,
          0.475
         ],
         "gridcolor": "#E1E5ED",
         "showgrid": false,
         "tickfont": {
          "color": "#4D5663"
         },
         "title": {
          "font": {
           "color": "#4D5663"
          },
          "text": ""
         },
         "zerolinecolor": "#E1E5ED"
        },
        "xaxis11": {
         "anchor": "y11",
         "domain": [
          0.525,
          0.7375
         ],
         "gridcolor": "#E1E5ED",
         "showgrid": false,
         "tickfont": {
          "color": "#4D5663"
         },
         "title": {
          "font": {
           "color": "#4D5663"
          },
          "text": ""
         },
         "zerolinecolor": "#E1E5ED"
        },
        "xaxis12": {
         "anchor": "y12",
         "domain": [
          0.7875,
          1
         ],
         "gridcolor": "#E1E5ED",
         "showgrid": false,
         "tickfont": {
          "color": "#4D5663"
         },
         "title": {
          "font": {
           "color": "#4D5663"
          },
          "text": ""
         },
         "zerolinecolor": "#E1E5ED"
        },
        "xaxis13": {
         "anchor": "y13",
         "domain": [
          0,
          0.2125
         ],
         "gridcolor": "#E1E5ED",
         "showgrid": false,
         "tickfont": {
          "color": "#4D5663"
         },
         "title": {
          "font": {
           "color": "#4D5663"
          },
          "text": ""
         },
         "zerolinecolor": "#E1E5ED"
        },
        "xaxis14": {
         "anchor": "y14",
         "domain": [
          0.2625,
          0.475
         ],
         "gridcolor": "#E1E5ED",
         "showgrid": false,
         "tickfont": {
          "color": "#4D5663"
         },
         "title": {
          "font": {
           "color": "#4D5663"
          },
          "text": ""
         },
         "zerolinecolor": "#E1E5ED"
        },
        "xaxis15": {
         "anchor": "y15",
         "domain": [
          0.525,
          0.7375
         ],
         "gridcolor": "#E1E5ED",
         "showgrid": false,
         "tickfont": {
          "color": "#4D5663"
         },
         "title": {
          "font": {
           "color": "#4D5663"
          },
          "text": ""
         },
         "zerolinecolor": "#E1E5ED"
        },
        "xaxis16": {
         "anchor": "y16",
         "domain": [
          0.7875,
          1
         ],
         "gridcolor": "#E1E5ED",
         "showgrid": false,
         "tickfont": {
          "color": "#4D5663"
         },
         "title": {
          "font": {
           "color": "#4D5663"
          },
          "text": ""
         },
         "zerolinecolor": "#E1E5ED"
        },
        "xaxis2": {
         "anchor": "y2",
         "domain": [
          0.2625,
          0.475
         ],
         "gridcolor": "#E1E5ED",
         "showgrid": false,
         "tickfont": {
          "color": "#4D5663"
         },
         "title": {
          "font": {
           "color": "#4D5663"
          },
          "text": ""
         },
         "zerolinecolor": "#E1E5ED"
        },
        "xaxis3": {
         "anchor": "y3",
         "domain": [
          0.525,
          0.7375
         ],
         "gridcolor": "#E1E5ED",
         "showgrid": false,
         "tickfont": {
          "color": "#4D5663"
         },
         "title": {
          "font": {
           "color": "#4D5663"
          },
          "text": ""
         },
         "zerolinecolor": "#E1E5ED"
        },
        "xaxis4": {
         "anchor": "y4",
         "domain": [
          0.7875,
          1
         ],
         "gridcolor": "#E1E5ED",
         "showgrid": false,
         "tickfont": {
          "color": "#4D5663"
         },
         "title": {
          "font": {
           "color": "#4D5663"
          },
          "text": ""
         },
         "zerolinecolor": "#E1E5ED"
        },
        "xaxis5": {
         "anchor": "y5",
         "domain": [
          0,
          0.2125
         ],
         "gridcolor": "#E1E5ED",
         "showgrid": false,
         "tickfont": {
          "color": "#4D5663"
         },
         "title": {
          "font": {
           "color": "#4D5663"
          },
          "text": ""
         },
         "zerolinecolor": "#E1E5ED"
        },
        "xaxis6": {
         "anchor": "y6",
         "domain": [
          0.2625,
          0.475
         ],
         "gridcolor": "#E1E5ED",
         "showgrid": false,
         "tickfont": {
          "color": "#4D5663"
         },
         "title": {
          "font": {
           "color": "#4D5663"
          },
          "text": ""
         },
         "zerolinecolor": "#E1E5ED"
        },
        "xaxis7": {
         "anchor": "y7",
         "domain": [
          0.525,
          0.7375
         ],
         "gridcolor": "#E1E5ED",
         "showgrid": false,
         "tickfont": {
          "color": "#4D5663"
         },
         "title": {
          "font": {
           "color": "#4D5663"
          },
          "text": ""
         },
         "zerolinecolor": "#E1E5ED"
        },
        "xaxis8": {
         "anchor": "y8",
         "domain": [
          0.7875,
          1
         ],
         "gridcolor": "#E1E5ED",
         "showgrid": false,
         "tickfont": {
          "color": "#4D5663"
         },
         "title": {
          "font": {
           "color": "#4D5663"
          },
          "text": ""
         },
         "zerolinecolor": "#E1E5ED"
        },
        "xaxis9": {
         "anchor": "y9",
         "domain": [
          0,
          0.2125
         ],
         "gridcolor": "#E1E5ED",
         "showgrid": false,
         "tickfont": {
          "color": "#4D5663"
         },
         "title": {
          "font": {
           "color": "#4D5663"
          },
          "text": ""
         },
         "zerolinecolor": "#E1E5ED"
        },
        "yaxis": {
         "anchor": "x",
         "domain": [
          0.8025,
          1
         ],
         "gridcolor": "#E1E5ED",
         "showgrid": false,
         "tickfont": {
          "color": "#4D5663"
         },
         "title": {
          "font": {
           "color": "#4D5663"
          },
          "text": ""
         },
         "zerolinecolor": "#E1E5ED"
        },
        "yaxis10": {
         "anchor": "x10",
         "domain": [
          0.2675,
          0.465
         ],
         "gridcolor": "#E1E5ED",
         "showgrid": false,
         "tickfont": {
          "color": "#4D5663"
         },
         "title": {
          "font": {
           "color": "#4D5663"
          },
          "text": ""
         },
         "zerolinecolor": "#E1E5ED"
        },
        "yaxis11": {
         "anchor": "x11",
         "domain": [
          0.2675,
          0.465
         ],
         "gridcolor": "#E1E5ED",
         "showgrid": false,
         "tickfont": {
          "color": "#4D5663"
         },
         "title": {
          "font": {
           "color": "#4D5663"
          },
          "text": ""
         },
         "zerolinecolor": "#E1E5ED"
        },
        "yaxis12": {
         "anchor": "x12",
         "domain": [
          0.2675,
          0.465
         ],
         "gridcolor": "#E1E5ED",
         "showgrid": false,
         "tickfont": {
          "color": "#4D5663"
         },
         "title": {
          "font": {
           "color": "#4D5663"
          },
          "text": ""
         },
         "zerolinecolor": "#E1E5ED"
        },
        "yaxis13": {
         "anchor": "x13",
         "domain": [
          0,
          0.1975
         ],
         "gridcolor": "#E1E5ED",
         "showgrid": false,
         "tickfont": {
          "color": "#4D5663"
         },
         "title": {
          "font": {
           "color": "#4D5663"
          },
          "text": ""
         },
         "zerolinecolor": "#E1E5ED"
        },
        "yaxis14": {
         "anchor": "x14",
         "domain": [
          0,
          0.1975
         ],
         "gridcolor": "#E1E5ED",
         "showgrid": false,
         "tickfont": {
          "color": "#4D5663"
         },
         "title": {
          "font": {
           "color": "#4D5663"
          },
          "text": ""
         },
         "zerolinecolor": "#E1E5ED"
        },
        "yaxis15": {
         "anchor": "x15",
         "domain": [
          0,
          0.1975
         ],
         "gridcolor": "#E1E5ED",
         "showgrid": false,
         "tickfont": {
          "color": "#4D5663"
         },
         "title": {
          "font": {
           "color": "#4D5663"
          },
          "text": ""
         },
         "zerolinecolor": "#E1E5ED"
        },
        "yaxis16": {
         "anchor": "x16",
         "domain": [
          0,
          0.1975
         ],
         "gridcolor": "#E1E5ED",
         "showgrid": false,
         "tickfont": {
          "color": "#4D5663"
         },
         "title": {
          "font": {
           "color": "#4D5663"
          },
          "text": ""
         },
         "zerolinecolor": "#E1E5ED"
        },
        "yaxis2": {
         "anchor": "x2",
         "domain": [
          0.8025,
          1
         ],
         "gridcolor": "#E1E5ED",
         "showgrid": false,
         "tickfont": {
          "color": "#4D5663"
         },
         "title": {
          "font": {
           "color": "#4D5663"
          },
          "text": ""
         },
         "zerolinecolor": "#E1E5ED"
        },
        "yaxis3": {
         "anchor": "x3",
         "domain": [
          0.8025,
          1
         ],
         "gridcolor": "#E1E5ED",
         "showgrid": false,
         "tickfont": {
          "color": "#4D5663"
         },
         "title": {
          "font": {
           "color": "#4D5663"
          },
          "text": ""
         },
         "zerolinecolor": "#E1E5ED"
        },
        "yaxis4": {
         "anchor": "x4",
         "domain": [
          0.8025,
          1
         ],
         "gridcolor": "#E1E5ED",
         "showgrid": false,
         "tickfont": {
          "color": "#4D5663"
         },
         "title": {
          "font": {
           "color": "#4D5663"
          },
          "text": ""
         },
         "zerolinecolor": "#E1E5ED"
        },
        "yaxis5": {
         "anchor": "x5",
         "domain": [
          0.535,
          0.7325
         ],
         "gridcolor": "#E1E5ED",
         "showgrid": false,
         "tickfont": {
          "color": "#4D5663"
         },
         "title": {
          "font": {
           "color": "#4D5663"
          },
          "text": ""
         },
         "zerolinecolor": "#E1E5ED"
        },
        "yaxis6": {
         "anchor": "x6",
         "domain": [
          0.535,
          0.7325
         ],
         "gridcolor": "#E1E5ED",
         "showgrid": false,
         "tickfont": {
          "color": "#4D5663"
         },
         "title": {
          "font": {
           "color": "#4D5663"
          },
          "text": ""
         },
         "zerolinecolor": "#E1E5ED"
        },
        "yaxis7": {
         "anchor": "x7",
         "domain": [
          0.535,
          0.7325
         ],
         "gridcolor": "#E1E5ED",
         "showgrid": false,
         "tickfont": {
          "color": "#4D5663"
         },
         "title": {
          "font": {
           "color": "#4D5663"
          },
          "text": ""
         },
         "zerolinecolor": "#E1E5ED"
        },
        "yaxis8": {
         "anchor": "x8",
         "domain": [
          0.535,
          0.7325
         ],
         "gridcolor": "#E1E5ED",
         "showgrid": false,
         "tickfont": {
          "color": "#4D5663"
         },
         "title": {
          "font": {
           "color": "#4D5663"
          },
          "text": ""
         },
         "zerolinecolor": "#E1E5ED"
        },
        "yaxis9": {
         "anchor": "x9",
         "domain": [
          0.2675,
          0.465
         ],
         "gridcolor": "#E1E5ED",
         "showgrid": false,
         "tickfont": {
          "color": "#4D5663"
         },
         "title": {
          "font": {
           "color": "#4D5663"
          },
          "text": ""
         },
         "zerolinecolor": "#E1E5ED"
        }
       }
      },
      "text/html": [
       "<div>\n",
       "        \n",
       "        \n",
       "            <div id=\"48cd9e7e-f091-4176-ae44-6cecec83c0f8\" class=\"plotly-graph-div\" style=\"height:525px; width:100%;\"></div>\n",
       "            <script type=\"text/javascript\">\n",
       "                require([\"plotly\"], function(Plotly) {\n",
       "                    window.PLOTLYENV=window.PLOTLYENV || {};\n",
       "                    window.PLOTLYENV.BASE_URL='https://plot.ly';\n",
       "                    \n",
       "                if (document.getElementById(\"48cd9e7e-f091-4176-ae44-6cecec83c0f8\")) {\n",
       "                    Plotly.newPlot(\n",
       "                        '48cd9e7e-f091-4176-ae44-6cecec83c0f8',\n",
       "                        [{\"histfunc\": \"count\", \"histnorm\": \"\", \"marker\": {\"color\": \"rgba(255, 153, 51, 1.0)\", \"line\": {\"color\": \"#4D5663\", \"width\": 1.3}}, \"name\": \"A\", \"nbinsx\": 10, \"opacity\": 0.8, \"orientation\": \"v\", \"type\": \"histogram\", \"x\": [0.06551037256099825, 0.7787662777673576, 1.2109220168503216, -0.164118398405124, -0.06953194857806134, 1.066202048538722, -1.3290047735764563, -0.5661954082926168, -1.4795446786374782, 0.5850867537280864, -1.6214043663476296, 0.2281022915104834, -0.03266104341812228, -0.31529542239941, -0.8185165343462465, -0.9468500346127864, -0.5094364956867495, 1.753022121579112, 3.9780300131120603, -0.4147544481721648, -0.14963872632764225, 1.3903039535346131, 0.11798699784306298, -1.198799937094399, 1.4131626285760492, 0.623506501038244, 0.8643831632654269, 0.6752773092042728, -0.0711263241446468, 0.18404130682510414, 1.5405933704770725, -0.5126085695574668, -0.3885648449076173, -1.5388448445655147, -0.5000145318421976, 1.0835766953611417, 0.2237897443521966, 1.1218991400304938, 1.184719984221023, -0.6023434282954342, 1.090344849883388, -0.3436379889241205, -0.5690894547955576, -1.6012940470392885, -3.3510027943928313, -0.8458239564084824, -1.4228331193628854, 1.6847961973387284, 0.8735325541867743, 0.6969975174415938, -0.8003467642792428, -0.4400351866092966, 0.12759747604828178, -0.6078004191603125, -0.45683564594752585, -1.0761795529594465, 0.767820190317033, 0.9036510765352602, 2.3195076034254534, -0.7471444461857918, 0.6229681285213532, -0.8448670190512532, 1.1112053758052522, -0.37932375500455245, -2.7014109958197228, -1.2776112906769244, 2.595391503109247, 0.22384493791324778, 0.9970759541901827, -0.7010617297315688, -0.47870937464473223, 0.3347971428350504, 1.0993453924680892, 0.3240433573069802, -0.7252634214456634, 0.22527502463488902, 1.3781138065202578, -1.3504042254670332, -4.053651302513549, 0.7216865598008689, -0.5003323289743481, 0.5149434179673201, -0.4722870549872342, 1.8179752612025275, 0.9338008400773208, -0.6151732196400808, -1.5959820784883318, -0.8606323394451001, 1.2019904263305907, -0.9188842057477389, 0.633467463091969, 0.36150603037861967, 0.5176495875526188, -0.8151420430366462, 1.1187007850174295, -2.621576836525829, -1.0653546708932358, -0.6714537483763512, -0.17538467944985758, -0.16881902219472808], \"xaxis\": \"x\", \"yaxis\": \"y\"}, {\"line\": {\"color\": \"rgba(128, 128, 128, 1.0)\", \"dash\": \"solid\", \"shape\": \"linear\", \"width\": 1.3}, \"marker\": {\"size\": 2, \"symbol\": \"circle\"}, \"mode\": \"markers\", \"name\": \"A\", \"text\": \"\", \"type\": \"scatter\", \"x\": [-1.0925650641931546, -1.1063010870224814, -0.32805306632209535, -1.8015176878336885, -0.1735327532380383, -0.08774588068587334, 0.18757699718867998, 0.6728859311887663, -0.7063785591459333, -1.5601290810082729, 0.058848714728627294, 0.40753255207102396, -0.24185126842710786, -0.1589405707360404, -3.6419230654539163, -1.278856426455618, -0.12506104010367203, -0.6999988206992263, -0.8975679054874393, -0.6776071391269884, -0.4627648216478146, 2.626517695743942, -0.91040991382991, -2.88721680880961, -0.4151155407559168, -0.23674583789893922, 1.298472563980927, 2.9691566852896694, 0.2512798077666682, -0.060894981563443196, -0.4861008577562129, -0.5640569278924469, 2.032606097220788, -1.8478501295804048, 1.080680795367581, -0.18081697204116465, 0.5343053846985427, 1.8328987073087728, 0.8825543638387845, 0.00758723758367448, -1.812680010503773, -0.3894181938587775, -0.9156059830862028, 2.0765759332108775, -0.9845877565924966, -0.11513168690523837, 0.01975359983273998, 1.5525461151094744, 2.174439604808439, -1.3259988649521035, -0.9175421334719854, 0.7832487273727792, 0.718982414490362, -0.5559288782298727, -0.2637041754949957, -0.5085266837885446, 0.5267515240175117, -1.5125519857794338, 0.5912124711191508, 0.9485835777097431, 0.5060014073562296, -1.383374247408542, -0.5827753650039929, -0.42029786340586767, 2.396767848055817, -1.321557164877903, -0.26939673156797905, 0.21659628952068838, -1.7147787346861005, -2.403180951945503, -0.2176716191001402, -0.30067465967466783, 0.7020810081753037, 0.07107137979934369, 1.679478935083888, 0.25046020425850907, 0.494810949520932, -0.3815902451811281, -0.32054753212638537, 1.5112283430196483, -0.3565509952124511, -0.34060527990923545, -0.6522886642783906, -2.1006446882605343, 0.34337080965320393, -0.6344058007008451, -0.5614985283201149, 1.3246267897107706, 1.0700683834779376, -1.5535964408637803, -0.8501136729413292, -1.0023413559710757, 0.5988948939086691, 1.23651459677043, -1.4467738926798768, 0.8923285883848271, 1.4467820432217038, -0.775252461367255, 0.7622501319698802, 0.2657847128074883], \"xaxis\": \"x2\", \"y\": [0.06551037256099825, 0.7787662777673576, 1.2109220168503216, -0.164118398405124, -0.06953194857806134, 1.066202048538722, -1.3290047735764563, -0.5661954082926168, -1.4795446786374782, 0.5850867537280864, -1.6214043663476296, 0.2281022915104834, -0.03266104341812228, -0.31529542239941, -0.8185165343462465, -0.9468500346127864, -0.5094364956867495, 1.753022121579112, 3.9780300131120603, -0.4147544481721648, -0.14963872632764225, 1.3903039535346131, 0.11798699784306298, -1.198799937094399, 1.4131626285760492, 0.623506501038244, 0.8643831632654269, 0.6752773092042728, -0.0711263241446468, 0.18404130682510414, 1.5405933704770725, -0.5126085695574668, -0.3885648449076173, -1.5388448445655147, -0.5000145318421976, 1.0835766953611417, 0.2237897443521966, 1.1218991400304938, 1.184719984221023, -0.6023434282954342, 1.090344849883388, -0.3436379889241205, -0.5690894547955576, -1.6012940470392885, -3.3510027943928313, -0.8458239564084824, -1.4228331193628854, 1.6847961973387284, 0.8735325541867743, 0.6969975174415938, -0.8003467642792428, -0.4400351866092966, 0.12759747604828178, -0.6078004191603125, -0.45683564594752585, -1.0761795529594465, 0.767820190317033, 0.9036510765352602, 2.3195076034254534, -0.7471444461857918, 0.6229681285213532, -0.8448670190512532, 1.1112053758052522, -0.37932375500455245, -2.7014109958197228, -1.2776112906769244, 2.595391503109247, 0.22384493791324778, 0.9970759541901827, -0.7010617297315688, -0.47870937464473223, 0.3347971428350504, 1.0993453924680892, 0.3240433573069802, -0.7252634214456634, 0.22527502463488902, 1.3781138065202578, -1.3504042254670332, -4.053651302513549, 0.7216865598008689, -0.5003323289743481, 0.5149434179673201, -0.4722870549872342, 1.8179752612025275, 0.9338008400773208, -0.6151732196400808, -1.5959820784883318, -0.8606323394451001, 1.2019904263305907, -0.9188842057477389, 0.633467463091969, 0.36150603037861967, 0.5176495875526188, -0.8151420430366462, 1.1187007850174295, -2.621576836525829, -1.0653546708932358, -0.6714537483763512, -0.17538467944985758, -0.16881902219472808], \"yaxis\": \"y2\"}, {\"line\": {\"color\": \"rgba(128, 128, 128, 1.0)\", \"dash\": \"solid\", \"shape\": \"linear\", \"width\": 1.3}, \"marker\": {\"size\": 2, \"symbol\": \"circle\"}, \"mode\": \"markers\", \"name\": \"A\", \"text\": \"\", \"type\": \"scatter\", \"x\": [1.3122730315042694, -0.17935310503596935, 0.3614508310022408, -0.5211010566005132, -0.8819759423318262, -0.9169504758415993, -0.2519988810723046, -1.113232685157474, -0.8270000589718352, -0.3608443919675396, -1.790994145293478, 1.229497011878506, 0.5244266047548111, 0.30950717721757914, 0.9913249349727666, 0.4225385930312028, -0.43809663960515643, -0.1956072394634809, -0.8966224923606408, -0.6858989240202681, -1.2354283168914784, -0.38518005789115267, 0.14125669984744982, 0.009628427734064584, -0.8343609704758841, -0.6254362696500314, -0.19009857737161248, 0.8024851239601978, 0.21849566906323878, -0.31996929320816375, -1.6628372802901763, -1.8210520255850096, 0.5304296301262494, 0.421752245075303, -0.7812834649471643, -0.6755859487986324, 1.1318065517425326, -1.7096919590322925, -1.521312451975673, 1.8275392617169104, 2.193604590576897, 1.82924388395378, 1.695135498883619, -0.9372289917902713, -0.7517034331328517, -0.9405836457996472, 0.18363540881443705, -1.6888791771823555, 0.3528760574723848, -1.8846003666593836, 0.529161502175242, -0.864694295346101, 0.7572177454734456, -1.1500641264623734, 1.0255018011884054, 1.1379456189412875, -0.2766376966356368, -0.33190440864984677, 0.02938692391757872, 0.1441841232633436, -0.07471296527887963, 0.0686761948664308, -1.9977069652099664, -0.42700103340562834, -0.8318821594923187, -0.5596727597099382, 0.18346133391049288, 1.3506828478186077, 1.0634309532966568, 1.4769664064849617, -0.2209001285055589, -0.4851538300535789, 0.36521711207331015, -0.6613614274066665, -0.9400974411180243, -0.740899364556757, -0.31932440099134807, -0.9227376804572993, 0.7875927248187125, 0.3971733396415079, 0.15724577048337082, 0.43583308621840827, 0.3452179544153144, -0.33060123213417814, 0.7012511634326455, 0.1359150271139867, 0.4983761403689988, -0.38699779591073197, -1.1321822914573374, 0.381220997039987, -0.9833009504151865, -0.24217166231535547, -0.9712623950130381, -1.4829071262232862, 0.139431489054704, 1.3536578112352777, -0.21621273025259535, 0.8087520815265892, -1.7607551901134975, 1.3631956292994885], \"xaxis\": \"x3\", \"y\": [0.06551037256099825, 0.7787662777673576, 1.2109220168503216, -0.164118398405124, -0.06953194857806134, 1.066202048538722, -1.3290047735764563, -0.5661954082926168, -1.4795446786374782, 0.5850867537280864, -1.6214043663476296, 0.2281022915104834, -0.03266104341812228, -0.31529542239941, -0.8185165343462465, -0.9468500346127864, -0.5094364956867495, 1.753022121579112, 3.9780300131120603, -0.4147544481721648, -0.14963872632764225, 1.3903039535346131, 0.11798699784306298, -1.198799937094399, 1.4131626285760492, 0.623506501038244, 0.8643831632654269, 0.6752773092042728, -0.0711263241446468, 0.18404130682510414, 1.5405933704770725, -0.5126085695574668, -0.3885648449076173, -1.5388448445655147, -0.5000145318421976, 1.0835766953611417, 0.2237897443521966, 1.1218991400304938, 1.184719984221023, -0.6023434282954342, 1.090344849883388, -0.3436379889241205, -0.5690894547955576, -1.6012940470392885, -3.3510027943928313, -0.8458239564084824, -1.4228331193628854, 1.6847961973387284, 0.8735325541867743, 0.6969975174415938, -0.8003467642792428, -0.4400351866092966, 0.12759747604828178, -0.6078004191603125, -0.45683564594752585, -1.0761795529594465, 0.767820190317033, 0.9036510765352602, 2.3195076034254534, -0.7471444461857918, 0.6229681285213532, -0.8448670190512532, 1.1112053758052522, -0.37932375500455245, -2.7014109958197228, -1.2776112906769244, 2.595391503109247, 0.22384493791324778, 0.9970759541901827, -0.7010617297315688, -0.47870937464473223, 0.3347971428350504, 1.0993453924680892, 0.3240433573069802, -0.7252634214456634, 0.22527502463488902, 1.3781138065202578, -1.3504042254670332, -4.053651302513549, 0.7216865598008689, -0.5003323289743481, 0.5149434179673201, -0.4722870549872342, 1.8179752612025275, 0.9338008400773208, -0.6151732196400808, -1.5959820784883318, -0.8606323394451001, 1.2019904263305907, -0.9188842057477389, 0.633467463091969, 0.36150603037861967, 0.5176495875526188, -0.8151420430366462, 1.1187007850174295, -2.621576836525829, -1.0653546708932358, -0.6714537483763512, -0.17538467944985758, -0.16881902219472808], \"yaxis\": \"y3\"}, {\"line\": {\"color\": \"rgba(128, 128, 128, 1.0)\", \"dash\": \"solid\", \"shape\": \"linear\", \"width\": 1.3}, \"marker\": {\"size\": 2, \"symbol\": \"circle\"}, \"mode\": \"markers\", \"name\": \"A\", \"text\": \"\", \"type\": \"scatter\", \"x\": [-0.8569913877419736, 0.20043397000527866, -1.7412927929767723, -1.1873738385667572, 0.46117217569580754, 1.1679591932700821, -1.015095279622547, 0.8415819887073378, 1.8328489355568114, -1.104945360777617, -1.248936723865419, 0.15666057431555322, -0.5904385624918248, -0.9741245968558371, 1.4937687052599453, 0.5850246918816916, 0.3381049331672944, -0.7483890168855368, -0.6762787813690532, 0.06528333399450395, 0.9216224411628501, 0.11602165284467134, -0.7214772261918884, 1.9436830686844957, -0.7495054162160697, -1.3957935493271236, 1.1666689847591565, 0.2988607249559056, 0.23499382582333145, -0.4378172935292165, -1.1089672494422926, 1.0480857443658964, -0.30464427262809096, 1.7666252648127816, 0.20135243885349585, -0.7240290010663003, 0.6358849419050292, 1.3372054219807012, -0.8479329819031785, 0.33605362411663764, 0.3091409003988394, -0.0042238283781839804, -2.1931150426342527, 0.5351624320455792, 0.18301691618515195, -2.244228422091324, -0.23571721821529978, 0.59210695506618, -0.6343701671428039, 1.7532165598333844, -1.360046170333257, -1.9703802968958088, 0.3320761840458883, 0.1904961384424451, -0.10330778595218273, 0.49372568454540483, 0.7957150006751236, 0.6325305840422442, -1.5830067557580374, -0.4539225055348257, 0.8495483797125362, -0.04250043951784153, 0.7516988836459388, 0.8944697069148903, -0.035277287468309895, 0.7428012424634501, -1.152202352081379, -0.5684949141988689, 2.060839920383102, -0.8910336062432065, -0.6111340224125054, 1.1493890573734444, -0.6977468209185262, 2.00048191418851, 0.6790909416761713, -1.3289974226191574, 0.9665612627913074, -1.1892316319921394, -0.07661048278707877, 0.6816736136192816, 1.5478480340620588, 0.9991048480787013, 0.5176894312965323, -1.8318832829407212, 0.9449493500331181, 0.47162380853355784, 0.2551712160181531, 1.033963974273001, 1.008388020937463, -1.3550558210131782, -1.3553648061099495, 0.3419840046463667, -0.6799359282514028, 0.472852846116455, -0.07007777844980682, 0.7928144634980903, 0.582896728216384, 2.6702690689972575, -0.32707324297297424, -0.5341181551241768], \"xaxis\": \"x4\", \"y\": [0.06551037256099825, 0.7787662777673576, 1.2109220168503216, -0.164118398405124, -0.06953194857806134, 1.066202048538722, -1.3290047735764563, -0.5661954082926168, -1.4795446786374782, 0.5850867537280864, -1.6214043663476296, 0.2281022915104834, -0.03266104341812228, -0.31529542239941, -0.8185165343462465, -0.9468500346127864, -0.5094364956867495, 1.753022121579112, 3.9780300131120603, -0.4147544481721648, -0.14963872632764225, 1.3903039535346131, 0.11798699784306298, -1.198799937094399, 1.4131626285760492, 0.623506501038244, 0.8643831632654269, 0.6752773092042728, -0.0711263241446468, 0.18404130682510414, 1.5405933704770725, -0.5126085695574668, -0.3885648449076173, -1.5388448445655147, -0.5000145318421976, 1.0835766953611417, 0.2237897443521966, 1.1218991400304938, 1.184719984221023, -0.6023434282954342, 1.090344849883388, -0.3436379889241205, -0.5690894547955576, -1.6012940470392885, -3.3510027943928313, -0.8458239564084824, -1.4228331193628854, 1.6847961973387284, 0.8735325541867743, 0.6969975174415938, -0.8003467642792428, -0.4400351866092966, 0.12759747604828178, -0.6078004191603125, -0.45683564594752585, -1.0761795529594465, 0.767820190317033, 0.9036510765352602, 2.3195076034254534, -0.7471444461857918, 0.6229681285213532, -0.8448670190512532, 1.1112053758052522, -0.37932375500455245, -2.7014109958197228, -1.2776112906769244, 2.595391503109247, 0.22384493791324778, 0.9970759541901827, -0.7010617297315688, -0.47870937464473223, 0.3347971428350504, 1.0993453924680892, 0.3240433573069802, -0.7252634214456634, 0.22527502463488902, 1.3781138065202578, -1.3504042254670332, -4.053651302513549, 0.7216865598008689, -0.5003323289743481, 0.5149434179673201, -0.4722870549872342, 1.8179752612025275, 0.9338008400773208, -0.6151732196400808, -1.5959820784883318, -0.8606323394451001, 1.2019904263305907, -0.9188842057477389, 0.633467463091969, 0.36150603037861967, 0.5176495875526188, -0.8151420430366462, 1.1187007850174295, -2.621576836525829, -1.0653546708932358, -0.6714537483763512, -0.17538467944985758, -0.16881902219472808], \"yaxis\": \"y4\"}, {\"line\": {\"color\": \"rgba(128, 128, 128, 1.0)\", \"dash\": \"solid\", \"shape\": \"linear\", \"width\": 1.3}, \"marker\": {\"size\": 2, \"symbol\": \"circle\"}, \"mode\": \"markers\", \"name\": \"B\", \"text\": \"\", \"type\": \"scatter\", \"x\": [0.06551037256099825, 0.7787662777673576, 1.2109220168503216, -0.164118398405124, -0.06953194857806134, 1.066202048538722, -1.3290047735764563, -0.5661954082926168, -1.4795446786374782, 0.5850867537280864, -1.6214043663476296, 0.2281022915104834, -0.03266104341812228, -0.31529542239941, -0.8185165343462465, -0.9468500346127864, -0.5094364956867495, 1.753022121579112, 3.9780300131120603, -0.4147544481721648, -0.14963872632764225, 1.3903039535346131, 0.11798699784306298, -1.198799937094399, 1.4131626285760492, 0.623506501038244, 0.8643831632654269, 0.6752773092042728, -0.0711263241446468, 0.18404130682510414, 1.5405933704770725, -0.5126085695574668, -0.3885648449076173, -1.5388448445655147, -0.5000145318421976, 1.0835766953611417, 0.2237897443521966, 1.1218991400304938, 1.184719984221023, -0.6023434282954342, 1.090344849883388, -0.3436379889241205, -0.5690894547955576, -1.6012940470392885, -3.3510027943928313, -0.8458239564084824, -1.4228331193628854, 1.6847961973387284, 0.8735325541867743, 0.6969975174415938, -0.8003467642792428, -0.4400351866092966, 0.12759747604828178, -0.6078004191603125, -0.45683564594752585, -1.0761795529594465, 0.767820190317033, 0.9036510765352602, 2.3195076034254534, -0.7471444461857918, 0.6229681285213532, -0.8448670190512532, 1.1112053758052522, -0.37932375500455245, -2.7014109958197228, -1.2776112906769244, 2.595391503109247, 0.22384493791324778, 0.9970759541901827, -0.7010617297315688, -0.47870937464473223, 0.3347971428350504, 1.0993453924680892, 0.3240433573069802, -0.7252634214456634, 0.22527502463488902, 1.3781138065202578, -1.3504042254670332, -4.053651302513549, 0.7216865598008689, -0.5003323289743481, 0.5149434179673201, -0.4722870549872342, 1.8179752612025275, 0.9338008400773208, -0.6151732196400808, -1.5959820784883318, -0.8606323394451001, 1.2019904263305907, -0.9188842057477389, 0.633467463091969, 0.36150603037861967, 0.5176495875526188, -0.8151420430366462, 1.1187007850174295, -2.621576836525829, -1.0653546708932358, -0.6714537483763512, -0.17538467944985758, -0.16881902219472808], \"xaxis\": \"x5\", \"y\": [-1.0925650641931546, -1.1063010870224814, -0.32805306632209535, -1.8015176878336885, -0.1735327532380383, -0.08774588068587334, 0.18757699718867998, 0.6728859311887663, -0.7063785591459333, -1.5601290810082729, 0.058848714728627294, 0.40753255207102396, -0.24185126842710786, -0.1589405707360404, -3.6419230654539163, -1.278856426455618, -0.12506104010367203, -0.6999988206992263, -0.8975679054874393, -0.6776071391269884, -0.4627648216478146, 2.626517695743942, -0.91040991382991, -2.88721680880961, -0.4151155407559168, -0.23674583789893922, 1.298472563980927, 2.9691566852896694, 0.2512798077666682, -0.060894981563443196, -0.4861008577562129, -0.5640569278924469, 2.032606097220788, -1.8478501295804048, 1.080680795367581, -0.18081697204116465, 0.5343053846985427, 1.8328987073087728, 0.8825543638387845, 0.00758723758367448, -1.812680010503773, -0.3894181938587775, -0.9156059830862028, 2.0765759332108775, -0.9845877565924966, -0.11513168690523837, 0.01975359983273998, 1.5525461151094744, 2.174439604808439, -1.3259988649521035, -0.9175421334719854, 0.7832487273727792, 0.718982414490362, -0.5559288782298727, -0.2637041754949957, -0.5085266837885446, 0.5267515240175117, -1.5125519857794338, 0.5912124711191508, 0.9485835777097431, 0.5060014073562296, -1.383374247408542, -0.5827753650039929, -0.42029786340586767, 2.396767848055817, -1.321557164877903, -0.26939673156797905, 0.21659628952068838, -1.7147787346861005, -2.403180951945503, -0.2176716191001402, -0.30067465967466783, 0.7020810081753037, 0.07107137979934369, 1.679478935083888, 0.25046020425850907, 0.494810949520932, -0.3815902451811281, -0.32054753212638537, 1.5112283430196483, -0.3565509952124511, -0.34060527990923545, -0.6522886642783906, -2.1006446882605343, 0.34337080965320393, -0.6344058007008451, -0.5614985283201149, 1.3246267897107706, 1.0700683834779376, -1.5535964408637803, -0.8501136729413292, -1.0023413559710757, 0.5988948939086691, 1.23651459677043, -1.4467738926798768, 0.8923285883848271, 1.4467820432217038, -0.775252461367255, 0.7622501319698802, 0.2657847128074883], \"yaxis\": \"y5\"}, {\"histfunc\": \"count\", \"histnorm\": \"\", \"marker\": {\"color\": \"rgba(55, 128, 191, 1.0)\", \"line\": {\"color\": \"#4D5663\", \"width\": 1.3}}, \"name\": \"B\", \"nbinsx\": 10, \"opacity\": 0.8, \"orientation\": \"v\", \"type\": \"histogram\", \"x\": [-1.0925650641931546, -1.1063010870224814, -0.32805306632209535, -1.8015176878336885, -0.1735327532380383, -0.08774588068587334, 0.18757699718867998, 0.6728859311887663, -0.7063785591459333, -1.5601290810082729, 0.058848714728627294, 0.40753255207102396, -0.24185126842710786, -0.1589405707360404, -3.6419230654539163, -1.278856426455618, -0.12506104010367203, -0.6999988206992263, -0.8975679054874393, -0.6776071391269884, -0.4627648216478146, 2.626517695743942, -0.91040991382991, -2.88721680880961, -0.4151155407559168, -0.23674583789893922, 1.298472563980927, 2.9691566852896694, 0.2512798077666682, -0.060894981563443196, -0.4861008577562129, -0.5640569278924469, 2.032606097220788, -1.8478501295804048, 1.080680795367581, -0.18081697204116465, 0.5343053846985427, 1.8328987073087728, 0.8825543638387845, 0.00758723758367448, -1.812680010503773, -0.3894181938587775, -0.9156059830862028, 2.0765759332108775, -0.9845877565924966, -0.11513168690523837, 0.01975359983273998, 1.5525461151094744, 2.174439604808439, -1.3259988649521035, -0.9175421334719854, 0.7832487273727792, 0.718982414490362, -0.5559288782298727, -0.2637041754949957, -0.5085266837885446, 0.5267515240175117, -1.5125519857794338, 0.5912124711191508, 0.9485835777097431, 0.5060014073562296, -1.383374247408542, -0.5827753650039929, -0.42029786340586767, 2.396767848055817, -1.321557164877903, -0.26939673156797905, 0.21659628952068838, -1.7147787346861005, -2.403180951945503, -0.2176716191001402, -0.30067465967466783, 0.7020810081753037, 0.07107137979934369, 1.679478935083888, 0.25046020425850907, 0.494810949520932, -0.3815902451811281, -0.32054753212638537, 1.5112283430196483, -0.3565509952124511, -0.34060527990923545, -0.6522886642783906, -2.1006446882605343, 0.34337080965320393, -0.6344058007008451, -0.5614985283201149, 1.3246267897107706, 1.0700683834779376, -1.5535964408637803, -0.8501136729413292, -1.0023413559710757, 0.5988948939086691, 1.23651459677043, -1.4467738926798768, 0.8923285883848271, 1.4467820432217038, -0.775252461367255, 0.7622501319698802, 0.2657847128074883], \"xaxis\": \"x6\", \"yaxis\": \"y6\"}, {\"line\": {\"color\": \"rgba(128, 128, 128, 1.0)\", \"dash\": \"solid\", \"shape\": \"linear\", \"width\": 1.3}, \"marker\": {\"size\": 2, \"symbol\": \"circle\"}, \"mode\": \"markers\", \"name\": \"B\", \"text\": \"\", \"type\": \"scatter\", \"x\": [1.3122730315042694, -0.17935310503596935, 0.3614508310022408, -0.5211010566005132, -0.8819759423318262, -0.9169504758415993, -0.2519988810723046, -1.113232685157474, -0.8270000589718352, -0.3608443919675396, -1.790994145293478, 1.229497011878506, 0.5244266047548111, 0.30950717721757914, 0.9913249349727666, 0.4225385930312028, -0.43809663960515643, -0.1956072394634809, -0.8966224923606408, -0.6858989240202681, -1.2354283168914784, -0.38518005789115267, 0.14125669984744982, 0.009628427734064584, -0.8343609704758841, -0.6254362696500314, -0.19009857737161248, 0.8024851239601978, 0.21849566906323878, -0.31996929320816375, -1.6628372802901763, -1.8210520255850096, 0.5304296301262494, 0.421752245075303, -0.7812834649471643, -0.6755859487986324, 1.1318065517425326, -1.7096919590322925, -1.521312451975673, 1.8275392617169104, 2.193604590576897, 1.82924388395378, 1.695135498883619, -0.9372289917902713, -0.7517034331328517, -0.9405836457996472, 0.18363540881443705, -1.6888791771823555, 0.3528760574723848, -1.8846003666593836, 0.529161502175242, -0.864694295346101, 0.7572177454734456, -1.1500641264623734, 1.0255018011884054, 1.1379456189412875, -0.2766376966356368, -0.33190440864984677, 0.02938692391757872, 0.1441841232633436, -0.07471296527887963, 0.0686761948664308, -1.9977069652099664, -0.42700103340562834, -0.8318821594923187, -0.5596727597099382, 0.18346133391049288, 1.3506828478186077, 1.0634309532966568, 1.4769664064849617, -0.2209001285055589, -0.4851538300535789, 0.36521711207331015, -0.6613614274066665, -0.9400974411180243, -0.740899364556757, -0.31932440099134807, -0.9227376804572993, 0.7875927248187125, 0.3971733396415079, 0.15724577048337082, 0.43583308621840827, 0.3452179544153144, -0.33060123213417814, 0.7012511634326455, 0.1359150271139867, 0.4983761403689988, -0.38699779591073197, -1.1321822914573374, 0.381220997039987, -0.9833009504151865, -0.24217166231535547, -0.9712623950130381, -1.4829071262232862, 0.139431489054704, 1.3536578112352777, -0.21621273025259535, 0.8087520815265892, -1.7607551901134975, 1.3631956292994885], \"xaxis\": \"x7\", \"y\": [-1.0925650641931546, -1.1063010870224814, -0.32805306632209535, -1.8015176878336885, -0.1735327532380383, -0.08774588068587334, 0.18757699718867998, 0.6728859311887663, -0.7063785591459333, -1.5601290810082729, 0.058848714728627294, 0.40753255207102396, -0.24185126842710786, -0.1589405707360404, -3.6419230654539163, -1.278856426455618, -0.12506104010367203, -0.6999988206992263, -0.8975679054874393, -0.6776071391269884, -0.4627648216478146, 2.626517695743942, -0.91040991382991, -2.88721680880961, -0.4151155407559168, -0.23674583789893922, 1.298472563980927, 2.9691566852896694, 0.2512798077666682, -0.060894981563443196, -0.4861008577562129, -0.5640569278924469, 2.032606097220788, -1.8478501295804048, 1.080680795367581, -0.18081697204116465, 0.5343053846985427, 1.8328987073087728, 0.8825543638387845, 0.00758723758367448, -1.812680010503773, -0.3894181938587775, -0.9156059830862028, 2.0765759332108775, -0.9845877565924966, -0.11513168690523837, 0.01975359983273998, 1.5525461151094744, 2.174439604808439, -1.3259988649521035, -0.9175421334719854, 0.7832487273727792, 0.718982414490362, -0.5559288782298727, -0.2637041754949957, -0.5085266837885446, 0.5267515240175117, -1.5125519857794338, 0.5912124711191508, 0.9485835777097431, 0.5060014073562296, -1.383374247408542, -0.5827753650039929, -0.42029786340586767, 2.396767848055817, -1.321557164877903, -0.26939673156797905, 0.21659628952068838, -1.7147787346861005, -2.403180951945503, -0.2176716191001402, -0.30067465967466783, 0.7020810081753037, 0.07107137979934369, 1.679478935083888, 0.25046020425850907, 0.494810949520932, -0.3815902451811281, -0.32054753212638537, 1.5112283430196483, -0.3565509952124511, -0.34060527990923545, -0.6522886642783906, -2.1006446882605343, 0.34337080965320393, -0.6344058007008451, -0.5614985283201149, 1.3246267897107706, 1.0700683834779376, -1.5535964408637803, -0.8501136729413292, -1.0023413559710757, 0.5988948939086691, 1.23651459677043, -1.4467738926798768, 0.8923285883848271, 1.4467820432217038, -0.775252461367255, 0.7622501319698802, 0.2657847128074883], \"yaxis\": \"y7\"}, {\"line\": {\"color\": \"rgba(128, 128, 128, 1.0)\", \"dash\": \"solid\", \"shape\": \"linear\", \"width\": 1.3}, \"marker\": {\"size\": 2, \"symbol\": \"circle\"}, \"mode\": \"markers\", \"name\": \"B\", \"text\": \"\", \"type\": \"scatter\", \"x\": [-0.8569913877419736, 0.20043397000527866, -1.7412927929767723, -1.1873738385667572, 0.46117217569580754, 1.1679591932700821, -1.015095279622547, 0.8415819887073378, 1.8328489355568114, -1.104945360777617, -1.248936723865419, 0.15666057431555322, -0.5904385624918248, -0.9741245968558371, 1.4937687052599453, 0.5850246918816916, 0.3381049331672944, -0.7483890168855368, -0.6762787813690532, 0.06528333399450395, 0.9216224411628501, 0.11602165284467134, -0.7214772261918884, 1.9436830686844957, -0.7495054162160697, -1.3957935493271236, 1.1666689847591565, 0.2988607249559056, 0.23499382582333145, -0.4378172935292165, -1.1089672494422926, 1.0480857443658964, -0.30464427262809096, 1.7666252648127816, 0.20135243885349585, -0.7240290010663003, 0.6358849419050292, 1.3372054219807012, -0.8479329819031785, 0.33605362411663764, 0.3091409003988394, -0.0042238283781839804, -2.1931150426342527, 0.5351624320455792, 0.18301691618515195, -2.244228422091324, -0.23571721821529978, 0.59210695506618, -0.6343701671428039, 1.7532165598333844, -1.360046170333257, -1.9703802968958088, 0.3320761840458883, 0.1904961384424451, -0.10330778595218273, 0.49372568454540483, 0.7957150006751236, 0.6325305840422442, -1.5830067557580374, -0.4539225055348257, 0.8495483797125362, -0.04250043951784153, 0.7516988836459388, 0.8944697069148903, -0.035277287468309895, 0.7428012424634501, -1.152202352081379, -0.5684949141988689, 2.060839920383102, -0.8910336062432065, -0.6111340224125054, 1.1493890573734444, -0.6977468209185262, 2.00048191418851, 0.6790909416761713, -1.3289974226191574, 0.9665612627913074, -1.1892316319921394, -0.07661048278707877, 0.6816736136192816, 1.5478480340620588, 0.9991048480787013, 0.5176894312965323, -1.8318832829407212, 0.9449493500331181, 0.47162380853355784, 0.2551712160181531, 1.033963974273001, 1.008388020937463, -1.3550558210131782, -1.3553648061099495, 0.3419840046463667, -0.6799359282514028, 0.472852846116455, -0.07007777844980682, 0.7928144634980903, 0.582896728216384, 2.6702690689972575, -0.32707324297297424, -0.5341181551241768], \"xaxis\": \"x8\", \"y\": [-1.0925650641931546, -1.1063010870224814, -0.32805306632209535, -1.8015176878336885, -0.1735327532380383, -0.08774588068587334, 0.18757699718867998, 0.6728859311887663, -0.7063785591459333, -1.5601290810082729, 0.058848714728627294, 0.40753255207102396, -0.24185126842710786, -0.1589405707360404, -3.6419230654539163, -1.278856426455618, -0.12506104010367203, -0.6999988206992263, -0.8975679054874393, -0.6776071391269884, -0.4627648216478146, 2.626517695743942, -0.91040991382991, -2.88721680880961, -0.4151155407559168, -0.23674583789893922, 1.298472563980927, 2.9691566852896694, 0.2512798077666682, -0.060894981563443196, -0.4861008577562129, -0.5640569278924469, 2.032606097220788, -1.8478501295804048, 1.080680795367581, -0.18081697204116465, 0.5343053846985427, 1.8328987073087728, 0.8825543638387845, 0.00758723758367448, -1.812680010503773, -0.3894181938587775, -0.9156059830862028, 2.0765759332108775, -0.9845877565924966, -0.11513168690523837, 0.01975359983273998, 1.5525461151094744, 2.174439604808439, -1.3259988649521035, -0.9175421334719854, 0.7832487273727792, 0.718982414490362, -0.5559288782298727, -0.2637041754949957, -0.5085266837885446, 0.5267515240175117, -1.5125519857794338, 0.5912124711191508, 0.9485835777097431, 0.5060014073562296, -1.383374247408542, -0.5827753650039929, -0.42029786340586767, 2.396767848055817, -1.321557164877903, -0.26939673156797905, 0.21659628952068838, -1.7147787346861005, -2.403180951945503, -0.2176716191001402, -0.30067465967466783, 0.7020810081753037, 0.07107137979934369, 1.679478935083888, 0.25046020425850907, 0.494810949520932, -0.3815902451811281, -0.32054753212638537, 1.5112283430196483, -0.3565509952124511, -0.34060527990923545, -0.6522886642783906, -2.1006446882605343, 0.34337080965320393, -0.6344058007008451, -0.5614985283201149, 1.3246267897107706, 1.0700683834779376, -1.5535964408637803, -0.8501136729413292, -1.0023413559710757, 0.5988948939086691, 1.23651459677043, -1.4467738926798768, 0.8923285883848271, 1.4467820432217038, -0.775252461367255, 0.7622501319698802, 0.2657847128074883], \"yaxis\": \"y8\"}, {\"line\": {\"color\": \"rgba(128, 128, 128, 1.0)\", \"dash\": \"solid\", \"shape\": \"linear\", \"width\": 1.3}, \"marker\": {\"size\": 2, \"symbol\": \"circle\"}, \"mode\": \"markers\", \"name\": \"C\", \"text\": \"\", \"type\": \"scatter\", \"x\": [0.06551037256099825, 0.7787662777673576, 1.2109220168503216, -0.164118398405124, -0.06953194857806134, 1.066202048538722, -1.3290047735764563, -0.5661954082926168, -1.4795446786374782, 0.5850867537280864, -1.6214043663476296, 0.2281022915104834, -0.03266104341812228, -0.31529542239941, -0.8185165343462465, -0.9468500346127864, -0.5094364956867495, 1.753022121579112, 3.9780300131120603, -0.4147544481721648, -0.14963872632764225, 1.3903039535346131, 0.11798699784306298, -1.198799937094399, 1.4131626285760492, 0.623506501038244, 0.8643831632654269, 0.6752773092042728, -0.0711263241446468, 0.18404130682510414, 1.5405933704770725, -0.5126085695574668, -0.3885648449076173, -1.5388448445655147, -0.5000145318421976, 1.0835766953611417, 0.2237897443521966, 1.1218991400304938, 1.184719984221023, -0.6023434282954342, 1.090344849883388, -0.3436379889241205, -0.5690894547955576, -1.6012940470392885, -3.3510027943928313, -0.8458239564084824, -1.4228331193628854, 1.6847961973387284, 0.8735325541867743, 0.6969975174415938, -0.8003467642792428, -0.4400351866092966, 0.12759747604828178, -0.6078004191603125, -0.45683564594752585, -1.0761795529594465, 0.767820190317033, 0.9036510765352602, 2.3195076034254534, -0.7471444461857918, 0.6229681285213532, -0.8448670190512532, 1.1112053758052522, -0.37932375500455245, -2.7014109958197228, -1.2776112906769244, 2.595391503109247, 0.22384493791324778, 0.9970759541901827, -0.7010617297315688, -0.47870937464473223, 0.3347971428350504, 1.0993453924680892, 0.3240433573069802, -0.7252634214456634, 0.22527502463488902, 1.3781138065202578, -1.3504042254670332, -4.053651302513549, 0.7216865598008689, -0.5003323289743481, 0.5149434179673201, -0.4722870549872342, 1.8179752612025275, 0.9338008400773208, -0.6151732196400808, -1.5959820784883318, -0.8606323394451001, 1.2019904263305907, -0.9188842057477389, 0.633467463091969, 0.36150603037861967, 0.5176495875526188, -0.8151420430366462, 1.1187007850174295, -2.621576836525829, -1.0653546708932358, -0.6714537483763512, -0.17538467944985758, -0.16881902219472808], \"xaxis\": \"x9\", \"y\": [1.3122730315042694, -0.17935310503596935, 0.3614508310022408, -0.5211010566005132, -0.8819759423318262, -0.9169504758415993, -0.2519988810723046, -1.113232685157474, -0.8270000589718352, -0.3608443919675396, -1.790994145293478, 1.229497011878506, 0.5244266047548111, 0.30950717721757914, 0.9913249349727666, 0.4225385930312028, -0.43809663960515643, -0.1956072394634809, -0.8966224923606408, -0.6858989240202681, -1.2354283168914784, -0.38518005789115267, 0.14125669984744982, 0.009628427734064584, -0.8343609704758841, -0.6254362696500314, -0.19009857737161248, 0.8024851239601978, 0.21849566906323878, -0.31996929320816375, -1.6628372802901763, -1.8210520255850096, 0.5304296301262494, 0.421752245075303, -0.7812834649471643, -0.6755859487986324, 1.1318065517425326, -1.7096919590322925, -1.521312451975673, 1.8275392617169104, 2.193604590576897, 1.82924388395378, 1.695135498883619, -0.9372289917902713, -0.7517034331328517, -0.9405836457996472, 0.18363540881443705, -1.6888791771823555, 0.3528760574723848, -1.8846003666593836, 0.529161502175242, -0.864694295346101, 0.7572177454734456, -1.1500641264623734, 1.0255018011884054, 1.1379456189412875, -0.2766376966356368, -0.33190440864984677, 0.02938692391757872, 0.1441841232633436, -0.07471296527887963, 0.0686761948664308, -1.9977069652099664, -0.42700103340562834, -0.8318821594923187, -0.5596727597099382, 0.18346133391049288, 1.3506828478186077, 1.0634309532966568, 1.4769664064849617, -0.2209001285055589, -0.4851538300535789, 0.36521711207331015, -0.6613614274066665, -0.9400974411180243, -0.740899364556757, -0.31932440099134807, -0.9227376804572993, 0.7875927248187125, 0.3971733396415079, 0.15724577048337082, 0.43583308621840827, 0.3452179544153144, -0.33060123213417814, 0.7012511634326455, 0.1359150271139867, 0.4983761403689988, -0.38699779591073197, -1.1321822914573374, 0.381220997039987, -0.9833009504151865, -0.24217166231535547, -0.9712623950130381, -1.4829071262232862, 0.139431489054704, 1.3536578112352777, -0.21621273025259535, 0.8087520815265892, -1.7607551901134975, 1.3631956292994885], \"yaxis\": \"y9\"}, {\"line\": {\"color\": \"rgba(128, 128, 128, 1.0)\", \"dash\": \"solid\", \"shape\": \"linear\", \"width\": 1.3}, \"marker\": {\"size\": 2, \"symbol\": \"circle\"}, \"mode\": \"markers\", \"name\": \"C\", \"text\": \"\", \"type\": \"scatter\", \"x\": [-1.0925650641931546, -1.1063010870224814, -0.32805306632209535, -1.8015176878336885, -0.1735327532380383, -0.08774588068587334, 0.18757699718867998, 0.6728859311887663, -0.7063785591459333, -1.5601290810082729, 0.058848714728627294, 0.40753255207102396, -0.24185126842710786, -0.1589405707360404, -3.6419230654539163, -1.278856426455618, -0.12506104010367203, -0.6999988206992263, -0.8975679054874393, -0.6776071391269884, -0.4627648216478146, 2.626517695743942, -0.91040991382991, -2.88721680880961, -0.4151155407559168, -0.23674583789893922, 1.298472563980927, 2.9691566852896694, 0.2512798077666682, -0.060894981563443196, -0.4861008577562129, -0.5640569278924469, 2.032606097220788, -1.8478501295804048, 1.080680795367581, -0.18081697204116465, 0.5343053846985427, 1.8328987073087728, 0.8825543638387845, 0.00758723758367448, -1.812680010503773, -0.3894181938587775, -0.9156059830862028, 2.0765759332108775, -0.9845877565924966, -0.11513168690523837, 0.01975359983273998, 1.5525461151094744, 2.174439604808439, -1.3259988649521035, -0.9175421334719854, 0.7832487273727792, 0.718982414490362, -0.5559288782298727, -0.2637041754949957, -0.5085266837885446, 0.5267515240175117, -1.5125519857794338, 0.5912124711191508, 0.9485835777097431, 0.5060014073562296, -1.383374247408542, -0.5827753650039929, -0.42029786340586767, 2.396767848055817, -1.321557164877903, -0.26939673156797905, 0.21659628952068838, -1.7147787346861005, -2.403180951945503, -0.2176716191001402, -0.30067465967466783, 0.7020810081753037, 0.07107137979934369, 1.679478935083888, 0.25046020425850907, 0.494810949520932, -0.3815902451811281, -0.32054753212638537, 1.5112283430196483, -0.3565509952124511, -0.34060527990923545, -0.6522886642783906, -2.1006446882605343, 0.34337080965320393, -0.6344058007008451, -0.5614985283201149, 1.3246267897107706, 1.0700683834779376, -1.5535964408637803, -0.8501136729413292, -1.0023413559710757, 0.5988948939086691, 1.23651459677043, -1.4467738926798768, 0.8923285883848271, 1.4467820432217038, -0.775252461367255, 0.7622501319698802, 0.2657847128074883], \"xaxis\": \"x10\", \"y\": [1.3122730315042694, -0.17935310503596935, 0.3614508310022408, -0.5211010566005132, -0.8819759423318262, -0.9169504758415993, -0.2519988810723046, -1.113232685157474, -0.8270000589718352, -0.3608443919675396, -1.790994145293478, 1.229497011878506, 0.5244266047548111, 0.30950717721757914, 0.9913249349727666, 0.4225385930312028, -0.43809663960515643, -0.1956072394634809, -0.8966224923606408, -0.6858989240202681, -1.2354283168914784, -0.38518005789115267, 0.14125669984744982, 0.009628427734064584, -0.8343609704758841, -0.6254362696500314, -0.19009857737161248, 0.8024851239601978, 0.21849566906323878, -0.31996929320816375, -1.6628372802901763, -1.8210520255850096, 0.5304296301262494, 0.421752245075303, -0.7812834649471643, -0.6755859487986324, 1.1318065517425326, -1.7096919590322925, -1.521312451975673, 1.8275392617169104, 2.193604590576897, 1.82924388395378, 1.695135498883619, -0.9372289917902713, -0.7517034331328517, -0.9405836457996472, 0.18363540881443705, -1.6888791771823555, 0.3528760574723848, -1.8846003666593836, 0.529161502175242, -0.864694295346101, 0.7572177454734456, -1.1500641264623734, 1.0255018011884054, 1.1379456189412875, -0.2766376966356368, -0.33190440864984677, 0.02938692391757872, 0.1441841232633436, -0.07471296527887963, 0.0686761948664308, -1.9977069652099664, -0.42700103340562834, -0.8318821594923187, -0.5596727597099382, 0.18346133391049288, 1.3506828478186077, 1.0634309532966568, 1.4769664064849617, -0.2209001285055589, -0.4851538300535789, 0.36521711207331015, -0.6613614274066665, -0.9400974411180243, -0.740899364556757, -0.31932440099134807, -0.9227376804572993, 0.7875927248187125, 0.3971733396415079, 0.15724577048337082, 0.43583308621840827, 0.3452179544153144, -0.33060123213417814, 0.7012511634326455, 0.1359150271139867, 0.4983761403689988, -0.38699779591073197, -1.1321822914573374, 0.381220997039987, -0.9833009504151865, -0.24217166231535547, -0.9712623950130381, -1.4829071262232862, 0.139431489054704, 1.3536578112352777, -0.21621273025259535, 0.8087520815265892, -1.7607551901134975, 1.3631956292994885], \"yaxis\": \"y10\"}, {\"histfunc\": \"count\", \"histnorm\": \"\", \"marker\": {\"color\": \"rgba(50, 171, 96, 1.0)\", \"line\": {\"color\": \"#4D5663\", \"width\": 1.3}}, \"name\": \"C\", \"nbinsx\": 10, \"opacity\": 0.8, \"orientation\": \"v\", \"type\": \"histogram\", \"x\": [1.3122730315042694, -0.17935310503596935, 0.3614508310022408, -0.5211010566005132, -0.8819759423318262, -0.9169504758415993, -0.2519988810723046, -1.113232685157474, -0.8270000589718352, -0.3608443919675396, -1.790994145293478, 1.229497011878506, 0.5244266047548111, 0.30950717721757914, 0.9913249349727666, 0.4225385930312028, -0.43809663960515643, -0.1956072394634809, -0.8966224923606408, -0.6858989240202681, -1.2354283168914784, -0.38518005789115267, 0.14125669984744982, 0.009628427734064584, -0.8343609704758841, -0.6254362696500314, -0.19009857737161248, 0.8024851239601978, 0.21849566906323878, -0.31996929320816375, -1.6628372802901763, -1.8210520255850096, 0.5304296301262494, 0.421752245075303, -0.7812834649471643, -0.6755859487986324, 1.1318065517425326, -1.7096919590322925, -1.521312451975673, 1.8275392617169104, 2.193604590576897, 1.82924388395378, 1.695135498883619, -0.9372289917902713, -0.7517034331328517, -0.9405836457996472, 0.18363540881443705, -1.6888791771823555, 0.3528760574723848, -1.8846003666593836, 0.529161502175242, -0.864694295346101, 0.7572177454734456, -1.1500641264623734, 1.0255018011884054, 1.1379456189412875, -0.2766376966356368, -0.33190440864984677, 0.02938692391757872, 0.1441841232633436, -0.07471296527887963, 0.0686761948664308, -1.9977069652099664, -0.42700103340562834, -0.8318821594923187, -0.5596727597099382, 0.18346133391049288, 1.3506828478186077, 1.0634309532966568, 1.4769664064849617, -0.2209001285055589, -0.4851538300535789, 0.36521711207331015, -0.6613614274066665, -0.9400974411180243, -0.740899364556757, -0.31932440099134807, -0.9227376804572993, 0.7875927248187125, 0.3971733396415079, 0.15724577048337082, 0.43583308621840827, 0.3452179544153144, -0.33060123213417814, 0.7012511634326455, 0.1359150271139867, 0.4983761403689988, -0.38699779591073197, -1.1321822914573374, 0.381220997039987, -0.9833009504151865, -0.24217166231535547, -0.9712623950130381, -1.4829071262232862, 0.139431489054704, 1.3536578112352777, -0.21621273025259535, 0.8087520815265892, -1.7607551901134975, 1.3631956292994885], \"xaxis\": \"x11\", \"yaxis\": \"y11\"}, {\"line\": {\"color\": \"rgba(128, 128, 128, 1.0)\", \"dash\": \"solid\", \"shape\": \"linear\", \"width\": 1.3}, \"marker\": {\"size\": 2, \"symbol\": \"circle\"}, \"mode\": \"markers\", \"name\": \"C\", \"text\": \"\", \"type\": \"scatter\", \"x\": [-0.8569913877419736, 0.20043397000527866, -1.7412927929767723, -1.1873738385667572, 0.46117217569580754, 1.1679591932700821, -1.015095279622547, 0.8415819887073378, 1.8328489355568114, -1.104945360777617, -1.248936723865419, 0.15666057431555322, -0.5904385624918248, -0.9741245968558371, 1.4937687052599453, 0.5850246918816916, 0.3381049331672944, -0.7483890168855368, -0.6762787813690532, 0.06528333399450395, 0.9216224411628501, 0.11602165284467134, -0.7214772261918884, 1.9436830686844957, -0.7495054162160697, -1.3957935493271236, 1.1666689847591565, 0.2988607249559056, 0.23499382582333145, -0.4378172935292165, -1.1089672494422926, 1.0480857443658964, -0.30464427262809096, 1.7666252648127816, 0.20135243885349585, -0.7240290010663003, 0.6358849419050292, 1.3372054219807012, -0.8479329819031785, 0.33605362411663764, 0.3091409003988394, -0.0042238283781839804, -2.1931150426342527, 0.5351624320455792, 0.18301691618515195, -2.244228422091324, -0.23571721821529978, 0.59210695506618, -0.6343701671428039, 1.7532165598333844, -1.360046170333257, -1.9703802968958088, 0.3320761840458883, 0.1904961384424451, -0.10330778595218273, 0.49372568454540483, 0.7957150006751236, 0.6325305840422442, -1.5830067557580374, -0.4539225055348257, 0.8495483797125362, -0.04250043951784153, 0.7516988836459388, 0.8944697069148903, -0.035277287468309895, 0.7428012424634501, -1.152202352081379, -0.5684949141988689, 2.060839920383102, -0.8910336062432065, -0.6111340224125054, 1.1493890573734444, -0.6977468209185262, 2.00048191418851, 0.6790909416761713, -1.3289974226191574, 0.9665612627913074, -1.1892316319921394, -0.07661048278707877, 0.6816736136192816, 1.5478480340620588, 0.9991048480787013, 0.5176894312965323, -1.8318832829407212, 0.9449493500331181, 0.47162380853355784, 0.2551712160181531, 1.033963974273001, 1.008388020937463, -1.3550558210131782, -1.3553648061099495, 0.3419840046463667, -0.6799359282514028, 0.472852846116455, -0.07007777844980682, 0.7928144634980903, 0.582896728216384, 2.6702690689972575, -0.32707324297297424, -0.5341181551241768], \"xaxis\": \"x12\", \"y\": [1.3122730315042694, -0.17935310503596935, 0.3614508310022408, -0.5211010566005132, -0.8819759423318262, -0.9169504758415993, -0.2519988810723046, -1.113232685157474, -0.8270000589718352, -0.3608443919675396, -1.790994145293478, 1.229497011878506, 0.5244266047548111, 0.30950717721757914, 0.9913249349727666, 0.4225385930312028, -0.43809663960515643, -0.1956072394634809, -0.8966224923606408, -0.6858989240202681, -1.2354283168914784, -0.38518005789115267, 0.14125669984744982, 0.009628427734064584, -0.8343609704758841, -0.6254362696500314, -0.19009857737161248, 0.8024851239601978, 0.21849566906323878, -0.31996929320816375, -1.6628372802901763, -1.8210520255850096, 0.5304296301262494, 0.421752245075303, -0.7812834649471643, -0.6755859487986324, 1.1318065517425326, -1.7096919590322925, -1.521312451975673, 1.8275392617169104, 2.193604590576897, 1.82924388395378, 1.695135498883619, -0.9372289917902713, -0.7517034331328517, -0.9405836457996472, 0.18363540881443705, -1.6888791771823555, 0.3528760574723848, -1.8846003666593836, 0.529161502175242, -0.864694295346101, 0.7572177454734456, -1.1500641264623734, 1.0255018011884054, 1.1379456189412875, -0.2766376966356368, -0.33190440864984677, 0.02938692391757872, 0.1441841232633436, -0.07471296527887963, 0.0686761948664308, -1.9977069652099664, -0.42700103340562834, -0.8318821594923187, -0.5596727597099382, 0.18346133391049288, 1.3506828478186077, 1.0634309532966568, 1.4769664064849617, -0.2209001285055589, -0.4851538300535789, 0.36521711207331015, -0.6613614274066665, -0.9400974411180243, -0.740899364556757, -0.31932440099134807, -0.9227376804572993, 0.7875927248187125, 0.3971733396415079, 0.15724577048337082, 0.43583308621840827, 0.3452179544153144, -0.33060123213417814, 0.7012511634326455, 0.1359150271139867, 0.4983761403689988, -0.38699779591073197, -1.1321822914573374, 0.381220997039987, -0.9833009504151865, -0.24217166231535547, -0.9712623950130381, -1.4829071262232862, 0.139431489054704, 1.3536578112352777, -0.21621273025259535, 0.8087520815265892, -1.7607551901134975, 1.3631956292994885], \"yaxis\": \"y12\"}, {\"line\": {\"color\": \"rgba(128, 128, 128, 1.0)\", \"dash\": \"solid\", \"shape\": \"linear\", \"width\": 1.3}, \"marker\": {\"size\": 2, \"symbol\": \"circle\"}, \"mode\": \"markers\", \"name\": \"D\", \"text\": \"\", \"type\": \"scatter\", \"x\": [0.06551037256099825, 0.7787662777673576, 1.2109220168503216, -0.164118398405124, -0.06953194857806134, 1.066202048538722, -1.3290047735764563, -0.5661954082926168, -1.4795446786374782, 0.5850867537280864, -1.6214043663476296, 0.2281022915104834, -0.03266104341812228, -0.31529542239941, -0.8185165343462465, -0.9468500346127864, -0.5094364956867495, 1.753022121579112, 3.9780300131120603, -0.4147544481721648, -0.14963872632764225, 1.3903039535346131, 0.11798699784306298, -1.198799937094399, 1.4131626285760492, 0.623506501038244, 0.8643831632654269, 0.6752773092042728, -0.0711263241446468, 0.18404130682510414, 1.5405933704770725, -0.5126085695574668, -0.3885648449076173, -1.5388448445655147, -0.5000145318421976, 1.0835766953611417, 0.2237897443521966, 1.1218991400304938, 1.184719984221023, -0.6023434282954342, 1.090344849883388, -0.3436379889241205, -0.5690894547955576, -1.6012940470392885, -3.3510027943928313, -0.8458239564084824, -1.4228331193628854, 1.6847961973387284, 0.8735325541867743, 0.6969975174415938, -0.8003467642792428, -0.4400351866092966, 0.12759747604828178, -0.6078004191603125, -0.45683564594752585, -1.0761795529594465, 0.767820190317033, 0.9036510765352602, 2.3195076034254534, -0.7471444461857918, 0.6229681285213532, -0.8448670190512532, 1.1112053758052522, -0.37932375500455245, -2.7014109958197228, -1.2776112906769244, 2.595391503109247, 0.22384493791324778, 0.9970759541901827, -0.7010617297315688, -0.47870937464473223, 0.3347971428350504, 1.0993453924680892, 0.3240433573069802, -0.7252634214456634, 0.22527502463488902, 1.3781138065202578, -1.3504042254670332, -4.053651302513549, 0.7216865598008689, -0.5003323289743481, 0.5149434179673201, -0.4722870549872342, 1.8179752612025275, 0.9338008400773208, -0.6151732196400808, -1.5959820784883318, -0.8606323394451001, 1.2019904263305907, -0.9188842057477389, 0.633467463091969, 0.36150603037861967, 0.5176495875526188, -0.8151420430366462, 1.1187007850174295, -2.621576836525829, -1.0653546708932358, -0.6714537483763512, -0.17538467944985758, -0.16881902219472808], \"xaxis\": \"x13\", \"y\": [-0.8569913877419736, 0.20043397000527866, -1.7412927929767723, -1.1873738385667572, 0.46117217569580754, 1.1679591932700821, -1.015095279622547, 0.8415819887073378, 1.8328489355568114, -1.104945360777617, -1.248936723865419, 0.15666057431555322, -0.5904385624918248, -0.9741245968558371, 1.4937687052599453, 0.5850246918816916, 0.3381049331672944, -0.7483890168855368, -0.6762787813690532, 0.06528333399450395, 0.9216224411628501, 0.11602165284467134, -0.7214772261918884, 1.9436830686844957, -0.7495054162160697, -1.3957935493271236, 1.1666689847591565, 0.2988607249559056, 0.23499382582333145, -0.4378172935292165, -1.1089672494422926, 1.0480857443658964, -0.30464427262809096, 1.7666252648127816, 0.20135243885349585, -0.7240290010663003, 0.6358849419050292, 1.3372054219807012, -0.8479329819031785, 0.33605362411663764, 0.3091409003988394, -0.0042238283781839804, -2.1931150426342527, 0.5351624320455792, 0.18301691618515195, -2.244228422091324, -0.23571721821529978, 0.59210695506618, -0.6343701671428039, 1.7532165598333844, -1.360046170333257, -1.9703802968958088, 0.3320761840458883, 0.1904961384424451, -0.10330778595218273, 0.49372568454540483, 0.7957150006751236, 0.6325305840422442, -1.5830067557580374, -0.4539225055348257, 0.8495483797125362, -0.04250043951784153, 0.7516988836459388, 0.8944697069148903, -0.035277287468309895, 0.7428012424634501, -1.152202352081379, -0.5684949141988689, 2.060839920383102, -0.8910336062432065, -0.6111340224125054, 1.1493890573734444, -0.6977468209185262, 2.00048191418851, 0.6790909416761713, -1.3289974226191574, 0.9665612627913074, -1.1892316319921394, -0.07661048278707877, 0.6816736136192816, 1.5478480340620588, 0.9991048480787013, 0.5176894312965323, -1.8318832829407212, 0.9449493500331181, 0.47162380853355784, 0.2551712160181531, 1.033963974273001, 1.008388020937463, -1.3550558210131782, -1.3553648061099495, 0.3419840046463667, -0.6799359282514028, 0.472852846116455, -0.07007777844980682, 0.7928144634980903, 0.582896728216384, 2.6702690689972575, -0.32707324297297424, -0.5341181551241768], \"yaxis\": \"y13\"}, {\"line\": {\"color\": \"rgba(128, 128, 128, 1.0)\", \"dash\": \"solid\", \"shape\": \"linear\", \"width\": 1.3}, \"marker\": {\"size\": 2, \"symbol\": \"circle\"}, \"mode\": \"markers\", \"name\": \"D\", \"text\": \"\", \"type\": \"scatter\", \"x\": [-1.0925650641931546, -1.1063010870224814, -0.32805306632209535, -1.8015176878336885, -0.1735327532380383, -0.08774588068587334, 0.18757699718867998, 0.6728859311887663, -0.7063785591459333, -1.5601290810082729, 0.058848714728627294, 0.40753255207102396, -0.24185126842710786, -0.1589405707360404, -3.6419230654539163, -1.278856426455618, -0.12506104010367203, -0.6999988206992263, -0.8975679054874393, -0.6776071391269884, -0.4627648216478146, 2.626517695743942, -0.91040991382991, -2.88721680880961, -0.4151155407559168, -0.23674583789893922, 1.298472563980927, 2.9691566852896694, 0.2512798077666682, -0.060894981563443196, -0.4861008577562129, -0.5640569278924469, 2.032606097220788, -1.8478501295804048, 1.080680795367581, -0.18081697204116465, 0.5343053846985427, 1.8328987073087728, 0.8825543638387845, 0.00758723758367448, -1.812680010503773, -0.3894181938587775, -0.9156059830862028, 2.0765759332108775, -0.9845877565924966, -0.11513168690523837, 0.01975359983273998, 1.5525461151094744, 2.174439604808439, -1.3259988649521035, -0.9175421334719854, 0.7832487273727792, 0.718982414490362, -0.5559288782298727, -0.2637041754949957, -0.5085266837885446, 0.5267515240175117, -1.5125519857794338, 0.5912124711191508, 0.9485835777097431, 0.5060014073562296, -1.383374247408542, -0.5827753650039929, -0.42029786340586767, 2.396767848055817, -1.321557164877903, -0.26939673156797905, 0.21659628952068838, -1.7147787346861005, -2.403180951945503, -0.2176716191001402, -0.30067465967466783, 0.7020810081753037, 0.07107137979934369, 1.679478935083888, 0.25046020425850907, 0.494810949520932, -0.3815902451811281, -0.32054753212638537, 1.5112283430196483, -0.3565509952124511, -0.34060527990923545, -0.6522886642783906, -2.1006446882605343, 0.34337080965320393, -0.6344058007008451, -0.5614985283201149, 1.3246267897107706, 1.0700683834779376, -1.5535964408637803, -0.8501136729413292, -1.0023413559710757, 0.5988948939086691, 1.23651459677043, -1.4467738926798768, 0.8923285883848271, 1.4467820432217038, -0.775252461367255, 0.7622501319698802, 0.2657847128074883], \"xaxis\": \"x14\", \"y\": [-0.8569913877419736, 0.20043397000527866, -1.7412927929767723, -1.1873738385667572, 0.46117217569580754, 1.1679591932700821, -1.015095279622547, 0.8415819887073378, 1.8328489355568114, -1.104945360777617, -1.248936723865419, 0.15666057431555322, -0.5904385624918248, -0.9741245968558371, 1.4937687052599453, 0.5850246918816916, 0.3381049331672944, -0.7483890168855368, -0.6762787813690532, 0.06528333399450395, 0.9216224411628501, 0.11602165284467134, -0.7214772261918884, 1.9436830686844957, -0.7495054162160697, -1.3957935493271236, 1.1666689847591565, 0.2988607249559056, 0.23499382582333145, -0.4378172935292165, -1.1089672494422926, 1.0480857443658964, -0.30464427262809096, 1.7666252648127816, 0.20135243885349585, -0.7240290010663003, 0.6358849419050292, 1.3372054219807012, -0.8479329819031785, 0.33605362411663764, 0.3091409003988394, -0.0042238283781839804, -2.1931150426342527, 0.5351624320455792, 0.18301691618515195, -2.244228422091324, -0.23571721821529978, 0.59210695506618, -0.6343701671428039, 1.7532165598333844, -1.360046170333257, -1.9703802968958088, 0.3320761840458883, 0.1904961384424451, -0.10330778595218273, 0.49372568454540483, 0.7957150006751236, 0.6325305840422442, -1.5830067557580374, -0.4539225055348257, 0.8495483797125362, -0.04250043951784153, 0.7516988836459388, 0.8944697069148903, -0.035277287468309895, 0.7428012424634501, -1.152202352081379, -0.5684949141988689, 2.060839920383102, -0.8910336062432065, -0.6111340224125054, 1.1493890573734444, -0.6977468209185262, 2.00048191418851, 0.6790909416761713, -1.3289974226191574, 0.9665612627913074, -1.1892316319921394, -0.07661048278707877, 0.6816736136192816, 1.5478480340620588, 0.9991048480787013, 0.5176894312965323, -1.8318832829407212, 0.9449493500331181, 0.47162380853355784, 0.2551712160181531, 1.033963974273001, 1.008388020937463, -1.3550558210131782, -1.3553648061099495, 0.3419840046463667, -0.6799359282514028, 0.472852846116455, -0.07007777844980682, 0.7928144634980903, 0.582896728216384, 2.6702690689972575, -0.32707324297297424, -0.5341181551241768], \"yaxis\": \"y14\"}, {\"line\": {\"color\": \"rgba(128, 128, 128, 1.0)\", \"dash\": \"solid\", \"shape\": \"linear\", \"width\": 1.3}, \"marker\": {\"size\": 2, \"symbol\": \"circle\"}, \"mode\": \"markers\", \"name\": \"D\", \"text\": \"\", \"type\": \"scatter\", \"x\": [1.3122730315042694, -0.17935310503596935, 0.3614508310022408, -0.5211010566005132, -0.8819759423318262, -0.9169504758415993, -0.2519988810723046, -1.113232685157474, -0.8270000589718352, -0.3608443919675396, -1.790994145293478, 1.229497011878506, 0.5244266047548111, 0.30950717721757914, 0.9913249349727666, 0.4225385930312028, -0.43809663960515643, -0.1956072394634809, -0.8966224923606408, -0.6858989240202681, -1.2354283168914784, -0.38518005789115267, 0.14125669984744982, 0.009628427734064584, -0.8343609704758841, -0.6254362696500314, -0.19009857737161248, 0.8024851239601978, 0.21849566906323878, -0.31996929320816375, -1.6628372802901763, -1.8210520255850096, 0.5304296301262494, 0.421752245075303, -0.7812834649471643, -0.6755859487986324, 1.1318065517425326, -1.7096919590322925, -1.521312451975673, 1.8275392617169104, 2.193604590576897, 1.82924388395378, 1.695135498883619, -0.9372289917902713, -0.7517034331328517, -0.9405836457996472, 0.18363540881443705, -1.6888791771823555, 0.3528760574723848, -1.8846003666593836, 0.529161502175242, -0.864694295346101, 0.7572177454734456, -1.1500641264623734, 1.0255018011884054, 1.1379456189412875, -0.2766376966356368, -0.33190440864984677, 0.02938692391757872, 0.1441841232633436, -0.07471296527887963, 0.0686761948664308, -1.9977069652099664, -0.42700103340562834, -0.8318821594923187, -0.5596727597099382, 0.18346133391049288, 1.3506828478186077, 1.0634309532966568, 1.4769664064849617, -0.2209001285055589, -0.4851538300535789, 0.36521711207331015, -0.6613614274066665, -0.9400974411180243, -0.740899364556757, -0.31932440099134807, -0.9227376804572993, 0.7875927248187125, 0.3971733396415079, 0.15724577048337082, 0.43583308621840827, 0.3452179544153144, -0.33060123213417814, 0.7012511634326455, 0.1359150271139867, 0.4983761403689988, -0.38699779591073197, -1.1321822914573374, 0.381220997039987, -0.9833009504151865, -0.24217166231535547, -0.9712623950130381, -1.4829071262232862, 0.139431489054704, 1.3536578112352777, -0.21621273025259535, 0.8087520815265892, -1.7607551901134975, 1.3631956292994885], \"xaxis\": \"x15\", \"y\": [-0.8569913877419736, 0.20043397000527866, -1.7412927929767723, -1.1873738385667572, 0.46117217569580754, 1.1679591932700821, -1.015095279622547, 0.8415819887073378, 1.8328489355568114, -1.104945360777617, -1.248936723865419, 0.15666057431555322, -0.5904385624918248, -0.9741245968558371, 1.4937687052599453, 0.5850246918816916, 0.3381049331672944, -0.7483890168855368, -0.6762787813690532, 0.06528333399450395, 0.9216224411628501, 0.11602165284467134, -0.7214772261918884, 1.9436830686844957, -0.7495054162160697, -1.3957935493271236, 1.1666689847591565, 0.2988607249559056, 0.23499382582333145, -0.4378172935292165, -1.1089672494422926, 1.0480857443658964, -0.30464427262809096, 1.7666252648127816, 0.20135243885349585, -0.7240290010663003, 0.6358849419050292, 1.3372054219807012, -0.8479329819031785, 0.33605362411663764, 0.3091409003988394, -0.0042238283781839804, -2.1931150426342527, 0.5351624320455792, 0.18301691618515195, -2.244228422091324, -0.23571721821529978, 0.59210695506618, -0.6343701671428039, 1.7532165598333844, -1.360046170333257, -1.9703802968958088, 0.3320761840458883, 0.1904961384424451, -0.10330778595218273, 0.49372568454540483, 0.7957150006751236, 0.6325305840422442, -1.5830067557580374, -0.4539225055348257, 0.8495483797125362, -0.04250043951784153, 0.7516988836459388, 0.8944697069148903, -0.035277287468309895, 0.7428012424634501, -1.152202352081379, -0.5684949141988689, 2.060839920383102, -0.8910336062432065, -0.6111340224125054, 1.1493890573734444, -0.6977468209185262, 2.00048191418851, 0.6790909416761713, -1.3289974226191574, 0.9665612627913074, -1.1892316319921394, -0.07661048278707877, 0.6816736136192816, 1.5478480340620588, 0.9991048480787013, 0.5176894312965323, -1.8318832829407212, 0.9449493500331181, 0.47162380853355784, 0.2551712160181531, 1.033963974273001, 1.008388020937463, -1.3550558210131782, -1.3553648061099495, 0.3419840046463667, -0.6799359282514028, 0.472852846116455, -0.07007777844980682, 0.7928144634980903, 0.582896728216384, 2.6702690689972575, -0.32707324297297424, -0.5341181551241768], \"yaxis\": \"y15\"}, {\"histfunc\": \"count\", \"histnorm\": \"\", \"marker\": {\"color\": \"rgba(128, 0, 128, 1.0)\", \"line\": {\"color\": \"#4D5663\", \"width\": 1.3}}, \"name\": \"D\", \"nbinsx\": 10, \"opacity\": 0.8, \"orientation\": \"v\", \"type\": \"histogram\", \"x\": [-0.8569913877419736, 0.20043397000527866, -1.7412927929767723, -1.1873738385667572, 0.46117217569580754, 1.1679591932700821, -1.015095279622547, 0.8415819887073378, 1.8328489355568114, -1.104945360777617, -1.248936723865419, 0.15666057431555322, -0.5904385624918248, -0.9741245968558371, 1.4937687052599453, 0.5850246918816916, 0.3381049331672944, -0.7483890168855368, -0.6762787813690532, 0.06528333399450395, 0.9216224411628501, 0.11602165284467134, -0.7214772261918884, 1.9436830686844957, -0.7495054162160697, -1.3957935493271236, 1.1666689847591565, 0.2988607249559056, 0.23499382582333145, -0.4378172935292165, -1.1089672494422926, 1.0480857443658964, -0.30464427262809096, 1.7666252648127816, 0.20135243885349585, -0.7240290010663003, 0.6358849419050292, 1.3372054219807012, -0.8479329819031785, 0.33605362411663764, 0.3091409003988394, -0.0042238283781839804, -2.1931150426342527, 0.5351624320455792, 0.18301691618515195, -2.244228422091324, -0.23571721821529978, 0.59210695506618, -0.6343701671428039, 1.7532165598333844, -1.360046170333257, -1.9703802968958088, 0.3320761840458883, 0.1904961384424451, -0.10330778595218273, 0.49372568454540483, 0.7957150006751236, 0.6325305840422442, -1.5830067557580374, -0.4539225055348257, 0.8495483797125362, -0.04250043951784153, 0.7516988836459388, 0.8944697069148903, -0.035277287468309895, 0.7428012424634501, -1.152202352081379, -0.5684949141988689, 2.060839920383102, -0.8910336062432065, -0.6111340224125054, 1.1493890573734444, -0.6977468209185262, 2.00048191418851, 0.6790909416761713, -1.3289974226191574, 0.9665612627913074, -1.1892316319921394, -0.07661048278707877, 0.6816736136192816, 1.5478480340620588, 0.9991048480787013, 0.5176894312965323, -1.8318832829407212, 0.9449493500331181, 0.47162380853355784, 0.2551712160181531, 1.033963974273001, 1.008388020937463, -1.3550558210131782, -1.3553648061099495, 0.3419840046463667, -0.6799359282514028, 0.472852846116455, -0.07007777844980682, 0.7928144634980903, 0.582896728216384, 2.6702690689972575, -0.32707324297297424, -0.5341181551241768], \"xaxis\": \"x16\", \"yaxis\": \"y16\"}],\n",
       "                        {\"bargap\": 0.02, \"legend\": {\"bgcolor\": \"#F5F6F9\", \"font\": {\"color\": \"#4D5663\"}}, \"paper_bgcolor\": \"#F5F6F9\", \"plot_bgcolor\": \"#F5F6F9\", \"showlegend\": false, \"template\": {\"data\": {\"bar\": [{\"error_x\": {\"color\": \"#2a3f5f\"}, \"error_y\": {\"color\": \"#2a3f5f\"}, \"marker\": {\"line\": {\"color\": \"#E5ECF6\", \"width\": 0.5}}, \"type\": \"bar\"}], \"barpolar\": [{\"marker\": {\"line\": {\"color\": \"#E5ECF6\", \"width\": 0.5}}, \"type\": \"barpolar\"}], \"carpet\": [{\"aaxis\": {\"endlinecolor\": \"#2a3f5f\", \"gridcolor\": \"white\", \"linecolor\": \"white\", \"minorgridcolor\": \"white\", \"startlinecolor\": \"#2a3f5f\"}, \"baxis\": {\"endlinecolor\": \"#2a3f5f\", \"gridcolor\": \"white\", \"linecolor\": \"white\", \"minorgridcolor\": \"white\", \"startlinecolor\": \"#2a3f5f\"}, \"type\": \"carpet\"}], \"choropleth\": [{\"colorbar\": {\"outlinewidth\": 0, \"ticks\": \"\"}, \"type\": \"choropleth\"}], \"contour\": [{\"colorbar\": {\"outlinewidth\": 0, \"ticks\": \"\"}, \"colorscale\": [[0.0, \"#0d0887\"], [0.1111111111111111, \"#46039f\"], [0.2222222222222222, \"#7201a8\"], [0.3333333333333333, \"#9c179e\"], [0.4444444444444444, \"#bd3786\"], [0.5555555555555556, \"#d8576b\"], [0.6666666666666666, \"#ed7953\"], [0.7777777777777778, \"#fb9f3a\"], [0.8888888888888888, \"#fdca26\"], [1.0, \"#f0f921\"]], \"type\": \"contour\"}], \"contourcarpet\": [{\"colorbar\": {\"outlinewidth\": 0, \"ticks\": \"\"}, \"type\": \"contourcarpet\"}], \"heatmap\": [{\"colorbar\": {\"outlinewidth\": 0, \"ticks\": \"\"}, \"colorscale\": [[0.0, \"#0d0887\"], [0.1111111111111111, \"#46039f\"], [0.2222222222222222, \"#7201a8\"], [0.3333333333333333, \"#9c179e\"], [0.4444444444444444, \"#bd3786\"], [0.5555555555555556, \"#d8576b\"], [0.6666666666666666, \"#ed7953\"], [0.7777777777777778, \"#fb9f3a\"], [0.8888888888888888, \"#fdca26\"], [1.0, \"#f0f921\"]], \"type\": \"heatmap\"}], \"heatmapgl\": [{\"colorbar\": {\"outlinewidth\": 0, \"ticks\": \"\"}, \"colorscale\": [[0.0, \"#0d0887\"], [0.1111111111111111, \"#46039f\"], [0.2222222222222222, \"#7201a8\"], [0.3333333333333333, \"#9c179e\"], [0.4444444444444444, \"#bd3786\"], [0.5555555555555556, \"#d8576b\"], [0.6666666666666666, \"#ed7953\"], [0.7777777777777778, \"#fb9f3a\"], [0.8888888888888888, \"#fdca26\"], [1.0, \"#f0f921\"]], \"type\": \"heatmapgl\"}], \"histogram\": [{\"marker\": {\"colorbar\": {\"outlinewidth\": 0, \"ticks\": \"\"}}, \"type\": \"histogram\"}], \"histogram2d\": [{\"colorbar\": {\"outlinewidth\": 0, \"ticks\": \"\"}, \"colorscale\": [[0.0, \"#0d0887\"], [0.1111111111111111, \"#46039f\"], [0.2222222222222222, \"#7201a8\"], [0.3333333333333333, \"#9c179e\"], [0.4444444444444444, \"#bd3786\"], [0.5555555555555556, \"#d8576b\"], [0.6666666666666666, \"#ed7953\"], [0.7777777777777778, \"#fb9f3a\"], [0.8888888888888888, \"#fdca26\"], [1.0, \"#f0f921\"]], \"type\": \"histogram2d\"}], \"histogram2dcontour\": [{\"colorbar\": {\"outlinewidth\": 0, \"ticks\": \"\"}, \"colorscale\": [[0.0, \"#0d0887\"], [0.1111111111111111, \"#46039f\"], [0.2222222222222222, \"#7201a8\"], [0.3333333333333333, \"#9c179e\"], [0.4444444444444444, \"#bd3786\"], [0.5555555555555556, \"#d8576b\"], [0.6666666666666666, \"#ed7953\"], [0.7777777777777778, \"#fb9f3a\"], [0.8888888888888888, \"#fdca26\"], [1.0, \"#f0f921\"]], \"type\": \"histogram2dcontour\"}], \"mesh3d\": [{\"colorbar\": {\"outlinewidth\": 0, \"ticks\": \"\"}, \"type\": \"mesh3d\"}], \"parcoords\": [{\"line\": {\"colorbar\": {\"outlinewidth\": 0, \"ticks\": \"\"}}, \"type\": \"parcoords\"}], \"pie\": [{\"automargin\": true, \"type\": \"pie\"}], \"scatter\": [{\"marker\": {\"colorbar\": {\"outlinewidth\": 0, \"ticks\": \"\"}}, \"type\": \"scatter\"}], \"scatter3d\": [{\"line\": {\"colorbar\": {\"outlinewidth\": 0, \"ticks\": \"\"}}, \"marker\": {\"colorbar\": {\"outlinewidth\": 0, \"ticks\": \"\"}}, \"type\": \"scatter3d\"}], \"scattercarpet\": [{\"marker\": {\"colorbar\": {\"outlinewidth\": 0, \"ticks\": \"\"}}, \"type\": \"scattercarpet\"}], \"scattergeo\": [{\"marker\": {\"colorbar\": {\"outlinewidth\": 0, \"ticks\": \"\"}}, \"type\": \"scattergeo\"}], \"scattergl\": [{\"marker\": {\"colorbar\": {\"outlinewidth\": 0, \"ticks\": \"\"}}, \"type\": \"scattergl\"}], \"scattermapbox\": [{\"marker\": {\"colorbar\": {\"outlinewidth\": 0, \"ticks\": \"\"}}, \"type\": \"scattermapbox\"}], \"scatterpolar\": [{\"marker\": {\"colorbar\": {\"outlinewidth\": 0, \"ticks\": \"\"}}, \"type\": \"scatterpolar\"}], \"scatterpolargl\": [{\"marker\": {\"colorbar\": {\"outlinewidth\": 0, \"ticks\": \"\"}}, \"type\": \"scatterpolargl\"}], \"scatterternary\": [{\"marker\": {\"colorbar\": {\"outlinewidth\": 0, \"ticks\": \"\"}}, \"type\": \"scatterternary\"}], \"surface\": [{\"colorbar\": {\"outlinewidth\": 0, \"ticks\": \"\"}, \"colorscale\": [[0.0, \"#0d0887\"], [0.1111111111111111, \"#46039f\"], [0.2222222222222222, \"#7201a8\"], [0.3333333333333333, \"#9c179e\"], [0.4444444444444444, \"#bd3786\"], [0.5555555555555556, \"#d8576b\"], [0.6666666666666666, \"#ed7953\"], [0.7777777777777778, \"#fb9f3a\"], [0.8888888888888888, \"#fdca26\"], [1.0, \"#f0f921\"]], \"type\": \"surface\"}], \"table\": [{\"cells\": {\"fill\": {\"color\": \"#EBF0F8\"}, \"line\": {\"color\": \"white\"}}, \"header\": {\"fill\": {\"color\": \"#C8D4E3\"}, \"line\": {\"color\": \"white\"}}, \"type\": \"table\"}]}, \"layout\": {\"annotationdefaults\": {\"arrowcolor\": \"#2a3f5f\", \"arrowhead\": 0, \"arrowwidth\": 1}, \"coloraxis\": {\"colorbar\": {\"outlinewidth\": 0, \"ticks\": \"\"}}, \"colorscale\": {\"diverging\": [[0, \"#8e0152\"], [0.1, \"#c51b7d\"], [0.2, \"#de77ae\"], [0.3, \"#f1b6da\"], [0.4, \"#fde0ef\"], [0.5, \"#f7f7f7\"], [0.6, \"#e6f5d0\"], [0.7, \"#b8e186\"], [0.8, \"#7fbc41\"], [0.9, \"#4d9221\"], [1, \"#276419\"]], \"sequential\": [[0.0, \"#0d0887\"], [0.1111111111111111, \"#46039f\"], [0.2222222222222222, \"#7201a8\"], [0.3333333333333333, \"#9c179e\"], [0.4444444444444444, \"#bd3786\"], [0.5555555555555556, \"#d8576b\"], [0.6666666666666666, \"#ed7953\"], [0.7777777777777778, \"#fb9f3a\"], [0.8888888888888888, \"#fdca26\"], [1.0, \"#f0f921\"]], \"sequentialminus\": [[0.0, \"#0d0887\"], [0.1111111111111111, \"#46039f\"], [0.2222222222222222, \"#7201a8\"], [0.3333333333333333, \"#9c179e\"], [0.4444444444444444, \"#bd3786\"], [0.5555555555555556, \"#d8576b\"], [0.6666666666666666, \"#ed7953\"], [0.7777777777777778, \"#fb9f3a\"], [0.8888888888888888, \"#fdca26\"], [1.0, \"#f0f921\"]]}, \"colorway\": [\"#636efa\", \"#EF553B\", \"#00cc96\", \"#ab63fa\", \"#FFA15A\", \"#19d3f3\", \"#FF6692\", \"#B6E880\", \"#FF97FF\", \"#FECB52\"], \"font\": {\"color\": \"#2a3f5f\"}, \"geo\": {\"bgcolor\": \"white\", \"lakecolor\": \"white\", \"landcolor\": \"#E5ECF6\", \"showlakes\": true, \"showland\": true, \"subunitcolor\": \"white\"}, \"hoverlabel\": {\"align\": \"left\"}, \"hovermode\": \"closest\", \"mapbox\": {\"style\": \"light\"}, \"paper_bgcolor\": \"white\", \"plot_bgcolor\": \"#E5ECF6\", \"polar\": {\"angularaxis\": {\"gridcolor\": \"white\", \"linecolor\": \"white\", \"ticks\": \"\"}, \"bgcolor\": \"#E5ECF6\", \"radialaxis\": {\"gridcolor\": \"white\", \"linecolor\": \"white\", \"ticks\": \"\"}}, \"scene\": {\"xaxis\": {\"backgroundcolor\": \"#E5ECF6\", \"gridcolor\": \"white\", \"gridwidth\": 2, \"linecolor\": \"white\", \"showbackground\": true, \"ticks\": \"\", \"zerolinecolor\": \"white\"}, \"yaxis\": {\"backgroundcolor\": \"#E5ECF6\", \"gridcolor\": \"white\", \"gridwidth\": 2, \"linecolor\": \"white\", \"showbackground\": true, \"ticks\": \"\", \"zerolinecolor\": \"white\"}, \"zaxis\": {\"backgroundcolor\": \"#E5ECF6\", \"gridcolor\": \"white\", \"gridwidth\": 2, \"linecolor\": \"white\", \"showbackground\": true, \"ticks\": \"\", \"zerolinecolor\": \"white\"}}, \"shapedefaults\": {\"line\": {\"color\": \"#2a3f5f\"}}, \"ternary\": {\"aaxis\": {\"gridcolor\": \"white\", \"linecolor\": \"white\", \"ticks\": \"\"}, \"baxis\": {\"gridcolor\": \"white\", \"linecolor\": \"white\", \"ticks\": \"\"}, \"bgcolor\": \"#E5ECF6\", \"caxis\": {\"gridcolor\": \"white\", \"linecolor\": \"white\", \"ticks\": \"\"}}, \"title\": {\"x\": 0.05}, \"xaxis\": {\"automargin\": true, \"gridcolor\": \"white\", \"linecolor\": \"white\", \"ticks\": \"\", \"title\": {\"standoff\": 15}, \"zerolinecolor\": \"white\", \"zerolinewidth\": 2}, \"yaxis\": {\"automargin\": true, \"gridcolor\": \"white\", \"linecolor\": \"white\", \"ticks\": \"\", \"title\": {\"standoff\": 15}, \"zerolinecolor\": \"white\", \"zerolinewidth\": 2}}}, \"title\": {\"font\": {\"color\": \"#4D5663\"}}, \"xaxis\": {\"anchor\": \"y\", \"domain\": [0.0, 0.2125], \"gridcolor\": \"#E1E5ED\", \"showgrid\": false, \"tickfont\": {\"color\": \"#4D5663\"}, \"title\": {\"font\": {\"color\": \"#4D5663\"}, \"text\": \"\"}, \"zerolinecolor\": \"#E1E5ED\"}, \"xaxis10\": {\"anchor\": \"y10\", \"domain\": [0.2625, 0.475], \"gridcolor\": \"#E1E5ED\", \"showgrid\": false, \"tickfont\": {\"color\": \"#4D5663\"}, \"title\": {\"font\": {\"color\": \"#4D5663\"}, \"text\": \"\"}, \"zerolinecolor\": \"#E1E5ED\"}, \"xaxis11\": {\"anchor\": \"y11\", \"domain\": [0.525, 0.7375], \"gridcolor\": \"#E1E5ED\", \"showgrid\": false, \"tickfont\": {\"color\": \"#4D5663\"}, \"title\": {\"font\": {\"color\": \"#4D5663\"}, \"text\": \"\"}, \"zerolinecolor\": \"#E1E5ED\"}, \"xaxis12\": {\"anchor\": \"y12\", \"domain\": [0.7875, 1.0], \"gridcolor\": \"#E1E5ED\", \"showgrid\": false, \"tickfont\": {\"color\": \"#4D5663\"}, \"title\": {\"font\": {\"color\": \"#4D5663\"}, \"text\": \"\"}, \"zerolinecolor\": \"#E1E5ED\"}, \"xaxis13\": {\"anchor\": \"y13\", \"domain\": [0.0, 0.2125], \"gridcolor\": \"#E1E5ED\", \"showgrid\": false, \"tickfont\": {\"color\": \"#4D5663\"}, \"title\": {\"font\": {\"color\": \"#4D5663\"}, \"text\": \"\"}, \"zerolinecolor\": \"#E1E5ED\"}, \"xaxis14\": {\"anchor\": \"y14\", \"domain\": [0.2625, 0.475], \"gridcolor\": \"#E1E5ED\", \"showgrid\": false, \"tickfont\": {\"color\": \"#4D5663\"}, \"title\": {\"font\": {\"color\": \"#4D5663\"}, \"text\": \"\"}, \"zerolinecolor\": \"#E1E5ED\"}, \"xaxis15\": {\"anchor\": \"y15\", \"domain\": [0.525, 0.7375], \"gridcolor\": \"#E1E5ED\", \"showgrid\": false, \"tickfont\": {\"color\": \"#4D5663\"}, \"title\": {\"font\": {\"color\": \"#4D5663\"}, \"text\": \"\"}, \"zerolinecolor\": \"#E1E5ED\"}, \"xaxis16\": {\"anchor\": \"y16\", \"domain\": [0.7875, 1.0], \"gridcolor\": \"#E1E5ED\", \"showgrid\": false, \"tickfont\": {\"color\": \"#4D5663\"}, \"title\": {\"font\": {\"color\": \"#4D5663\"}, \"text\": \"\"}, \"zerolinecolor\": \"#E1E5ED\"}, \"xaxis2\": {\"anchor\": \"y2\", \"domain\": [0.2625, 0.475], \"gridcolor\": \"#E1E5ED\", \"showgrid\": false, \"tickfont\": {\"color\": \"#4D5663\"}, \"title\": {\"font\": {\"color\": \"#4D5663\"}, \"text\": \"\"}, \"zerolinecolor\": \"#E1E5ED\"}, \"xaxis3\": {\"anchor\": \"y3\", \"domain\": [0.525, 0.7375], \"gridcolor\": \"#E1E5ED\", \"showgrid\": false, \"tickfont\": {\"color\": \"#4D5663\"}, \"title\": {\"font\": {\"color\": \"#4D5663\"}, \"text\": \"\"}, \"zerolinecolor\": \"#E1E5ED\"}, \"xaxis4\": {\"anchor\": \"y4\", \"domain\": [0.7875, 1.0], \"gridcolor\": \"#E1E5ED\", \"showgrid\": false, \"tickfont\": {\"color\": \"#4D5663\"}, \"title\": {\"font\": {\"color\": \"#4D5663\"}, \"text\": \"\"}, \"zerolinecolor\": \"#E1E5ED\"}, \"xaxis5\": {\"anchor\": \"y5\", \"domain\": [0.0, 0.2125], \"gridcolor\": \"#E1E5ED\", \"showgrid\": false, \"tickfont\": {\"color\": \"#4D5663\"}, \"title\": {\"font\": {\"color\": \"#4D5663\"}, \"text\": \"\"}, \"zerolinecolor\": \"#E1E5ED\"}, \"xaxis6\": {\"anchor\": \"y6\", \"domain\": [0.2625, 0.475], \"gridcolor\": \"#E1E5ED\", \"showgrid\": false, \"tickfont\": {\"color\": \"#4D5663\"}, \"title\": {\"font\": {\"color\": \"#4D5663\"}, \"text\": \"\"}, \"zerolinecolor\": \"#E1E5ED\"}, \"xaxis7\": {\"anchor\": \"y7\", \"domain\": [0.525, 0.7375], \"gridcolor\": \"#E1E5ED\", \"showgrid\": false, \"tickfont\": {\"color\": \"#4D5663\"}, \"title\": {\"font\": {\"color\": \"#4D5663\"}, \"text\": \"\"}, \"zerolinecolor\": \"#E1E5ED\"}, \"xaxis8\": {\"anchor\": \"y8\", \"domain\": [0.7875, 1.0], \"gridcolor\": \"#E1E5ED\", \"showgrid\": false, \"tickfont\": {\"color\": \"#4D5663\"}, \"title\": {\"font\": {\"color\": \"#4D5663\"}, \"text\": \"\"}, \"zerolinecolor\": \"#E1E5ED\"}, \"xaxis9\": {\"anchor\": \"y9\", \"domain\": [0.0, 0.2125], \"gridcolor\": \"#E1E5ED\", \"showgrid\": false, \"tickfont\": {\"color\": \"#4D5663\"}, \"title\": {\"font\": {\"color\": \"#4D5663\"}, \"text\": \"\"}, \"zerolinecolor\": \"#E1E5ED\"}, \"yaxis\": {\"anchor\": \"x\", \"domain\": [0.8025, 1.0], \"gridcolor\": \"#E1E5ED\", \"showgrid\": false, \"tickfont\": {\"color\": \"#4D5663\"}, \"title\": {\"font\": {\"color\": \"#4D5663\"}, \"text\": \"\"}, \"zerolinecolor\": \"#E1E5ED\"}, \"yaxis10\": {\"anchor\": \"x10\", \"domain\": [0.2675, 0.465], \"gridcolor\": \"#E1E5ED\", \"showgrid\": false, \"tickfont\": {\"color\": \"#4D5663\"}, \"title\": {\"font\": {\"color\": \"#4D5663\"}, \"text\": \"\"}, \"zerolinecolor\": \"#E1E5ED\"}, \"yaxis11\": {\"anchor\": \"x11\", \"domain\": [0.2675, 0.465], \"gridcolor\": \"#E1E5ED\", \"showgrid\": false, \"tickfont\": {\"color\": \"#4D5663\"}, \"title\": {\"font\": {\"color\": \"#4D5663\"}, \"text\": \"\"}, \"zerolinecolor\": \"#E1E5ED\"}, \"yaxis12\": {\"anchor\": \"x12\", \"domain\": [0.2675, 0.465], \"gridcolor\": \"#E1E5ED\", \"showgrid\": false, \"tickfont\": {\"color\": \"#4D5663\"}, \"title\": {\"font\": {\"color\": \"#4D5663\"}, \"text\": \"\"}, \"zerolinecolor\": \"#E1E5ED\"}, \"yaxis13\": {\"anchor\": \"x13\", \"domain\": [0.0, 0.1975], \"gridcolor\": \"#E1E5ED\", \"showgrid\": false, \"tickfont\": {\"color\": \"#4D5663\"}, \"title\": {\"font\": {\"color\": \"#4D5663\"}, \"text\": \"\"}, \"zerolinecolor\": \"#E1E5ED\"}, \"yaxis14\": {\"anchor\": \"x14\", \"domain\": [0.0, 0.1975], \"gridcolor\": \"#E1E5ED\", \"showgrid\": false, \"tickfont\": {\"color\": \"#4D5663\"}, \"title\": {\"font\": {\"color\": \"#4D5663\"}, \"text\": \"\"}, \"zerolinecolor\": \"#E1E5ED\"}, \"yaxis15\": {\"anchor\": \"x15\", \"domain\": [0.0, 0.1975], \"gridcolor\": \"#E1E5ED\", \"showgrid\": false, \"tickfont\": {\"color\": \"#4D5663\"}, \"title\": {\"font\": {\"color\": \"#4D5663\"}, \"text\": \"\"}, \"zerolinecolor\": \"#E1E5ED\"}, \"yaxis16\": {\"anchor\": \"x16\", \"domain\": [0.0, 0.1975], \"gridcolor\": \"#E1E5ED\", \"showgrid\": false, \"tickfont\": {\"color\": \"#4D5663\"}, \"title\": {\"font\": {\"color\": \"#4D5663\"}, \"text\": \"\"}, \"zerolinecolor\": \"#E1E5ED\"}, \"yaxis2\": {\"anchor\": \"x2\", \"domain\": [0.8025, 1.0], \"gridcolor\": \"#E1E5ED\", \"showgrid\": false, \"tickfont\": {\"color\": \"#4D5663\"}, \"title\": {\"font\": {\"color\": \"#4D5663\"}, \"text\": \"\"}, \"zerolinecolor\": \"#E1E5ED\"}, \"yaxis3\": {\"anchor\": \"x3\", \"domain\": [0.8025, 1.0], \"gridcolor\": \"#E1E5ED\", \"showgrid\": false, \"tickfont\": {\"color\": \"#4D5663\"}, \"title\": {\"font\": {\"color\": \"#4D5663\"}, \"text\": \"\"}, \"zerolinecolor\": \"#E1E5ED\"}, \"yaxis4\": {\"anchor\": \"x4\", \"domain\": [0.8025, 1.0], \"gridcolor\": \"#E1E5ED\", \"showgrid\": false, \"tickfont\": {\"color\": \"#4D5663\"}, \"title\": {\"font\": {\"color\": \"#4D5663\"}, \"text\": \"\"}, \"zerolinecolor\": \"#E1E5ED\"}, \"yaxis5\": {\"anchor\": \"x5\", \"domain\": [0.535, 0.7325], \"gridcolor\": \"#E1E5ED\", \"showgrid\": false, \"tickfont\": {\"color\": \"#4D5663\"}, \"title\": {\"font\": {\"color\": \"#4D5663\"}, \"text\": \"\"}, \"zerolinecolor\": \"#E1E5ED\"}, \"yaxis6\": {\"anchor\": \"x6\", \"domain\": [0.535, 0.7325], \"gridcolor\": \"#E1E5ED\", \"showgrid\": false, \"tickfont\": {\"color\": \"#4D5663\"}, \"title\": {\"font\": {\"color\": \"#4D5663\"}, \"text\": \"\"}, \"zerolinecolor\": \"#E1E5ED\"}, \"yaxis7\": {\"anchor\": \"x7\", \"domain\": [0.535, 0.7325], \"gridcolor\": \"#E1E5ED\", \"showgrid\": false, \"tickfont\": {\"color\": \"#4D5663\"}, \"title\": {\"font\": {\"color\": \"#4D5663\"}, \"text\": \"\"}, \"zerolinecolor\": \"#E1E5ED\"}, \"yaxis8\": {\"anchor\": \"x8\", \"domain\": [0.535, 0.7325], \"gridcolor\": \"#E1E5ED\", \"showgrid\": false, \"tickfont\": {\"color\": \"#4D5663\"}, \"title\": {\"font\": {\"color\": \"#4D5663\"}, \"text\": \"\"}, \"zerolinecolor\": \"#E1E5ED\"}, \"yaxis9\": {\"anchor\": \"x9\", \"domain\": [0.2675, 0.465], \"gridcolor\": \"#E1E5ED\", \"showgrid\": false, \"tickfont\": {\"color\": \"#4D5663\"}, \"title\": {\"font\": {\"color\": \"#4D5663\"}, \"text\": \"\"}, \"zerolinecolor\": \"#E1E5ED\"}},\n",
       "                        {\"showLink\": true, \"linkText\": \"Export to plot.ly\", \"plotlyServerURL\": \"https://plot.ly\", \"responsive\": true}\n",
       "                    ).then(function(){\n",
       "                            \n",
       "var gd = document.getElementById('48cd9e7e-f091-4176-ae44-6cecec83c0f8');\n",
       "var x = new MutationObserver(function (mutations, observer) {{\n",
       "        var display = window.getComputedStyle(gd).display;\n",
       "        if (!display || display === 'none') {{\n",
       "            console.log([gd, 'removed!']);\n",
       "            Plotly.purge(gd);\n",
       "            observer.disconnect();\n",
       "        }}\n",
       "}});\n",
       "\n",
       "// Listen for the removal of the full notebook cells\n",
       "var notebookContainer = gd.closest('#notebook-container');\n",
       "if (notebookContainer) {{\n",
       "    x.observe(notebookContainer, {childList: true});\n",
       "}}\n",
       "\n",
       "// Listen for the clearing of the current output cell\n",
       "var outputEl = gd.closest('.output');\n",
       "if (outputEl) {{\n",
       "    x.observe(outputEl, {childList: true});\n",
       "}}\n",
       "\n",
       "                        })\n",
       "                };\n",
       "                });\n",
       "            </script>\n",
       "        </div>"
      ]
     },
     "metadata": {},
     "output_type": "display_data"
    }
   ],
   "source": [
    "df.scatter_matrix()"
   ]
  },
  {
   "cell_type": "markdown",
   "metadata": {
    "collapsed": true
   },
   "source": [
    "# Great Job!"
   ]
  }
 ],
 "metadata": {
  "kernelspec": {
   "display_name": "Python 3",
   "language": "python",
   "name": "python3"
  },
  "language_info": {
   "codemirror_mode": {
    "name": "ipython",
    "version": 3
   },
   "file_extension": ".py",
   "mimetype": "text/x-python",
   "name": "python",
   "nbconvert_exporter": "python",
   "pygments_lexer": "ipython3",
   "version": "3.7.4"
  }
 },
 "nbformat": 4,
 "nbformat_minor": 1
}
